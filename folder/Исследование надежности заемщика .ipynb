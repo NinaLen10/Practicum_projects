{
 "cells": [
  {
   "cell_type": "markdown",
   "id": "386f2ae7",
   "metadata": {
    "deletable": false,
    "editable": false,
    "id": "386f2ae7"
   },
   "source": [
    "# Исследование надежности заемщиков\n"
   ]
  },
  {
   "cell_type": "markdown",
   "id": "ffe86f65",
   "metadata": {
    "deletable": false,
    "editable": false,
    "id": "ffe86f65"
   },
   "source": [
    "Во второй части проекта вы выполните шаги 3 и 4. Их вручную проверит ревьюер.\n",
    "Чтобы вам не пришлось писать код заново для шагов 1 и 2, мы добавили авторские решения в ячейки с кодом. \n",
    "\n"
   ]
  },
  {
   "cell_type": "markdown",
   "id": "26613308",
   "metadata": {
    "deletable": false,
    "editable": false,
    "id": "26613308"
   },
   "source": [
    "## Откройте таблицу и изучите общую информацию о данных"
   ]
  },
  {
   "cell_type": "markdown",
   "id": "3c9f838e",
   "metadata": {
    "deletable": false,
    "editable": false,
    "id": "3c9f838e"
   },
   "source": [
    "**Задание 1. Импортируйте библиотеку pandas. Считайте данные из csv-файла в датафрейм и сохраните в переменную `data`. Путь к файлу:**\n",
    "\n",
    "`/datasets/data.csv`"
   ]
  },
  {
   "cell_type": "code",
   "execution_count": 1,
   "id": "77a68a90",
   "metadata": {
    "deletable": false,
    "id": "77a68a90"
   },
   "outputs": [],
   "source": [
    "import pandas as pd\n",
    "\n",
    "try:\n",
    "    data = pd.read_csv('/datasets/data.csv')\n",
    "except:\n",
    "    data = pd.read_csv('https://code.s3.yandex.net/datasets/data.csv')"
   ]
  },
  {
   "cell_type": "markdown",
   "id": "45365635",
   "metadata": {
    "deletable": false,
    "editable": false,
    "id": "45365635"
   },
   "source": [
    "**Задание 2. Выведите первые 20 строчек датафрейма `data` на экран.**"
   ]
  },
  {
   "cell_type": "code",
   "execution_count": 2,
   "id": "b0451a9a",
   "metadata": {
    "deletable": false,
    "id": "b0451a9a",
    "outputId": "1a8f3ef2-d323-4ec2-ddf7-89670b5944c4"
   },
   "outputs": [
    {
     "data": {
      "text/html": [
       "<div>\n",
       "<style scoped>\n",
       "    .dataframe tbody tr th:only-of-type {\n",
       "        vertical-align: middle;\n",
       "    }\n",
       "\n",
       "    .dataframe tbody tr th {\n",
       "        vertical-align: top;\n",
       "    }\n",
       "\n",
       "    .dataframe thead th {\n",
       "        text-align: right;\n",
       "    }\n",
       "</style>\n",
       "<table border=\"1\" class=\"dataframe\">\n",
       "  <thead>\n",
       "    <tr style=\"text-align: right;\">\n",
       "      <th></th>\n",
       "      <th>children</th>\n",
       "      <th>days_employed</th>\n",
       "      <th>dob_years</th>\n",
       "      <th>education</th>\n",
       "      <th>education_id</th>\n",
       "      <th>family_status</th>\n",
       "      <th>family_status_id</th>\n",
       "      <th>gender</th>\n",
       "      <th>income_type</th>\n",
       "      <th>debt</th>\n",
       "      <th>total_income</th>\n",
       "      <th>purpose</th>\n",
       "    </tr>\n",
       "  </thead>\n",
       "  <tbody>\n",
       "    <tr>\n",
       "      <th>0</th>\n",
       "      <td>1</td>\n",
       "      <td>-8437.673028</td>\n",
       "      <td>42</td>\n",
       "      <td>высшее</td>\n",
       "      <td>0</td>\n",
       "      <td>женат / замужем</td>\n",
       "      <td>0</td>\n",
       "      <td>F</td>\n",
       "      <td>сотрудник</td>\n",
       "      <td>0</td>\n",
       "      <td>253875.639453</td>\n",
       "      <td>покупка жилья</td>\n",
       "    </tr>\n",
       "    <tr>\n",
       "      <th>1</th>\n",
       "      <td>1</td>\n",
       "      <td>-4024.803754</td>\n",
       "      <td>36</td>\n",
       "      <td>среднее</td>\n",
       "      <td>1</td>\n",
       "      <td>женат / замужем</td>\n",
       "      <td>0</td>\n",
       "      <td>F</td>\n",
       "      <td>сотрудник</td>\n",
       "      <td>0</td>\n",
       "      <td>112080.014102</td>\n",
       "      <td>приобретение автомобиля</td>\n",
       "    </tr>\n",
       "    <tr>\n",
       "      <th>2</th>\n",
       "      <td>0</td>\n",
       "      <td>-5623.422610</td>\n",
       "      <td>33</td>\n",
       "      <td>Среднее</td>\n",
       "      <td>1</td>\n",
       "      <td>женат / замужем</td>\n",
       "      <td>0</td>\n",
       "      <td>M</td>\n",
       "      <td>сотрудник</td>\n",
       "      <td>0</td>\n",
       "      <td>145885.952297</td>\n",
       "      <td>покупка жилья</td>\n",
       "    </tr>\n",
       "    <tr>\n",
       "      <th>3</th>\n",
       "      <td>3</td>\n",
       "      <td>-4124.747207</td>\n",
       "      <td>32</td>\n",
       "      <td>среднее</td>\n",
       "      <td>1</td>\n",
       "      <td>женат / замужем</td>\n",
       "      <td>0</td>\n",
       "      <td>M</td>\n",
       "      <td>сотрудник</td>\n",
       "      <td>0</td>\n",
       "      <td>267628.550329</td>\n",
       "      <td>дополнительное образование</td>\n",
       "    </tr>\n",
       "    <tr>\n",
       "      <th>4</th>\n",
       "      <td>0</td>\n",
       "      <td>340266.072047</td>\n",
       "      <td>53</td>\n",
       "      <td>среднее</td>\n",
       "      <td>1</td>\n",
       "      <td>гражданский брак</td>\n",
       "      <td>1</td>\n",
       "      <td>F</td>\n",
       "      <td>пенсионер</td>\n",
       "      <td>0</td>\n",
       "      <td>158616.077870</td>\n",
       "      <td>сыграть свадьбу</td>\n",
       "    </tr>\n",
       "    <tr>\n",
       "      <th>5</th>\n",
       "      <td>0</td>\n",
       "      <td>-926.185831</td>\n",
       "      <td>27</td>\n",
       "      <td>высшее</td>\n",
       "      <td>0</td>\n",
       "      <td>гражданский брак</td>\n",
       "      <td>1</td>\n",
       "      <td>M</td>\n",
       "      <td>компаньон</td>\n",
       "      <td>0</td>\n",
       "      <td>255763.565419</td>\n",
       "      <td>покупка жилья</td>\n",
       "    </tr>\n",
       "    <tr>\n",
       "      <th>6</th>\n",
       "      <td>0</td>\n",
       "      <td>-2879.202052</td>\n",
       "      <td>43</td>\n",
       "      <td>высшее</td>\n",
       "      <td>0</td>\n",
       "      <td>женат / замужем</td>\n",
       "      <td>0</td>\n",
       "      <td>F</td>\n",
       "      <td>компаньон</td>\n",
       "      <td>0</td>\n",
       "      <td>240525.971920</td>\n",
       "      <td>операции с жильем</td>\n",
       "    </tr>\n",
       "    <tr>\n",
       "      <th>7</th>\n",
       "      <td>0</td>\n",
       "      <td>-152.779569</td>\n",
       "      <td>50</td>\n",
       "      <td>СРЕДНЕЕ</td>\n",
       "      <td>1</td>\n",
       "      <td>женат / замужем</td>\n",
       "      <td>0</td>\n",
       "      <td>M</td>\n",
       "      <td>сотрудник</td>\n",
       "      <td>0</td>\n",
       "      <td>135823.934197</td>\n",
       "      <td>образование</td>\n",
       "    </tr>\n",
       "    <tr>\n",
       "      <th>8</th>\n",
       "      <td>2</td>\n",
       "      <td>-6929.865299</td>\n",
       "      <td>35</td>\n",
       "      <td>ВЫСШЕЕ</td>\n",
       "      <td>0</td>\n",
       "      <td>гражданский брак</td>\n",
       "      <td>1</td>\n",
       "      <td>F</td>\n",
       "      <td>сотрудник</td>\n",
       "      <td>0</td>\n",
       "      <td>95856.832424</td>\n",
       "      <td>на проведение свадьбы</td>\n",
       "    </tr>\n",
       "    <tr>\n",
       "      <th>9</th>\n",
       "      <td>0</td>\n",
       "      <td>-2188.756445</td>\n",
       "      <td>41</td>\n",
       "      <td>среднее</td>\n",
       "      <td>1</td>\n",
       "      <td>женат / замужем</td>\n",
       "      <td>0</td>\n",
       "      <td>M</td>\n",
       "      <td>сотрудник</td>\n",
       "      <td>0</td>\n",
       "      <td>144425.938277</td>\n",
       "      <td>покупка жилья для семьи</td>\n",
       "    </tr>\n",
       "    <tr>\n",
       "      <th>10</th>\n",
       "      <td>2</td>\n",
       "      <td>-4171.483647</td>\n",
       "      <td>36</td>\n",
       "      <td>высшее</td>\n",
       "      <td>0</td>\n",
       "      <td>женат / замужем</td>\n",
       "      <td>0</td>\n",
       "      <td>M</td>\n",
       "      <td>компаньон</td>\n",
       "      <td>0</td>\n",
       "      <td>113943.491460</td>\n",
       "      <td>покупка недвижимости</td>\n",
       "    </tr>\n",
       "    <tr>\n",
       "      <th>11</th>\n",
       "      <td>0</td>\n",
       "      <td>-792.701887</td>\n",
       "      <td>40</td>\n",
       "      <td>среднее</td>\n",
       "      <td>1</td>\n",
       "      <td>женат / замужем</td>\n",
       "      <td>0</td>\n",
       "      <td>F</td>\n",
       "      <td>сотрудник</td>\n",
       "      <td>0</td>\n",
       "      <td>77069.234271</td>\n",
       "      <td>покупка коммерческой недвижимости</td>\n",
       "    </tr>\n",
       "    <tr>\n",
       "      <th>12</th>\n",
       "      <td>0</td>\n",
       "      <td>NaN</td>\n",
       "      <td>65</td>\n",
       "      <td>среднее</td>\n",
       "      <td>1</td>\n",
       "      <td>гражданский брак</td>\n",
       "      <td>1</td>\n",
       "      <td>M</td>\n",
       "      <td>пенсионер</td>\n",
       "      <td>0</td>\n",
       "      <td>NaN</td>\n",
       "      <td>сыграть свадьбу</td>\n",
       "    </tr>\n",
       "    <tr>\n",
       "      <th>13</th>\n",
       "      <td>0</td>\n",
       "      <td>-1846.641941</td>\n",
       "      <td>54</td>\n",
       "      <td>неоконченное высшее</td>\n",
       "      <td>2</td>\n",
       "      <td>женат / замужем</td>\n",
       "      <td>0</td>\n",
       "      <td>F</td>\n",
       "      <td>сотрудник</td>\n",
       "      <td>0</td>\n",
       "      <td>130458.228857</td>\n",
       "      <td>приобретение автомобиля</td>\n",
       "    </tr>\n",
       "    <tr>\n",
       "      <th>14</th>\n",
       "      <td>0</td>\n",
       "      <td>-1844.956182</td>\n",
       "      <td>56</td>\n",
       "      <td>высшее</td>\n",
       "      <td>0</td>\n",
       "      <td>гражданский брак</td>\n",
       "      <td>1</td>\n",
       "      <td>F</td>\n",
       "      <td>компаньон</td>\n",
       "      <td>1</td>\n",
       "      <td>165127.911772</td>\n",
       "      <td>покупка жилой недвижимости</td>\n",
       "    </tr>\n",
       "    <tr>\n",
       "      <th>15</th>\n",
       "      <td>1</td>\n",
       "      <td>-972.364419</td>\n",
       "      <td>26</td>\n",
       "      <td>среднее</td>\n",
       "      <td>1</td>\n",
       "      <td>женат / замужем</td>\n",
       "      <td>0</td>\n",
       "      <td>F</td>\n",
       "      <td>сотрудник</td>\n",
       "      <td>0</td>\n",
       "      <td>116820.904450</td>\n",
       "      <td>строительство собственной недвижимости</td>\n",
       "    </tr>\n",
       "    <tr>\n",
       "      <th>16</th>\n",
       "      <td>0</td>\n",
       "      <td>-1719.934226</td>\n",
       "      <td>35</td>\n",
       "      <td>среднее</td>\n",
       "      <td>1</td>\n",
       "      <td>женат / замужем</td>\n",
       "      <td>0</td>\n",
       "      <td>F</td>\n",
       "      <td>сотрудник</td>\n",
       "      <td>0</td>\n",
       "      <td>289202.704229</td>\n",
       "      <td>недвижимость</td>\n",
       "    </tr>\n",
       "    <tr>\n",
       "      <th>17</th>\n",
       "      <td>0</td>\n",
       "      <td>-2369.999720</td>\n",
       "      <td>33</td>\n",
       "      <td>высшее</td>\n",
       "      <td>0</td>\n",
       "      <td>гражданский брак</td>\n",
       "      <td>1</td>\n",
       "      <td>M</td>\n",
       "      <td>сотрудник</td>\n",
       "      <td>0</td>\n",
       "      <td>90410.586745</td>\n",
       "      <td>строительство недвижимости</td>\n",
       "    </tr>\n",
       "    <tr>\n",
       "      <th>18</th>\n",
       "      <td>0</td>\n",
       "      <td>400281.136913</td>\n",
       "      <td>53</td>\n",
       "      <td>среднее</td>\n",
       "      <td>1</td>\n",
       "      <td>вдовец / вдова</td>\n",
       "      <td>2</td>\n",
       "      <td>F</td>\n",
       "      <td>пенсионер</td>\n",
       "      <td>0</td>\n",
       "      <td>56823.777243</td>\n",
       "      <td>на покупку подержанного автомобиля</td>\n",
       "    </tr>\n",
       "    <tr>\n",
       "      <th>19</th>\n",
       "      <td>0</td>\n",
       "      <td>-10038.818549</td>\n",
       "      <td>48</td>\n",
       "      <td>СРЕДНЕЕ</td>\n",
       "      <td>1</td>\n",
       "      <td>в разводе</td>\n",
       "      <td>3</td>\n",
       "      <td>F</td>\n",
       "      <td>сотрудник</td>\n",
       "      <td>0</td>\n",
       "      <td>242831.107982</td>\n",
       "      <td>на покупку своего автомобиля</td>\n",
       "    </tr>\n",
       "  </tbody>\n",
       "</table>\n",
       "</div>"
      ],
      "text/plain": [
       "    children  days_employed  dob_years            education  education_id  \\\n",
       "0          1   -8437.673028         42               высшее             0   \n",
       "1          1   -4024.803754         36              среднее             1   \n",
       "2          0   -5623.422610         33              Среднее             1   \n",
       "3          3   -4124.747207         32              среднее             1   \n",
       "4          0  340266.072047         53              среднее             1   \n",
       "5          0    -926.185831         27               высшее             0   \n",
       "6          0   -2879.202052         43               высшее             0   \n",
       "7          0    -152.779569         50              СРЕДНЕЕ             1   \n",
       "8          2   -6929.865299         35               ВЫСШЕЕ             0   \n",
       "9          0   -2188.756445         41              среднее             1   \n",
       "10         2   -4171.483647         36               высшее             0   \n",
       "11         0    -792.701887         40              среднее             1   \n",
       "12         0            NaN         65              среднее             1   \n",
       "13         0   -1846.641941         54  неоконченное высшее             2   \n",
       "14         0   -1844.956182         56               высшее             0   \n",
       "15         1    -972.364419         26              среднее             1   \n",
       "16         0   -1719.934226         35              среднее             1   \n",
       "17         0   -2369.999720         33               высшее             0   \n",
       "18         0  400281.136913         53              среднее             1   \n",
       "19         0  -10038.818549         48              СРЕДНЕЕ             1   \n",
       "\n",
       "       family_status  family_status_id gender income_type  debt  \\\n",
       "0    женат / замужем                 0      F   сотрудник     0   \n",
       "1    женат / замужем                 0      F   сотрудник     0   \n",
       "2    женат / замужем                 0      M   сотрудник     0   \n",
       "3    женат / замужем                 0      M   сотрудник     0   \n",
       "4   гражданский брак                 1      F   пенсионер     0   \n",
       "5   гражданский брак                 1      M   компаньон     0   \n",
       "6    женат / замужем                 0      F   компаньон     0   \n",
       "7    женат / замужем                 0      M   сотрудник     0   \n",
       "8   гражданский брак                 1      F   сотрудник     0   \n",
       "9    женат / замужем                 0      M   сотрудник     0   \n",
       "10   женат / замужем                 0      M   компаньон     0   \n",
       "11   женат / замужем                 0      F   сотрудник     0   \n",
       "12  гражданский брак                 1      M   пенсионер     0   \n",
       "13   женат / замужем                 0      F   сотрудник     0   \n",
       "14  гражданский брак                 1      F   компаньон     1   \n",
       "15   женат / замужем                 0      F   сотрудник     0   \n",
       "16   женат / замужем                 0      F   сотрудник     0   \n",
       "17  гражданский брак                 1      M   сотрудник     0   \n",
       "18    вдовец / вдова                 2      F   пенсионер     0   \n",
       "19         в разводе                 3      F   сотрудник     0   \n",
       "\n",
       "     total_income                                 purpose  \n",
       "0   253875.639453                           покупка жилья  \n",
       "1   112080.014102                 приобретение автомобиля  \n",
       "2   145885.952297                           покупка жилья  \n",
       "3   267628.550329              дополнительное образование  \n",
       "4   158616.077870                         сыграть свадьбу  \n",
       "5   255763.565419                           покупка жилья  \n",
       "6   240525.971920                       операции с жильем  \n",
       "7   135823.934197                             образование  \n",
       "8    95856.832424                   на проведение свадьбы  \n",
       "9   144425.938277                 покупка жилья для семьи  \n",
       "10  113943.491460                    покупка недвижимости  \n",
       "11   77069.234271       покупка коммерческой недвижимости  \n",
       "12            NaN                         сыграть свадьбу  \n",
       "13  130458.228857                 приобретение автомобиля  \n",
       "14  165127.911772              покупка жилой недвижимости  \n",
       "15  116820.904450  строительство собственной недвижимости  \n",
       "16  289202.704229                            недвижимость  \n",
       "17   90410.586745              строительство недвижимости  \n",
       "18   56823.777243      на покупку подержанного автомобиля  \n",
       "19  242831.107982            на покупку своего автомобиля  "
      ]
     },
     "execution_count": 2,
     "metadata": {},
     "output_type": "execute_result"
    }
   ],
   "source": [
    "data.head(20)"
   ]
  },
  {
   "cell_type": "markdown",
   "id": "0ed8f27f",
   "metadata": {
    "deletable": false,
    "editable": false,
    "id": "0ed8f27f"
   },
   "source": [
    "**Задание 3. Выведите основную информацию о датафрейме с помощью метода `info()`.**"
   ]
  },
  {
   "cell_type": "code",
   "execution_count": 3,
   "id": "ab3f863b",
   "metadata": {
    "deletable": false,
    "id": "ab3f863b",
    "outputId": "15376089-8dad-46c9-b520-c05248d43158"
   },
   "outputs": [
    {
     "name": "stdout",
     "output_type": "stream",
     "text": [
      "<class 'pandas.core.frame.DataFrame'>\n",
      "RangeIndex: 21525 entries, 0 to 21524\n",
      "Data columns (total 12 columns):\n",
      " #   Column            Non-Null Count  Dtype  \n",
      "---  ------            --------------  -----  \n",
      " 0   children          21525 non-null  int64  \n",
      " 1   days_employed     19351 non-null  float64\n",
      " 2   dob_years         21525 non-null  int64  \n",
      " 3   education         21525 non-null  object \n",
      " 4   education_id      21525 non-null  int64  \n",
      " 5   family_status     21525 non-null  object \n",
      " 6   family_status_id  21525 non-null  int64  \n",
      " 7   gender            21525 non-null  object \n",
      " 8   income_type       21525 non-null  object \n",
      " 9   debt              21525 non-null  int64  \n",
      " 10  total_income      19351 non-null  float64\n",
      " 11  purpose           21525 non-null  object \n",
      "dtypes: float64(2), int64(5), object(5)\n",
      "memory usage: 2.0+ MB\n"
     ]
    }
   ],
   "source": [
    "data.info()"
   ]
  },
  {
   "cell_type": "markdown",
   "id": "60e3e22d",
   "metadata": {
    "deletable": false,
    "editable": false,
    "id": "60e3e22d"
   },
   "source": [
    "## Предобработка данных"
   ]
  },
  {
   "cell_type": "markdown",
   "id": "03dc170c",
   "metadata": {
    "deletable": false,
    "editable": false,
    "id": "03dc170c"
   },
   "source": [
    "### Удаление пропусков"
   ]
  },
  {
   "cell_type": "markdown",
   "id": "a4f54eef",
   "metadata": {
    "deletable": false,
    "editable": false,
    "id": "a4f54eef"
   },
   "source": [
    "**Задание 4. Выведите количество пропущенных значений для каждого столбца. Используйте комбинацию двух методов.**"
   ]
  },
  {
   "cell_type": "code",
   "execution_count": 4,
   "id": "2dc372b2",
   "metadata": {
    "deletable": false,
    "id": "2dc372b2",
    "outputId": "81f4d817-781c-465c-ed15-91ce4446810d"
   },
   "outputs": [
    {
     "data": {
      "text/plain": [
       "children               0\n",
       "days_employed       2174\n",
       "dob_years              0\n",
       "education              0\n",
       "education_id           0\n",
       "family_status          0\n",
       "family_status_id       0\n",
       "gender                 0\n",
       "income_type            0\n",
       "debt                   0\n",
       "total_income        2174\n",
       "purpose                0\n",
       "dtype: int64"
      ]
     },
     "execution_count": 4,
     "metadata": {},
     "output_type": "execute_result"
    }
   ],
   "source": [
    "data.isna().sum()"
   ]
  },
  {
   "cell_type": "markdown",
   "id": "14f011b1",
   "metadata": {
    "deletable": false,
    "editable": false,
    "id": "14f011b1"
   },
   "source": [
    "**Задание 5. В двух столбцах есть пропущенные значения. Один из них — `days_employed`. Пропуски в этом столбце вы обработаете на следующем этапе. Другой столбец с пропущенными значениями — `total_income` — хранит данные о доходах. На сумму дохода сильнее всего влияет тип занятости, поэтому заполнить пропуски в этом столбце нужно медианным значением по каждому типу из столбца `income_type`. Например, у человека с типом занятости `сотрудник` пропуск в столбце `total_income` должен быть заполнен медианным доходом среди всех записей с тем же типом.**"
   ]
  },
  {
   "cell_type": "code",
   "execution_count": 5,
   "id": "bdabfb6e",
   "metadata": {
    "deletable": false,
    "id": "bdabfb6e"
   },
   "outputs": [],
   "source": [
    "for t in data['income_type'].unique():\n",
    "    data.loc[(data['income_type'] == t) & (data['total_income'].isna()), 'total_income'] = \\\n",
    "    data.loc[(data['income_type'] == t), 'total_income'].median()"
   ]
  },
  {
   "cell_type": "markdown",
   "id": "5be34059",
   "metadata": {
    "deletable": false,
    "editable": false,
    "id": "5be34059"
   },
   "source": [
    "### Обработка аномальных значений"
   ]
  },
  {
   "cell_type": "markdown",
   "id": "a87606cb",
   "metadata": {
    "deletable": false,
    "editable": false,
    "id": "a87606cb"
   },
   "source": [
    "**Задание 6. В данных могут встречаться артефакты (аномалии) — значения, которые не отражают действительность и появились по какой-то ошибке. таким артефактом будет отрицательное количество дней трудового стажа в столбце `days_employed`. Для реальных данных это нормально. Обработайте значения в этом столбце: замените все отрицательные значения положительными с помощью метода `abs()`.**"
   ]
  },
  {
   "cell_type": "code",
   "execution_count": 6,
   "id": "020c46cc",
   "metadata": {
    "deletable": false,
    "id": "020c46cc"
   },
   "outputs": [],
   "source": [
    "data['days_employed'] = data['days_employed'].abs()"
   ]
  },
  {
   "cell_type": "markdown",
   "id": "45538a3a",
   "metadata": {
    "deletable": false,
    "editable": false,
    "id": "45538a3a"
   },
   "source": [
    "**Задание 7. Для каждого типа занятости выведите медианное значение трудового стажа `days_employed` в днях.**"
   ]
  },
  {
   "cell_type": "code",
   "execution_count": 7,
   "id": "cd3e6328",
   "metadata": {
    "deletable": false,
    "id": "cd3e6328",
    "outputId": "801ef80e-522b-4668-f34e-565af7432bcf"
   },
   "outputs": [
    {
     "data": {
      "text/plain": [
       "income_type\n",
       "безработный        366413.652744\n",
       "в декрете            3296.759962\n",
       "госслужащий          2689.368353\n",
       "компаньон            1547.382223\n",
       "пенсионер          365213.306266\n",
       "предприниматель       520.848083\n",
       "сотрудник            1574.202821\n",
       "студент               578.751554\n",
       "Name: days_employed, dtype: float64"
      ]
     },
     "execution_count": 7,
     "metadata": {},
     "output_type": "execute_result"
    }
   ],
   "source": [
    "data.groupby('income_type')['days_employed'].agg('median')"
   ]
  },
  {
   "cell_type": "markdown",
   "id": "90c5f058",
   "metadata": {
    "deletable": false,
    "editable": false,
    "id": "90c5f058"
   },
   "source": [
    "У двух типов (безработные и пенсионеры) получатся аномально большие значения. Исправить такие значения сложно, поэтому оставьте их как есть."
   ]
  },
  {
   "cell_type": "markdown",
   "id": "9652e50d",
   "metadata": {
    "deletable": false,
    "editable": false,
    "id": "9652e50d"
   },
   "source": [
    "**Задание 8. Выведите перечень уникальных значений столбца `children`.**"
   ]
  },
  {
   "cell_type": "code",
   "execution_count": 8,
   "id": "dbb37b8e",
   "metadata": {
    "deletable": false,
    "id": "dbb37b8e",
    "outputId": "6975b15c-7f95-4697-d16d-a0c79b657b03"
   },
   "outputs": [
    {
     "data": {
      "text/plain": [
       "array([ 1,  0,  3,  2, -1,  4, 20,  5], dtype=int64)"
      ]
     },
     "execution_count": 8,
     "metadata": {},
     "output_type": "execute_result"
    }
   ],
   "source": [
    "data['children'].unique()"
   ]
  },
  {
   "cell_type": "markdown",
   "id": "2b8b0715",
   "metadata": {
    "deletable": false,
    "editable": false,
    "id": "2b8b0715"
   },
   "source": [
    "**Задание 9. В столбце `children` есть два аномальных значения. Удалите строки, в которых встречаются такие аномальные значения из датафрейма `data`.**"
   ]
  },
  {
   "cell_type": "code",
   "execution_count": 9,
   "id": "20009df8",
   "metadata": {
    "deletable": false,
    "id": "20009df8"
   },
   "outputs": [],
   "source": [
    "data = data[(data['children'] != -1) & (data['children'] != 20)]"
   ]
  },
  {
   "cell_type": "markdown",
   "id": "8c6ac9f1",
   "metadata": {
    "deletable": false,
    "editable": false,
    "id": "8c6ac9f1"
   },
   "source": [
    "**Задание 10. Ещё раз выведите перечень уникальных значений столбца `children`, чтобы убедиться, что артефакты удалены.**"
   ]
  },
  {
   "cell_type": "code",
   "execution_count": 10,
   "id": "07337b81",
   "metadata": {
    "deletable": false,
    "id": "07337b81",
    "outputId": "b2097101-d49d-44d9-901b-32a65c9463d1"
   },
   "outputs": [
    {
     "data": {
      "text/plain": [
       "array([1, 0, 3, 2, 4, 5], dtype=int64)"
      ]
     },
     "execution_count": 10,
     "metadata": {},
     "output_type": "execute_result"
    }
   ],
   "source": [
    "data['children'].unique()"
   ]
  },
  {
   "cell_type": "markdown",
   "id": "ee3f52d4",
   "metadata": {
    "deletable": false,
    "editable": false,
    "id": "ee3f52d4"
   },
   "source": [
    "### Удаление пропусков (продолжение)"
   ]
  },
  {
   "cell_type": "markdown",
   "id": "a700b0e4",
   "metadata": {
    "deletable": false,
    "editable": false,
    "id": "a700b0e4"
   },
   "source": [
    "**Задание 11. Заполните пропуски в столбце `days_employed` медианными значениями по каждого типа занятости `income_type`.**"
   ]
  },
  {
   "cell_type": "code",
   "execution_count": 11,
   "id": "61946b83",
   "metadata": {
    "deletable": false,
    "id": "61946b83"
   },
   "outputs": [],
   "source": [
    "for t in data['income_type'].unique():\n",
    "    data.loc[(data['income_type'] == t) & (data['days_employed'].isna()), 'days_employed'] = \\\n",
    "    data.loc[(data['income_type'] == t), 'days_employed'].median()"
   ]
  },
  {
   "cell_type": "markdown",
   "id": "550dcd9b",
   "metadata": {
    "deletable": false,
    "editable": false,
    "id": "550dcd9b"
   },
   "source": [
    "**Задание 12. Убедитесь, что все пропуски заполнены. Проверьте себя и ещё раз выведите количество пропущенных значений для каждого столбца с помощью двух методов.**"
   ]
  },
  {
   "cell_type": "code",
   "execution_count": 12,
   "id": "937c7014",
   "metadata": {
    "deletable": false,
    "id": "937c7014",
    "outputId": "8da1e4e1-358e-4e87-98c9-f261bce0a7b2"
   },
   "outputs": [
    {
     "data": {
      "text/plain": [
       "children            0\n",
       "days_employed       0\n",
       "dob_years           0\n",
       "education           0\n",
       "education_id        0\n",
       "family_status       0\n",
       "family_status_id    0\n",
       "gender              0\n",
       "income_type         0\n",
       "debt                0\n",
       "total_income        0\n",
       "purpose             0\n",
       "dtype: int64"
      ]
     },
     "execution_count": 12,
     "metadata": {},
     "output_type": "execute_result"
    }
   ],
   "source": [
    "data.isna().sum()"
   ]
  },
  {
   "cell_type": "markdown",
   "id": "d522e295",
   "metadata": {
    "deletable": false,
    "editable": false,
    "id": "d522e295"
   },
   "source": [
    "### Изменение типов данных"
   ]
  },
  {
   "cell_type": "markdown",
   "id": "c229c581",
   "metadata": {
    "deletable": false,
    "editable": false,
    "id": "c229c581"
   },
   "source": [
    "**Задание 13. Замените вещественный тип данных в столбце `total_income` на целочисленный с помощью метода `astype()`.**"
   ]
  },
  {
   "cell_type": "code",
   "execution_count": 13,
   "id": "31036462",
   "metadata": {
    "deletable": false,
    "id": "31036462"
   },
   "outputs": [],
   "source": [
    "data['total_income'] = data['total_income'].astype(int)"
   ]
  },
  {
   "cell_type": "markdown",
   "id": "b8e3d1d9",
   "metadata": {
    "deletable": false,
    "editable": false,
    "id": "b8e3d1d9"
   },
   "source": [
    "### Обработка дубликатов"
   ]
  },
  {
   "cell_type": "markdown",
   "id": "9be53c49",
   "metadata": {
    "deletable": false,
    "editable": false,
    "id": "9be53c49"
   },
   "source": [
    "**Задание 14. Обработайте неявные дубликаты в столбце `education`. В этом столбце есть одни и те же значения, но записанные по-разному: с использованием заглавных и строчных букв. Приведите их к нижнему регистру.**"
   ]
  },
  {
   "cell_type": "code",
   "execution_count": 14,
   "id": "d89e73e1",
   "metadata": {
    "deletable": false,
    "id": "d89e73e1"
   },
   "outputs": [],
   "source": [
    "data['education'] = data['education'].str.lower()"
   ]
  },
  {
   "cell_type": "markdown",
   "id": "01d4500e",
   "metadata": {
    "deletable": false,
    "editable": false,
    "id": "01d4500e"
   },
   "source": [
    "**Задание 15. Выведите на экран количество строк-дубликатов в данных. Если такие строки присутствуют, удалите их.**"
   ]
  },
  {
   "cell_type": "code",
   "execution_count": 15,
   "id": "e10efb23",
   "metadata": {
    "deletable": false,
    "id": "e10efb23",
    "outputId": "9684deba-1934-42d1-99e1-cda61740f822"
   },
   "outputs": [
    {
     "data": {
      "text/plain": [
       "71"
      ]
     },
     "execution_count": 15,
     "metadata": {},
     "output_type": "execute_result"
    }
   ],
   "source": [
    "data.duplicated().sum()"
   ]
  },
  {
   "cell_type": "code",
   "execution_count": 16,
   "id": "df853f20",
   "metadata": {
    "deletable": false,
    "id": "df853f20"
   },
   "outputs": [],
   "source": [
    "data = data.drop_duplicates()"
   ]
  },
  {
   "cell_type": "markdown",
   "id": "627be38f",
   "metadata": {
    "deletable": false,
    "editable": false,
    "id": "627be38f"
   },
   "source": [
    "### Категоризация данных"
   ]
  },
  {
   "cell_type": "markdown",
   "id": "4684c3e0",
   "metadata": {
    "deletable": false,
    "editable": false,
    "id": "4684c3e0"
   },
   "source": [
    "**Задание 16. На основании диапазонов, указанных ниже, создайте в датафрейме `data` столбец `total_income_category` с категориями:**\n",
    "\n",
    "- 0–30000 — `'E'`;\n",
    "- 30001–50000 — `'D'`;\n",
    "- 50001–200000 — `'C'`;\n",
    "- 200001–1000000 — `'B'`;\n",
    "- 1000001 и выше — `'A'`.\n",
    "\n",
    "\n",
    "**Например, кредитополучателю с доходом 25000 нужно назначить категорию `'E'`, а клиенту, получающему 235000, — `'B'`. Используйте собственную функцию с именем `categorize_income()` и метод `apply()`.**"
   ]
  },
  {
   "cell_type": "code",
   "execution_count": 17,
   "id": "78965238",
   "metadata": {
    "deletable": false,
    "id": "78965238"
   },
   "outputs": [],
   "source": [
    "def categorize_income(income):\n",
    "    try:\n",
    "        if 0 <= income <= 30000:\n",
    "            return 'E'\n",
    "        elif 30001 <= income <= 50000:\n",
    "            return 'D'\n",
    "        elif 50001 <= income <= 200000:\n",
    "            return 'C'\n",
    "        elif 200001 <= income <= 1000000:\n",
    "            return 'B'\n",
    "        elif income >= 1000001:\n",
    "            return 'A'\n",
    "    except:\n",
    "        pass"
   ]
  },
  {
   "cell_type": "code",
   "execution_count": 18,
   "id": "0980ada1",
   "metadata": {
    "deletable": false,
    "id": "0980ada1"
   },
   "outputs": [],
   "source": [
    "data['total_income_category'] = data['total_income'].apply(categorize_income)"
   ]
  },
  {
   "cell_type": "markdown",
   "id": "9917bba0",
   "metadata": {
    "deletable": false,
    "editable": false,
    "id": "9917bba0"
   },
   "source": [
    "**Задание 17. Выведите на экран перечень уникальных целей взятия кредита из столбца `purpose`.**"
   ]
  },
  {
   "cell_type": "code",
   "execution_count": 19,
   "id": "ee07b65e",
   "metadata": {
    "deletable": false,
    "id": "ee07b65e",
    "outputId": "673c12d9-7d7e-4ae0-9812-c622c89dd244"
   },
   "outputs": [
    {
     "data": {
      "text/plain": [
       "array(['покупка жилья', 'приобретение автомобиля',\n",
       "       'дополнительное образование', 'сыграть свадьбу',\n",
       "       'операции с жильем', 'образование', 'на проведение свадьбы',\n",
       "       'покупка жилья для семьи', 'покупка недвижимости',\n",
       "       'покупка коммерческой недвижимости', 'покупка жилой недвижимости',\n",
       "       'строительство собственной недвижимости', 'недвижимость',\n",
       "       'строительство недвижимости', 'на покупку подержанного автомобиля',\n",
       "       'на покупку своего автомобиля',\n",
       "       'операции с коммерческой недвижимостью',\n",
       "       'строительство жилой недвижимости', 'жилье',\n",
       "       'операции со своей недвижимостью', 'автомобили',\n",
       "       'заняться образованием', 'сделка с подержанным автомобилем',\n",
       "       'получение образования', 'автомобиль', 'свадьба',\n",
       "       'получение дополнительного образования', 'покупка своего жилья',\n",
       "       'операции с недвижимостью', 'получение высшего образования',\n",
       "       'свой автомобиль', 'сделка с автомобилем',\n",
       "       'профильное образование', 'высшее образование',\n",
       "       'покупка жилья для сдачи', 'на покупку автомобиля', 'ремонт жилью',\n",
       "       'заняться высшим образованием'], dtype=object)"
      ]
     },
     "execution_count": 19,
     "metadata": {},
     "output_type": "execute_result"
    }
   ],
   "source": [
    "data['purpose'].unique()"
   ]
  },
  {
   "cell_type": "markdown",
   "id": "52b79d56",
   "metadata": {
    "deletable": false,
    "editable": false,
    "id": "52b79d56"
   },
   "source": [
    "**Задание 18. Создайте функцию, которая на основании данных из столбца `purpose` сформирует новый столбец `purpose_category`, в который войдут следующие категории:**\n",
    "\n",
    "- `'операции с автомобилем'`,\n",
    "- `'операции с недвижимостью'`,\n",
    "- `'проведение свадьбы'`,\n",
    "- `'получение образования'`.\n",
    "\n",
    "**Например, если в столбце `purpose` находится подстрока `'на покупку автомобиля'`, то в столбце `purpose_category` должна появиться строка `'операции с автомобилем'`.**\n",
    "\n",
    "**Используйте собственную функцию с именем `categorize_purpose()` и метод `apply()`. Изучите данные в столбце `purpose` и определите, какие подстроки помогут вам правильно определить категорию.**"
   ]
  },
  {
   "cell_type": "code",
   "execution_count": 20,
   "id": "be41da5d",
   "metadata": {
    "deletable": false,
    "id": "be41da5d"
   },
   "outputs": [],
   "source": [
    "def categorize_purpose(row):\n",
    "    try:\n",
    "        if 'автом' in row:\n",
    "            return 'операции с автомобилем'\n",
    "        elif 'жил' in row or 'недвиж' in row:\n",
    "            return 'операции с недвижимостью'\n",
    "        elif 'свад' in row:\n",
    "            return 'проведение свадьбы'\n",
    "        elif 'образов' in row:\n",
    "            return 'получение образования'\n",
    "    except:\n",
    "        return 'нет категории'"
   ]
  },
  {
   "cell_type": "code",
   "execution_count": 21,
   "id": "94c4a19a",
   "metadata": {
    "deletable": false,
    "id": "94c4a19a"
   },
   "outputs": [],
   "source": [
    "data['purpose_category'] = data['purpose'].apply(categorize_purpose)"
   ]
  },
  {
   "cell_type": "markdown",
   "id": "3d596c34",
   "metadata": {
    "deletable": false,
    "editable": false,
    "id": "3d596c34"
   },
   "source": [
    "### Шаг 3. Исследуйте данные и ответьте на вопросы"
   ]
  },
  {
   "cell_type": "markdown",
   "id": "648db036",
   "metadata": {
    "deletable": false,
    "editable": false,
    "id": "648db036"
   },
   "source": [
    "#### 3.1 Есть ли зависимость между количеством детей и возвратом кредита в срок?"
   ]
  },
  {
   "cell_type": "code",
   "execution_count": 22,
   "id": "7fcff25e",
   "metadata": {
    "deletable": false,
    "id": "7fcff25e"
   },
   "outputs": [
    {
     "data": {
      "text/html": [
       "<div>\n",
       "<style scoped>\n",
       "    .dataframe tbody tr th:only-of-type {\n",
       "        vertical-align: middle;\n",
       "    }\n",
       "\n",
       "    .dataframe tbody tr th {\n",
       "        vertical-align: top;\n",
       "    }\n",
       "\n",
       "    .dataframe thead th {\n",
       "        text-align: right;\n",
       "    }\n",
       "</style>\n",
       "<table border=\"1\" class=\"dataframe\">\n",
       "  <thead>\n",
       "    <tr style=\"text-align: right;\">\n",
       "      <th></th>\n",
       "      <th>children</th>\n",
       "      <th>days_employed</th>\n",
       "      <th>dob_years</th>\n",
       "      <th>education</th>\n",
       "      <th>education_id</th>\n",
       "      <th>family_status</th>\n",
       "      <th>family_status_id</th>\n",
       "      <th>gender</th>\n",
       "      <th>income_type</th>\n",
       "      <th>debt</th>\n",
       "      <th>total_income</th>\n",
       "      <th>purpose</th>\n",
       "      <th>total_income_category</th>\n",
       "      <th>purpose_category</th>\n",
       "      <th>children_category</th>\n",
       "    </tr>\n",
       "  </thead>\n",
       "  <tbody>\n",
       "    <tr>\n",
       "      <th>0</th>\n",
       "      <td>1</td>\n",
       "      <td>8437.673028</td>\n",
       "      <td>42</td>\n",
       "      <td>высшее</td>\n",
       "      <td>0</td>\n",
       "      <td>женат / замужем</td>\n",
       "      <td>0</td>\n",
       "      <td>F</td>\n",
       "      <td>сотрудник</td>\n",
       "      <td>0</td>\n",
       "      <td>253875</td>\n",
       "      <td>покупка жилья</td>\n",
       "      <td>B</td>\n",
       "      <td>операции с недвижимостью</td>\n",
       "      <td>один ребенок</td>\n",
       "    </tr>\n",
       "    <tr>\n",
       "      <th>1</th>\n",
       "      <td>1</td>\n",
       "      <td>4024.803754</td>\n",
       "      <td>36</td>\n",
       "      <td>среднее</td>\n",
       "      <td>1</td>\n",
       "      <td>женат / замужем</td>\n",
       "      <td>0</td>\n",
       "      <td>F</td>\n",
       "      <td>сотрудник</td>\n",
       "      <td>0</td>\n",
       "      <td>112080</td>\n",
       "      <td>приобретение автомобиля</td>\n",
       "      <td>C</td>\n",
       "      <td>операции с автомобилем</td>\n",
       "      <td>один ребенок</td>\n",
       "    </tr>\n",
       "    <tr>\n",
       "      <th>2</th>\n",
       "      <td>0</td>\n",
       "      <td>5623.422610</td>\n",
       "      <td>33</td>\n",
       "      <td>среднее</td>\n",
       "      <td>1</td>\n",
       "      <td>женат / замужем</td>\n",
       "      <td>0</td>\n",
       "      <td>M</td>\n",
       "      <td>сотрудник</td>\n",
       "      <td>0</td>\n",
       "      <td>145885</td>\n",
       "      <td>покупка жилья</td>\n",
       "      <td>C</td>\n",
       "      <td>операции с недвижимостью</td>\n",
       "      <td>нет детей</td>\n",
       "    </tr>\n",
       "    <tr>\n",
       "      <th>3</th>\n",
       "      <td>3</td>\n",
       "      <td>4124.747207</td>\n",
       "      <td>32</td>\n",
       "      <td>среднее</td>\n",
       "      <td>1</td>\n",
       "      <td>женат / замужем</td>\n",
       "      <td>0</td>\n",
       "      <td>M</td>\n",
       "      <td>сотрудник</td>\n",
       "      <td>0</td>\n",
       "      <td>267628</td>\n",
       "      <td>дополнительное образование</td>\n",
       "      <td>B</td>\n",
       "      <td>получение образования</td>\n",
       "      <td>многодетная семья</td>\n",
       "    </tr>\n",
       "    <tr>\n",
       "      <th>4</th>\n",
       "      <td>0</td>\n",
       "      <td>340266.072047</td>\n",
       "      <td>53</td>\n",
       "      <td>среднее</td>\n",
       "      <td>1</td>\n",
       "      <td>гражданский брак</td>\n",
       "      <td>1</td>\n",
       "      <td>F</td>\n",
       "      <td>пенсионер</td>\n",
       "      <td>0</td>\n",
       "      <td>158616</td>\n",
       "      <td>сыграть свадьбу</td>\n",
       "      <td>C</td>\n",
       "      <td>проведение свадьбы</td>\n",
       "      <td>нет детей</td>\n",
       "    </tr>\n",
       "    <tr>\n",
       "      <th>5</th>\n",
       "      <td>0</td>\n",
       "      <td>926.185831</td>\n",
       "      <td>27</td>\n",
       "      <td>высшее</td>\n",
       "      <td>0</td>\n",
       "      <td>гражданский брак</td>\n",
       "      <td>1</td>\n",
       "      <td>M</td>\n",
       "      <td>компаньон</td>\n",
       "      <td>0</td>\n",
       "      <td>255763</td>\n",
       "      <td>покупка жилья</td>\n",
       "      <td>B</td>\n",
       "      <td>операции с недвижимостью</td>\n",
       "      <td>нет детей</td>\n",
       "    </tr>\n",
       "    <tr>\n",
       "      <th>6</th>\n",
       "      <td>0</td>\n",
       "      <td>2879.202052</td>\n",
       "      <td>43</td>\n",
       "      <td>высшее</td>\n",
       "      <td>0</td>\n",
       "      <td>женат / замужем</td>\n",
       "      <td>0</td>\n",
       "      <td>F</td>\n",
       "      <td>компаньон</td>\n",
       "      <td>0</td>\n",
       "      <td>240525</td>\n",
       "      <td>операции с жильем</td>\n",
       "      <td>B</td>\n",
       "      <td>операции с недвижимостью</td>\n",
       "      <td>нет детей</td>\n",
       "    </tr>\n",
       "    <tr>\n",
       "      <th>7</th>\n",
       "      <td>0</td>\n",
       "      <td>152.779569</td>\n",
       "      <td>50</td>\n",
       "      <td>среднее</td>\n",
       "      <td>1</td>\n",
       "      <td>женат / замужем</td>\n",
       "      <td>0</td>\n",
       "      <td>M</td>\n",
       "      <td>сотрудник</td>\n",
       "      <td>0</td>\n",
       "      <td>135823</td>\n",
       "      <td>образование</td>\n",
       "      <td>C</td>\n",
       "      <td>получение образования</td>\n",
       "      <td>нет детей</td>\n",
       "    </tr>\n",
       "    <tr>\n",
       "      <th>8</th>\n",
       "      <td>2</td>\n",
       "      <td>6929.865299</td>\n",
       "      <td>35</td>\n",
       "      <td>высшее</td>\n",
       "      <td>0</td>\n",
       "      <td>гражданский брак</td>\n",
       "      <td>1</td>\n",
       "      <td>F</td>\n",
       "      <td>сотрудник</td>\n",
       "      <td>0</td>\n",
       "      <td>95856</td>\n",
       "      <td>на проведение свадьбы</td>\n",
       "      <td>C</td>\n",
       "      <td>проведение свадьбы</td>\n",
       "      <td>2 ребенка</td>\n",
       "    </tr>\n",
       "    <tr>\n",
       "      <th>9</th>\n",
       "      <td>0</td>\n",
       "      <td>2188.756445</td>\n",
       "      <td>41</td>\n",
       "      <td>среднее</td>\n",
       "      <td>1</td>\n",
       "      <td>женат / замужем</td>\n",
       "      <td>0</td>\n",
       "      <td>M</td>\n",
       "      <td>сотрудник</td>\n",
       "      <td>0</td>\n",
       "      <td>144425</td>\n",
       "      <td>покупка жилья для семьи</td>\n",
       "      <td>C</td>\n",
       "      <td>операции с недвижимостью</td>\n",
       "      <td>нет детей</td>\n",
       "    </tr>\n",
       "  </tbody>\n",
       "</table>\n",
       "</div>"
      ],
      "text/plain": [
       "   children  days_employed  dob_years education  education_id  \\\n",
       "0         1    8437.673028         42    высшее             0   \n",
       "1         1    4024.803754         36   среднее             1   \n",
       "2         0    5623.422610         33   среднее             1   \n",
       "3         3    4124.747207         32   среднее             1   \n",
       "4         0  340266.072047         53   среднее             1   \n",
       "5         0     926.185831         27    высшее             0   \n",
       "6         0    2879.202052         43    высшее             0   \n",
       "7         0     152.779569         50   среднее             1   \n",
       "8         2    6929.865299         35    высшее             0   \n",
       "9         0    2188.756445         41   среднее             1   \n",
       "\n",
       "      family_status  family_status_id gender income_type  debt  total_income  \\\n",
       "0   женат / замужем                 0      F   сотрудник     0        253875   \n",
       "1   женат / замужем                 0      F   сотрудник     0        112080   \n",
       "2   женат / замужем                 0      M   сотрудник     0        145885   \n",
       "3   женат / замужем                 0      M   сотрудник     0        267628   \n",
       "4  гражданский брак                 1      F   пенсионер     0        158616   \n",
       "5  гражданский брак                 1      M   компаньон     0        255763   \n",
       "6   женат / замужем                 0      F   компаньон     0        240525   \n",
       "7   женат / замужем                 0      M   сотрудник     0        135823   \n",
       "8  гражданский брак                 1      F   сотрудник     0         95856   \n",
       "9   женат / замужем                 0      M   сотрудник     0        144425   \n",
       "\n",
       "                      purpose total_income_category          purpose_category  \\\n",
       "0               покупка жилья                     B  операции с недвижимостью   \n",
       "1     приобретение автомобиля                     C    операции с автомобилем   \n",
       "2               покупка жилья                     C  операции с недвижимостью   \n",
       "3  дополнительное образование                     B     получение образования   \n",
       "4             сыграть свадьбу                     C        проведение свадьбы   \n",
       "5               покупка жилья                     B  операции с недвижимостью   \n",
       "6           операции с жильем                     B  операции с недвижимостью   \n",
       "7                 образование                     C     получение образования   \n",
       "8       на проведение свадьбы                     C        проведение свадьбы   \n",
       "9     покупка жилья для семьи                     C  операции с недвижимостью   \n",
       "\n",
       "   children_category  \n",
       "0       один ребенок  \n",
       "1       один ребенок  \n",
       "2          нет детей  \n",
       "3  многодетная семья  \n",
       "4          нет детей  \n",
       "5          нет детей  \n",
       "6          нет детей  \n",
       "7          нет детей  \n",
       "8          2 ребенка  \n",
       "9          нет детей  "
      ]
     },
     "execution_count": 22,
     "metadata": {},
     "output_type": "execute_result"
    }
   ],
   "source": [
    "#разобъём данные на категории в зависимости от количества детей\n",
    "def categorize_children(row):\n",
    "        if row == 1:\n",
    "            return 'один ребенок'\n",
    "        elif row == 2:\n",
    "            return '2 ребенка'\n",
    "        elif row >= 3:\n",
    "            return 'многодетная семья'\n",
    "        return 'нет детей'\n",
    "\n",
    "#categorize_children(0) #проверим работу функции\n",
    "#добавим в датафрейм столбец children_category с полученными категориями данных\n",
    "data['children_category'] = data['children'].apply(categorize_children) \n",
    "#выведем первые 10 строк, чтобы проверить, что столбец добавлен\n",
    "data.head(10)  "
   ]
  },
  {
   "cell_type": "code",
   "execution_count": 23,
   "id": "8431a5df",
   "metadata": {},
   "outputs": [
    {
     "data": {
      "text/html": [
       "<div>\n",
       "<style scoped>\n",
       "    .dataframe tbody tr th:only-of-type {\n",
       "        vertical-align: middle;\n",
       "    }\n",
       "\n",
       "    .dataframe tbody tr th {\n",
       "        vertical-align: top;\n",
       "    }\n",
       "\n",
       "    .dataframe thead th {\n",
       "        text-align: right;\n",
       "    }\n",
       "</style>\n",
       "<table border=\"1\" class=\"dataframe\">\n",
       "  <thead>\n",
       "    <tr style=\"text-align: right;\">\n",
       "      <th></th>\n",
       "      <th>debt</th>\n",
       "      <th>total</th>\n",
       "      <th>ratio</th>\n",
       "    </tr>\n",
       "    <tr>\n",
       "      <th>children_category</th>\n",
       "      <th></th>\n",
       "      <th></th>\n",
       "      <th></th>\n",
       "    </tr>\n",
       "  </thead>\n",
       "  <tbody>\n",
       "    <tr>\n",
       "      <th>нет детей</th>\n",
       "      <td>1063</td>\n",
       "      <td>14091</td>\n",
       "      <td>7.5%</td>\n",
       "    </tr>\n",
       "    <tr>\n",
       "      <th>многодетная семья</th>\n",
       "      <td>31</td>\n",
       "      <td>380</td>\n",
       "      <td>8.2%</td>\n",
       "    </tr>\n",
       "    <tr>\n",
       "      <th>один ребенок</th>\n",
       "      <td>444</td>\n",
       "      <td>4808</td>\n",
       "      <td>9.2%</td>\n",
       "    </tr>\n",
       "    <tr>\n",
       "      <th>2 ребенка</th>\n",
       "      <td>194</td>\n",
       "      <td>2052</td>\n",
       "      <td>9.5%</td>\n",
       "    </tr>\n",
       "  </tbody>\n",
       "</table>\n",
       "</div>"
      ],
      "text/plain": [
       "                   debt  total ratio\n",
       "children_category                   \n",
       "нет детей          1063  14091  7.5%\n",
       "многодетная семья    31    380  8.2%\n",
       "один ребенок        444   4808  9.2%\n",
       "2 ребенка           194   2052  9.5%"
      ]
     },
     "execution_count": 23,
     "metadata": {},
     "output_type": "execute_result"
    }
   ],
   "source": [
    "def data_children(data, index):\n",
    "    data_children_pivot = data.pivot_table(index=index, values='debt', aggfunc=['sum', 'count', 'mean'])\n",
    "    data_children_pivot.columns = ['debt', 'total', 'ratio']\n",
    "    data_children_pivot['ratio'] = data_children_pivot['ratio'].map('{:.1%}'.format)\n",
    "    #data_children_pivot = data_children_pivot['ratio'].sort_values(by = data_children_pivot['ratio'], ascending=False)\n",
    "    return data_children_pivot.sort_values('ratio')\n",
    "    #return data_children_pivot.sort_values(by ='debt', ascending=False)\n",
    "data_children(data, 'children_category')"
   ]
  },
  {
   "cell_type": "code",
   "execution_count": 24,
   "id": "7fc8578d",
   "metadata": {},
   "outputs": [
    {
     "data": {
      "text/html": [
       "<div>\n",
       "<style scoped>\n",
       "    .dataframe tbody tr th:only-of-type {\n",
       "        vertical-align: middle;\n",
       "    }\n",
       "\n",
       "    .dataframe tbody tr th {\n",
       "        vertical-align: top;\n",
       "    }\n",
       "\n",
       "    .dataframe thead th {\n",
       "        text-align: right;\n",
       "    }\n",
       "</style>\n",
       "<table border=\"1\" class=\"dataframe\">\n",
       "  <thead>\n",
       "    <tr style=\"text-align: right;\">\n",
       "      <th></th>\n",
       "      <th>debt</th>\n",
       "      <th>total</th>\n",
       "      <th>ratio</th>\n",
       "    </tr>\n",
       "    <tr>\n",
       "      <th>children_category</th>\n",
       "      <th></th>\n",
       "      <th></th>\n",
       "      <th></th>\n",
       "    </tr>\n",
       "  </thead>\n",
       "  <tbody>\n",
       "    <tr>\n",
       "      <th>2 ребенка</th>\n",
       "      <td>194</td>\n",
       "      <td>2052</td>\n",
       "      <td>9.5%</td>\n",
       "    </tr>\n",
       "    <tr>\n",
       "      <th>один ребенок</th>\n",
       "      <td>444</td>\n",
       "      <td>4808</td>\n",
       "      <td>9.2%</td>\n",
       "    </tr>\n",
       "    <tr>\n",
       "      <th>многодетная семья</th>\n",
       "      <td>31</td>\n",
       "      <td>380</td>\n",
       "      <td>8.2%</td>\n",
       "    </tr>\n",
       "    <tr>\n",
       "      <th>нет детей</th>\n",
       "      <td>1063</td>\n",
       "      <td>14091</td>\n",
       "      <td>7.5%</td>\n",
       "    </tr>\n",
       "  </tbody>\n",
       "</table>\n",
       "</div>"
      ],
      "text/plain": [
       "                   debt  total ratio\n",
       "children_category                   \n",
       "2 ребенка           194   2052  9.5%\n",
       "один ребенок        444   4808  9.2%\n",
       "многодетная семья    31    380  8.2%\n",
       "нет детей          1063  14091  7.5%"
      ]
     },
     "execution_count": 24,
     "metadata": {},
     "output_type": "execute_result"
    }
   ],
   "source": [
    "#запишем функцию для сводной таблицы\n",
    "def data_pivot(data, index):\n",
    "    \"\"\"создаём сводную таблицу, по столбцу debt к функции aggfunc применим методы: sum - в данном \n",
    "    случае должник имеет значение 1, значит sum покажет количество должников, count  - общее количество клиентов и\n",
    "    mean - доля должников, количество должников/общее количество клиентов.\"\"\" \n",
    "    data_pivot = data.pivot_table(index=index, values='debt', aggfunc=['sum', 'count', 'mean'])\n",
    "    #Переименуем столбцы, чтобы было более понятно\n",
    "    data_pivot.columns = ['debt', 'total', 'ratio']\n",
    "    #Переведем полученные значения доли должников в %\n",
    "    data_pivot['ratio'] = data_pivot['ratio'].map('{:.1%}'.format)\n",
    "    #выполним сортировку по убыванию\n",
    "    return data_pivot.sort_values(by ='ratio', ascending=False)\n",
    "#вызовем функцию для аргумета children_category, чтобы увидеть зависимость доли должников от количества детей\n",
    "data_pivot(data, 'children_category')"
   ]
  },
  {
   "cell_type": "markdown",
   "id": "2eb9088e",
   "metadata": {
    "deletable": false,
    "id": "2eb9088e"
   },
   "source": [
    "**Вывод:** "
   ]
  },
  {
   "cell_type": "markdown",
   "id": "b6f4c7cb",
   "metadata": {},
   "source": [
    "Можно однозначно сказать, что существует зависимость между количеством детей и возвратом кредита в срок.\n",
    "По полученной сводной таблице можно увидеть, что наименьшая доля должников встречается среди тех, у кого нет детей - 7,5%.\n",
    "Среди тех, у кого есть дети, наибольшая доля должников встречается среди тех, у кого 1-2 ребенка и составляет 9,3%, а вот среди многодетных семей (больше 3-х детей) доля должников немного ниже - 8,2%. Возможно, это связано с тем, что многодетным семьям доступно больше льгот, субсидий и т.д.\n"
   ]
  },
  {
   "cell_type": "markdown",
   "id": "74c9b3a7",
   "metadata": {
    "deletable": false,
    "editable": false,
    "id": "74c9b3a7"
   },
   "source": [
    "#### 3.2 Есть ли зависимость между семейным положением и возвратом кредита в срок?"
   ]
  },
  {
   "cell_type": "code",
   "execution_count": null,
   "id": "8098ab3b",
   "metadata": {
    "deletable": false,
    "id": "8098ab3b"
   },
   "outputs": [],
   "source": []
  },
  {
   "cell_type": "code",
   "execution_count": 25,
   "id": "7e294b69",
   "metadata": {},
   "outputs": [
    {
     "data": {
      "text/html": [
       "<div>\n",
       "<style scoped>\n",
       "    .dataframe tbody tr th:only-of-type {\n",
       "        vertical-align: middle;\n",
       "    }\n",
       "\n",
       "    .dataframe tbody tr th {\n",
       "        vertical-align: top;\n",
       "    }\n",
       "\n",
       "    .dataframe thead th {\n",
       "        text-align: right;\n",
       "    }\n",
       "</style>\n",
       "<table border=\"1\" class=\"dataframe\">\n",
       "  <thead>\n",
       "    <tr style=\"text-align: right;\">\n",
       "      <th></th>\n",
       "      <th>debt</th>\n",
       "      <th>total</th>\n",
       "      <th>ratio</th>\n",
       "    </tr>\n",
       "    <tr>\n",
       "      <th>family_status</th>\n",
       "      <th></th>\n",
       "      <th></th>\n",
       "      <th></th>\n",
       "    </tr>\n",
       "  </thead>\n",
       "  <tbody>\n",
       "    <tr>\n",
       "      <th>Не женат / не замужем</th>\n",
       "      <td>273</td>\n",
       "      <td>2796</td>\n",
       "      <td>9.8%</td>\n",
       "    </tr>\n",
       "    <tr>\n",
       "      <th>гражданский брак</th>\n",
       "      <td>385</td>\n",
       "      <td>4134</td>\n",
       "      <td>9.3%</td>\n",
       "    </tr>\n",
       "    <tr>\n",
       "      <th>женат / замужем</th>\n",
       "      <td>927</td>\n",
       "      <td>12261</td>\n",
       "      <td>7.6%</td>\n",
       "    </tr>\n",
       "    <tr>\n",
       "      <th>в разводе</th>\n",
       "      <td>84</td>\n",
       "      <td>1189</td>\n",
       "      <td>7.1%</td>\n",
       "    </tr>\n",
       "    <tr>\n",
       "      <th>вдовец / вдова</th>\n",
       "      <td>63</td>\n",
       "      <td>951</td>\n",
       "      <td>6.6%</td>\n",
       "    </tr>\n",
       "  </tbody>\n",
       "</table>\n",
       "</div>"
      ],
      "text/plain": [
       "                       debt  total ratio\n",
       "family_status                           \n",
       "Не женат / не замужем   273   2796  9.8%\n",
       "гражданский брак        385   4134  9.3%\n",
       "женат / замужем         927  12261  7.6%\n",
       "в разводе                84   1189  7.1%\n",
       "вдовец / вдова           63    951  6.6%"
      ]
     },
     "execution_count": 25,
     "metadata": {},
     "output_type": "execute_result"
    }
   ],
   "source": [
    "#вызовем функцию для аргумета family_status, чтобы увидеть зависимость доли должников от семейного статуса\n",
    "data_pivot(data, 'family_status')"
   ]
  },
  {
   "cell_type": "markdown",
   "id": "7406e889",
   "metadata": {
    "deletable": false,
    "id": "c389ca63"
   },
   "source": [
    "Вывод:"
   ]
  },
  {
   "cell_type": "markdown",
   "id": "ad0a285c",
   "metadata": {},
   "source": [
    "По полученным данным можно сказать, что есть высокая вероятность того, что не вернут кредит в срок те, кто:\n",
    "не женат/не замужем - 9.8% это может быть связано с тем, что данная категория людей более свободна и у них меньше накоплений и ответственности. Менее подверженны стать должниками клиенты со статусом состоят в гражданском браке - 9,3%, женат/замужем - 7,6% и в разводе - 7,1%, возможно, это связано с накопленным опытом, большим, по отношению к одиноким людям доходом, и имеющимися накоплениями. Наименьший риск у клиентов со статусом: вдовец/вдова, возможно, это связано со страховыми случаями, наследством."
   ]
  },
  {
   "cell_type": "markdown",
   "id": "9529de68",
   "metadata": {
    "deletable": false,
    "editable": false,
    "id": "9529de68"
   },
   "source": [
    "#### 3.3 Есть ли зависимость между уровнем дохода и возвратом кредита в срок?"
   ]
  },
  {
   "cell_type": "markdown",
   "id": "e3b5b4f3",
   "metadata": {
    "deletable": false,
    "id": "8787f44a"
   },
   "source": []
  },
  {
   "cell_type": "code",
   "execution_count": 26,
   "id": "97171ca5",
   "metadata": {},
   "outputs": [
    {
     "data": {
      "text/html": [
       "<div>\n",
       "<style scoped>\n",
       "    .dataframe tbody tr th:only-of-type {\n",
       "        vertical-align: middle;\n",
       "    }\n",
       "\n",
       "    .dataframe tbody tr th {\n",
       "        vertical-align: top;\n",
       "    }\n",
       "\n",
       "    .dataframe thead th {\n",
       "        text-align: right;\n",
       "    }\n",
       "</style>\n",
       "<table border=\"1\" class=\"dataframe\">\n",
       "  <thead>\n",
       "    <tr style=\"text-align: right;\">\n",
       "      <th></th>\n",
       "      <th>debt</th>\n",
       "      <th>total</th>\n",
       "      <th>ratio</th>\n",
       "    </tr>\n",
       "    <tr>\n",
       "      <th>total_income_category</th>\n",
       "      <th></th>\n",
       "      <th></th>\n",
       "      <th></th>\n",
       "    </tr>\n",
       "  </thead>\n",
       "  <tbody>\n",
       "    <tr>\n",
       "      <th>E</th>\n",
       "      <td>2</td>\n",
       "      <td>22</td>\n",
       "      <td>9.1%</td>\n",
       "    </tr>\n",
       "    <tr>\n",
       "      <th>C</th>\n",
       "      <td>1353</td>\n",
       "      <td>15921</td>\n",
       "      <td>8.5%</td>\n",
       "    </tr>\n",
       "    <tr>\n",
       "      <th>A</th>\n",
       "      <td>2</td>\n",
       "      <td>25</td>\n",
       "      <td>8.0%</td>\n",
       "    </tr>\n",
       "    <tr>\n",
       "      <th>B</th>\n",
       "      <td>354</td>\n",
       "      <td>5014</td>\n",
       "      <td>7.1%</td>\n",
       "    </tr>\n",
       "    <tr>\n",
       "      <th>D</th>\n",
       "      <td>21</td>\n",
       "      <td>349</td>\n",
       "      <td>6.0%</td>\n",
       "    </tr>\n",
       "  </tbody>\n",
       "</table>\n",
       "</div>"
      ],
      "text/plain": [
       "                       debt  total ratio\n",
       "total_income_category                   \n",
       "E                         2     22  9.1%\n",
       "C                      1353  15921  8.5%\n",
       "A                         2     25  8.0%\n",
       "B                       354   5014  7.1%\n",
       "D                        21    349  6.0%"
      ]
     },
     "execution_count": 26,
     "metadata": {},
     "output_type": "execute_result"
    }
   ],
   "source": [
    "#вызовем функцию для аргумета total_income_category, чтобы увидеть зависимость доли должников от суровня дохода\n",
    "data_pivot(data, 'total_income_category')"
   ]
  },
  {
   "cell_type": "markdown",
   "id": "6dd14b57",
   "metadata": {
    "deletable": false,
    "id": "6dd14b57"
   },
   "source": [
    "**Вывод:** "
   ]
  },
  {
   "cell_type": "markdown",
   "id": "9cab684b",
   "metadata": {},
   "source": [
    "По полученным данным можно сказать, что чаще всего не возвращают кредит клиенты категории E с доходом меньше 30000 - 9.1% и клиенты категории A с доходом больше 1000001 - 8%, но количество таких клиентов очень мало, поэтому считать это закономерностью неправильно, их нужно убрать из выборки или объединить в группы с ближайщим диапазоном дохода.\n",
    "Таким образом, чаще всего не возвращают кредит клиенты с доходом С, B: от 50001 до 1000000. Чем выше доход, тем ниже процент должников.\n",
    "\n"
   ]
  },
  {
   "cell_type": "markdown",
   "id": "1dcc9b12",
   "metadata": {
    "deletable": false,
    "editable": false,
    "id": "1dcc9b12"
   },
   "source": [
    "#### 3.4 Как разные цели кредита влияют на его возврат в срок?"
   ]
  },
  {
   "cell_type": "code",
   "execution_count": null,
   "id": "c602bc8b",
   "metadata": {
    "deletable": false,
    "id": "c602bc8b"
   },
   "outputs": [],
   "source": []
  },
  {
   "cell_type": "code",
   "execution_count": 27,
   "id": "ff092d48",
   "metadata": {},
   "outputs": [
    {
     "data": {
      "text/html": [
       "<div>\n",
       "<style scoped>\n",
       "    .dataframe tbody tr th:only-of-type {\n",
       "        vertical-align: middle;\n",
       "    }\n",
       "\n",
       "    .dataframe tbody tr th {\n",
       "        vertical-align: top;\n",
       "    }\n",
       "\n",
       "    .dataframe thead th {\n",
       "        text-align: right;\n",
       "    }\n",
       "</style>\n",
       "<table border=\"1\" class=\"dataframe\">\n",
       "  <thead>\n",
       "    <tr style=\"text-align: right;\">\n",
       "      <th></th>\n",
       "      <th>debt</th>\n",
       "      <th>total</th>\n",
       "      <th>ratio</th>\n",
       "    </tr>\n",
       "    <tr>\n",
       "      <th>purpose_category</th>\n",
       "      <th></th>\n",
       "      <th></th>\n",
       "      <th></th>\n",
       "    </tr>\n",
       "  </thead>\n",
       "  <tbody>\n",
       "    <tr>\n",
       "      <th>операции с недвижимостью</th>\n",
       "      <td>780</td>\n",
       "      <td>10751</td>\n",
       "      <td>7.3%</td>\n",
       "    </tr>\n",
       "    <tr>\n",
       "      <th>проведение свадьбы</th>\n",
       "      <td>183</td>\n",
       "      <td>2313</td>\n",
       "      <td>7.9%</td>\n",
       "    </tr>\n",
       "    <tr>\n",
       "      <th>операции с автомобилем</th>\n",
       "      <td>400</td>\n",
       "      <td>4279</td>\n",
       "      <td>9.3%</td>\n",
       "    </tr>\n",
       "    <tr>\n",
       "      <th>получение образования</th>\n",
       "      <td>369</td>\n",
       "      <td>3988</td>\n",
       "      <td>9.3%</td>\n",
       "    </tr>\n",
       "  </tbody>\n",
       "</table>\n",
       "</div>"
      ],
      "text/plain": [
       "                          debt  total ratio\n",
       "purpose_category                           \n",
       "операции с недвижимостью   780  10751  7.3%\n",
       "проведение свадьбы         183   2313  7.9%\n",
       "операции с автомобилем     400   4279  9.3%\n",
       "получение образования      369   3988  9.3%"
      ]
     },
     "execution_count": 27,
     "metadata": {},
     "output_type": "execute_result"
    }
   ],
   "source": [
    "#вызовем функцию для аргумета purpose_category, чтобы увидеть зависимость доли должников от целей кредита\n",
    "data_children(data, 'purpose_category')"
   ]
  },
  {
   "cell_type": "markdown",
   "id": "cf05ed63",
   "metadata": {
    "deletable": false,
    "id": "cf05ed63"
   },
   "source": [
    "**Вывод:** "
   ]
  },
  {
   "cell_type": "markdown",
   "id": "037c4615",
   "metadata": {},
   "source": [
    "Чаще всего должниками становятся клиенты, которые брали кредит на операции связанные с автомобилем или же на получение образование - 9,3%. Клиенты, которые берут кредит для операций с недвижимостью реже всего становятся должниками - 7,3%. "
   ]
  },
  {
   "cell_type": "markdown",
   "id": "46c1f10b",
   "metadata": {
    "deletable": false,
    "editable": false,
    "id": "46c1f10b"
   },
   "source": [
    "#### 3.5 Приведите возможные причины появления пропусков в исходных данных."
   ]
  },
  {
   "cell_type": "markdown",
   "id": "3697d2a9",
   "metadata": {
    "deletable": false,
    "id": "3697d2a9"
   },
   "source": [
    "*Ответ:* "
   ]
  },
  {
   "cell_type": "markdown",
   "id": "47c73bb2",
   "metadata": {},
   "source": [
    "Пропуски встретились в столбцах days_employed - общий трудовой стаж в днях и total_income — ежемесячный доход. \n",
    "Данные пропуски нельзя восстановить по другим значениям, поэтому не получится их назвать полностью случайными.\n",
    "Возможными причинами могут быть намеренное сокрытие данных при заполнении, технический сбой, ошибка при сохранении и т.д.\n"
   ]
  },
  {
   "cell_type": "markdown",
   "id": "3137d257",
   "metadata": {
    "deletable": false,
    "editable": false,
    "id": "3137d257"
   },
   "source": [
    "#### 3.6 Объясните, почему заполнить пропуски медианным значением — лучшее решение для количественных переменных."
   ]
  },
  {
   "cell_type": "markdown",
   "id": "cf40012a",
   "metadata": {
    "deletable": false,
    "id": "cf40012a"
   },
   "source": [
    "*Ответ:* "
   ]
  },
  {
   "cell_type": "markdown",
   "id": "aa219e2a",
   "metadata": {},
   "source": [
    "Заполнитть пропуски медианным значением лучший вариант так как при замене среднеарифметическим значением \n",
    "данные характеризуются некорректно в случае, если часть значений выделяется среди большинства.\n",
    "Медиана же - это такое число в выборке, что ровно половина элементов больше него, а другая половина — меньше, \n",
    "то есть ее значение более близко к реальности и она более устойчива к аномально большим или низким значениям."
   ]
  },
  {
   "cell_type": "markdown",
   "id": "57bc304e",
   "metadata": {
    "deletable": false,
    "editable": false,
    "id": "57bc304e"
   },
   "source": [
    "### Шаг 4: общий вывод."
   ]
  },
  {
   "cell_type": "markdown",
   "id": "1ab75d1c",
   "metadata": {
    "deletable": false,
    "id": "1ab75d1c"
   },
   "source": [
    "Напишите ваш общий вывод."
   ]
  },
  {
   "cell_type": "markdown",
   "id": "0cbfdd7f",
   "metadata": {},
   "source": [
    "Целью проекта являлась подготовка данных и их визуализация(сводные таблицы) по вопросам: влияет ли семейное положение, количество детей клиента, его доходы и цели кредита на факт погашения кредита в срок.\n",
    "\n",
    "В результате выполнения проекта в исходных данных были выполнены:\n",
    "1) поиск пропусков и их заполнение медианным значением\n",
    "2) изменение типов данных\n",
    "3) удаление дубликатов\n",
    "4) категоризация данных о доходах\n",
    "\n",
    "В результате можно сделать следующие выводы:\n",
    "\n",
    "1. Реже всего должниками становятся те клиенты, у которых детей нет - 7,5%. Наибольший риск стать должником существует у клиентов, у которых меньше 3 детей - 9,3%. Ниже у тех, кто имеет более 3 детей - 8,2%. \n",
    "2. Чаще всего должниками становятся клиенты, которые одиноки - 9,8%, далее по низходящей клиенты в гражданском браке - 9,3%, женат/замужем - 7,6%, в разводе 7,1% и вдовец/вдова - 6,6%.\n",
    "3. Клиенты с доходом от 50001 до 1000000 (8,7% и 7,1%) больше всего подвержены риску не вернуть кредит в срок, а вот клиенты с доходом от 30001 до 50000 чаще всего возвращают кредит(6%).\n",
    "4. Клиенты, целью кредита которых недвижимость самые ответственные и реже всего становятся должниками - 7,3%, а вот клиенты, которые брали кредит на автомобиль или образование чаще всего не возвращают кредит в срок - 9,3% у кадой цели. "
   ]
  }
 ],
 "metadata": {
  "ExecuteTimeLog": [
   {
    "duration": 515,
    "start_time": "2024-05-18T10:05:51.603Z"
   },
   {
    "duration": 25,
    "start_time": "2024-05-18T10:05:52.120Z"
   },
   {
    "duration": 28,
    "start_time": "2024-05-18T10:05:52.146Z"
   },
   {
    "duration": 22,
    "start_time": "2024-05-18T10:05:52.176Z"
   },
   {
    "duration": 38,
    "start_time": "2024-05-18T10:05:52.200Z"
   },
   {
    "duration": 4,
    "start_time": "2024-05-18T10:05:52.239Z"
   },
   {
    "duration": 27,
    "start_time": "2024-05-18T10:05:52.244Z"
   },
   {
    "duration": 20,
    "start_time": "2024-05-18T10:05:52.273Z"
   },
   {
    "duration": 23,
    "start_time": "2024-05-18T10:05:52.299Z"
   },
   {
    "duration": 13,
    "start_time": "2024-05-18T10:05:52.325Z"
   },
   {
    "duration": 51,
    "start_time": "2024-05-18T10:05:52.340Z"
   },
   {
    "duration": 17,
    "start_time": "2024-05-18T10:05:52.396Z"
   },
   {
    "duration": 28,
    "start_time": "2024-05-18T10:05:52.415Z"
   },
   {
    "duration": 58,
    "start_time": "2024-05-18T10:05:52.445Z"
   },
   {
    "duration": 51,
    "start_time": "2024-05-18T10:05:52.506Z"
   },
   {
    "duration": 21,
    "start_time": "2024-05-18T10:05:52.559Z"
   },
   {
    "duration": 14,
    "start_time": "2024-05-18T10:05:52.584Z"
   },
   {
    "duration": 37,
    "start_time": "2024-05-18T10:05:52.600Z"
   },
   {
    "duration": 17,
    "start_time": "2024-05-18T10:05:52.639Z"
   },
   {
    "duration": 8,
    "start_time": "2024-05-18T10:05:52.658Z"
   },
   {
    "duration": 57,
    "start_time": "2024-05-18T10:05:52.667Z"
   },
   {
    "duration": 12,
    "start_time": "2024-05-18T10:05:52.726Z"
   },
   {
    "duration": 7,
    "start_time": "2024-05-18T10:05:52.740Z"
   },
   {
    "duration": 5,
    "start_time": "2024-05-18T10:05:52.749Z"
   },
   {
    "duration": 27,
    "start_time": "2024-05-18T10:05:52.756Z"
   },
   {
    "duration": 81,
    "start_time": "2024-05-18T10:06:08.599Z"
   },
   {
    "duration": 84,
    "start_time": "2024-05-18T10:06:14.909Z"
   },
   {
    "duration": 17,
    "start_time": "2024-05-18T10:06:14.996Z"
   },
   {
    "duration": 59,
    "start_time": "2024-05-18T10:06:15.014Z"
   },
   {
    "duration": 71,
    "start_time": "2024-05-18T10:06:15.075Z"
   },
   {
    "duration": 99,
    "start_time": "2024-05-18T10:06:15.148Z"
   },
   {
    "duration": 3,
    "start_time": "2024-05-18T10:06:15.249Z"
   },
   {
    "duration": 20,
    "start_time": "2024-05-18T10:06:15.253Z"
   },
   {
    "duration": 4,
    "start_time": "2024-05-18T10:06:15.275Z"
   },
   {
    "duration": 22,
    "start_time": "2024-05-18T10:06:15.280Z"
   },
   {
    "duration": 17,
    "start_time": "2024-05-18T10:06:15.304Z"
   },
   {
    "duration": 52,
    "start_time": "2024-05-18T10:06:15.322Z"
   },
   {
    "duration": 22,
    "start_time": "2024-05-18T10:06:15.376Z"
   },
   {
    "duration": 4,
    "start_time": "2024-05-18T10:06:15.400Z"
   },
   {
    "duration": 25,
    "start_time": "2024-05-18T10:06:15.405Z"
   },
   {
    "duration": 34,
    "start_time": "2024-05-18T10:06:15.432Z"
   },
   {
    "duration": 27,
    "start_time": "2024-05-18T10:06:15.467Z"
   },
   {
    "duration": 4,
    "start_time": "2024-05-18T10:06:15.498Z"
   },
   {
    "duration": 18,
    "start_time": "2024-05-18T10:06:15.504Z"
   },
   {
    "duration": 8,
    "start_time": "2024-05-18T10:06:15.524Z"
   },
   {
    "duration": 4,
    "start_time": "2024-05-18T10:06:15.534Z"
   },
   {
    "duration": 10,
    "start_time": "2024-05-18T10:06:15.540Z"
   },
   {
    "duration": 5,
    "start_time": "2024-05-18T10:06:15.551Z"
   },
   {
    "duration": 5,
    "start_time": "2024-05-18T10:06:15.558Z"
   },
   {
    "duration": 22,
    "start_time": "2024-05-18T10:06:15.564Z"
   },
   {
    "duration": 10,
    "start_time": "2024-05-18T10:06:15.588Z"
   },
   {
    "duration": 2,
    "start_time": "2024-05-18T10:10:37.197Z"
   },
   {
    "duration": 2,
    "start_time": "2024-05-18T10:10:38.945Z"
   },
   {
    "duration": 658,
    "start_time": "2024-05-18T12:42:02.932Z"
   },
   {
    "duration": 18,
    "start_time": "2024-05-18T12:42:03.591Z"
   },
   {
    "duration": 34,
    "start_time": "2024-05-18T12:42:03.610Z"
   },
   {
    "duration": 16,
    "start_time": "2024-05-18T12:42:03.645Z"
   },
   {
    "duration": 50,
    "start_time": "2024-05-18T12:42:03.663Z"
   },
   {
    "duration": 3,
    "start_time": "2024-05-18T12:42:03.714Z"
   },
   {
    "duration": 29,
    "start_time": "2024-05-18T12:42:03.718Z"
   },
   {
    "duration": 74,
    "start_time": "2024-05-18T12:42:03.748Z"
   },
   {
    "duration": 38,
    "start_time": "2024-05-18T12:42:03.823Z"
   },
   {
    "duration": 27,
    "start_time": "2024-05-18T12:42:03.863Z"
   },
   {
    "duration": 61,
    "start_time": "2024-05-18T12:42:03.891Z"
   },
   {
    "duration": 8,
    "start_time": "2024-05-18T12:42:03.953Z"
   },
   {
    "duration": 10,
    "start_time": "2024-05-18T12:42:03.962Z"
   },
   {
    "duration": 32,
    "start_time": "2024-05-18T12:42:03.974Z"
   },
   {
    "duration": 30,
    "start_time": "2024-05-18T12:42:04.007Z"
   },
   {
    "duration": 43,
    "start_time": "2024-05-18T12:42:04.038Z"
   },
   {
    "duration": 15,
    "start_time": "2024-05-18T12:42:04.082Z"
   },
   {
    "duration": 37,
    "start_time": "2024-05-18T12:42:04.098Z"
   },
   {
    "duration": 27,
    "start_time": "2024-05-18T12:42:04.136Z"
   },
   {
    "duration": 13,
    "start_time": "2024-05-18T12:42:04.164Z"
   },
   {
    "duration": 45,
    "start_time": "2024-05-18T12:42:04.178Z"
   },
   {
    "duration": 29,
    "start_time": "2024-05-18T12:42:04.224Z"
   },
   {
    "duration": 9,
    "start_time": "2024-05-18T12:42:04.255Z"
   },
   {
    "duration": 19,
    "start_time": "2024-05-18T12:42:04.265Z"
   },
   {
    "duration": 9,
    "start_time": "2024-05-18T12:42:04.285Z"
   },
   {
    "duration": 13,
    "start_time": "2024-05-18T12:44:57.292Z"
   },
   {
    "duration": 64,
    "start_time": "2024-05-18T12:47:40.498Z"
   },
   {
    "duration": 12,
    "start_time": "2024-05-18T12:47:40.564Z"
   },
   {
    "duration": 66,
    "start_time": "2024-05-18T12:47:40.578Z"
   },
   {
    "duration": 8,
    "start_time": "2024-05-18T12:47:40.645Z"
   },
   {
    "duration": 46,
    "start_time": "2024-05-18T12:47:40.654Z"
   },
   {
    "duration": 3,
    "start_time": "2024-05-18T12:47:40.701Z"
   },
   {
    "duration": 9,
    "start_time": "2024-05-18T12:47:40.705Z"
   },
   {
    "duration": 3,
    "start_time": "2024-05-18T12:47:40.715Z"
   },
   {
    "duration": 15,
    "start_time": "2024-05-18T12:47:40.719Z"
   },
   {
    "duration": 7,
    "start_time": "2024-05-18T12:47:40.736Z"
   },
   {
    "duration": 40,
    "start_time": "2024-05-18T12:47:40.744Z"
   },
   {
    "duration": 8,
    "start_time": "2024-05-18T12:47:40.786Z"
   },
   {
    "duration": 14,
    "start_time": "2024-05-18T12:47:40.795Z"
   },
   {
    "duration": 92,
    "start_time": "2024-05-18T12:47:40.811Z"
   },
   {
    "duration": 21,
    "start_time": "2024-05-18T12:47:40.904Z"
   },
   {
    "duration": 15,
    "start_time": "2024-05-18T12:47:40.927Z"
   },
   {
    "duration": 4,
    "start_time": "2024-05-18T12:47:40.943Z"
   },
   {
    "duration": 16,
    "start_time": "2024-05-18T12:47:40.948Z"
   },
   {
    "duration": 66,
    "start_time": "2024-05-18T12:47:40.965Z"
   },
   {
    "duration": 11,
    "start_time": "2024-05-18T12:47:41.032Z"
   },
   {
    "duration": 23,
    "start_time": "2024-05-18T12:47:41.044Z"
   },
   {
    "duration": 15,
    "start_time": "2024-05-18T12:47:41.068Z"
   },
   {
    "duration": 5,
    "start_time": "2024-05-18T12:47:41.084Z"
   },
   {
    "duration": 8,
    "start_time": "2024-05-18T12:47:41.090Z"
   },
   {
    "duration": 3,
    "start_time": "2024-05-18T12:47:41.099Z"
   },
   {
    "duration": 13,
    "start_time": "2024-05-18T12:49:25.963Z"
   },
   {
    "duration": 5,
    "start_time": "2024-05-18T12:52:15.738Z"
   },
   {
    "duration": 5,
    "start_time": "2024-05-18T12:52:35.805Z"
   },
   {
    "duration": 5,
    "start_time": "2024-05-18T12:52:54.288Z"
   },
   {
    "duration": 55,
    "start_time": "2024-05-18T13:19:56.173Z"
   },
   {
    "duration": 4,
    "start_time": "2024-05-18T13:20:02.977Z"
   },
   {
    "duration": 4,
    "start_time": "2024-05-18T13:20:19.887Z"
   },
   {
    "duration": 14,
    "start_time": "2024-05-18T13:23:30.185Z"
   },
   {
    "duration": 14,
    "start_time": "2024-05-18T13:24:15.700Z"
   },
   {
    "duration": 56,
    "start_time": "2024-05-18T13:38:54.317Z"
   },
   {
    "duration": 55,
    "start_time": "2024-05-18T13:41:14.203Z"
   },
   {
    "duration": 55,
    "start_time": "2024-05-18T13:42:37.682Z"
   },
   {
    "duration": 53,
    "start_time": "2024-05-18T13:42:40.515Z"
   },
   {
    "duration": 10,
    "start_time": "2024-05-18T13:42:58.877Z"
   },
   {
    "duration": 6,
    "start_time": "2024-05-18T13:43:10.812Z"
   },
   {
    "duration": 83,
    "start_time": "2024-05-18T13:43:19.428Z"
   },
   {
    "duration": 53,
    "start_time": "2024-05-18T13:43:44.361Z"
   },
   {
    "duration": 64,
    "start_time": "2024-05-18T13:43:47.092Z"
   },
   {
    "duration": 47,
    "start_time": "2024-05-18T13:43:47.158Z"
   },
   {
    "duration": 15,
    "start_time": "2024-05-18T13:43:47.206Z"
   },
   {
    "duration": 8,
    "start_time": "2024-05-18T13:43:47.223Z"
   },
   {
    "duration": 33,
    "start_time": "2024-05-18T13:43:47.233Z"
   },
   {
    "duration": 4,
    "start_time": "2024-05-18T13:43:47.267Z"
   },
   {
    "duration": 24,
    "start_time": "2024-05-18T13:43:47.272Z"
   },
   {
    "duration": 5,
    "start_time": "2024-05-18T13:43:47.298Z"
   },
   {
    "duration": 10,
    "start_time": "2024-05-18T13:43:47.304Z"
   },
   {
    "duration": 4,
    "start_time": "2024-05-18T13:43:47.315Z"
   },
   {
    "duration": 46,
    "start_time": "2024-05-18T13:43:47.320Z"
   },
   {
    "duration": 24,
    "start_time": "2024-05-18T13:43:47.368Z"
   },
   {
    "duration": 4,
    "start_time": "2024-05-18T13:43:47.393Z"
   },
   {
    "duration": 18,
    "start_time": "2024-05-18T13:43:47.399Z"
   },
   {
    "duration": 38,
    "start_time": "2024-05-18T13:43:47.421Z"
   },
   {
    "duration": 27,
    "start_time": "2024-05-18T13:43:47.460Z"
   },
   {
    "duration": 168,
    "start_time": "2024-05-18T13:43:47.488Z"
   },
   {
    "duration": 37,
    "start_time": "2024-05-18T13:43:47.657Z"
   },
   {
    "duration": 12,
    "start_time": "2024-05-18T13:43:47.695Z"
   },
   {
    "duration": 3,
    "start_time": "2024-05-18T13:43:47.709Z"
   },
   {
    "duration": 15,
    "start_time": "2024-05-18T13:43:47.713Z"
   },
   {
    "duration": 10,
    "start_time": "2024-05-18T13:43:47.729Z"
   },
   {
    "duration": 4,
    "start_time": "2024-05-18T13:43:47.740Z"
   },
   {
    "duration": 6,
    "start_time": "2024-05-18T13:43:47.745Z"
   },
   {
    "duration": 20,
    "start_time": "2024-05-18T13:43:47.752Z"
   },
   {
    "duration": 7,
    "start_time": "2024-05-18T13:43:47.773Z"
   },
   {
    "duration": 53,
    "start_time": "2024-05-18T13:43:47.781Z"
   },
   {
    "duration": 0,
    "start_time": "2024-05-18T13:43:47.835Z"
   },
   {
    "duration": 0,
    "start_time": "2024-05-18T13:43:47.837Z"
   },
   {
    "duration": 19,
    "start_time": "2024-05-18T13:43:58.766Z"
   },
   {
    "duration": 66,
    "start_time": "2024-05-18T13:46:01.223Z"
   },
   {
    "duration": 70,
    "start_time": "2024-05-18T13:46:13.127Z"
   },
   {
    "duration": 12,
    "start_time": "2024-05-18T13:46:13.199Z"
   },
   {
    "duration": 17,
    "start_time": "2024-05-18T13:46:13.213Z"
   },
   {
    "duration": 8,
    "start_time": "2024-05-18T13:46:13.231Z"
   },
   {
    "duration": 44,
    "start_time": "2024-05-18T13:46:13.242Z"
   },
   {
    "duration": 3,
    "start_time": "2024-05-18T13:46:13.288Z"
   },
   {
    "duration": 12,
    "start_time": "2024-05-18T13:46:13.293Z"
   },
   {
    "duration": 23,
    "start_time": "2024-05-18T13:46:13.307Z"
   },
   {
    "duration": 9,
    "start_time": "2024-05-18T13:46:13.331Z"
   },
   {
    "duration": 5,
    "start_time": "2024-05-18T13:46:13.341Z"
   },
   {
    "duration": 45,
    "start_time": "2024-05-18T13:46:13.348Z"
   },
   {
    "duration": 8,
    "start_time": "2024-05-18T13:46:13.394Z"
   },
   {
    "duration": 4,
    "start_time": "2024-05-18T13:46:13.403Z"
   },
   {
    "duration": 15,
    "start_time": "2024-05-18T13:46:13.409Z"
   },
   {
    "duration": 34,
    "start_time": "2024-05-18T13:46:13.425Z"
   },
   {
    "duration": 15,
    "start_time": "2024-05-18T13:46:13.460Z"
   },
   {
    "duration": 68,
    "start_time": "2024-05-18T13:46:13.476Z"
   },
   {
    "duration": 89,
    "start_time": "2024-05-18T13:46:13.546Z"
   },
   {
    "duration": 50,
    "start_time": "2024-05-18T13:46:13.636Z"
   },
   {
    "duration": 3,
    "start_time": "2024-05-18T13:46:13.687Z"
   },
   {
    "duration": 9,
    "start_time": "2024-05-18T13:46:13.691Z"
   },
   {
    "duration": 5,
    "start_time": "2024-05-18T13:46:13.701Z"
   },
   {
    "duration": 2,
    "start_time": "2024-05-18T13:46:13.707Z"
   },
   {
    "duration": 5,
    "start_time": "2024-05-18T13:46:13.710Z"
   },
   {
    "duration": 11,
    "start_time": "2024-05-18T13:46:13.716Z"
   },
   {
    "duration": 6,
    "start_time": "2024-05-18T13:46:13.729Z"
   },
   {
    "duration": 48,
    "start_time": "2024-05-18T13:46:13.736Z"
   },
   {
    "duration": 0,
    "start_time": "2024-05-18T13:46:13.786Z"
   },
   {
    "duration": 0,
    "start_time": "2024-05-18T13:46:13.787Z"
   },
   {
    "duration": 12,
    "start_time": "2024-05-18T13:46:28.604Z"
   },
   {
    "duration": 245,
    "start_time": "2024-05-18T13:46:52.606Z"
   },
   {
    "duration": 229,
    "start_time": "2024-05-18T13:49:24.046Z"
   },
   {
    "duration": 234,
    "start_time": "2024-05-18T13:49:42.659Z"
   },
   {
    "duration": 223,
    "start_time": "2024-05-18T13:52:07.968Z"
   },
   {
    "duration": 66,
    "start_time": "2024-05-18T13:52:28.048Z"
   },
   {
    "duration": 13,
    "start_time": "2024-05-18T13:52:28.116Z"
   },
   {
    "duration": 24,
    "start_time": "2024-05-18T13:52:28.130Z"
   },
   {
    "duration": 8,
    "start_time": "2024-05-18T13:52:28.155Z"
   },
   {
    "duration": 38,
    "start_time": "2024-05-18T13:52:28.165Z"
   },
   {
    "duration": 3,
    "start_time": "2024-05-18T13:52:28.204Z"
   },
   {
    "duration": 8,
    "start_time": "2024-05-18T13:52:28.208Z"
   },
   {
    "duration": 4,
    "start_time": "2024-05-18T13:52:28.217Z"
   },
   {
    "duration": 5,
    "start_time": "2024-05-18T13:52:28.222Z"
   },
   {
    "duration": 3,
    "start_time": "2024-05-18T13:52:28.229Z"
   },
   {
    "duration": 29,
    "start_time": "2024-05-18T13:52:28.233Z"
   },
   {
    "duration": 8,
    "start_time": "2024-05-18T13:52:28.284Z"
   },
   {
    "duration": 3,
    "start_time": "2024-05-18T13:52:28.293Z"
   },
   {
    "duration": 12,
    "start_time": "2024-05-18T13:52:28.297Z"
   },
   {
    "duration": 17,
    "start_time": "2024-05-18T13:52:28.310Z"
   },
   {
    "duration": 15,
    "start_time": "2024-05-18T13:52:28.328Z"
   },
   {
    "duration": 3,
    "start_time": "2024-05-18T13:52:28.344Z"
   },
   {
    "duration": 38,
    "start_time": "2024-05-18T13:52:28.348Z"
   },
   {
    "duration": 8,
    "start_time": "2024-05-18T13:52:28.387Z"
   },
   {
    "duration": 3,
    "start_time": "2024-05-18T13:52:28.396Z"
   },
   {
    "duration": 28,
    "start_time": "2024-05-18T13:52:28.400Z"
   },
   {
    "duration": 8,
    "start_time": "2024-05-18T13:52:28.429Z"
   },
   {
    "duration": 7,
    "start_time": "2024-05-18T13:52:28.438Z"
   },
   {
    "duration": 5,
    "start_time": "2024-05-18T13:52:28.446Z"
   },
   {
    "duration": 17,
    "start_time": "2024-05-18T13:52:28.452Z"
   },
   {
    "duration": 7,
    "start_time": "2024-05-18T13:52:28.470Z"
   },
   {
    "duration": 237,
    "start_time": "2024-05-18T13:52:28.478Z"
   },
   {
    "duration": 0,
    "start_time": "2024-05-18T13:52:28.717Z"
   },
   {
    "duration": 0,
    "start_time": "2024-05-18T13:52:28.719Z"
   },
   {
    "duration": 15,
    "start_time": "2024-05-18T13:52:39.760Z"
   },
   {
    "duration": 224,
    "start_time": "2024-05-18T13:53:51.835Z"
   },
   {
    "duration": 368,
    "start_time": "2024-05-18T13:54:44.846Z"
   },
   {
    "duration": 232,
    "start_time": "2024-05-18T13:54:59.848Z"
   },
   {
    "duration": 14,
    "start_time": "2024-05-18T13:57:08.128Z"
   },
   {
    "duration": 19,
    "start_time": "2024-05-18T13:57:19.537Z"
   },
   {
    "duration": 21,
    "start_time": "2024-05-18T13:58:03.427Z"
   },
   {
    "duration": 16,
    "start_time": "2024-05-18T13:58:14.924Z"
   },
   {
    "duration": 12,
    "start_time": "2024-05-18T14:04:00.316Z"
   },
   {
    "duration": 1284,
    "start_time": "2024-05-18T14:04:12.559Z"
   },
   {
    "duration": 15,
    "start_time": "2024-05-18T14:07:16.834Z"
   },
   {
    "duration": 688,
    "start_time": "2024-05-19T05:19:25.189Z"
   },
   {
    "duration": 21,
    "start_time": "2024-05-19T05:19:25.879Z"
   },
   {
    "duration": 159,
    "start_time": "2024-05-19T05:19:25.901Z"
   },
   {
    "duration": 16,
    "start_time": "2024-05-19T05:19:26.061Z"
   },
   {
    "duration": 79,
    "start_time": "2024-05-19T05:19:26.079Z"
   },
   {
    "duration": 4,
    "start_time": "2024-05-19T05:19:26.160Z"
   },
   {
    "duration": 28,
    "start_time": "2024-05-19T05:19:26.166Z"
   },
   {
    "duration": 12,
    "start_time": "2024-05-19T05:19:26.196Z"
   },
   {
    "duration": 17,
    "start_time": "2024-05-19T05:19:26.209Z"
   },
   {
    "duration": 21,
    "start_time": "2024-05-19T05:19:26.227Z"
   },
   {
    "duration": 50,
    "start_time": "2024-05-19T05:19:26.249Z"
   },
   {
    "duration": 10,
    "start_time": "2024-05-19T05:19:26.301Z"
   },
   {
    "duration": 35,
    "start_time": "2024-05-19T05:19:26.312Z"
   },
   {
    "duration": 41,
    "start_time": "2024-05-19T05:19:26.349Z"
   },
   {
    "duration": 33,
    "start_time": "2024-05-19T05:19:26.392Z"
   },
   {
    "duration": 39,
    "start_time": "2024-05-19T05:19:26.427Z"
   },
   {
    "duration": 23,
    "start_time": "2024-05-19T05:19:26.467Z"
   },
   {
    "duration": 40,
    "start_time": "2024-05-19T05:19:26.492Z"
   },
   {
    "duration": 32,
    "start_time": "2024-05-19T05:19:26.533Z"
   },
   {
    "duration": 14,
    "start_time": "2024-05-19T05:19:26.566Z"
   },
   {
    "duration": 96,
    "start_time": "2024-05-19T05:19:26.581Z"
   },
   {
    "duration": 184,
    "start_time": "2024-05-19T05:19:26.678Z"
   },
   {
    "duration": 21,
    "start_time": "2024-05-19T05:19:26.864Z"
   },
   {
    "duration": 18,
    "start_time": "2024-05-19T05:19:26.886Z"
   },
   {
    "duration": 203,
    "start_time": "2024-05-19T05:19:26.905Z"
   },
   {
    "duration": 34,
    "start_time": "2024-05-19T05:19:27.110Z"
   },
   {
    "duration": 15,
    "start_time": "2024-05-19T05:19:27.145Z"
   },
   {
    "duration": 27,
    "start_time": "2024-05-19T05:19:27.162Z"
   },
   {
    "duration": 2,
    "start_time": "2024-05-19T05:19:27.191Z"
   },
   {
    "duration": 16,
    "start_time": "2024-05-19T05:19:27.195Z"
   },
   {
    "duration": 18,
    "start_time": "2024-05-19T05:29:08.363Z"
   },
   {
    "duration": 22,
    "start_time": "2024-05-19T05:57:42.782Z"
   },
   {
    "duration": 78,
    "start_time": "2024-05-19T05:57:50.565Z"
   },
   {
    "duration": 15,
    "start_time": "2024-05-19T05:57:50.644Z"
   },
   {
    "duration": 25,
    "start_time": "2024-05-19T05:57:50.661Z"
   },
   {
    "duration": 12,
    "start_time": "2024-05-19T05:57:50.688Z"
   },
   {
    "duration": 37,
    "start_time": "2024-05-19T05:57:50.703Z"
   },
   {
    "duration": 4,
    "start_time": "2024-05-19T05:57:50.742Z"
   },
   {
    "duration": 151,
    "start_time": "2024-05-19T05:57:50.747Z"
   },
   {
    "duration": 77,
    "start_time": "2024-05-19T05:57:50.900Z"
   },
   {
    "duration": 14,
    "start_time": "2024-05-19T05:57:50.979Z"
   },
   {
    "duration": 16,
    "start_time": "2024-05-19T05:57:50.995Z"
   },
   {
    "duration": 52,
    "start_time": "2024-05-19T05:57:51.013Z"
   },
   {
    "duration": 12,
    "start_time": "2024-05-19T05:57:51.067Z"
   },
   {
    "duration": 17,
    "start_time": "2024-05-19T05:57:51.080Z"
   },
   {
    "duration": 24,
    "start_time": "2024-05-19T05:57:51.099Z"
   },
   {
    "duration": 173,
    "start_time": "2024-05-19T05:57:51.124Z"
   },
   {
    "duration": 20,
    "start_time": "2024-05-19T05:57:51.298Z"
   },
   {
    "duration": 7,
    "start_time": "2024-05-19T05:57:51.319Z"
   },
   {
    "duration": 25,
    "start_time": "2024-05-19T05:57:51.328Z"
   },
   {
    "duration": 14,
    "start_time": "2024-05-19T05:57:51.355Z"
   },
   {
    "duration": 36,
    "start_time": "2024-05-19T05:57:51.370Z"
   },
   {
    "duration": 22,
    "start_time": "2024-05-19T05:57:51.408Z"
   },
   {
    "duration": 37,
    "start_time": "2024-05-19T05:57:51.431Z"
   },
   {
    "duration": 15,
    "start_time": "2024-05-19T05:57:51.470Z"
   },
   {
    "duration": 21,
    "start_time": "2024-05-19T05:57:51.487Z"
   },
   {
    "duration": 20,
    "start_time": "2024-05-19T05:57:51.509Z"
   },
   {
    "duration": 25,
    "start_time": "2024-05-19T05:57:51.530Z"
   },
   {
    "duration": 35,
    "start_time": "2024-05-19T05:57:51.556Z"
   },
   {
    "duration": 39,
    "start_time": "2024-05-19T05:57:51.592Z"
   },
   {
    "duration": 23,
    "start_time": "2024-05-19T05:57:51.632Z"
   },
   {
    "duration": 21,
    "start_time": "2024-05-19T05:57:51.657Z"
   },
   {
    "duration": 19,
    "start_time": "2024-05-19T05:58:24.938Z"
   },
   {
    "duration": 17,
    "start_time": "2024-05-19T05:58:47.102Z"
   },
   {
    "duration": 8,
    "start_time": "2024-05-19T05:58:48.439Z"
   },
   {
    "duration": 7,
    "start_time": "2024-05-19T05:59:44.474Z"
   },
   {
    "duration": 7,
    "start_time": "2024-05-19T05:59:45.537Z"
   },
   {
    "duration": 7,
    "start_time": "2024-05-19T06:08:48.412Z"
   },
   {
    "duration": 7,
    "start_time": "2024-05-19T06:09:50.782Z"
   },
   {
    "duration": 7,
    "start_time": "2024-05-19T06:10:07.640Z"
   },
   {
    "duration": 64,
    "start_time": "2024-05-19T06:11:33.657Z"
   },
   {
    "duration": 7,
    "start_time": "2024-05-19T06:12:00.511Z"
   },
   {
    "duration": 971,
    "start_time": "2024-05-19T06:16:57.889Z"
   },
   {
    "duration": 945,
    "start_time": "2024-05-19T06:17:18.548Z"
   },
   {
    "duration": 8,
    "start_time": "2024-05-19T06:17:40.576Z"
   },
   {
    "duration": 9,
    "start_time": "2024-05-19T06:18:41.998Z"
   },
   {
    "duration": 17,
    "start_time": "2024-05-19T06:19:13.245Z"
   },
   {
    "duration": 9,
    "start_time": "2024-05-19T06:19:23.605Z"
   },
   {
    "duration": 8,
    "start_time": "2024-05-19T06:19:51.491Z"
   },
   {
    "duration": 10,
    "start_time": "2024-05-19T06:20:13.163Z"
   },
   {
    "duration": 3,
    "start_time": "2024-05-19T06:21:15.659Z"
   },
   {
    "duration": 18,
    "start_time": "2024-05-19T06:21:37.308Z"
   },
   {
    "duration": 3,
    "start_time": "2024-05-19T06:27:08.460Z"
   },
   {
    "duration": 14,
    "start_time": "2024-05-19T06:27:14.373Z"
   },
   {
    "duration": 3,
    "start_time": "2024-05-19T06:27:25.677Z"
   },
   {
    "duration": 13,
    "start_time": "2024-05-19T06:27:26.599Z"
   },
   {
    "duration": 77,
    "start_time": "2024-05-19T06:27:36.839Z"
   },
   {
    "duration": 17,
    "start_time": "2024-05-19T06:27:36.917Z"
   },
   {
    "duration": 75,
    "start_time": "2024-05-19T06:27:36.936Z"
   },
   {
    "duration": 26,
    "start_time": "2024-05-19T06:27:37.014Z"
   },
   {
    "duration": 120,
    "start_time": "2024-05-19T06:27:37.042Z"
   },
   {
    "duration": 4,
    "start_time": "2024-05-19T06:27:37.164Z"
   },
   {
    "duration": 18,
    "start_time": "2024-05-19T06:27:37.170Z"
   },
   {
    "duration": 19,
    "start_time": "2024-05-19T06:27:37.190Z"
   },
   {
    "duration": 19,
    "start_time": "2024-05-19T06:27:37.210Z"
   },
   {
    "duration": 22,
    "start_time": "2024-05-19T06:27:37.231Z"
   },
   {
    "duration": 43,
    "start_time": "2024-05-19T06:27:37.254Z"
   },
   {
    "duration": 96,
    "start_time": "2024-05-19T06:27:37.299Z"
   },
   {
    "duration": 50,
    "start_time": "2024-05-19T06:27:37.397Z"
   },
   {
    "duration": 19,
    "start_time": "2024-05-19T06:27:37.449Z"
   },
   {
    "duration": 21,
    "start_time": "2024-05-19T06:27:37.469Z"
   },
   {
    "duration": 16,
    "start_time": "2024-05-19T06:27:37.491Z"
   },
   {
    "duration": 3,
    "start_time": "2024-05-19T06:27:37.509Z"
   },
   {
    "duration": 14,
    "start_time": "2024-05-19T06:27:37.514Z"
   },
   {
    "duration": 5,
    "start_time": "2024-05-19T06:27:37.530Z"
   },
   {
    "duration": 4,
    "start_time": "2024-05-19T06:27:37.536Z"
   },
   {
    "duration": 8,
    "start_time": "2024-05-19T06:27:37.570Z"
   },
   {
    "duration": 18,
    "start_time": "2024-05-19T06:27:37.580Z"
   },
   {
    "duration": 31,
    "start_time": "2024-05-19T06:27:37.599Z"
   },
   {
    "duration": 8,
    "start_time": "2024-05-19T06:27:37.632Z"
   },
   {
    "duration": 16,
    "start_time": "2024-05-19T06:27:37.641Z"
   },
   {
    "duration": 25,
    "start_time": "2024-05-19T06:27:37.658Z"
   },
   {
    "duration": 20,
    "start_time": "2024-05-19T06:27:37.684Z"
   },
   {
    "duration": 6,
    "start_time": "2024-05-19T06:27:37.707Z"
   },
   {
    "duration": 11,
    "start_time": "2024-05-19T06:27:37.714Z"
   },
   {
    "duration": 15,
    "start_time": "2024-05-19T06:27:37.727Z"
   },
   {
    "duration": 27,
    "start_time": "2024-05-19T06:27:37.743Z"
   },
   {
    "duration": 10,
    "start_time": "2024-05-19T06:40:51.531Z"
   },
   {
    "duration": 3,
    "start_time": "2024-05-19T06:41:40.609Z"
   },
   {
    "duration": 13,
    "start_time": "2024-05-19T06:41:41.700Z"
   },
   {
    "duration": 16,
    "start_time": "2024-05-19T06:41:43.012Z"
   },
   {
    "duration": 17,
    "start_time": "2024-05-19T06:41:50.184Z"
   },
   {
    "duration": 6,
    "start_time": "2024-05-19T06:41:54.358Z"
   },
   {
    "duration": 11,
    "start_time": "2024-05-19T06:41:58.515Z"
   },
   {
    "duration": 13,
    "start_time": "2024-05-19T09:09:02.324Z"
   },
   {
    "duration": 57,
    "start_time": "2024-05-19T09:09:13.337Z"
   },
   {
    "duration": 3,
    "start_time": "2024-05-19T09:09:16.950Z"
   },
   {
    "duration": 3,
    "start_time": "2024-05-19T09:09:45.755Z"
   },
   {
    "duration": 6,
    "start_time": "2024-05-19T09:09:46.747Z"
   },
   {
    "duration": 7,
    "start_time": "2024-05-19T09:10:31.445Z"
   },
   {
    "duration": 683,
    "start_time": "2024-05-19T09:10:43.895Z"
   },
   {
    "duration": 25,
    "start_time": "2024-05-19T09:10:44.580Z"
   },
   {
    "duration": 104,
    "start_time": "2024-05-19T09:10:44.607Z"
   },
   {
    "duration": 27,
    "start_time": "2024-05-19T09:10:44.713Z"
   },
   {
    "duration": 140,
    "start_time": "2024-05-19T09:10:44.743Z"
   },
   {
    "duration": 4,
    "start_time": "2024-05-19T09:10:44.885Z"
   },
   {
    "duration": 23,
    "start_time": "2024-05-19T09:10:44.891Z"
   },
   {
    "duration": 73,
    "start_time": "2024-05-19T09:10:44.916Z"
   },
   {
    "duration": 60,
    "start_time": "2024-05-19T09:10:44.991Z"
   },
   {
    "duration": 62,
    "start_time": "2024-05-19T09:10:45.053Z"
   },
   {
    "duration": 83,
    "start_time": "2024-05-19T09:10:45.117Z"
   },
   {
    "duration": 12,
    "start_time": "2024-05-19T09:10:45.202Z"
   },
   {
    "duration": 62,
    "start_time": "2024-05-19T09:10:45.217Z"
   },
   {
    "duration": 55,
    "start_time": "2024-05-19T09:10:45.282Z"
   },
   {
    "duration": 98,
    "start_time": "2024-05-19T09:10:45.338Z"
   },
   {
    "duration": 72,
    "start_time": "2024-05-19T09:10:45.437Z"
   },
   {
    "duration": 31,
    "start_time": "2024-05-19T09:10:45.511Z"
   },
   {
    "duration": 52,
    "start_time": "2024-05-19T09:10:45.544Z"
   },
   {
    "duration": 154,
    "start_time": "2024-05-19T09:10:45.598Z"
   },
   {
    "duration": 137,
    "start_time": "2024-05-19T09:10:45.754Z"
   },
   {
    "duration": 49,
    "start_time": "2024-05-19T09:10:45.893Z"
   },
   {
    "duration": 60,
    "start_time": "2024-05-19T09:10:45.944Z"
   },
   {
    "duration": 54,
    "start_time": "2024-05-19T09:10:46.006Z"
   },
   {
    "duration": 30,
    "start_time": "2024-05-19T09:10:46.061Z"
   },
   {
    "duration": 50,
    "start_time": "2024-05-19T09:10:46.092Z"
   },
   {
    "duration": 62,
    "start_time": "2024-05-19T09:10:46.144Z"
   },
   {
    "duration": 34,
    "start_time": "2024-05-19T09:10:46.208Z"
   },
   {
    "duration": 77,
    "start_time": "2024-05-19T09:10:46.243Z"
   },
   {
    "duration": 57,
    "start_time": "2024-05-19T09:10:46.321Z"
   },
   {
    "duration": 53,
    "start_time": "2024-05-19T09:10:46.380Z"
   },
   {
    "duration": 31,
    "start_time": "2024-05-19T09:10:46.435Z"
   },
   {
    "duration": 241,
    "start_time": "2024-05-19T09:10:46.467Z"
   },
   {
    "duration": 18,
    "start_time": "2024-05-19T09:11:29.675Z"
   },
   {
    "duration": 7,
    "start_time": "2024-05-19T09:12:10.014Z"
   },
   {
    "duration": 11,
    "start_time": "2024-05-19T09:12:23.844Z"
   },
   {
    "duration": 14,
    "start_time": "2024-05-19T09:12:57.473Z"
   },
   {
    "duration": 19,
    "start_time": "2024-05-19T09:14:35.306Z"
   },
   {
    "duration": 19,
    "start_time": "2024-05-19T09:14:56.099Z"
   },
   {
    "duration": 19,
    "start_time": "2024-05-19T09:15:39.438Z"
   },
   {
    "duration": 11,
    "start_time": "2024-05-19T09:18:30.594Z"
   },
   {
    "duration": 266,
    "start_time": "2024-05-19T09:18:45.650Z"
   },
   {
    "duration": 251,
    "start_time": "2024-05-19T09:19:01.414Z"
   },
   {
    "duration": 219,
    "start_time": "2024-05-19T09:19:23.679Z"
   },
   {
    "duration": 82,
    "start_time": "2024-05-19T09:19:34.418Z"
   },
   {
    "duration": 22,
    "start_time": "2024-05-19T09:19:34.503Z"
   },
   {
    "duration": 17,
    "start_time": "2024-05-19T09:19:34.526Z"
   },
   {
    "duration": 119,
    "start_time": "2024-05-19T09:19:34.545Z"
   },
   {
    "duration": 47,
    "start_time": "2024-05-19T09:19:34.666Z"
   },
   {
    "duration": 4,
    "start_time": "2024-05-19T09:19:34.714Z"
   },
   {
    "duration": 27,
    "start_time": "2024-05-19T09:19:34.719Z"
   },
   {
    "duration": 5,
    "start_time": "2024-05-19T09:19:34.747Z"
   },
   {
    "duration": 7,
    "start_time": "2024-05-19T09:19:34.753Z"
   },
   {
    "duration": 5,
    "start_time": "2024-05-19T09:19:34.762Z"
   },
   {
    "duration": 114,
    "start_time": "2024-05-19T09:19:34.769Z"
   },
   {
    "duration": 12,
    "start_time": "2024-05-19T09:19:34.885Z"
   },
   {
    "duration": 6,
    "start_time": "2024-05-19T09:19:34.899Z"
   },
   {
    "duration": 12,
    "start_time": "2024-05-19T09:19:34.908Z"
   },
   {
    "duration": 23,
    "start_time": "2024-05-19T09:19:34.921Z"
   },
   {
    "duration": 41,
    "start_time": "2024-05-19T09:19:34.946Z"
   },
   {
    "duration": 20,
    "start_time": "2024-05-19T09:19:34.988Z"
   },
   {
    "duration": 15,
    "start_time": "2024-05-19T09:19:35.010Z"
   },
   {
    "duration": 12,
    "start_time": "2024-05-19T09:19:35.026Z"
   },
   {
    "duration": 26,
    "start_time": "2024-05-19T09:19:35.039Z"
   },
   {
    "duration": 14,
    "start_time": "2024-05-19T09:19:35.067Z"
   },
   {
    "duration": 4,
    "start_time": "2024-05-19T09:19:35.083Z"
   },
   {
    "duration": 20,
    "start_time": "2024-05-19T09:19:35.088Z"
   },
   {
    "duration": 32,
    "start_time": "2024-05-19T09:19:35.109Z"
   },
   {
    "duration": 7,
    "start_time": "2024-05-19T09:19:35.142Z"
   },
   {
    "duration": 10,
    "start_time": "2024-05-19T09:19:35.150Z"
   },
   {
    "duration": 19,
    "start_time": "2024-05-19T09:19:35.161Z"
   },
   {
    "duration": 19,
    "start_time": "2024-05-19T09:19:35.181Z"
   },
   {
    "duration": 19,
    "start_time": "2024-05-19T09:19:35.201Z"
   },
   {
    "duration": 35,
    "start_time": "2024-05-19T09:19:35.221Z"
   },
   {
    "duration": 67,
    "start_time": "2024-05-19T09:19:35.258Z"
   },
   {
    "duration": 18,
    "start_time": "2024-05-19T09:19:35.327Z"
   },
   {
    "duration": 9,
    "start_time": "2024-05-19T09:20:42.311Z"
   },
   {
    "duration": 224,
    "start_time": "2024-05-19T09:20:52.869Z"
   },
   {
    "duration": 253,
    "start_time": "2024-05-19T09:21:37.308Z"
   },
   {
    "duration": 246,
    "start_time": "2024-05-19T09:24:50.540Z"
   },
   {
    "duration": 75,
    "start_time": "2024-05-19T09:24:55.328Z"
   },
   {
    "duration": 16,
    "start_time": "2024-05-19T09:24:55.405Z"
   },
   {
    "duration": 108,
    "start_time": "2024-05-19T09:24:55.422Z"
   },
   {
    "duration": 221,
    "start_time": "2024-05-19T09:24:55.532Z"
   },
   {
    "duration": 187,
    "start_time": "2024-05-19T09:24:55.756Z"
   },
   {
    "duration": 23,
    "start_time": "2024-05-19T09:24:55.945Z"
   },
   {
    "duration": 87,
    "start_time": "2024-05-19T09:24:55.969Z"
   },
   {
    "duration": 95,
    "start_time": "2024-05-19T09:24:56.057Z"
   },
   {
    "duration": 68,
    "start_time": "2024-05-19T09:24:56.154Z"
   },
   {
    "duration": 144,
    "start_time": "2024-05-19T09:24:56.223Z"
   },
   {
    "duration": 217,
    "start_time": "2024-05-19T09:24:56.369Z"
   },
   {
    "duration": 114,
    "start_time": "2024-05-19T09:24:56.587Z"
   },
   {
    "duration": 15,
    "start_time": "2024-05-19T09:24:56.703Z"
   },
   {
    "duration": 16,
    "start_time": "2024-05-19T09:24:56.720Z"
   },
   {
    "duration": 31,
    "start_time": "2024-05-19T09:24:56.737Z"
   },
   {
    "duration": 18,
    "start_time": "2024-05-19T09:24:56.770Z"
   },
   {
    "duration": 4,
    "start_time": "2024-05-19T09:24:56.790Z"
   },
   {
    "duration": 103,
    "start_time": "2024-05-19T09:24:56.795Z"
   },
   {
    "duration": 31,
    "start_time": "2024-05-19T09:24:56.900Z"
   },
   {
    "duration": 15,
    "start_time": "2024-05-19T09:24:56.933Z"
   },
   {
    "duration": 20,
    "start_time": "2024-05-19T09:24:56.949Z"
   },
   {
    "duration": 61,
    "start_time": "2024-05-19T09:24:56.971Z"
   },
   {
    "duration": 43,
    "start_time": "2024-05-19T09:24:57.034Z"
   },
   {
    "duration": 34,
    "start_time": "2024-05-19T09:24:57.079Z"
   },
   {
    "duration": 6,
    "start_time": "2024-05-19T09:24:57.114Z"
   },
   {
    "duration": 45,
    "start_time": "2024-05-19T09:24:57.122Z"
   },
   {
    "duration": 9,
    "start_time": "2024-05-19T09:24:57.168Z"
   },
   {
    "duration": 40,
    "start_time": "2024-05-19T09:24:57.179Z"
   },
   {
    "duration": 14,
    "start_time": "2024-05-19T09:24:57.220Z"
   },
   {
    "duration": 24,
    "start_time": "2024-05-19T09:24:57.236Z"
   },
   {
    "duration": 73,
    "start_time": "2024-05-19T09:24:57.262Z"
   },
   {
    "duration": 13,
    "start_time": "2024-05-19T09:24:57.336Z"
   },
   {
    "duration": 252,
    "start_time": "2024-05-19T09:25:37.851Z"
   },
   {
    "duration": 219,
    "start_time": "2024-05-19T09:26:21.699Z"
   },
   {
    "duration": 73,
    "start_time": "2024-05-19T09:26:28.391Z"
   },
   {
    "duration": 15,
    "start_time": "2024-05-19T09:26:28.466Z"
   },
   {
    "duration": 36,
    "start_time": "2024-05-19T09:26:28.483Z"
   },
   {
    "duration": 16,
    "start_time": "2024-05-19T09:26:28.521Z"
   },
   {
    "duration": 63,
    "start_time": "2024-05-19T09:26:28.540Z"
   },
   {
    "duration": 4,
    "start_time": "2024-05-19T09:26:28.605Z"
   },
   {
    "duration": 159,
    "start_time": "2024-05-19T09:26:28.611Z"
   },
   {
    "duration": 19,
    "start_time": "2024-05-19T09:26:28.772Z"
   },
   {
    "duration": 85,
    "start_time": "2024-05-19T09:26:28.793Z"
   },
   {
    "duration": 27,
    "start_time": "2024-05-19T09:26:28.880Z"
   },
   {
    "duration": 37,
    "start_time": "2024-05-19T09:26:28.909Z"
   },
   {
    "duration": 19,
    "start_time": "2024-05-19T09:26:28.947Z"
   },
   {
    "duration": 67,
    "start_time": "2024-05-19T09:26:28.968Z"
   },
   {
    "duration": 16,
    "start_time": "2024-05-19T09:26:29.038Z"
   },
   {
    "duration": 31,
    "start_time": "2024-05-19T09:26:29.055Z"
   },
   {
    "duration": 19,
    "start_time": "2024-05-19T09:26:29.088Z"
   },
   {
    "duration": 5,
    "start_time": "2024-05-19T09:26:29.109Z"
   },
   {
    "duration": 12,
    "start_time": "2024-05-19T09:26:29.115Z"
   },
   {
    "duration": 7,
    "start_time": "2024-05-19T09:26:29.129Z"
   },
   {
    "duration": 4,
    "start_time": "2024-05-19T09:26:29.138Z"
   },
   {
    "duration": 41,
    "start_time": "2024-05-19T09:26:29.144Z"
   },
   {
    "duration": 8,
    "start_time": "2024-05-19T09:26:29.187Z"
   },
   {
    "duration": 19,
    "start_time": "2024-05-19T09:26:29.197Z"
   },
   {
    "duration": 33,
    "start_time": "2024-05-19T09:26:29.217Z"
   },
   {
    "duration": 6,
    "start_time": "2024-05-19T09:26:29.252Z"
   },
   {
    "duration": 75,
    "start_time": "2024-05-19T09:26:29.259Z"
   },
   {
    "duration": 4,
    "start_time": "2024-05-19T09:26:29.335Z"
   },
   {
    "duration": 30,
    "start_time": "2024-05-19T09:26:29.340Z"
   },
   {
    "duration": 11,
    "start_time": "2024-05-19T09:26:29.371Z"
   },
   {
    "duration": 21,
    "start_time": "2024-05-19T09:26:29.383Z"
   },
   {
    "duration": 2,
    "start_time": "2024-05-19T09:26:29.406Z"
   },
   {
    "duration": 4,
    "start_time": "2024-05-19T09:26:29.410Z"
   },
   {
    "duration": 217,
    "start_time": "2024-05-19T09:26:56.185Z"
   },
   {
    "duration": 263,
    "start_time": "2024-05-19T09:27:38.749Z"
   },
   {
    "duration": 74,
    "start_time": "2024-05-19T09:28:04.914Z"
   },
   {
    "duration": 16,
    "start_time": "2024-05-19T09:28:04.990Z"
   },
   {
    "duration": 29,
    "start_time": "2024-05-19T09:28:05.008Z"
   },
   {
    "duration": 19,
    "start_time": "2024-05-19T09:28:05.038Z"
   },
   {
    "duration": 65,
    "start_time": "2024-05-19T09:28:05.059Z"
   },
   {
    "duration": 46,
    "start_time": "2024-05-19T09:28:05.125Z"
   },
   {
    "duration": 28,
    "start_time": "2024-05-19T09:28:05.174Z"
   },
   {
    "duration": 19,
    "start_time": "2024-05-19T09:28:05.203Z"
   },
   {
    "duration": 7,
    "start_time": "2024-05-19T09:28:05.223Z"
   },
   {
    "duration": 5,
    "start_time": "2024-05-19T09:28:05.232Z"
   },
   {
    "duration": 50,
    "start_time": "2024-05-19T09:28:05.239Z"
   },
   {
    "duration": 41,
    "start_time": "2024-05-19T09:28:05.290Z"
   },
   {
    "duration": 13,
    "start_time": "2024-05-19T09:28:05.333Z"
   },
   {
    "duration": 15,
    "start_time": "2024-05-19T09:28:05.349Z"
   },
   {
    "duration": 33,
    "start_time": "2024-05-19T09:28:05.366Z"
   },
   {
    "duration": 17,
    "start_time": "2024-05-19T09:28:05.401Z"
   },
   {
    "duration": 3,
    "start_time": "2024-05-19T09:28:05.420Z"
   },
   {
    "duration": 15,
    "start_time": "2024-05-19T09:28:05.425Z"
   },
   {
    "duration": 9,
    "start_time": "2024-05-19T09:28:05.442Z"
   },
   {
    "duration": 11,
    "start_time": "2024-05-19T09:28:05.452Z"
   },
   {
    "duration": 21,
    "start_time": "2024-05-19T09:28:05.464Z"
   },
   {
    "duration": 3,
    "start_time": "2024-05-19T09:28:05.487Z"
   },
   {
    "duration": 102,
    "start_time": "2024-05-19T09:28:05.492Z"
   },
   {
    "duration": 49,
    "start_time": "2024-05-19T09:28:05.596Z"
   },
   {
    "duration": 16,
    "start_time": "2024-05-19T09:28:05.647Z"
   },
   {
    "duration": 12,
    "start_time": "2024-05-19T09:28:05.665Z"
   },
   {
    "duration": 88,
    "start_time": "2024-05-19T09:28:05.678Z"
   },
   {
    "duration": 44,
    "start_time": "2024-05-19T09:28:05.768Z"
   },
   {
    "duration": 108,
    "start_time": "2024-05-19T09:28:05.814Z"
   },
   {
    "duration": 28,
    "start_time": "2024-05-19T09:28:05.923Z"
   },
   {
    "duration": 9,
    "start_time": "2024-05-19T09:28:05.953Z"
   },
   {
    "duration": 31,
    "start_time": "2024-05-19T09:28:05.963Z"
   },
   {
    "duration": 230,
    "start_time": "2024-05-19T09:28:31.618Z"
   },
   {
    "duration": 83,
    "start_time": "2024-05-19T09:28:34.821Z"
   },
   {
    "duration": 17,
    "start_time": "2024-05-19T09:28:34.907Z"
   },
   {
    "duration": 24,
    "start_time": "2024-05-19T09:28:34.925Z"
   },
   {
    "duration": 11,
    "start_time": "2024-05-19T09:28:34.950Z"
   },
   {
    "duration": 35,
    "start_time": "2024-05-19T09:28:34.981Z"
   },
   {
    "duration": 9,
    "start_time": "2024-05-19T09:28:35.018Z"
   },
   {
    "duration": 10,
    "start_time": "2024-05-19T09:28:35.029Z"
   },
   {
    "duration": 4,
    "start_time": "2024-05-19T09:28:35.041Z"
   },
   {
    "duration": 15,
    "start_time": "2024-05-19T09:28:35.047Z"
   },
   {
    "duration": 31,
    "start_time": "2024-05-19T09:28:35.064Z"
   },
   {
    "duration": 48,
    "start_time": "2024-05-19T09:28:35.096Z"
   },
   {
    "duration": 11,
    "start_time": "2024-05-19T09:28:35.145Z"
   },
   {
    "duration": 11,
    "start_time": "2024-05-19T09:28:35.157Z"
   },
   {
    "duration": 14,
    "start_time": "2024-05-19T09:28:35.170Z"
   },
   {
    "duration": 41,
    "start_time": "2024-05-19T09:28:35.186Z"
   },
   {
    "duration": 18,
    "start_time": "2024-05-19T09:28:35.228Z"
   },
   {
    "duration": 4,
    "start_time": "2024-05-19T09:28:35.247Z"
   },
   {
    "duration": 15,
    "start_time": "2024-05-19T09:28:35.253Z"
   },
   {
    "duration": 75,
    "start_time": "2024-05-19T09:28:35.270Z"
   },
   {
    "duration": 3,
    "start_time": "2024-05-19T09:28:35.347Z"
   },
   {
    "duration": 17,
    "start_time": "2024-05-19T09:28:35.352Z"
   },
   {
    "duration": 12,
    "start_time": "2024-05-19T09:28:35.371Z"
   },
   {
    "duration": 40,
    "start_time": "2024-05-19T09:28:35.385Z"
   },
   {
    "duration": 21,
    "start_time": "2024-05-19T09:28:35.426Z"
   },
   {
    "duration": 14,
    "start_time": "2024-05-19T09:28:35.448Z"
   },
   {
    "duration": 17,
    "start_time": "2024-05-19T09:28:35.464Z"
   },
   {
    "duration": 66,
    "start_time": "2024-05-19T09:28:35.482Z"
   },
   {
    "duration": 70,
    "start_time": "2024-05-19T09:28:35.550Z"
   },
   {
    "duration": 12,
    "start_time": "2024-05-19T09:28:35.622Z"
   },
   {
    "duration": 48,
    "start_time": "2024-05-19T09:28:35.636Z"
   },
   {
    "duration": 176,
    "start_time": "2024-05-19T09:28:35.686Z"
   },
   {
    "duration": 9,
    "start_time": "2024-05-19T09:29:17.234Z"
   },
   {
    "duration": 2,
    "start_time": "2024-05-19T09:29:21.879Z"
   },
   {
    "duration": 269,
    "start_time": "2024-05-19T09:29:28.781Z"
   },
   {
    "duration": 77,
    "start_time": "2024-05-19T09:29:33.078Z"
   },
   {
    "duration": 21,
    "start_time": "2024-05-19T09:29:33.157Z"
   },
   {
    "duration": 19,
    "start_time": "2024-05-19T09:29:33.180Z"
   },
   {
    "duration": 17,
    "start_time": "2024-05-19T09:29:33.201Z"
   },
   {
    "duration": 37,
    "start_time": "2024-05-19T09:29:33.221Z"
   },
   {
    "duration": 4,
    "start_time": "2024-05-19T09:29:33.260Z"
   },
   {
    "duration": 71,
    "start_time": "2024-05-19T09:29:33.281Z"
   },
   {
    "duration": 5,
    "start_time": "2024-05-19T09:29:33.354Z"
   },
   {
    "duration": 6,
    "start_time": "2024-05-19T09:29:33.361Z"
   },
   {
    "duration": 5,
    "start_time": "2024-05-19T09:29:33.369Z"
   },
   {
    "duration": 38,
    "start_time": "2024-05-19T09:29:33.375Z"
   },
   {
    "duration": 11,
    "start_time": "2024-05-19T09:29:33.414Z"
   },
   {
    "duration": 4,
    "start_time": "2024-05-19T09:29:33.427Z"
   },
   {
    "duration": 11,
    "start_time": "2024-05-19T09:29:33.433Z"
   },
   {
    "duration": 39,
    "start_time": "2024-05-19T09:29:33.445Z"
   },
   {
    "duration": 18,
    "start_time": "2024-05-19T09:29:33.485Z"
   },
   {
    "duration": 45,
    "start_time": "2024-05-19T09:29:33.505Z"
   },
   {
    "duration": 12,
    "start_time": "2024-05-19T09:29:33.552Z"
   },
   {
    "duration": 5,
    "start_time": "2024-05-19T09:29:33.566Z"
   },
   {
    "duration": 4,
    "start_time": "2024-05-19T09:29:33.572Z"
   },
   {
    "duration": 11,
    "start_time": "2024-05-19T09:29:33.578Z"
   },
   {
    "duration": 3,
    "start_time": "2024-05-19T09:29:33.590Z"
   },
   {
    "duration": 39,
    "start_time": "2024-05-19T09:29:33.594Z"
   },
   {
    "duration": 22,
    "start_time": "2024-05-19T09:29:33.634Z"
   },
   {
    "duration": 5,
    "start_time": "2024-05-19T09:29:33.658Z"
   },
   {
    "duration": 16,
    "start_time": "2024-05-19T09:29:33.665Z"
   },
   {
    "duration": 89,
    "start_time": "2024-05-19T09:29:33.683Z"
   },
   {
    "duration": 20,
    "start_time": "2024-05-19T09:29:33.773Z"
   },
   {
    "duration": 11,
    "start_time": "2024-05-19T09:29:33.794Z"
   },
   {
    "duration": 93,
    "start_time": "2024-05-19T09:29:33.807Z"
   },
   {
    "duration": 26,
    "start_time": "2024-05-19T09:29:33.902Z"
   },
   {
    "duration": 214,
    "start_time": "2024-05-19T09:30:26.925Z"
   },
   {
    "duration": 80,
    "start_time": "2024-05-19T09:30:29.818Z"
   },
   {
    "duration": 17,
    "start_time": "2024-05-19T09:30:29.900Z"
   },
   {
    "duration": 54,
    "start_time": "2024-05-19T09:30:29.919Z"
   },
   {
    "duration": 20,
    "start_time": "2024-05-19T09:30:29.975Z"
   },
   {
    "duration": 72,
    "start_time": "2024-05-19T09:30:29.998Z"
   },
   {
    "duration": 53,
    "start_time": "2024-05-19T09:30:30.071Z"
   },
   {
    "duration": 98,
    "start_time": "2024-05-19T09:30:30.126Z"
   },
   {
    "duration": 40,
    "start_time": "2024-05-19T09:30:30.226Z"
   },
   {
    "duration": 74,
    "start_time": "2024-05-19T09:30:30.267Z"
   },
   {
    "duration": 101,
    "start_time": "2024-05-19T09:30:30.343Z"
   },
   {
    "duration": 116,
    "start_time": "2024-05-19T09:30:30.446Z"
   },
   {
    "duration": 36,
    "start_time": "2024-05-19T09:30:30.564Z"
   },
   {
    "duration": 222,
    "start_time": "2024-05-19T09:30:30.602Z"
   },
   {
    "duration": 164,
    "start_time": "2024-05-19T09:30:30.827Z"
   },
   {
    "duration": 72,
    "start_time": "2024-05-19T09:30:30.993Z"
   },
   {
    "duration": 34,
    "start_time": "2024-05-19T09:30:31.066Z"
   },
   {
    "duration": 26,
    "start_time": "2024-05-19T09:30:31.102Z"
   },
   {
    "duration": 94,
    "start_time": "2024-05-19T09:30:31.130Z"
   },
   {
    "duration": 42,
    "start_time": "2024-05-19T09:30:31.226Z"
   },
   {
    "duration": 106,
    "start_time": "2024-05-19T09:30:31.270Z"
   },
   {
    "duration": 41,
    "start_time": "2024-05-19T09:30:31.378Z"
   },
   {
    "duration": 56,
    "start_time": "2024-05-19T09:30:31.421Z"
   },
   {
    "duration": 102,
    "start_time": "2024-05-19T09:30:31.479Z"
   },
   {
    "duration": 92,
    "start_time": "2024-05-19T09:30:31.583Z"
   },
   {
    "duration": 137,
    "start_time": "2024-05-19T09:30:31.677Z"
   },
   {
    "duration": 116,
    "start_time": "2024-05-19T09:30:31.815Z"
   },
   {
    "duration": 15,
    "start_time": "2024-05-19T09:30:31.932Z"
   },
   {
    "duration": 40,
    "start_time": "2024-05-19T09:30:31.948Z"
   },
   {
    "duration": 41,
    "start_time": "2024-05-19T09:30:31.989Z"
   },
   {
    "duration": 101,
    "start_time": "2024-05-19T09:30:32.032Z"
   },
   {
    "duration": 328,
    "start_time": "2024-05-19T09:30:32.135Z"
   },
   {
    "duration": 237,
    "start_time": "2024-05-19T09:31:32.553Z"
   },
   {
    "duration": 73,
    "start_time": "2024-05-19T09:31:36.798Z"
   },
   {
    "duration": 17,
    "start_time": "2024-05-19T09:31:36.873Z"
   },
   {
    "duration": 32,
    "start_time": "2024-05-19T09:31:36.892Z"
   },
   {
    "duration": 11,
    "start_time": "2024-05-19T09:31:36.926Z"
   },
   {
    "duration": 49,
    "start_time": "2024-05-19T09:31:36.938Z"
   },
   {
    "duration": 4,
    "start_time": "2024-05-19T09:31:36.989Z"
   },
   {
    "duration": 61,
    "start_time": "2024-05-19T09:31:36.995Z"
   },
   {
    "duration": 21,
    "start_time": "2024-05-19T09:31:37.058Z"
   },
   {
    "duration": 6,
    "start_time": "2024-05-19T09:31:37.081Z"
   },
   {
    "duration": 8,
    "start_time": "2024-05-19T09:31:37.090Z"
   },
   {
    "duration": 44,
    "start_time": "2024-05-19T09:31:37.100Z"
   },
   {
    "duration": 12,
    "start_time": "2024-05-19T09:31:37.146Z"
   },
   {
    "duration": 24,
    "start_time": "2024-05-19T09:31:37.159Z"
   },
   {
    "duration": 13,
    "start_time": "2024-05-19T09:31:37.186Z"
   },
   {
    "duration": 37,
    "start_time": "2024-05-19T09:31:37.201Z"
   },
   {
    "duration": 19,
    "start_time": "2024-05-19T09:31:37.240Z"
   },
   {
    "duration": 4,
    "start_time": "2024-05-19T09:31:37.261Z"
   },
   {
    "duration": 90,
    "start_time": "2024-05-19T09:31:37.266Z"
   },
   {
    "duration": 15,
    "start_time": "2024-05-19T09:31:37.357Z"
   },
   {
    "duration": 3,
    "start_time": "2024-05-19T09:31:37.374Z"
   },
   {
    "duration": 13,
    "start_time": "2024-05-19T09:31:37.379Z"
   },
   {
    "duration": 3,
    "start_time": "2024-05-19T09:31:37.394Z"
   },
   {
    "duration": 38,
    "start_time": "2024-05-19T09:31:37.399Z"
   },
   {
    "duration": 19,
    "start_time": "2024-05-19T09:31:37.439Z"
   },
   {
    "duration": 6,
    "start_time": "2024-05-19T09:31:37.460Z"
   },
   {
    "duration": 32,
    "start_time": "2024-05-19T09:31:37.467Z"
   },
   {
    "duration": 75,
    "start_time": "2024-05-19T09:31:37.500Z"
   },
   {
    "duration": 24,
    "start_time": "2024-05-19T09:31:37.578Z"
   },
   {
    "duration": 23,
    "start_time": "2024-05-19T09:31:37.604Z"
   },
   {
    "duration": 17,
    "start_time": "2024-05-19T09:31:37.628Z"
   },
   {
    "duration": 42,
    "start_time": "2024-05-19T09:31:37.646Z"
   },
   {
    "duration": 242,
    "start_time": "2024-05-19T09:32:13.794Z"
   },
   {
    "duration": 79,
    "start_time": "2024-05-19T09:32:16.851Z"
   },
   {
    "duration": 17,
    "start_time": "2024-05-19T09:32:16.931Z"
   },
   {
    "duration": 53,
    "start_time": "2024-05-19T09:32:16.950Z"
   },
   {
    "duration": 37,
    "start_time": "2024-05-19T09:32:17.006Z"
   },
   {
    "duration": 39,
    "start_time": "2024-05-19T09:32:17.045Z"
   },
   {
    "duration": 3,
    "start_time": "2024-05-19T09:32:17.086Z"
   },
   {
    "duration": 12,
    "start_time": "2024-05-19T09:32:17.091Z"
   },
   {
    "duration": 21,
    "start_time": "2024-05-19T09:32:17.104Z"
   },
   {
    "duration": 7,
    "start_time": "2024-05-19T09:32:17.127Z"
   },
   {
    "duration": 13,
    "start_time": "2024-05-19T09:32:17.136Z"
   },
   {
    "duration": 54,
    "start_time": "2024-05-19T09:32:17.151Z"
   },
   {
    "duration": 13,
    "start_time": "2024-05-19T09:32:17.207Z"
   },
   {
    "duration": 9,
    "start_time": "2024-05-19T09:32:17.222Z"
   },
   {
    "duration": 15,
    "start_time": "2024-05-19T09:32:17.235Z"
   },
   {
    "duration": 39,
    "start_time": "2024-05-19T09:32:17.251Z"
   },
   {
    "duration": 19,
    "start_time": "2024-05-19T09:32:17.292Z"
   },
   {
    "duration": 46,
    "start_time": "2024-05-19T09:32:17.313Z"
   },
   {
    "duration": 20,
    "start_time": "2024-05-19T09:32:17.361Z"
   },
   {
    "duration": 9,
    "start_time": "2024-05-19T09:32:17.382Z"
   },
   {
    "duration": 4,
    "start_time": "2024-05-19T09:32:17.392Z"
   },
   {
    "duration": 12,
    "start_time": "2024-05-19T09:32:17.398Z"
   },
   {
    "duration": 19,
    "start_time": "2024-05-19T09:32:17.412Z"
   },
   {
    "duration": 36,
    "start_time": "2024-05-19T09:32:17.433Z"
   },
   {
    "duration": 24,
    "start_time": "2024-05-19T09:32:17.470Z"
   },
   {
    "duration": 7,
    "start_time": "2024-05-19T09:32:17.495Z"
   },
   {
    "duration": 81,
    "start_time": "2024-05-19T09:32:17.504Z"
   },
   {
    "duration": 11,
    "start_time": "2024-05-19T09:32:17.587Z"
   },
   {
    "duration": 25,
    "start_time": "2024-05-19T09:32:17.600Z"
   },
   {
    "duration": 10,
    "start_time": "2024-05-19T09:32:17.627Z"
   },
   {
    "duration": 35,
    "start_time": "2024-05-19T09:32:17.638Z"
   },
   {
    "duration": 71,
    "start_time": "2024-05-19T09:32:17.675Z"
   },
   {
    "duration": 276,
    "start_time": "2024-05-19T09:32:51.630Z"
   },
   {
    "duration": 86,
    "start_time": "2024-05-19T09:32:54.574Z"
   },
   {
    "duration": 19,
    "start_time": "2024-05-19T09:32:54.662Z"
   },
   {
    "duration": 79,
    "start_time": "2024-05-19T09:32:54.683Z"
   },
   {
    "duration": 11,
    "start_time": "2024-05-19T09:32:54.764Z"
   },
   {
    "duration": 56,
    "start_time": "2024-05-19T09:32:54.776Z"
   },
   {
    "duration": 4,
    "start_time": "2024-05-19T09:32:54.834Z"
   },
   {
    "duration": 75,
    "start_time": "2024-05-19T09:32:54.839Z"
   },
   {
    "duration": 4,
    "start_time": "2024-05-19T09:32:54.916Z"
   },
   {
    "duration": 6,
    "start_time": "2024-05-19T09:32:54.922Z"
   },
   {
    "duration": 4,
    "start_time": "2024-05-19T09:32:54.930Z"
   },
   {
    "duration": 50,
    "start_time": "2024-05-19T09:32:54.936Z"
   },
   {
    "duration": 12,
    "start_time": "2024-05-19T09:32:54.987Z"
   },
   {
    "duration": 43,
    "start_time": "2024-05-19T09:32:55.001Z"
   },
   {
    "duration": 38,
    "start_time": "2024-05-19T09:32:55.048Z"
   },
   {
    "duration": 38,
    "start_time": "2024-05-19T09:32:55.088Z"
   },
   {
    "duration": 18,
    "start_time": "2024-05-19T09:32:55.128Z"
   },
   {
    "duration": 4,
    "start_time": "2024-05-19T09:32:55.148Z"
   },
   {
    "duration": 21,
    "start_time": "2024-05-19T09:32:55.153Z"
   },
   {
    "duration": 8,
    "start_time": "2024-05-19T09:32:55.176Z"
   },
   {
    "duration": 5,
    "start_time": "2024-05-19T09:32:55.186Z"
   },
   {
    "duration": 21,
    "start_time": "2024-05-19T09:32:55.193Z"
   },
   {
    "duration": 8,
    "start_time": "2024-05-19T09:32:55.216Z"
   },
   {
    "duration": 29,
    "start_time": "2024-05-19T09:32:55.225Z"
   },
   {
    "duration": 76,
    "start_time": "2024-05-19T09:32:55.256Z"
   },
   {
    "duration": 14,
    "start_time": "2024-05-19T09:32:55.333Z"
   },
   {
    "duration": 19,
    "start_time": "2024-05-19T09:32:55.348Z"
   },
   {
    "duration": 17,
    "start_time": "2024-05-19T09:32:55.369Z"
   },
   {
    "duration": 43,
    "start_time": "2024-05-19T09:32:55.387Z"
   },
   {
    "duration": 11,
    "start_time": "2024-05-19T09:32:55.432Z"
   },
   {
    "duration": 20,
    "start_time": "2024-05-19T09:32:55.445Z"
   },
   {
    "duration": 16,
    "start_time": "2024-05-19T09:32:55.467Z"
   },
   {
    "duration": 75,
    "start_time": "2024-05-19T09:34:00.273Z"
   },
   {
    "duration": 53,
    "start_time": "2024-05-19T09:34:00.350Z"
   },
   {
    "duration": 94,
    "start_time": "2024-05-19T09:34:00.405Z"
   },
   {
    "duration": 32,
    "start_time": "2024-05-19T09:34:00.500Z"
   },
   {
    "duration": 99,
    "start_time": "2024-05-19T09:34:00.535Z"
   },
   {
    "duration": 3,
    "start_time": "2024-05-19T09:34:00.636Z"
   },
   {
    "duration": 38,
    "start_time": "2024-05-19T09:34:00.641Z"
   },
   {
    "duration": 84,
    "start_time": "2024-05-19T09:34:00.680Z"
   },
   {
    "duration": 82,
    "start_time": "2024-05-19T09:34:00.765Z"
   },
   {
    "duration": 107,
    "start_time": "2024-05-19T09:34:00.848Z"
   },
   {
    "duration": 83,
    "start_time": "2024-05-19T09:34:00.957Z"
   },
   {
    "duration": 53,
    "start_time": "2024-05-19T09:34:01.042Z"
   },
   {
    "duration": 46,
    "start_time": "2024-05-19T09:34:01.096Z"
   },
   {
    "duration": 51,
    "start_time": "2024-05-19T09:34:01.145Z"
   },
   {
    "duration": 52,
    "start_time": "2024-05-19T09:34:01.198Z"
   },
   {
    "duration": 121,
    "start_time": "2024-05-19T09:34:01.252Z"
   },
   {
    "duration": 100,
    "start_time": "2024-05-19T09:34:01.375Z"
   },
   {
    "duration": 118,
    "start_time": "2024-05-19T09:34:01.477Z"
   },
   {
    "duration": 75,
    "start_time": "2024-05-19T09:34:01.597Z"
   },
   {
    "duration": 28,
    "start_time": "2024-05-19T09:34:01.673Z"
   },
   {
    "duration": 364,
    "start_time": "2024-05-19T09:34:01.703Z"
   },
   {
    "duration": 173,
    "start_time": "2024-05-19T09:34:02.069Z"
   },
   {
    "duration": 49,
    "start_time": "2024-05-19T09:34:02.244Z"
   },
   {
    "duration": 43,
    "start_time": "2024-05-19T09:34:02.295Z"
   },
   {
    "duration": 22,
    "start_time": "2024-05-19T09:34:02.340Z"
   },
   {
    "duration": 55,
    "start_time": "2024-05-19T09:34:02.363Z"
   },
   {
    "duration": 72,
    "start_time": "2024-05-19T09:34:02.419Z"
   },
   {
    "duration": 109,
    "start_time": "2024-05-19T09:34:02.493Z"
   },
   {
    "duration": 49,
    "start_time": "2024-05-19T09:34:02.603Z"
   },
   {
    "duration": 182,
    "start_time": "2024-05-19T09:34:02.654Z"
   },
   {
    "duration": 82,
    "start_time": "2024-05-19T09:34:02.838Z"
   },
   {
    "duration": 227,
    "start_time": "2024-05-19T09:34:16.881Z"
   },
   {
    "duration": 85,
    "start_time": "2024-05-19T09:34:19.633Z"
   },
   {
    "duration": 20,
    "start_time": "2024-05-19T09:34:19.720Z"
   },
   {
    "duration": 35,
    "start_time": "2024-05-19T09:34:19.742Z"
   },
   {
    "duration": 16,
    "start_time": "2024-05-19T09:34:19.779Z"
   },
   {
    "duration": 58,
    "start_time": "2024-05-19T09:34:19.797Z"
   },
   {
    "duration": 4,
    "start_time": "2024-05-19T09:34:19.856Z"
   },
   {
    "duration": 81,
    "start_time": "2024-05-19T09:34:19.861Z"
   },
   {
    "duration": 11,
    "start_time": "2024-05-19T09:34:19.944Z"
   },
   {
    "duration": 24,
    "start_time": "2024-05-19T09:34:19.957Z"
   },
   {
    "duration": 7,
    "start_time": "2024-05-19T09:34:19.982Z"
   },
   {
    "duration": 76,
    "start_time": "2024-05-19T09:34:19.990Z"
   },
   {
    "duration": 15,
    "start_time": "2024-05-19T09:34:20.068Z"
   },
   {
    "duration": 14,
    "start_time": "2024-05-19T09:34:20.085Z"
   },
   {
    "duration": 36,
    "start_time": "2024-05-19T09:34:20.102Z"
   },
   {
    "duration": 51,
    "start_time": "2024-05-19T09:34:20.139Z"
   },
   {
    "duration": 34,
    "start_time": "2024-05-19T09:34:20.191Z"
   },
   {
    "duration": 14,
    "start_time": "2024-05-19T09:34:20.226Z"
   },
   {
    "duration": 28,
    "start_time": "2024-05-19T09:34:20.241Z"
   },
   {
    "duration": 7,
    "start_time": "2024-05-19T09:34:20.271Z"
   },
   {
    "duration": 12,
    "start_time": "2024-05-19T09:34:20.280Z"
   },
   {
    "duration": 19,
    "start_time": "2024-05-19T09:34:20.294Z"
   },
   {
    "duration": 32,
    "start_time": "2024-05-19T09:34:20.315Z"
   },
   {
    "duration": 35,
    "start_time": "2024-05-19T09:34:20.349Z"
   },
   {
    "duration": 47,
    "start_time": "2024-05-19T09:34:20.387Z"
   },
   {
    "duration": 7,
    "start_time": "2024-05-19T09:34:20.436Z"
   },
   {
    "duration": 16,
    "start_time": "2024-05-19T09:34:20.444Z"
   },
   {
    "duration": 6,
    "start_time": "2024-05-19T09:34:20.462Z"
   },
   {
    "duration": 36,
    "start_time": "2024-05-19T09:34:20.470Z"
   },
   {
    "duration": 10,
    "start_time": "2024-05-19T09:34:20.508Z"
   },
   {
    "duration": 11,
    "start_time": "2024-05-19T09:34:20.519Z"
   },
   {
    "duration": 8,
    "start_time": "2024-05-19T09:34:20.532Z"
   },
   {
    "duration": 8,
    "start_time": "2024-05-19T09:34:26.679Z"
   },
   {
    "duration": 8,
    "start_time": "2024-05-19T09:35:20.907Z"
   },
   {
    "duration": 8,
    "start_time": "2024-05-19T09:35:29.151Z"
   },
   {
    "duration": 8,
    "start_time": "2024-05-19T09:35:36.299Z"
   },
   {
    "duration": 74,
    "start_time": "2024-05-19T09:35:40.158Z"
   },
   {
    "duration": 15,
    "start_time": "2024-05-19T09:35:40.234Z"
   },
   {
    "duration": 32,
    "start_time": "2024-05-19T09:35:40.251Z"
   },
   {
    "duration": 14,
    "start_time": "2024-05-19T09:35:40.286Z"
   },
   {
    "duration": 57,
    "start_time": "2024-05-19T09:35:40.302Z"
   },
   {
    "duration": 4,
    "start_time": "2024-05-19T09:35:40.361Z"
   },
   {
    "duration": 20,
    "start_time": "2024-05-19T09:35:40.366Z"
   },
   {
    "duration": 5,
    "start_time": "2024-05-19T09:35:40.388Z"
   },
   {
    "duration": 9,
    "start_time": "2024-05-19T09:35:40.395Z"
   },
   {
    "duration": 8,
    "start_time": "2024-05-19T09:35:40.407Z"
   },
   {
    "duration": 39,
    "start_time": "2024-05-19T09:35:40.417Z"
   },
   {
    "duration": 33,
    "start_time": "2024-05-19T09:35:40.457Z"
   },
   {
    "duration": 12,
    "start_time": "2024-05-19T09:35:40.492Z"
   },
   {
    "duration": 15,
    "start_time": "2024-05-19T09:35:40.505Z"
   },
   {
    "duration": 23,
    "start_time": "2024-05-19T09:35:40.522Z"
   },
   {
    "duration": 35,
    "start_time": "2024-05-19T09:35:40.547Z"
   },
   {
    "duration": 4,
    "start_time": "2024-05-19T09:35:40.585Z"
   },
   {
    "duration": 17,
    "start_time": "2024-05-19T09:35:40.590Z"
   },
   {
    "duration": 16,
    "start_time": "2024-05-19T09:35:40.609Z"
   },
   {
    "duration": 8,
    "start_time": "2024-05-19T09:35:40.626Z"
   },
   {
    "duration": 36,
    "start_time": "2024-05-19T09:35:40.635Z"
   },
   {
    "duration": 11,
    "start_time": "2024-05-19T09:35:40.672Z"
   },
   {
    "duration": 75,
    "start_time": "2024-05-19T09:35:40.685Z"
   },
   {
    "duration": 36,
    "start_time": "2024-05-19T09:35:40.762Z"
   },
   {
    "duration": 7,
    "start_time": "2024-05-19T09:35:40.800Z"
   },
   {
    "duration": 17,
    "start_time": "2024-05-19T09:35:40.808Z"
   },
   {
    "duration": 29,
    "start_time": "2024-05-19T09:35:40.827Z"
   },
   {
    "duration": 116,
    "start_time": "2024-05-19T09:35:40.860Z"
   },
   {
    "duration": 11,
    "start_time": "2024-05-19T09:35:40.978Z"
   },
   {
    "duration": 9,
    "start_time": "2024-05-19T09:35:40.991Z"
   },
   {
    "duration": 72,
    "start_time": "2024-05-19T09:35:41.001Z"
   },
   {
    "duration": 36,
    "start_time": "2024-05-19T09:35:41.075Z"
   },
   {
    "duration": 14,
    "start_time": "2024-05-19T09:36:20.634Z"
   },
   {
    "duration": 84,
    "start_time": "2024-05-19T09:36:24.527Z"
   },
   {
    "duration": 16,
    "start_time": "2024-05-19T09:36:24.613Z"
   },
   {
    "duration": 32,
    "start_time": "2024-05-19T09:36:24.631Z"
   },
   {
    "duration": 16,
    "start_time": "2024-05-19T09:36:24.665Z"
   },
   {
    "duration": 38,
    "start_time": "2024-05-19T09:36:24.684Z"
   },
   {
    "duration": 4,
    "start_time": "2024-05-19T09:36:24.724Z"
   },
   {
    "duration": 12,
    "start_time": "2024-05-19T09:36:24.730Z"
   },
   {
    "duration": 4,
    "start_time": "2024-05-19T09:36:24.744Z"
   },
   {
    "duration": 5,
    "start_time": "2024-05-19T09:36:24.781Z"
   },
   {
    "duration": 8,
    "start_time": "2024-05-19T09:36:24.787Z"
   },
   {
    "duration": 59,
    "start_time": "2024-05-19T09:36:24.797Z"
   },
   {
    "duration": 11,
    "start_time": "2024-05-19T09:36:24.857Z"
   },
   {
    "duration": 57,
    "start_time": "2024-05-19T09:36:24.869Z"
   },
   {
    "duration": 15,
    "start_time": "2024-05-19T09:36:24.929Z"
   },
   {
    "duration": 25,
    "start_time": "2024-05-19T09:36:24.945Z"
   },
   {
    "duration": 18,
    "start_time": "2024-05-19T09:36:24.972Z"
   },
   {
    "duration": 3,
    "start_time": "2024-05-19T09:36:24.992Z"
   },
   {
    "duration": 64,
    "start_time": "2024-05-19T09:36:24.997Z"
   },
   {
    "duration": 35,
    "start_time": "2024-05-19T09:36:25.063Z"
   },
   {
    "duration": 12,
    "start_time": "2024-05-19T09:36:25.100Z"
   },
   {
    "duration": 12,
    "start_time": "2024-05-19T09:36:25.114Z"
   },
   {
    "duration": 4,
    "start_time": "2024-05-19T09:36:25.128Z"
   },
   {
    "duration": 28,
    "start_time": "2024-05-19T09:36:25.134Z"
   },
   {
    "duration": 22,
    "start_time": "2024-05-19T09:36:25.164Z"
   },
   {
    "duration": 11,
    "start_time": "2024-05-19T09:36:25.188Z"
   },
   {
    "duration": 13,
    "start_time": "2024-05-19T09:36:25.200Z"
   },
   {
    "duration": 7,
    "start_time": "2024-05-19T09:36:25.215Z"
   },
   {
    "duration": 19,
    "start_time": "2024-05-19T09:36:25.224Z"
   },
   {
    "duration": 9,
    "start_time": "2024-05-19T09:36:25.245Z"
   },
   {
    "duration": 29,
    "start_time": "2024-05-19T09:36:25.256Z"
   },
   {
    "duration": 0,
    "start_time": "2024-05-19T09:36:25.286Z"
   },
   {
    "duration": 1,
    "start_time": "2024-05-19T09:36:25.287Z"
   },
   {
    "duration": 10,
    "start_time": "2024-05-19T09:37:03.053Z"
   },
   {
    "duration": 9,
    "start_time": "2024-05-19T09:37:25.158Z"
   },
   {
    "duration": 8,
    "start_time": "2024-05-19T09:37:40.396Z"
   },
   {
    "duration": 8,
    "start_time": "2024-05-19T09:38:25.424Z"
   },
   {
    "duration": 9,
    "start_time": "2024-05-19T09:38:29.525Z"
   },
   {
    "duration": 10,
    "start_time": "2024-05-19T09:38:47.948Z"
   },
   {
    "duration": 9,
    "start_time": "2024-05-19T09:39:00.292Z"
   },
   {
    "duration": 10,
    "start_time": "2024-05-19T09:39:12.441Z"
   },
   {
    "duration": 37,
    "start_time": "2024-05-19T09:40:06.369Z"
   },
   {
    "duration": 291,
    "start_time": "2024-05-19T09:41:30.779Z"
   },
   {
    "duration": 96,
    "start_time": "2024-05-19T09:41:35.216Z"
   },
   {
    "duration": 15,
    "start_time": "2024-05-19T09:41:35.314Z"
   },
   {
    "duration": 79,
    "start_time": "2024-05-19T09:41:35.330Z"
   },
   {
    "duration": 11,
    "start_time": "2024-05-19T09:41:35.410Z"
   },
   {
    "duration": 40,
    "start_time": "2024-05-19T09:41:35.423Z"
   },
   {
    "duration": 3,
    "start_time": "2024-05-19T09:41:35.465Z"
   },
   {
    "duration": 40,
    "start_time": "2024-05-19T09:41:35.469Z"
   },
   {
    "duration": 16,
    "start_time": "2024-05-19T09:41:35.511Z"
   },
   {
    "duration": 78,
    "start_time": "2024-05-19T09:41:35.528Z"
   },
   {
    "duration": 17,
    "start_time": "2024-05-19T09:41:35.608Z"
   },
   {
    "duration": 43,
    "start_time": "2024-05-19T09:41:35.627Z"
   },
   {
    "duration": 50,
    "start_time": "2024-05-19T09:41:35.671Z"
   },
   {
    "duration": 199,
    "start_time": "2024-05-19T09:41:35.722Z"
   },
   {
    "duration": 179,
    "start_time": "2024-05-19T09:41:35.924Z"
   },
   {
    "duration": 47,
    "start_time": "2024-05-19T09:41:36.105Z"
   },
   {
    "duration": 40,
    "start_time": "2024-05-19T09:41:36.154Z"
   },
   {
    "duration": 4,
    "start_time": "2024-05-19T09:41:36.196Z"
   },
   {
    "duration": 70,
    "start_time": "2024-05-19T09:41:36.201Z"
   },
   {
    "duration": 25,
    "start_time": "2024-05-19T09:41:36.273Z"
   },
   {
    "duration": 53,
    "start_time": "2024-05-19T09:41:36.300Z"
   },
   {
    "duration": 69,
    "start_time": "2024-05-19T09:41:36.355Z"
   },
   {
    "duration": 14,
    "start_time": "2024-05-19T09:41:36.426Z"
   },
   {
    "duration": 26,
    "start_time": "2024-05-19T09:41:36.442Z"
   },
   {
    "duration": 37,
    "start_time": "2024-05-19T09:41:36.470Z"
   },
   {
    "duration": 7,
    "start_time": "2024-05-19T09:41:36.508Z"
   },
   {
    "duration": 49,
    "start_time": "2024-05-19T09:41:36.517Z"
   },
   {
    "duration": 36,
    "start_time": "2024-05-19T09:41:36.568Z"
   },
   {
    "duration": 56,
    "start_time": "2024-05-19T09:41:36.606Z"
   },
   {
    "duration": 10,
    "start_time": "2024-05-19T09:41:36.664Z"
   },
   {
    "duration": 21,
    "start_time": "2024-05-19T09:41:36.676Z"
   },
   {
    "duration": 6,
    "start_time": "2024-05-19T09:41:36.699Z"
   },
   {
    "duration": 256,
    "start_time": "2024-05-19T09:41:36.707Z"
   },
   {
    "duration": 0,
    "start_time": "2024-05-19T09:41:36.964Z"
   },
   {
    "duration": 16,
    "start_time": "2024-05-19T09:41:54.054Z"
   },
   {
    "duration": 18,
    "start_time": "2024-05-19T09:42:05.019Z"
   },
   {
    "duration": 9,
    "start_time": "2024-05-19T09:42:29.632Z"
   },
   {
    "duration": 11,
    "start_time": "2024-05-19T09:42:34.991Z"
   },
   {
    "duration": 18,
    "start_time": "2024-05-19T09:42:44.011Z"
   },
   {
    "duration": 10,
    "start_time": "2024-05-19T09:43:29.123Z"
   },
   {
    "duration": 11,
    "start_time": "2024-05-19T09:43:41.927Z"
   },
   {
    "duration": 13,
    "start_time": "2024-05-19T09:47:06.662Z"
   },
   {
    "duration": 10,
    "start_time": "2024-05-19T09:47:17.157Z"
   },
   {
    "duration": 10,
    "start_time": "2024-05-19T09:47:33.417Z"
   },
   {
    "duration": 10,
    "start_time": "2024-05-19T09:48:18.132Z"
   },
   {
    "duration": 75,
    "start_time": "2024-05-19T09:48:51.393Z"
   },
   {
    "duration": 20,
    "start_time": "2024-05-19T09:48:51.470Z"
   },
   {
    "duration": 29,
    "start_time": "2024-05-19T09:48:51.491Z"
   },
   {
    "duration": 14,
    "start_time": "2024-05-19T09:48:51.522Z"
   },
   {
    "duration": 97,
    "start_time": "2024-05-19T09:48:51.539Z"
   },
   {
    "duration": 3,
    "start_time": "2024-05-19T09:48:51.638Z"
   },
   {
    "duration": 20,
    "start_time": "2024-05-19T09:48:51.643Z"
   },
   {
    "duration": 147,
    "start_time": "2024-05-19T09:48:51.665Z"
   },
   {
    "duration": 58,
    "start_time": "2024-05-19T09:48:51.814Z"
   },
   {
    "duration": 37,
    "start_time": "2024-05-19T09:48:51.873Z"
   },
   {
    "duration": 63,
    "start_time": "2024-05-19T09:48:51.912Z"
   },
   {
    "duration": 74,
    "start_time": "2024-05-19T09:48:51.977Z"
   },
   {
    "duration": 6,
    "start_time": "2024-05-19T09:48:52.052Z"
   },
   {
    "duration": 17,
    "start_time": "2024-05-19T09:48:52.061Z"
   },
   {
    "duration": 41,
    "start_time": "2024-05-19T09:48:52.082Z"
   },
   {
    "duration": 19,
    "start_time": "2024-05-19T09:48:52.126Z"
   },
   {
    "duration": 4,
    "start_time": "2024-05-19T09:48:52.148Z"
   },
   {
    "duration": 23,
    "start_time": "2024-05-19T09:48:52.155Z"
   },
   {
    "duration": 17,
    "start_time": "2024-05-19T09:48:52.180Z"
   },
   {
    "duration": 16,
    "start_time": "2024-05-19T09:48:52.199Z"
   },
   {
    "duration": 14,
    "start_time": "2024-05-19T09:48:52.217Z"
   },
   {
    "duration": 5,
    "start_time": "2024-05-19T09:48:52.233Z"
   },
   {
    "duration": 20,
    "start_time": "2024-05-19T09:48:52.240Z"
   },
   {
    "duration": 23,
    "start_time": "2024-05-19T09:48:52.261Z"
   },
   {
    "duration": 8,
    "start_time": "2024-05-19T09:48:52.286Z"
   },
   {
    "duration": 22,
    "start_time": "2024-05-19T09:48:52.297Z"
   },
   {
    "duration": 11,
    "start_time": "2024-05-19T09:48:52.320Z"
   },
   {
    "duration": 35,
    "start_time": "2024-05-19T09:48:52.332Z"
   },
   {
    "duration": 10,
    "start_time": "2024-05-19T09:48:52.369Z"
   },
   {
    "duration": 29,
    "start_time": "2024-05-19T09:48:52.380Z"
   },
   {
    "duration": 10,
    "start_time": "2024-05-19T09:48:52.411Z"
   },
   {
    "duration": 26,
    "start_time": "2024-05-19T09:48:52.423Z"
   },
   {
    "duration": 10,
    "start_time": "2024-05-19T09:48:52.450Z"
   },
   {
    "duration": 8,
    "start_time": "2024-05-19T09:48:52.461Z"
   },
   {
    "duration": 6,
    "start_time": "2024-05-19T09:54:58.493Z"
   },
   {
    "duration": 3,
    "start_time": "2024-05-19T09:55:17.269Z"
   },
   {
    "duration": 18,
    "start_time": "2024-05-19T09:55:52.827Z"
   },
   {
    "duration": 20,
    "start_time": "2024-05-19T09:56:27.141Z"
   },
   {
    "duration": 20,
    "start_time": "2024-05-19T09:57:29.775Z"
   },
   {
    "duration": 18,
    "start_time": "2024-05-19T09:58:44.064Z"
   },
   {
    "duration": 6,
    "start_time": "2024-05-19T09:59:55.024Z"
   },
   {
    "duration": 20,
    "start_time": "2024-05-19T10:00:24.312Z"
   },
   {
    "duration": 25,
    "start_time": "2024-05-19T10:00:24.857Z"
   },
   {
    "duration": 7,
    "start_time": "2024-05-19T10:00:27.654Z"
   },
   {
    "duration": 10,
    "start_time": "2024-05-19T10:02:30.376Z"
   },
   {
    "duration": 9,
    "start_time": "2024-05-19T10:04:27.784Z"
   },
   {
    "duration": 9,
    "start_time": "2024-05-19T10:05:11.697Z"
   },
   {
    "duration": 65,
    "start_time": "2024-05-19T10:05:22.352Z"
   },
   {
    "duration": 7,
    "start_time": "2024-05-19T10:05:28.396Z"
   },
   {
    "duration": 11,
    "start_time": "2024-05-19T10:06:00.777Z"
   },
   {
    "duration": 9,
    "start_time": "2024-05-19T10:06:05.388Z"
   },
   {
    "duration": 8,
    "start_time": "2024-05-19T10:06:28.061Z"
   },
   {
    "duration": 20,
    "start_time": "2024-05-19T10:06:52.158Z"
   },
   {
    "duration": 8,
    "start_time": "2024-05-19T10:07:18.772Z"
   },
   {
    "duration": 36,
    "start_time": "2024-05-19T10:07:42.930Z"
   },
   {
    "duration": 27,
    "start_time": "2024-05-19T10:07:53.013Z"
   },
   {
    "duration": 8,
    "start_time": "2024-05-19T10:08:35.055Z"
   },
   {
    "duration": 36,
    "start_time": "2024-05-19T10:08:36.561Z"
   },
   {
    "duration": 8,
    "start_time": "2024-05-19T10:08:41.710Z"
   },
   {
    "duration": 17,
    "start_time": "2024-05-19T10:11:02.343Z"
   },
   {
    "duration": 7,
    "start_time": "2024-05-19T10:11:22.681Z"
   },
   {
    "duration": 7,
    "start_time": "2024-05-19T10:11:31.318Z"
   },
   {
    "duration": 95,
    "start_time": "2024-05-19T10:11:45.223Z"
   },
   {
    "duration": 17,
    "start_time": "2024-05-19T10:11:45.321Z"
   },
   {
    "duration": 46,
    "start_time": "2024-05-19T10:11:45.339Z"
   },
   {
    "duration": 18,
    "start_time": "2024-05-19T10:11:45.388Z"
   },
   {
    "duration": 51,
    "start_time": "2024-05-19T10:11:45.408Z"
   },
   {
    "duration": 5,
    "start_time": "2024-05-19T10:11:45.480Z"
   },
   {
    "duration": 12,
    "start_time": "2024-05-19T10:11:45.487Z"
   },
   {
    "duration": 5,
    "start_time": "2024-05-19T10:11:45.501Z"
   },
   {
    "duration": 12,
    "start_time": "2024-05-19T10:11:45.508Z"
   },
   {
    "duration": 12,
    "start_time": "2024-05-19T10:11:45.522Z"
   },
   {
    "duration": 58,
    "start_time": "2024-05-19T10:11:45.536Z"
   },
   {
    "duration": 11,
    "start_time": "2024-05-19T10:11:45.596Z"
   },
   {
    "duration": 74,
    "start_time": "2024-05-19T10:11:45.609Z"
   },
   {
    "duration": 12,
    "start_time": "2024-05-19T10:11:45.688Z"
   },
   {
    "duration": 30,
    "start_time": "2024-05-19T10:11:45.701Z"
   },
   {
    "duration": 19,
    "start_time": "2024-05-19T10:11:45.733Z"
   },
   {
    "duration": 4,
    "start_time": "2024-05-19T10:11:45.753Z"
   },
   {
    "duration": 27,
    "start_time": "2024-05-19T10:11:45.758Z"
   },
   {
    "duration": 8,
    "start_time": "2024-05-19T10:11:45.787Z"
   },
   {
    "duration": 16,
    "start_time": "2024-05-19T10:11:45.797Z"
   },
   {
    "duration": 28,
    "start_time": "2024-05-19T10:11:45.815Z"
   },
   {
    "duration": 4,
    "start_time": "2024-05-19T10:11:45.845Z"
   },
   {
    "duration": 88,
    "start_time": "2024-05-19T10:11:45.851Z"
   },
   {
    "duration": 21,
    "start_time": "2024-05-19T10:11:45.941Z"
   },
   {
    "duration": 7,
    "start_time": "2024-05-19T10:11:45.964Z"
   },
   {
    "duration": 702,
    "start_time": "2024-05-19T10:11:45.973Z"
   },
   {
    "duration": 0,
    "start_time": "2024-05-19T10:11:46.677Z"
   },
   {
    "duration": 0,
    "start_time": "2024-05-19T10:11:46.678Z"
   },
   {
    "duration": 0,
    "start_time": "2024-05-19T10:11:46.679Z"
   },
   {
    "duration": 0,
    "start_time": "2024-05-19T10:11:46.680Z"
   },
   {
    "duration": 0,
    "start_time": "2024-05-19T10:11:46.681Z"
   },
   {
    "duration": 0,
    "start_time": "2024-05-19T10:11:46.682Z"
   },
   {
    "duration": 0,
    "start_time": "2024-05-19T10:11:46.684Z"
   },
   {
    "duration": 0,
    "start_time": "2024-05-19T10:11:46.685Z"
   },
   {
    "duration": 0,
    "start_time": "2024-05-19T10:11:46.686Z"
   },
   {
    "duration": 0,
    "start_time": "2024-05-19T10:11:46.687Z"
   },
   {
    "duration": 0,
    "start_time": "2024-05-19T10:11:46.688Z"
   },
   {
    "duration": 763,
    "start_time": "2024-05-19T10:12:05.087Z"
   },
   {
    "duration": 6,
    "start_time": "2024-05-19T10:12:15.056Z"
   },
   {
    "duration": 10,
    "start_time": "2024-05-19T10:12:36.664Z"
   },
   {
    "duration": 9,
    "start_time": "2024-05-19T10:12:47.587Z"
   },
   {
    "duration": 9,
    "start_time": "2024-05-19T10:12:54.522Z"
   },
   {
    "duration": 34,
    "start_time": "2024-05-19T10:13:01.796Z"
   },
   {
    "duration": 56,
    "start_time": "2024-05-19T10:14:59.126Z"
   },
   {
    "duration": 57,
    "start_time": "2024-05-19T10:15:10.903Z"
   },
   {
    "duration": 84,
    "start_time": "2024-05-19T10:15:16.771Z"
   },
   {
    "duration": 6,
    "start_time": "2024-05-19T10:15:21.695Z"
   },
   {
    "duration": 5,
    "start_time": "2024-05-19T10:15:28.106Z"
   },
   {
    "duration": 4,
    "start_time": "2024-05-19T10:15:34.337Z"
   },
   {
    "duration": 75,
    "start_time": "2024-05-19T10:15:48.969Z"
   },
   {
    "duration": 16,
    "start_time": "2024-05-19T10:15:49.045Z"
   },
   {
    "duration": 60,
    "start_time": "2024-05-19T10:15:49.062Z"
   },
   {
    "duration": 66,
    "start_time": "2024-05-19T10:15:49.124Z"
   },
   {
    "duration": 73,
    "start_time": "2024-05-19T10:15:49.192Z"
   },
   {
    "duration": 4,
    "start_time": "2024-05-19T10:15:49.267Z"
   },
   {
    "duration": 11,
    "start_time": "2024-05-19T10:15:49.272Z"
   },
   {
    "duration": 4,
    "start_time": "2024-05-19T10:15:49.284Z"
   },
   {
    "duration": 7,
    "start_time": "2024-05-19T10:15:49.290Z"
   },
   {
    "duration": 4,
    "start_time": "2024-05-19T10:15:49.299Z"
   },
   {
    "duration": 37,
    "start_time": "2024-05-19T10:15:49.305Z"
   },
   {
    "duration": 37,
    "start_time": "2024-05-19T10:15:49.344Z"
   },
   {
    "duration": 5,
    "start_time": "2024-05-19T10:15:49.383Z"
   },
   {
    "duration": 15,
    "start_time": "2024-05-19T10:15:49.391Z"
   },
   {
    "duration": 22,
    "start_time": "2024-05-19T10:15:49.407Z"
   },
   {
    "duration": 18,
    "start_time": "2024-05-19T10:15:49.430Z"
   },
   {
    "duration": 32,
    "start_time": "2024-05-19T10:15:49.449Z"
   },
   {
    "duration": 53,
    "start_time": "2024-05-19T10:15:49.483Z"
   },
   {
    "duration": 14,
    "start_time": "2024-05-19T10:15:49.538Z"
   },
   {
    "duration": 14,
    "start_time": "2024-05-19T10:15:49.554Z"
   },
   {
    "duration": 24,
    "start_time": "2024-05-19T10:15:49.570Z"
   },
   {
    "duration": 7,
    "start_time": "2024-05-19T10:15:49.596Z"
   },
   {
    "duration": 27,
    "start_time": "2024-05-19T10:15:49.605Z"
   },
   {
    "duration": 19,
    "start_time": "2024-05-19T10:15:49.634Z"
   },
   {
    "duration": 49,
    "start_time": "2024-05-19T10:15:49.654Z"
   },
   {
    "duration": 10,
    "start_time": "2024-05-19T10:15:49.705Z"
   },
   {
    "duration": 10,
    "start_time": "2024-05-19T10:15:49.716Z"
   },
   {
    "duration": 17,
    "start_time": "2024-05-19T10:15:49.728Z"
   },
   {
    "duration": 39,
    "start_time": "2024-05-19T10:15:49.746Z"
   },
   {
    "duration": 4,
    "start_time": "2024-05-19T10:15:49.789Z"
   },
   {
    "duration": 26,
    "start_time": "2024-05-19T10:15:49.796Z"
   },
   {
    "duration": 11,
    "start_time": "2024-05-19T10:15:49.824Z"
   },
   {
    "duration": 17,
    "start_time": "2024-05-19T10:15:49.837Z"
   },
   {
    "duration": 71,
    "start_time": "2024-05-19T10:15:49.855Z"
   },
   {
    "duration": 21,
    "start_time": "2024-05-19T10:15:49.927Z"
   },
   {
    "duration": 11,
    "start_time": "2024-05-19T10:15:49.949Z"
   },
   {
    "duration": 2,
    "start_time": "2024-05-19T10:15:49.961Z"
   },
   {
    "duration": 5,
    "start_time": "2024-05-19T10:16:02.775Z"
   },
   {
    "duration": 69,
    "start_time": "2024-05-19T10:16:29.954Z"
   },
   {
    "duration": 53,
    "start_time": "2024-05-19T10:16:36.035Z"
   },
   {
    "duration": 53,
    "start_time": "2024-05-19T10:16:41.267Z"
   },
   {
    "duration": 22,
    "start_time": "2024-05-19T10:16:42.074Z"
   },
   {
    "duration": 62,
    "start_time": "2024-05-19T10:18:28.041Z"
   },
   {
    "duration": 8,
    "start_time": "2024-05-19T10:18:42.789Z"
   },
   {
    "duration": 76,
    "start_time": "2024-05-19T10:18:51.442Z"
   },
   {
    "duration": 17,
    "start_time": "2024-05-19T10:18:51.521Z"
   },
   {
    "duration": 24,
    "start_time": "2024-05-19T10:18:51.539Z"
   },
   {
    "duration": 25,
    "start_time": "2024-05-19T10:18:51.564Z"
   },
   {
    "duration": 38,
    "start_time": "2024-05-19T10:18:51.591Z"
   },
   {
    "duration": 3,
    "start_time": "2024-05-19T10:18:51.631Z"
   },
   {
    "duration": 49,
    "start_time": "2024-05-19T10:18:51.635Z"
   },
   {
    "duration": 54,
    "start_time": "2024-05-19T10:18:51.686Z"
   },
   {
    "duration": 30,
    "start_time": "2024-05-19T10:18:51.742Z"
   },
   {
    "duration": 4,
    "start_time": "2024-05-19T10:18:51.773Z"
   },
   {
    "duration": 39,
    "start_time": "2024-05-19T10:18:51.779Z"
   },
   {
    "duration": 10,
    "start_time": "2024-05-19T10:18:51.820Z"
   },
   {
    "duration": 23,
    "start_time": "2024-05-19T10:18:51.831Z"
   },
   {
    "duration": 95,
    "start_time": "2024-05-19T10:18:51.857Z"
   },
   {
    "duration": 62,
    "start_time": "2024-05-19T10:18:51.954Z"
   },
   {
    "duration": 55,
    "start_time": "2024-05-19T10:18:52.018Z"
   },
   {
    "duration": 60,
    "start_time": "2024-05-19T10:18:52.075Z"
   },
   {
    "duration": 97,
    "start_time": "2024-05-19T10:18:52.136Z"
   },
   {
    "duration": 6,
    "start_time": "2024-05-19T10:18:52.235Z"
   },
   {
    "duration": 11,
    "start_time": "2024-05-19T10:18:52.242Z"
   },
   {
    "duration": 25,
    "start_time": "2024-05-19T10:18:52.255Z"
   },
   {
    "duration": 16,
    "start_time": "2024-05-19T10:18:52.281Z"
   },
   {
    "duration": 0,
    "start_time": "2024-05-19T10:18:52.299Z"
   },
   {
    "duration": 0,
    "start_time": "2024-05-19T10:18:52.300Z"
   },
   {
    "duration": 0,
    "start_time": "2024-05-19T10:18:52.301Z"
   },
   {
    "duration": 0,
    "start_time": "2024-05-19T10:18:52.302Z"
   },
   {
    "duration": 0,
    "start_time": "2024-05-19T10:18:52.304Z"
   },
   {
    "duration": 0,
    "start_time": "2024-05-19T10:18:52.305Z"
   },
   {
    "duration": 0,
    "start_time": "2024-05-19T10:18:52.306Z"
   },
   {
    "duration": 0,
    "start_time": "2024-05-19T10:18:52.307Z"
   },
   {
    "duration": 0,
    "start_time": "2024-05-19T10:18:52.309Z"
   },
   {
    "duration": 0,
    "start_time": "2024-05-19T10:18:52.310Z"
   },
   {
    "duration": 0,
    "start_time": "2024-05-19T10:18:52.311Z"
   },
   {
    "duration": 0,
    "start_time": "2024-05-19T10:18:52.312Z"
   },
   {
    "duration": 0,
    "start_time": "2024-05-19T10:18:52.313Z"
   },
   {
    "duration": 0,
    "start_time": "2024-05-19T10:18:52.314Z"
   },
   {
    "duration": 0,
    "start_time": "2024-05-19T10:18:52.315Z"
   },
   {
    "duration": 5,
    "start_time": "2024-05-19T10:19:20.137Z"
   },
   {
    "duration": 5,
    "start_time": "2024-05-19T10:19:24.536Z"
   },
   {
    "duration": 4,
    "start_time": "2024-05-19T10:19:29.120Z"
   },
   {
    "duration": 7,
    "start_time": "2024-05-19T10:19:33.735Z"
   },
   {
    "duration": 3,
    "start_time": "2024-05-19T10:20:06.256Z"
   },
   {
    "duration": 4,
    "start_time": "2024-05-19T10:20:18.080Z"
   },
   {
    "duration": 20,
    "start_time": "2024-05-19T10:20:19.279Z"
   },
   {
    "duration": 4,
    "start_time": "2024-05-19T10:20:34.191Z"
   },
   {
    "duration": 5,
    "start_time": "2024-05-19T10:20:40.547Z"
   },
   {
    "duration": 7,
    "start_time": "2024-05-19T10:20:48.472Z"
   },
   {
    "duration": 3,
    "start_time": "2024-05-19T10:20:54.269Z"
   },
   {
    "duration": 4,
    "start_time": "2024-05-19T10:20:56.417Z"
   },
   {
    "duration": 3,
    "start_time": "2024-05-19T10:21:01.561Z"
   },
   {
    "duration": 4,
    "start_time": "2024-05-19T10:21:07.394Z"
   },
   {
    "duration": 3,
    "start_time": "2024-05-19T10:21:15.068Z"
   },
   {
    "duration": 20,
    "start_time": "2024-05-19T10:21:15.564Z"
   },
   {
    "duration": 28,
    "start_time": "2024-05-19T10:21:21.180Z"
   },
   {
    "duration": 6,
    "start_time": "2024-05-19T10:21:22.287Z"
   },
   {
    "duration": 7,
    "start_time": "2024-05-19T10:21:22.986Z"
   },
   {
    "duration": 13,
    "start_time": "2024-05-19T10:21:24.960Z"
   },
   {
    "duration": 9,
    "start_time": "2024-05-19T10:21:26.404Z"
   },
   {
    "duration": 33,
    "start_time": "2024-05-19T10:21:31.790Z"
   },
   {
    "duration": 7,
    "start_time": "2024-05-19T10:26:38.137Z"
   },
   {
    "duration": 11,
    "start_time": "2024-05-19T10:26:44.813Z"
   },
   {
    "duration": 27,
    "start_time": "2024-05-19T10:27:09.734Z"
   },
   {
    "duration": 24,
    "start_time": "2024-05-19T10:27:19.819Z"
   },
   {
    "duration": 21,
    "start_time": "2024-05-19T10:27:34.028Z"
   },
   {
    "duration": 26,
    "start_time": "2024-05-19T10:27:48.993Z"
   },
   {
    "duration": 3,
    "start_time": "2024-05-19T10:28:12.850Z"
   },
   {
    "duration": 9,
    "start_time": "2024-05-19T10:28:20.555Z"
   },
   {
    "duration": 9,
    "start_time": "2024-05-19T10:28:24.386Z"
   },
   {
    "duration": 11,
    "start_time": "2024-05-19T10:28:32.182Z"
   },
   {
    "duration": 9,
    "start_time": "2024-05-19T10:28:38.892Z"
   },
   {
    "duration": 57,
    "start_time": "2024-05-19T10:28:56.198Z"
   },
   {
    "duration": 79,
    "start_time": "2024-05-19T10:29:00.316Z"
   },
   {
    "duration": 128,
    "start_time": "2024-05-19T10:29:00.397Z"
   },
   {
    "duration": 213,
    "start_time": "2024-05-19T10:29:00.527Z"
   },
   {
    "duration": 42,
    "start_time": "2024-05-19T10:29:00.742Z"
   },
   {
    "duration": 82,
    "start_time": "2024-05-19T10:29:00.786Z"
   },
   {
    "duration": 25,
    "start_time": "2024-05-19T10:29:00.870Z"
   },
   {
    "duration": 76,
    "start_time": "2024-05-19T10:29:00.897Z"
   },
   {
    "duration": 62,
    "start_time": "2024-05-19T10:29:00.975Z"
   },
   {
    "duration": 183,
    "start_time": "2024-05-19T10:29:01.038Z"
   },
   {
    "duration": 105,
    "start_time": "2024-05-19T10:29:01.222Z"
   },
   {
    "duration": 148,
    "start_time": "2024-05-19T10:29:01.329Z"
   },
   {
    "duration": 11,
    "start_time": "2024-05-19T10:29:01.479Z"
   },
   {
    "duration": 86,
    "start_time": "2024-05-19T10:29:01.492Z"
   },
   {
    "duration": 26,
    "start_time": "2024-05-19T10:29:01.581Z"
   },
   {
    "duration": 56,
    "start_time": "2024-05-19T10:29:01.609Z"
   },
   {
    "duration": 40,
    "start_time": "2024-05-19T10:29:01.667Z"
   },
   {
    "duration": 45,
    "start_time": "2024-05-19T10:29:01.709Z"
   },
   {
    "duration": 100,
    "start_time": "2024-05-19T10:29:01.755Z"
   },
   {
    "duration": 153,
    "start_time": "2024-05-19T10:29:01.857Z"
   },
   {
    "duration": 61,
    "start_time": "2024-05-19T10:29:02.011Z"
   },
   {
    "duration": 32,
    "start_time": "2024-05-19T10:29:02.073Z"
   },
   {
    "duration": 34,
    "start_time": "2024-05-19T10:29:02.107Z"
   },
   {
    "duration": 62,
    "start_time": "2024-05-19T10:29:02.143Z"
   },
   {
    "duration": 35,
    "start_time": "2024-05-19T10:29:02.207Z"
   },
   {
    "duration": 78,
    "start_time": "2024-05-19T10:29:02.243Z"
   },
   {
    "duration": 60,
    "start_time": "2024-05-19T10:29:02.322Z"
   },
   {
    "duration": 99,
    "start_time": "2024-05-19T10:29:02.384Z"
   },
   {
    "duration": 0,
    "start_time": "2024-05-19T10:29:02.484Z"
   },
   {
    "duration": 0,
    "start_time": "2024-05-19T10:29:02.486Z"
   },
   {
    "duration": 0,
    "start_time": "2024-05-19T10:29:02.487Z"
   },
   {
    "duration": 0,
    "start_time": "2024-05-19T10:29:02.488Z"
   },
   {
    "duration": 0,
    "start_time": "2024-05-19T10:29:02.490Z"
   },
   {
    "duration": 0,
    "start_time": "2024-05-19T10:29:02.492Z"
   },
   {
    "duration": 0,
    "start_time": "2024-05-19T10:29:02.493Z"
   },
   {
    "duration": 0,
    "start_time": "2024-05-19T10:29:02.495Z"
   },
   {
    "duration": 0,
    "start_time": "2024-05-19T10:29:02.497Z"
   },
   {
    "duration": 0,
    "start_time": "2024-05-19T10:29:02.498Z"
   },
   {
    "duration": 13,
    "start_time": "2024-05-19T10:29:14.661Z"
   },
   {
    "duration": 10,
    "start_time": "2024-05-19T10:29:44.041Z"
   },
   {
    "duration": 891,
    "start_time": "2024-05-19T10:32:47.256Z"
   },
   {
    "duration": 235,
    "start_time": "2024-05-19T10:32:57.727Z"
   },
   {
    "duration": 78,
    "start_time": "2024-05-19T10:33:01.790Z"
   },
   {
    "duration": 28,
    "start_time": "2024-05-19T10:33:01.870Z"
   },
   {
    "duration": 70,
    "start_time": "2024-05-19T10:33:01.899Z"
   },
   {
    "duration": 105,
    "start_time": "2024-05-19T10:33:01.971Z"
   },
   {
    "duration": 117,
    "start_time": "2024-05-19T10:33:02.078Z"
   },
   {
    "duration": 127,
    "start_time": "2024-05-19T10:33:02.197Z"
   },
   {
    "duration": 51,
    "start_time": "2024-05-19T10:33:02.325Z"
   },
   {
    "duration": 33,
    "start_time": "2024-05-19T10:33:02.378Z"
   },
   {
    "duration": 38,
    "start_time": "2024-05-19T10:33:02.413Z"
   },
   {
    "duration": 49,
    "start_time": "2024-05-19T10:33:02.453Z"
   },
   {
    "duration": 56,
    "start_time": "2024-05-19T10:33:02.503Z"
   },
   {
    "duration": 10,
    "start_time": "2024-05-19T10:33:02.560Z"
   },
   {
    "duration": 48,
    "start_time": "2024-05-19T10:33:02.572Z"
   },
   {
    "duration": 40,
    "start_time": "2024-05-19T10:33:02.623Z"
   },
   {
    "duration": 57,
    "start_time": "2024-05-19T10:33:02.665Z"
   },
   {
    "duration": 28,
    "start_time": "2024-05-19T10:33:02.724Z"
   },
   {
    "duration": 51,
    "start_time": "2024-05-19T10:33:02.754Z"
   },
   {
    "duration": 38,
    "start_time": "2024-05-19T10:33:02.806Z"
   },
   {
    "duration": 49,
    "start_time": "2024-05-19T10:33:02.845Z"
   },
   {
    "duration": 35,
    "start_time": "2024-05-19T10:33:02.896Z"
   },
   {
    "duration": 69,
    "start_time": "2024-05-19T10:33:02.933Z"
   },
   {
    "duration": 56,
    "start_time": "2024-05-19T10:33:03.004Z"
   },
   {
    "duration": 84,
    "start_time": "2024-05-19T10:33:03.062Z"
   },
   {
    "duration": 100,
    "start_time": "2024-05-19T10:33:03.147Z"
   },
   {
    "duration": 25,
    "start_time": "2024-05-19T10:33:03.249Z"
   },
   {
    "duration": 37,
    "start_time": "2024-05-19T10:33:03.276Z"
   },
   {
    "duration": 40,
    "start_time": "2024-05-19T10:33:03.314Z"
   },
   {
    "duration": 165,
    "start_time": "2024-05-19T10:33:03.355Z"
   },
   {
    "duration": 303,
    "start_time": "2024-05-19T10:33:03.521Z"
   },
   {
    "duration": 0,
    "start_time": "2024-05-19T10:33:03.826Z"
   },
   {
    "duration": 0,
    "start_time": "2024-05-19T10:33:03.827Z"
   },
   {
    "duration": 0,
    "start_time": "2024-05-19T10:33:03.828Z"
   },
   {
    "duration": 0,
    "start_time": "2024-05-19T10:33:03.829Z"
   },
   {
    "duration": 0,
    "start_time": "2024-05-19T10:33:03.830Z"
   },
   {
    "duration": 0,
    "start_time": "2024-05-19T10:33:03.831Z"
   },
   {
    "duration": 0,
    "start_time": "2024-05-19T10:33:03.832Z"
   },
   {
    "duration": 0,
    "start_time": "2024-05-19T10:33:03.834Z"
   },
   {
    "duration": 0,
    "start_time": "2024-05-19T10:33:03.835Z"
   },
   {
    "duration": 0,
    "start_time": "2024-05-19T10:33:03.837Z"
   },
   {
    "duration": 10,
    "start_time": "2024-05-19T10:36:22.490Z"
   },
   {
    "duration": 10,
    "start_time": "2024-05-19T10:36:24.003Z"
   },
   {
    "duration": 3,
    "start_time": "2024-05-19T10:36:27.826Z"
   },
   {
    "duration": 9,
    "start_time": "2024-05-19T10:36:33.834Z"
   },
   {
    "duration": 10,
    "start_time": "2024-05-19T10:36:55.133Z"
   },
   {
    "duration": 11,
    "start_time": "2024-05-19T10:37:05.788Z"
   },
   {
    "duration": 77,
    "start_time": "2024-05-19T10:37:10.177Z"
   },
   {
    "duration": 16,
    "start_time": "2024-05-19T10:37:10.256Z"
   },
   {
    "duration": 88,
    "start_time": "2024-05-19T10:37:10.274Z"
   },
   {
    "duration": 20,
    "start_time": "2024-05-19T10:37:10.364Z"
   },
   {
    "duration": 43,
    "start_time": "2024-05-19T10:37:10.392Z"
   },
   {
    "duration": 3,
    "start_time": "2024-05-19T10:37:10.437Z"
   },
   {
    "duration": 11,
    "start_time": "2024-05-19T10:37:10.441Z"
   },
   {
    "duration": 5,
    "start_time": "2024-05-19T10:37:10.454Z"
   },
   {
    "duration": 28,
    "start_time": "2024-05-19T10:37:10.460Z"
   },
   {
    "duration": 6,
    "start_time": "2024-05-19T10:37:10.495Z"
   },
   {
    "duration": 53,
    "start_time": "2024-05-19T10:37:10.502Z"
   },
   {
    "duration": 11,
    "start_time": "2024-05-19T10:37:10.556Z"
   },
   {
    "duration": 41,
    "start_time": "2024-05-19T10:37:10.569Z"
   },
   {
    "duration": 22,
    "start_time": "2024-05-19T10:37:10.611Z"
   },
   {
    "duration": 19,
    "start_time": "2024-05-19T10:37:10.635Z"
   },
   {
    "duration": 18,
    "start_time": "2024-05-19T10:37:10.655Z"
   },
   {
    "duration": 3,
    "start_time": "2024-05-19T10:37:10.675Z"
   },
   {
    "duration": 30,
    "start_time": "2024-05-19T10:37:10.679Z"
   },
   {
    "duration": 23,
    "start_time": "2024-05-19T10:37:10.711Z"
   },
   {
    "duration": 11,
    "start_time": "2024-05-19T10:37:10.735Z"
   },
   {
    "duration": 11,
    "start_time": "2024-05-19T10:37:10.747Z"
   },
   {
    "duration": 6,
    "start_time": "2024-05-19T10:37:10.759Z"
   },
   {
    "duration": 50,
    "start_time": "2024-05-19T10:37:10.767Z"
   },
   {
    "duration": 30,
    "start_time": "2024-05-19T10:37:10.819Z"
   },
   {
    "duration": 8,
    "start_time": "2024-05-19T10:37:10.851Z"
   },
   {
    "duration": 14,
    "start_time": "2024-05-19T10:37:10.860Z"
   },
   {
    "duration": 19,
    "start_time": "2024-05-19T10:37:10.876Z"
   },
   {
    "duration": 15,
    "start_time": "2024-05-19T10:37:10.899Z"
   },
   {
    "duration": 17,
    "start_time": "2024-05-19T10:37:10.915Z"
   },
   {
    "duration": 30,
    "start_time": "2024-05-19T10:37:10.934Z"
   },
   {
    "duration": 0,
    "start_time": "2024-05-19T10:37:10.967Z"
   },
   {
    "duration": 0,
    "start_time": "2024-05-19T10:37:10.968Z"
   },
   {
    "duration": 0,
    "start_time": "2024-05-19T10:37:10.970Z"
   },
   {
    "duration": 0,
    "start_time": "2024-05-19T10:37:10.972Z"
   },
   {
    "duration": 0,
    "start_time": "2024-05-19T10:37:10.973Z"
   },
   {
    "duration": 0,
    "start_time": "2024-05-19T10:37:10.975Z"
   },
   {
    "duration": 0,
    "start_time": "2024-05-19T10:37:10.976Z"
   },
   {
    "duration": 0,
    "start_time": "2024-05-19T10:37:10.977Z"
   },
   {
    "duration": 0,
    "start_time": "2024-05-19T10:37:10.979Z"
   },
   {
    "duration": 9,
    "start_time": "2024-05-19T10:37:29.699Z"
   },
   {
    "duration": 10,
    "start_time": "2024-05-19T10:38:22.366Z"
   },
   {
    "duration": 250,
    "start_time": "2024-05-19T10:38:33.340Z"
   },
   {
    "duration": 78,
    "start_time": "2024-05-19T10:38:39.171Z"
   },
   {
    "duration": 19,
    "start_time": "2024-05-19T10:38:39.251Z"
   },
   {
    "duration": 34,
    "start_time": "2024-05-19T10:38:39.271Z"
   },
   {
    "duration": 10,
    "start_time": "2024-05-19T10:38:39.307Z"
   },
   {
    "duration": 159,
    "start_time": "2024-05-19T10:38:39.319Z"
   },
   {
    "duration": 3,
    "start_time": "2024-05-19T10:38:39.480Z"
   },
   {
    "duration": 18,
    "start_time": "2024-05-19T10:38:39.484Z"
   },
   {
    "duration": 4,
    "start_time": "2024-05-19T10:38:39.504Z"
   },
   {
    "duration": 5,
    "start_time": "2024-05-19T10:38:39.510Z"
   },
   {
    "duration": 6,
    "start_time": "2024-05-19T10:38:39.517Z"
   },
   {
    "duration": 110,
    "start_time": "2024-05-19T10:38:39.524Z"
   },
   {
    "duration": 12,
    "start_time": "2024-05-19T10:38:39.635Z"
   },
   {
    "duration": 5,
    "start_time": "2024-05-19T10:38:39.648Z"
   },
   {
    "duration": 45,
    "start_time": "2024-05-19T10:38:39.654Z"
   },
   {
    "duration": 20,
    "start_time": "2024-05-19T10:38:39.702Z"
   },
   {
    "duration": 18,
    "start_time": "2024-05-19T10:38:39.724Z"
   },
   {
    "duration": 55,
    "start_time": "2024-05-19T10:38:39.744Z"
   },
   {
    "duration": 26,
    "start_time": "2024-05-19T10:38:39.800Z"
   },
   {
    "duration": 8,
    "start_time": "2024-05-19T10:38:39.828Z"
   },
   {
    "duration": 5,
    "start_time": "2024-05-19T10:38:39.838Z"
   },
   {
    "duration": 13,
    "start_time": "2024-05-19T10:38:39.845Z"
   },
   {
    "duration": 4,
    "start_time": "2024-05-19T10:38:39.859Z"
   },
   {
    "duration": 33,
    "start_time": "2024-05-19T10:38:39.865Z"
   },
   {
    "duration": 23,
    "start_time": "2024-05-19T10:38:39.899Z"
   },
   {
    "duration": 7,
    "start_time": "2024-05-19T10:38:39.923Z"
   },
   {
    "duration": 112,
    "start_time": "2024-05-19T10:38:39.931Z"
   },
   {
    "duration": 12,
    "start_time": "2024-05-19T10:38:40.045Z"
   },
   {
    "duration": 22,
    "start_time": "2024-05-19T10:38:40.063Z"
   },
   {
    "duration": 3,
    "start_time": "2024-05-19T10:38:40.088Z"
   },
   {
    "duration": 12,
    "start_time": "2024-05-19T10:38:40.093Z"
   },
   {
    "duration": 34,
    "start_time": "2024-05-19T10:38:40.106Z"
   },
   {
    "duration": 2,
    "start_time": "2024-05-19T10:38:40.142Z"
   },
   {
    "duration": 52,
    "start_time": "2024-05-19T10:38:40.146Z"
   },
   {
    "duration": 9,
    "start_time": "2024-05-19T10:38:40.200Z"
   },
   {
    "duration": 9,
    "start_time": "2024-05-19T10:38:40.211Z"
   },
   {
    "duration": 6,
    "start_time": "2024-05-19T10:38:40.222Z"
   },
   {
    "duration": 21,
    "start_time": "2024-05-19T10:38:40.229Z"
   },
   {
    "duration": 39,
    "start_time": "2024-05-19T10:38:40.251Z"
   },
   {
    "duration": 63,
    "start_time": "2024-05-19T10:38:40.293Z"
   },
   {
    "duration": 27,
    "start_time": "2024-05-19T10:39:29.986Z"
   },
   {
    "duration": 7,
    "start_time": "2024-05-19T10:39:40.455Z"
   },
   {
    "duration": 445,
    "start_time": "2024-05-19T10:49:47.909Z"
   },
   {
    "duration": 87,
    "start_time": "2024-05-19T10:50:09.974Z"
   },
   {
    "duration": 34,
    "start_time": "2024-05-19T10:50:10.062Z"
   },
   {
    "duration": 36,
    "start_time": "2024-05-19T10:50:10.098Z"
   },
   {
    "duration": 50,
    "start_time": "2024-05-19T10:50:10.136Z"
   },
   {
    "duration": 40,
    "start_time": "2024-05-19T10:50:10.189Z"
   },
   {
    "duration": 4,
    "start_time": "2024-05-19T10:50:10.230Z"
   },
   {
    "duration": 9,
    "start_time": "2024-05-19T10:50:10.235Z"
   },
   {
    "duration": 4,
    "start_time": "2024-05-19T10:50:10.246Z"
   },
   {
    "duration": 7,
    "start_time": "2024-05-19T10:50:10.251Z"
   },
   {
    "duration": 32,
    "start_time": "2024-05-19T10:50:10.260Z"
   },
   {
    "duration": 37,
    "start_time": "2024-05-19T10:50:10.294Z"
   },
   {
    "duration": 10,
    "start_time": "2024-05-19T10:50:10.333Z"
   },
   {
    "duration": 9,
    "start_time": "2024-05-19T10:50:10.344Z"
   },
   {
    "duration": 11,
    "start_time": "2024-05-19T10:50:10.356Z"
   },
   {
    "duration": 124,
    "start_time": "2024-05-19T10:50:10.385Z"
   },
   {
    "duration": 24,
    "start_time": "2024-05-19T10:50:10.510Z"
   },
   {
    "duration": 5,
    "start_time": "2024-05-19T10:50:10.536Z"
   },
   {
    "duration": 22,
    "start_time": "2024-05-19T10:50:10.543Z"
   },
   {
    "duration": 33,
    "start_time": "2024-05-19T10:50:10.566Z"
   },
   {
    "duration": 30,
    "start_time": "2024-05-19T10:50:10.600Z"
   },
   {
    "duration": 25,
    "start_time": "2024-05-19T10:50:10.632Z"
   },
   {
    "duration": 4,
    "start_time": "2024-05-19T10:50:10.658Z"
   },
   {
    "duration": 32,
    "start_time": "2024-05-19T10:50:10.664Z"
   },
   {
    "duration": 18,
    "start_time": "2024-05-19T10:50:10.698Z"
   },
   {
    "duration": 6,
    "start_time": "2024-05-19T10:50:10.718Z"
   },
   {
    "duration": 13,
    "start_time": "2024-05-19T10:50:10.725Z"
   },
   {
    "duration": 16,
    "start_time": "2024-05-19T10:50:10.739Z"
   },
   {
    "duration": 36,
    "start_time": "2024-05-19T10:50:10.756Z"
   },
   {
    "duration": 11,
    "start_time": "2024-05-19T10:50:10.794Z"
   },
   {
    "duration": 22,
    "start_time": "2024-05-19T10:50:10.807Z"
   },
   {
    "duration": 45,
    "start_time": "2024-05-19T10:50:10.831Z"
   },
   {
    "duration": 4,
    "start_time": "2024-05-19T10:50:10.877Z"
   },
   {
    "duration": 20,
    "start_time": "2024-05-19T10:50:10.894Z"
   },
   {
    "duration": 11,
    "start_time": "2024-05-19T10:50:10.916Z"
   },
   {
    "duration": 14,
    "start_time": "2024-05-19T10:50:10.929Z"
   },
   {
    "duration": 8,
    "start_time": "2024-05-19T10:50:10.945Z"
   },
   {
    "duration": 40,
    "start_time": "2024-05-19T10:50:10.955Z"
   },
   {
    "duration": 11,
    "start_time": "2024-05-19T10:50:10.997Z"
   },
   {
    "duration": 4,
    "start_time": "2024-05-19T10:50:11.009Z"
   },
   {
    "duration": 440,
    "start_time": "2024-05-19T10:50:42.515Z"
   },
   {
    "duration": 77,
    "start_time": "2024-05-19T10:50:48.102Z"
   },
   {
    "duration": 19,
    "start_time": "2024-05-19T10:50:48.190Z"
   },
   {
    "duration": 43,
    "start_time": "2024-05-19T10:50:48.210Z"
   },
   {
    "duration": 13,
    "start_time": "2024-05-19T10:50:48.255Z"
   },
   {
    "duration": 54,
    "start_time": "2024-05-19T10:50:48.271Z"
   },
   {
    "duration": 4,
    "start_time": "2024-05-19T10:50:48.326Z"
   },
   {
    "duration": 41,
    "start_time": "2024-05-19T10:50:48.331Z"
   },
   {
    "duration": 68,
    "start_time": "2024-05-19T10:50:48.374Z"
   },
   {
    "duration": 11,
    "start_time": "2024-05-19T10:50:48.444Z"
   },
   {
    "duration": 11,
    "start_time": "2024-05-19T10:50:48.456Z"
   },
   {
    "duration": 58,
    "start_time": "2024-05-19T10:50:48.469Z"
   },
   {
    "duration": 12,
    "start_time": "2024-05-19T10:50:48.529Z"
   },
   {
    "duration": 25,
    "start_time": "2024-05-19T10:50:48.542Z"
   },
   {
    "duration": 27,
    "start_time": "2024-05-19T10:50:48.572Z"
   },
   {
    "duration": 35,
    "start_time": "2024-05-19T10:50:48.601Z"
   },
   {
    "duration": 22,
    "start_time": "2024-05-19T10:50:48.637Z"
   },
   {
    "duration": 6,
    "start_time": "2024-05-19T10:50:48.660Z"
   },
   {
    "duration": 27,
    "start_time": "2024-05-19T10:50:48.668Z"
   },
   {
    "duration": 9,
    "start_time": "2024-05-19T10:50:48.698Z"
   },
   {
    "duration": 4,
    "start_time": "2024-05-19T10:50:48.708Z"
   },
   {
    "duration": 28,
    "start_time": "2024-05-19T10:50:48.714Z"
   },
   {
    "duration": 15,
    "start_time": "2024-05-19T10:50:48.744Z"
   },
   {
    "duration": 43,
    "start_time": "2024-05-19T10:50:48.761Z"
   },
   {
    "duration": 43,
    "start_time": "2024-05-19T10:50:48.805Z"
   },
   {
    "duration": 7,
    "start_time": "2024-05-19T10:50:48.850Z"
   },
   {
    "duration": 19,
    "start_time": "2024-05-19T10:50:48.858Z"
   },
   {
    "duration": 21,
    "start_time": "2024-05-19T10:50:48.879Z"
   },
   {
    "duration": 25,
    "start_time": "2024-05-19T10:50:48.901Z"
   },
   {
    "duration": 18,
    "start_time": "2024-05-19T10:50:48.927Z"
   },
   {
    "duration": 62,
    "start_time": "2024-05-19T10:50:48.947Z"
   },
   {
    "duration": 495,
    "start_time": "2024-05-19T10:50:49.011Z"
   },
   {
    "duration": 0,
    "start_time": "2024-05-19T10:50:49.507Z"
   },
   {
    "duration": 0,
    "start_time": "2024-05-19T10:50:49.508Z"
   },
   {
    "duration": 0,
    "start_time": "2024-05-19T10:50:49.510Z"
   },
   {
    "duration": 0,
    "start_time": "2024-05-19T10:50:49.511Z"
   },
   {
    "duration": 0,
    "start_time": "2024-05-19T10:50:49.512Z"
   },
   {
    "duration": 0,
    "start_time": "2024-05-19T10:50:49.513Z"
   },
   {
    "duration": 0,
    "start_time": "2024-05-19T10:50:49.514Z"
   },
   {
    "duration": 0,
    "start_time": "2024-05-19T10:50:49.515Z"
   },
   {
    "duration": 0,
    "start_time": "2024-05-19T10:50:49.516Z"
   },
   {
    "duration": 58,
    "start_time": "2024-05-19T10:52:47.723Z"
   },
   {
    "duration": 78,
    "start_time": "2024-05-19T10:52:52.662Z"
   },
   {
    "duration": 15,
    "start_time": "2024-05-19T10:52:52.742Z"
   },
   {
    "duration": 31,
    "start_time": "2024-05-19T10:52:52.759Z"
   },
   {
    "duration": 11,
    "start_time": "2024-05-19T10:52:52.791Z"
   },
   {
    "duration": 36,
    "start_time": "2024-05-19T10:52:52.804Z"
   },
   {
    "duration": 3,
    "start_time": "2024-05-19T10:52:52.842Z"
   },
   {
    "duration": 34,
    "start_time": "2024-05-19T10:52:52.847Z"
   },
   {
    "duration": 4,
    "start_time": "2024-05-19T10:52:52.883Z"
   },
   {
    "duration": 5,
    "start_time": "2024-05-19T10:52:52.889Z"
   },
   {
    "duration": 4,
    "start_time": "2024-05-19T10:52:52.896Z"
   },
   {
    "duration": 43,
    "start_time": "2024-05-19T10:52:52.901Z"
   },
   {
    "duration": 35,
    "start_time": "2024-05-19T10:52:52.946Z"
   },
   {
    "duration": 4,
    "start_time": "2024-05-19T10:52:52.983Z"
   },
   {
    "duration": 20,
    "start_time": "2024-05-19T10:52:52.990Z"
   },
   {
    "duration": 25,
    "start_time": "2024-05-19T10:52:53.011Z"
   },
   {
    "duration": 17,
    "start_time": "2024-05-19T10:52:53.037Z"
   },
   {
    "duration": 3,
    "start_time": "2024-05-19T10:52:53.056Z"
   },
   {
    "duration": 23,
    "start_time": "2024-05-19T10:52:53.060Z"
   },
   {
    "duration": 12,
    "start_time": "2024-05-19T10:52:53.084Z"
   },
   {
    "duration": 3,
    "start_time": "2024-05-19T10:52:53.097Z"
   },
   {
    "duration": 10,
    "start_time": "2024-05-19T10:52:53.101Z"
   },
   {
    "duration": 4,
    "start_time": "2024-05-19T10:52:53.112Z"
   },
   {
    "duration": 20,
    "start_time": "2024-05-19T10:52:53.117Z"
   },
   {
    "duration": 47,
    "start_time": "2024-05-19T10:52:53.139Z"
   },
   {
    "duration": 6,
    "start_time": "2024-05-19T10:52:53.187Z"
   },
   {
    "duration": 22,
    "start_time": "2024-05-19T10:52:53.194Z"
   },
   {
    "duration": 58,
    "start_time": "2024-05-19T10:52:53.217Z"
   },
   {
    "duration": 55,
    "start_time": "2024-05-19T10:52:53.277Z"
   },
   {
    "duration": 25,
    "start_time": "2024-05-19T10:52:53.334Z"
   },
   {
    "duration": 61,
    "start_time": "2024-05-19T10:52:53.360Z"
   },
   {
    "duration": 0,
    "start_time": "2024-05-19T10:52:53.422Z"
   },
   {
    "duration": 0,
    "start_time": "2024-05-19T10:52:53.424Z"
   },
   {
    "duration": 0,
    "start_time": "2024-05-19T10:52:53.425Z"
   },
   {
    "duration": 0,
    "start_time": "2024-05-19T10:52:53.426Z"
   },
   {
    "duration": 0,
    "start_time": "2024-05-19T10:52:53.426Z"
   },
   {
    "duration": 0,
    "start_time": "2024-05-19T10:52:53.427Z"
   },
   {
    "duration": 0,
    "start_time": "2024-05-19T10:52:53.428Z"
   },
   {
    "duration": 0,
    "start_time": "2024-05-19T10:52:53.429Z"
   },
   {
    "duration": 0,
    "start_time": "2024-05-19T10:52:53.431Z"
   },
   {
    "duration": 0,
    "start_time": "2024-05-19T10:52:53.432Z"
   },
   {
    "duration": 216,
    "start_time": "2024-05-19T10:57:34.600Z"
   },
   {
    "duration": 17,
    "start_time": "2024-05-19T10:57:39.013Z"
   },
   {
    "duration": 7,
    "start_time": "2024-05-19T10:57:41.354Z"
   },
   {
    "duration": 8,
    "start_time": "2024-05-19T10:57:43.183Z"
   },
   {
    "duration": 12,
    "start_time": "2024-05-19T10:57:50.511Z"
   },
   {
    "duration": 14,
    "start_time": "2024-05-19T10:57:54.083Z"
   },
   {
    "duration": 11,
    "start_time": "2024-05-19T10:57:55.354Z"
   },
   {
    "duration": 12,
    "start_time": "2024-05-19T10:58:22.121Z"
   },
   {
    "duration": 8,
    "start_time": "2024-05-19T10:58:34.702Z"
   },
   {
    "duration": 9,
    "start_time": "2024-05-19T10:58:49.325Z"
   },
   {
    "duration": 11,
    "start_time": "2024-05-19T10:58:54.362Z"
   },
   {
    "duration": 9,
    "start_time": "2024-05-19T10:59:02.978Z"
   },
   {
    "duration": 28,
    "start_time": "2024-05-19T10:59:17.984Z"
   },
   {
    "duration": 1022,
    "start_time": "2024-05-19T11:00:30.810Z"
   },
   {
    "duration": 79,
    "start_time": "2024-05-19T11:00:35.815Z"
   },
   {
    "duration": 15,
    "start_time": "2024-05-19T11:00:35.896Z"
   },
   {
    "duration": 22,
    "start_time": "2024-05-19T11:00:35.912Z"
   },
   {
    "duration": 18,
    "start_time": "2024-05-19T11:00:35.936Z"
   },
   {
    "duration": 55,
    "start_time": "2024-05-19T11:00:35.956Z"
   },
   {
    "duration": 3,
    "start_time": "2024-05-19T11:00:36.012Z"
   },
   {
    "duration": 78,
    "start_time": "2024-05-19T11:00:36.017Z"
   },
   {
    "duration": 4,
    "start_time": "2024-05-19T11:00:36.097Z"
   },
   {
    "duration": 8,
    "start_time": "2024-05-19T11:00:36.102Z"
   },
   {
    "duration": 9,
    "start_time": "2024-05-19T11:00:36.111Z"
   },
   {
    "duration": 51,
    "start_time": "2024-05-19T11:00:36.122Z"
   },
   {
    "duration": 11,
    "start_time": "2024-05-19T11:00:36.174Z"
   },
   {
    "duration": 13,
    "start_time": "2024-05-19T11:00:36.186Z"
   },
   {
    "duration": 19,
    "start_time": "2024-05-19T11:00:36.202Z"
   },
   {
    "duration": 41,
    "start_time": "2024-05-19T11:00:36.222Z"
   },
   {
    "duration": 20,
    "start_time": "2024-05-19T11:00:36.265Z"
   },
   {
    "duration": 7,
    "start_time": "2024-05-19T11:00:36.286Z"
   },
   {
    "duration": 19,
    "start_time": "2024-05-19T11:00:36.294Z"
   },
   {
    "duration": 14,
    "start_time": "2024-05-19T11:00:36.314Z"
   },
   {
    "duration": 42,
    "start_time": "2024-05-19T11:00:36.329Z"
   },
   {
    "duration": 16,
    "start_time": "2024-05-19T11:00:36.372Z"
   },
   {
    "duration": 21,
    "start_time": "2024-05-19T11:00:36.390Z"
   },
   {
    "duration": 29,
    "start_time": "2024-05-19T11:00:36.412Z"
   },
   {
    "duration": 19,
    "start_time": "2024-05-19T11:00:36.442Z"
   },
   {
    "duration": 28,
    "start_time": "2024-05-19T11:00:36.462Z"
   },
   {
    "duration": 868,
    "start_time": "2024-05-19T11:00:36.492Z"
   },
   {
    "duration": 0,
    "start_time": "2024-05-19T11:00:37.362Z"
   },
   {
    "duration": 0,
    "start_time": "2024-05-19T11:00:37.363Z"
   },
   {
    "duration": 0,
    "start_time": "2024-05-19T11:00:37.364Z"
   },
   {
    "duration": 0,
    "start_time": "2024-05-19T11:00:37.365Z"
   },
   {
    "duration": 0,
    "start_time": "2024-05-19T11:00:37.366Z"
   },
   {
    "duration": 0,
    "start_time": "2024-05-19T11:00:37.367Z"
   },
   {
    "duration": 0,
    "start_time": "2024-05-19T11:00:37.368Z"
   },
   {
    "duration": 0,
    "start_time": "2024-05-19T11:00:37.369Z"
   },
   {
    "duration": 0,
    "start_time": "2024-05-19T11:00:37.370Z"
   },
   {
    "duration": 0,
    "start_time": "2024-05-19T11:00:37.371Z"
   },
   {
    "duration": 0,
    "start_time": "2024-05-19T11:00:37.372Z"
   },
   {
    "duration": 0,
    "start_time": "2024-05-19T11:00:37.373Z"
   },
   {
    "duration": 0,
    "start_time": "2024-05-19T11:00:37.374Z"
   },
   {
    "duration": 864,
    "start_time": "2024-05-19T11:02:46.652Z"
   },
   {
    "duration": 8,
    "start_time": "2024-05-19T11:03:10.572Z"
   },
   {
    "duration": 9,
    "start_time": "2024-05-19T11:03:16.665Z"
   },
   {
    "duration": 10,
    "start_time": "2024-05-19T11:03:31.914Z"
   },
   {
    "duration": 6,
    "start_time": "2024-05-19T11:04:04.871Z"
   },
   {
    "duration": 7,
    "start_time": "2024-05-19T11:04:19.729Z"
   },
   {
    "duration": 31,
    "start_time": "2024-05-19T11:04:27.029Z"
   },
   {
    "duration": 26,
    "start_time": "2024-05-19T11:04:39.122Z"
   },
   {
    "duration": 26,
    "start_time": "2024-05-19T11:04:46.515Z"
   },
   {
    "duration": 8,
    "start_time": "2024-05-19T11:05:20.303Z"
   },
   {
    "duration": 10,
    "start_time": "2024-05-19T11:05:46.575Z"
   },
   {
    "duration": 258,
    "start_time": "2024-05-19T11:05:59.958Z"
   },
   {
    "duration": 83,
    "start_time": "2024-05-19T11:06:04.918Z"
   },
   {
    "duration": 16,
    "start_time": "2024-05-19T11:06:05.003Z"
   },
   {
    "duration": 17,
    "start_time": "2024-05-19T11:06:05.021Z"
   },
   {
    "duration": 17,
    "start_time": "2024-05-19T11:06:05.041Z"
   },
   {
    "duration": 80,
    "start_time": "2024-05-19T11:06:05.065Z"
   },
   {
    "duration": 4,
    "start_time": "2024-05-19T11:06:05.147Z"
   },
   {
    "duration": 12,
    "start_time": "2024-05-19T11:06:05.153Z"
   },
   {
    "duration": 16,
    "start_time": "2024-05-19T11:06:05.167Z"
   },
   {
    "duration": 17,
    "start_time": "2024-05-19T11:06:05.185Z"
   },
   {
    "duration": 23,
    "start_time": "2024-05-19T11:06:05.205Z"
   },
   {
    "duration": 59,
    "start_time": "2024-05-19T11:06:05.230Z"
   },
   {
    "duration": 11,
    "start_time": "2024-05-19T11:06:05.291Z"
   },
   {
    "duration": 9,
    "start_time": "2024-05-19T11:06:05.303Z"
   },
   {
    "duration": 81,
    "start_time": "2024-05-19T11:06:05.313Z"
   },
   {
    "duration": 35,
    "start_time": "2024-05-19T11:06:05.396Z"
   },
   {
    "duration": 17,
    "start_time": "2024-05-19T11:06:05.433Z"
   },
   {
    "duration": 4,
    "start_time": "2024-05-19T11:06:05.451Z"
   },
   {
    "duration": 15,
    "start_time": "2024-05-19T11:06:05.457Z"
   },
   {
    "duration": 17,
    "start_time": "2024-05-19T11:06:05.473Z"
   },
   {
    "duration": 10,
    "start_time": "2024-05-19T11:06:05.492Z"
   },
   {
    "duration": 271,
    "start_time": "2024-05-19T11:06:05.503Z"
   },
   {
    "duration": 64,
    "start_time": "2024-05-19T11:06:05.776Z"
   },
   {
    "duration": 68,
    "start_time": "2024-05-19T11:06:05.841Z"
   },
   {
    "duration": 46,
    "start_time": "2024-05-19T11:06:05.911Z"
   },
   {
    "duration": 7,
    "start_time": "2024-05-19T11:06:05.959Z"
   },
   {
    "duration": 912,
    "start_time": "2024-05-19T11:06:05.967Z"
   },
   {
    "duration": 0,
    "start_time": "2024-05-19T11:06:06.881Z"
   },
   {
    "duration": 0,
    "start_time": "2024-05-19T11:06:06.882Z"
   },
   {
    "duration": 0,
    "start_time": "2024-05-19T11:06:06.883Z"
   },
   {
    "duration": 0,
    "start_time": "2024-05-19T11:06:06.885Z"
   },
   {
    "duration": 0,
    "start_time": "2024-05-19T11:06:06.886Z"
   },
   {
    "duration": 0,
    "start_time": "2024-05-19T11:06:06.887Z"
   },
   {
    "duration": 0,
    "start_time": "2024-05-19T11:06:06.888Z"
   },
   {
    "duration": 0,
    "start_time": "2024-05-19T11:06:06.889Z"
   },
   {
    "duration": 0,
    "start_time": "2024-05-19T11:06:06.891Z"
   },
   {
    "duration": 0,
    "start_time": "2024-05-19T11:06:06.892Z"
   },
   {
    "duration": 0,
    "start_time": "2024-05-19T11:06:06.894Z"
   },
   {
    "duration": 0,
    "start_time": "2024-05-19T11:06:06.895Z"
   },
   {
    "duration": 8,
    "start_time": "2024-05-19T11:08:49.799Z"
   },
   {
    "duration": 11,
    "start_time": "2024-05-19T11:08:55.586Z"
   },
   {
    "duration": 8,
    "start_time": "2024-05-19T11:09:08.094Z"
   },
   {
    "duration": 10,
    "start_time": "2024-05-19T11:09:15.750Z"
   },
   {
    "duration": 8,
    "start_time": "2024-05-19T11:09:20.791Z"
   },
   {
    "duration": 4,
    "start_time": "2024-05-19T11:10:53.342Z"
   },
   {
    "duration": 223,
    "start_time": "2024-05-19T11:11:05.933Z"
   },
   {
    "duration": 88,
    "start_time": "2024-05-19T11:11:14.061Z"
   },
   {
    "duration": 18,
    "start_time": "2024-05-19T11:11:14.151Z"
   },
   {
    "duration": 34,
    "start_time": "2024-05-19T11:11:14.171Z"
   },
   {
    "duration": 26,
    "start_time": "2024-05-19T11:11:14.207Z"
   },
   {
    "duration": 60,
    "start_time": "2024-05-19T11:11:14.235Z"
   },
   {
    "duration": 4,
    "start_time": "2024-05-19T11:11:14.297Z"
   },
   {
    "duration": 14,
    "start_time": "2024-05-19T11:11:14.303Z"
   },
   {
    "duration": 4,
    "start_time": "2024-05-19T11:11:14.319Z"
   },
   {
    "duration": 5,
    "start_time": "2024-05-19T11:11:14.325Z"
   },
   {
    "duration": 13,
    "start_time": "2024-05-19T11:11:14.332Z"
   },
   {
    "duration": 66,
    "start_time": "2024-05-19T11:11:14.352Z"
   },
   {
    "duration": 11,
    "start_time": "2024-05-19T11:11:14.420Z"
   },
   {
    "duration": 18,
    "start_time": "2024-05-19T11:11:14.432Z"
   },
   {
    "duration": 18,
    "start_time": "2024-05-19T11:11:14.453Z"
   },
   {
    "duration": 26,
    "start_time": "2024-05-19T11:11:14.480Z"
   },
   {
    "duration": 68,
    "start_time": "2024-05-19T11:11:14.508Z"
   },
   {
    "duration": 33,
    "start_time": "2024-05-19T11:11:14.578Z"
   },
   {
    "duration": 29,
    "start_time": "2024-05-19T11:11:14.613Z"
   },
   {
    "duration": 14,
    "start_time": "2024-05-19T11:11:14.644Z"
   },
   {
    "duration": 4,
    "start_time": "2024-05-19T11:11:14.659Z"
   },
   {
    "duration": 10,
    "start_time": "2024-05-19T11:11:14.664Z"
   },
   {
    "duration": 3,
    "start_time": "2024-05-19T11:11:14.676Z"
   },
   {
    "duration": 31,
    "start_time": "2024-05-19T11:11:14.689Z"
   },
   {
    "duration": 23,
    "start_time": "2024-05-19T11:11:14.722Z"
   },
   {
    "duration": 7,
    "start_time": "2024-05-19T11:11:14.746Z"
   },
   {
    "duration": 39,
    "start_time": "2024-05-19T11:11:14.754Z"
   },
   {
    "duration": 16,
    "start_time": "2024-05-19T11:11:14.795Z"
   },
   {
    "duration": 25,
    "start_time": "2024-05-19T11:11:14.814Z"
   },
   {
    "duration": 0,
    "start_time": "2024-05-19T11:11:14.841Z"
   },
   {
    "duration": 0,
    "start_time": "2024-05-19T11:11:14.842Z"
   },
   {
    "duration": 0,
    "start_time": "2024-05-19T11:11:14.843Z"
   },
   {
    "duration": 0,
    "start_time": "2024-05-19T11:11:14.844Z"
   },
   {
    "duration": 0,
    "start_time": "2024-05-19T11:11:14.845Z"
   },
   {
    "duration": 0,
    "start_time": "2024-05-19T11:11:14.846Z"
   },
   {
    "duration": 0,
    "start_time": "2024-05-19T11:11:14.847Z"
   },
   {
    "duration": 0,
    "start_time": "2024-05-19T11:11:14.848Z"
   },
   {
    "duration": 0,
    "start_time": "2024-05-19T11:11:14.850Z"
   },
   {
    "duration": 0,
    "start_time": "2024-05-19T11:11:14.851Z"
   },
   {
    "duration": 221,
    "start_time": "2024-05-19T11:11:45.709Z"
   },
   {
    "duration": 95,
    "start_time": "2024-05-19T11:12:12.466Z"
   },
   {
    "duration": 34,
    "start_time": "2024-05-19T11:12:12.563Z"
   },
   {
    "duration": 28,
    "start_time": "2024-05-19T11:12:12.599Z"
   },
   {
    "duration": 12,
    "start_time": "2024-05-19T11:12:12.629Z"
   },
   {
    "duration": 55,
    "start_time": "2024-05-19T11:12:12.643Z"
   },
   {
    "duration": 3,
    "start_time": "2024-05-19T11:12:12.700Z"
   },
   {
    "duration": 55,
    "start_time": "2024-05-19T11:12:12.705Z"
   },
   {
    "duration": 45,
    "start_time": "2024-05-19T11:12:12.762Z"
   },
   {
    "duration": 38,
    "start_time": "2024-05-19T11:12:12.809Z"
   },
   {
    "duration": 15,
    "start_time": "2024-05-19T11:12:12.849Z"
   },
   {
    "duration": 62,
    "start_time": "2024-05-19T11:12:12.866Z"
   },
   {
    "duration": 15,
    "start_time": "2024-05-19T11:12:12.930Z"
   },
   {
    "duration": 4,
    "start_time": "2024-05-19T11:12:12.947Z"
   },
   {
    "duration": 13,
    "start_time": "2024-05-19T11:12:12.955Z"
   },
   {
    "duration": 35,
    "start_time": "2024-05-19T11:12:12.969Z"
   },
   {
    "duration": 19,
    "start_time": "2024-05-19T11:12:13.005Z"
   },
   {
    "duration": 4,
    "start_time": "2024-05-19T11:12:13.026Z"
   },
   {
    "duration": 19,
    "start_time": "2024-05-19T11:12:13.031Z"
   },
   {
    "duration": 41,
    "start_time": "2024-05-19T11:12:13.052Z"
   },
   {
    "duration": 3,
    "start_time": "2024-05-19T11:12:13.095Z"
   },
   {
    "duration": 32,
    "start_time": "2024-05-19T11:12:13.099Z"
   },
   {
    "duration": 5,
    "start_time": "2024-05-19T11:12:13.133Z"
   },
   {
    "duration": 24,
    "start_time": "2024-05-19T11:12:13.139Z"
   },
   {
    "duration": 27,
    "start_time": "2024-05-19T11:12:13.164Z"
   },
   {
    "duration": 7,
    "start_time": "2024-05-19T11:12:13.193Z"
   },
   {
    "duration": 17,
    "start_time": "2024-05-19T11:12:13.201Z"
   },
   {
    "duration": 11,
    "start_time": "2024-05-19T11:12:13.220Z"
   },
   {
    "duration": 17,
    "start_time": "2024-05-19T11:12:13.233Z"
   },
   {
    "duration": 13,
    "start_time": "2024-05-19T11:12:13.252Z"
   },
   {
    "duration": 95,
    "start_time": "2024-05-19T11:12:13.267Z"
   },
   {
    "duration": 57,
    "start_time": "2024-05-19T11:12:13.364Z"
   },
   {
    "duration": 27,
    "start_time": "2024-05-19T11:12:13.423Z"
   },
   {
    "duration": 10,
    "start_time": "2024-05-19T11:12:13.451Z"
   },
   {
    "duration": 49,
    "start_time": "2024-05-19T11:12:13.462Z"
   },
   {
    "duration": 25,
    "start_time": "2024-05-19T11:12:13.513Z"
   },
   {
    "duration": 48,
    "start_time": "2024-05-19T11:12:13.540Z"
   },
   {
    "duration": 207,
    "start_time": "2024-05-19T11:12:13.591Z"
   },
   {
    "duration": 25,
    "start_time": "2024-05-19T11:12:13.799Z"
   },
   {
    "duration": 241,
    "start_time": "2024-05-19T11:12:30.699Z"
   },
   {
    "duration": 100,
    "start_time": "2024-05-19T11:12:36.435Z"
   },
   {
    "duration": 18,
    "start_time": "2024-05-19T11:12:36.538Z"
   },
   {
    "duration": 76,
    "start_time": "2024-05-19T11:12:36.557Z"
   },
   {
    "duration": 31,
    "start_time": "2024-05-19T11:12:36.635Z"
   },
   {
    "duration": 59,
    "start_time": "2024-05-19T11:12:36.668Z"
   },
   {
    "duration": 3,
    "start_time": "2024-05-19T11:12:36.729Z"
   },
   {
    "duration": 35,
    "start_time": "2024-05-19T11:12:36.734Z"
   },
   {
    "duration": 39,
    "start_time": "2024-05-19T11:12:36.771Z"
   },
   {
    "duration": 59,
    "start_time": "2024-05-19T11:12:36.812Z"
   },
   {
    "duration": 41,
    "start_time": "2024-05-19T11:12:36.873Z"
   },
   {
    "duration": 61,
    "start_time": "2024-05-19T11:12:36.915Z"
   },
   {
    "duration": 18,
    "start_time": "2024-05-19T11:12:36.978Z"
   },
   {
    "duration": 41,
    "start_time": "2024-05-19T11:12:36.998Z"
   },
   {
    "duration": 34,
    "start_time": "2024-05-19T11:12:37.042Z"
   },
   {
    "duration": 37,
    "start_time": "2024-05-19T11:12:37.077Z"
   },
   {
    "duration": 38,
    "start_time": "2024-05-19T11:12:37.116Z"
   },
   {
    "duration": 36,
    "start_time": "2024-05-19T11:12:37.155Z"
   },
   {
    "duration": 33,
    "start_time": "2024-05-19T11:12:37.193Z"
   },
   {
    "duration": 12,
    "start_time": "2024-05-19T11:12:37.228Z"
   },
   {
    "duration": 25,
    "start_time": "2024-05-19T11:12:37.242Z"
   },
   {
    "duration": 73,
    "start_time": "2024-05-19T11:12:37.269Z"
   },
   {
    "duration": 81,
    "start_time": "2024-05-19T11:12:37.344Z"
   },
   {
    "duration": 38,
    "start_time": "2024-05-19T11:12:37.427Z"
   },
   {
    "duration": 50,
    "start_time": "2024-05-19T11:12:37.467Z"
   },
   {
    "duration": 22,
    "start_time": "2024-05-19T11:12:37.519Z"
   },
   {
    "duration": 19,
    "start_time": "2024-05-19T11:12:37.542Z"
   },
   {
    "duration": 253,
    "start_time": "2024-05-19T11:12:37.562Z"
   },
   {
    "duration": 87,
    "start_time": "2024-05-19T11:12:37.816Z"
   },
   {
    "duration": 17,
    "start_time": "2024-05-19T11:12:37.906Z"
   },
   {
    "duration": 43,
    "start_time": "2024-05-19T11:12:37.924Z"
   },
   {
    "duration": 2,
    "start_time": "2024-05-19T11:12:37.969Z"
   },
   {
    "duration": 43,
    "start_time": "2024-05-19T11:12:37.973Z"
   },
   {
    "duration": 10,
    "start_time": "2024-05-19T11:12:38.017Z"
   },
   {
    "duration": 26,
    "start_time": "2024-05-19T11:12:38.029Z"
   },
   {
    "duration": 19,
    "start_time": "2024-05-19T11:12:38.057Z"
   },
   {
    "duration": 105,
    "start_time": "2024-05-19T11:12:38.077Z"
   },
   {
    "duration": 19,
    "start_time": "2024-05-19T11:12:38.183Z"
   },
   {
    "duration": 25,
    "start_time": "2024-05-19T11:12:38.204Z"
   },
   {
    "duration": 7,
    "start_time": "2024-05-19T11:12:52.894Z"
   },
   {
    "duration": 10,
    "start_time": "2024-05-19T11:13:23.194Z"
   },
   {
    "duration": 22,
    "start_time": "2024-05-19T11:18:19.521Z"
   },
   {
    "duration": 24,
    "start_time": "2024-05-19T11:18:30.193Z"
   },
   {
    "duration": 19,
    "start_time": "2024-05-19T11:19:59.207Z"
   },
   {
    "duration": 8,
    "start_time": "2024-05-19T11:20:02.394Z"
   },
   {
    "duration": 11,
    "start_time": "2024-05-19T11:20:05.589Z"
   },
   {
    "duration": 16,
    "start_time": "2024-05-19T11:20:08.977Z"
   },
   {
    "duration": 7,
    "start_time": "2024-05-19T11:20:13.313Z"
   },
   {
    "duration": 14,
    "start_time": "2024-05-19T11:20:47.499Z"
   },
   {
    "duration": 23,
    "start_time": "2024-05-19T11:20:56.849Z"
   },
   {
    "duration": 10,
    "start_time": "2024-05-19T11:21:00.965Z"
   },
   {
    "duration": 10,
    "start_time": "2024-05-19T11:21:01.817Z"
   },
   {
    "duration": 28,
    "start_time": "2024-05-19T11:21:09.177Z"
   },
   {
    "duration": 88,
    "start_time": "2024-05-19T11:21:35.102Z"
   },
   {
    "duration": 15,
    "start_time": "2024-05-19T11:21:35.192Z"
   },
   {
    "duration": 30,
    "start_time": "2024-05-19T11:21:35.209Z"
   },
   {
    "duration": 12,
    "start_time": "2024-05-19T11:21:35.241Z"
   },
   {
    "duration": 47,
    "start_time": "2024-05-19T11:21:35.254Z"
   },
   {
    "duration": 3,
    "start_time": "2024-05-19T11:21:35.303Z"
   },
   {
    "duration": 55,
    "start_time": "2024-05-19T11:21:35.307Z"
   },
   {
    "duration": 5,
    "start_time": "2024-05-19T11:21:35.363Z"
   },
   {
    "duration": 105,
    "start_time": "2024-05-19T11:21:35.369Z"
   },
   {
    "duration": 134,
    "start_time": "2024-05-19T11:21:35.475Z"
   },
   {
    "duration": 180,
    "start_time": "2024-05-19T11:21:35.611Z"
   },
   {
    "duration": 113,
    "start_time": "2024-05-19T11:21:35.795Z"
   },
   {
    "duration": 63,
    "start_time": "2024-05-19T11:21:35.909Z"
   },
   {
    "duration": 18,
    "start_time": "2024-05-19T11:21:35.975Z"
   },
   {
    "duration": 47,
    "start_time": "2024-05-19T11:21:35.995Z"
   },
   {
    "duration": 18,
    "start_time": "2024-05-19T11:21:36.043Z"
   },
   {
    "duration": 3,
    "start_time": "2024-05-19T11:21:36.062Z"
   },
   {
    "duration": 22,
    "start_time": "2024-05-19T11:21:36.067Z"
   },
   {
    "duration": 13,
    "start_time": "2024-05-19T11:21:36.091Z"
   },
   {
    "duration": 10,
    "start_time": "2024-05-19T11:21:36.106Z"
   },
   {
    "duration": 97,
    "start_time": "2024-05-19T11:21:36.118Z"
   },
   {
    "duration": 3,
    "start_time": "2024-05-19T11:21:36.217Z"
   },
   {
    "duration": 22,
    "start_time": "2024-05-19T11:21:36.221Z"
   },
   {
    "duration": 21,
    "start_time": "2024-05-19T11:21:36.244Z"
   },
   {
    "duration": 5,
    "start_time": "2024-05-19T11:21:36.267Z"
   },
   {
    "duration": 18,
    "start_time": "2024-05-19T11:21:36.274Z"
   },
   {
    "duration": 12,
    "start_time": "2024-05-19T11:21:36.293Z"
   },
   {
    "duration": 17,
    "start_time": "2024-05-19T11:21:36.306Z"
   },
   {
    "duration": 21,
    "start_time": "2024-05-19T11:21:36.324Z"
   },
   {
    "duration": 6,
    "start_time": "2024-05-19T11:21:36.346Z"
   },
   {
    "duration": 22,
    "start_time": "2024-05-19T11:21:36.353Z"
   },
   {
    "duration": 16,
    "start_time": "2024-05-19T11:21:36.376Z"
   },
   {
    "duration": 16,
    "start_time": "2024-05-19T11:21:36.394Z"
   },
   {
    "duration": 50,
    "start_time": "2024-05-19T11:21:36.412Z"
   },
   {
    "duration": 142,
    "start_time": "2024-05-19T11:21:36.463Z"
   },
   {
    "duration": 162,
    "start_time": "2024-05-19T11:21:36.606Z"
   },
   {
    "duration": 29,
    "start_time": "2024-05-19T11:21:36.769Z"
   },
   {
    "duration": 23,
    "start_time": "2024-05-19T11:22:11.170Z"
   },
   {
    "duration": 15,
    "start_time": "2024-05-19T11:22:12.086Z"
   },
   {
    "duration": 25,
    "start_time": "2024-05-19T11:24:08.548Z"
   },
   {
    "duration": 18,
    "start_time": "2024-05-19T11:24:56.908Z"
   },
   {
    "duration": 10,
    "start_time": "2024-05-19T11:24:59.680Z"
   },
   {
    "duration": 8,
    "start_time": "2024-05-19T11:25:03.781Z"
   },
   {
    "duration": 11,
    "start_time": "2024-05-19T11:25:13.444Z"
   },
   {
    "duration": 10,
    "start_time": "2024-05-19T11:26:59.189Z"
   },
   {
    "duration": 30,
    "start_time": "2024-05-19T11:27:12.339Z"
   },
   {
    "duration": 21,
    "start_time": "2024-05-19T11:27:39.950Z"
   },
   {
    "duration": 13,
    "start_time": "2024-05-19T11:39:12.189Z"
   },
   {
    "duration": 10,
    "start_time": "2024-05-19T11:39:25.005Z"
   },
   {
    "duration": 26,
    "start_time": "2024-05-19T11:39:34.869Z"
   },
   {
    "duration": 31,
    "start_time": "2024-05-19T11:39:42.847Z"
   },
   {
    "duration": 12,
    "start_time": "2024-05-19T11:40:03.096Z"
   },
   {
    "duration": 11,
    "start_time": "2024-05-19T11:40:42.222Z"
   },
   {
    "duration": 22,
    "start_time": "2024-05-19T11:41:02.706Z"
   },
   {
    "duration": 12,
    "start_time": "2024-05-19T11:41:09.416Z"
   },
   {
    "duration": 236,
    "start_time": "2024-05-19T11:43:47.141Z"
   },
   {
    "duration": 85,
    "start_time": "2024-05-19T11:43:52.674Z"
   },
   {
    "duration": 33,
    "start_time": "2024-05-19T11:43:52.762Z"
   },
   {
    "duration": 36,
    "start_time": "2024-05-19T11:43:52.797Z"
   },
   {
    "duration": 25,
    "start_time": "2024-05-19T11:43:52.835Z"
   },
   {
    "duration": 49,
    "start_time": "2024-05-19T11:43:52.863Z"
   },
   {
    "duration": 4,
    "start_time": "2024-05-19T11:43:52.913Z"
   },
   {
    "duration": 38,
    "start_time": "2024-05-19T11:43:52.919Z"
   },
   {
    "duration": 15,
    "start_time": "2024-05-19T11:43:52.958Z"
   },
   {
    "duration": 25,
    "start_time": "2024-05-19T11:43:52.974Z"
   },
   {
    "duration": 9,
    "start_time": "2024-05-19T11:43:53.000Z"
   },
   {
    "duration": 39,
    "start_time": "2024-05-19T11:43:53.011Z"
   },
   {
    "duration": 12,
    "start_time": "2024-05-19T11:43:53.051Z"
   },
   {
    "duration": 30,
    "start_time": "2024-05-19T11:43:53.065Z"
   },
   {
    "duration": 12,
    "start_time": "2024-05-19T11:43:53.099Z"
   },
   {
    "duration": 32,
    "start_time": "2024-05-19T11:43:53.113Z"
   },
   {
    "duration": 24,
    "start_time": "2024-05-19T11:43:53.147Z"
   },
   {
    "duration": 3,
    "start_time": "2024-05-19T11:43:53.173Z"
   },
   {
    "duration": 28,
    "start_time": "2024-05-19T11:43:53.178Z"
   },
   {
    "duration": 8,
    "start_time": "2024-05-19T11:43:53.208Z"
   },
   {
    "duration": 10,
    "start_time": "2024-05-19T11:43:53.217Z"
   },
   {
    "duration": 15,
    "start_time": "2024-05-19T11:43:53.229Z"
   },
   {
    "duration": 3,
    "start_time": "2024-05-19T11:43:53.246Z"
   },
   {
    "duration": 34,
    "start_time": "2024-05-19T11:43:53.250Z"
   },
   {
    "duration": 27,
    "start_time": "2024-05-19T11:43:53.286Z"
   },
   {
    "duration": 7,
    "start_time": "2024-05-19T11:43:53.315Z"
   },
   {
    "duration": 35,
    "start_time": "2024-05-19T11:43:53.324Z"
   },
   {
    "duration": 79,
    "start_time": "2024-05-19T11:43:53.361Z"
   },
   {
    "duration": 20,
    "start_time": "2024-05-19T11:43:53.442Z"
   },
   {
    "duration": 30,
    "start_time": "2024-05-19T11:43:53.464Z"
   },
   {
    "duration": 71,
    "start_time": "2024-05-19T11:43:53.495Z"
   },
   {
    "duration": 39,
    "start_time": "2024-05-19T11:43:53.567Z"
   },
   {
    "duration": 235,
    "start_time": "2024-05-19T11:43:53.608Z"
   },
   {
    "duration": 0,
    "start_time": "2024-05-19T11:43:53.844Z"
   },
   {
    "duration": 0,
    "start_time": "2024-05-19T11:43:53.846Z"
   },
   {
    "duration": 0,
    "start_time": "2024-05-19T11:43:53.847Z"
   },
   {
    "duration": 0,
    "start_time": "2024-05-19T11:43:53.848Z"
   },
   {
    "duration": 0,
    "start_time": "2024-05-19T11:43:53.849Z"
   },
   {
    "duration": 235,
    "start_time": "2024-05-19T11:54:51.710Z"
   },
   {
    "duration": 80,
    "start_time": "2024-05-19T11:56:11.993Z"
   },
   {
    "duration": 19,
    "start_time": "2024-05-19T11:56:12.076Z"
   },
   {
    "duration": 27,
    "start_time": "2024-05-19T11:56:12.098Z"
   },
   {
    "duration": 17,
    "start_time": "2024-05-19T11:56:12.128Z"
   },
   {
    "duration": 62,
    "start_time": "2024-05-19T11:56:12.147Z"
   },
   {
    "duration": 3,
    "start_time": "2024-05-19T11:56:12.211Z"
   },
   {
    "duration": 13,
    "start_time": "2024-05-19T11:56:12.216Z"
   },
   {
    "duration": 4,
    "start_time": "2024-05-19T11:56:12.231Z"
   },
   {
    "duration": 89,
    "start_time": "2024-05-19T11:56:12.237Z"
   },
   {
    "duration": 20,
    "start_time": "2024-05-19T11:56:12.329Z"
   },
   {
    "duration": 43,
    "start_time": "2024-05-19T11:56:12.351Z"
   },
   {
    "duration": 13,
    "start_time": "2024-05-19T11:56:12.397Z"
   },
   {
    "duration": 5,
    "start_time": "2024-05-19T11:56:12.412Z"
   },
   {
    "duration": 13,
    "start_time": "2024-05-19T11:56:12.418Z"
   },
   {
    "duration": 48,
    "start_time": "2024-05-19T11:56:12.433Z"
   },
   {
    "duration": 20,
    "start_time": "2024-05-19T11:56:12.483Z"
   },
   {
    "duration": 5,
    "start_time": "2024-05-19T11:56:12.505Z"
   },
   {
    "duration": 18,
    "start_time": "2024-05-19T11:56:12.511Z"
   },
   {
    "duration": 14,
    "start_time": "2024-05-19T11:56:12.531Z"
   },
   {
    "duration": 38,
    "start_time": "2024-05-19T11:56:12.546Z"
   },
   {
    "duration": 16,
    "start_time": "2024-05-19T11:56:12.586Z"
   },
   {
    "duration": 4,
    "start_time": "2024-05-19T11:56:12.604Z"
   },
   {
    "duration": 33,
    "start_time": "2024-05-19T11:56:12.609Z"
   },
   {
    "duration": 41,
    "start_time": "2024-05-19T11:56:12.644Z"
   },
   {
    "duration": 9,
    "start_time": "2024-05-19T11:56:12.688Z"
   },
   {
    "duration": 27,
    "start_time": "2024-05-19T11:56:12.698Z"
   },
   {
    "duration": 11,
    "start_time": "2024-05-19T11:56:12.728Z"
   },
   {
    "duration": 11,
    "start_time": "2024-05-19T11:56:12.744Z"
   },
   {
    "duration": 24,
    "start_time": "2024-05-19T11:56:12.757Z"
   },
   {
    "duration": 56,
    "start_time": "2024-05-19T11:56:12.783Z"
   },
   {
    "duration": 53,
    "start_time": "2024-05-19T11:56:12.841Z"
   },
   {
    "duration": 22,
    "start_time": "2024-05-19T11:56:12.896Z"
   },
   {
    "duration": 3,
    "start_time": "2024-05-19T11:56:12.920Z"
   },
   {
    "duration": 23,
    "start_time": "2024-05-19T11:56:12.925Z"
   },
   {
    "duration": 34,
    "start_time": "2024-05-19T11:56:12.950Z"
   },
   {
    "duration": 7,
    "start_time": "2024-05-19T11:56:12.985Z"
   },
   {
    "duration": 887,
    "start_time": "2024-05-19T11:56:21.596Z"
   },
   {
    "duration": 860,
    "start_time": "2024-05-19T11:56:39.443Z"
   },
   {
    "duration": 864,
    "start_time": "2024-05-19T11:56:54.317Z"
   },
   {
    "duration": 76,
    "start_time": "2024-05-19T11:57:11.923Z"
   },
   {
    "duration": 16,
    "start_time": "2024-05-19T11:57:12.001Z"
   },
   {
    "duration": 48,
    "start_time": "2024-05-19T11:57:12.019Z"
   },
   {
    "duration": 20,
    "start_time": "2024-05-19T11:57:12.069Z"
   },
   {
    "duration": 46,
    "start_time": "2024-05-19T11:57:12.091Z"
   },
   {
    "duration": 4,
    "start_time": "2024-05-19T11:57:12.139Z"
   },
   {
    "duration": 16,
    "start_time": "2024-05-19T11:57:12.145Z"
   },
   {
    "duration": 19,
    "start_time": "2024-05-19T11:57:12.163Z"
   },
   {
    "duration": 19,
    "start_time": "2024-05-19T11:57:12.183Z"
   },
   {
    "duration": 8,
    "start_time": "2024-05-19T11:57:12.206Z"
   },
   {
    "duration": 67,
    "start_time": "2024-05-19T11:57:12.216Z"
   },
   {
    "duration": 36,
    "start_time": "2024-05-19T11:57:12.285Z"
   },
   {
    "duration": 7,
    "start_time": "2024-05-19T11:57:12.323Z"
   },
   {
    "duration": 24,
    "start_time": "2024-05-19T11:57:12.332Z"
   },
   {
    "duration": 28,
    "start_time": "2024-05-19T11:57:12.358Z"
   },
   {
    "duration": 20,
    "start_time": "2024-05-19T11:57:12.387Z"
   },
   {
    "duration": 4,
    "start_time": "2024-05-19T11:57:12.409Z"
   },
   {
    "duration": 20,
    "start_time": "2024-05-19T11:57:12.415Z"
   },
   {
    "duration": 25,
    "start_time": "2024-05-19T11:57:12.436Z"
   },
   {
    "duration": 8,
    "start_time": "2024-05-19T11:57:12.463Z"
   },
   {
    "duration": 18,
    "start_time": "2024-05-19T11:57:12.473Z"
   },
   {
    "duration": 6,
    "start_time": "2024-05-19T11:57:12.493Z"
   },
   {
    "duration": 34,
    "start_time": "2024-05-19T11:57:12.502Z"
   },
   {
    "duration": 49,
    "start_time": "2024-05-19T11:57:12.538Z"
   },
   {
    "duration": 9,
    "start_time": "2024-05-19T11:57:12.589Z"
   },
   {
    "duration": 11,
    "start_time": "2024-05-19T11:57:12.600Z"
   },
   {
    "duration": 16,
    "start_time": "2024-05-19T11:57:12.613Z"
   },
   {
    "duration": 19,
    "start_time": "2024-05-19T11:57:12.633Z"
   },
   {
    "duration": 27,
    "start_time": "2024-05-19T11:57:12.654Z"
   },
   {
    "duration": 3,
    "start_time": "2024-05-19T11:57:12.682Z"
   },
   {
    "duration": 36,
    "start_time": "2024-05-19T11:57:12.687Z"
   },
   {
    "duration": 10,
    "start_time": "2024-05-19T11:57:12.725Z"
   },
   {
    "duration": 11,
    "start_time": "2024-05-19T11:57:12.736Z"
   },
   {
    "duration": 54,
    "start_time": "2024-05-19T11:57:12.748Z"
   },
   {
    "duration": 102,
    "start_time": "2024-05-19T11:57:12.804Z"
   },
   {
    "duration": 34,
    "start_time": "2024-05-19T11:57:12.907Z"
   },
   {
    "duration": 16,
    "start_time": "2024-05-19T11:57:12.943Z"
   },
   {
    "duration": 5,
    "start_time": "2024-05-19T11:57:12.961Z"
   },
   {
    "duration": 13,
    "start_time": "2024-05-19T11:57:38.741Z"
   },
   {
    "duration": 11,
    "start_time": "2024-05-19T11:57:59.556Z"
   },
   {
    "duration": 11,
    "start_time": "2024-05-19T11:58:44.533Z"
   },
   {
    "duration": 21,
    "start_time": "2024-05-19T11:59:05.097Z"
   },
   {
    "duration": 10,
    "start_time": "2024-05-19T11:59:21.429Z"
   },
   {
    "duration": 9,
    "start_time": "2024-05-19T11:59:29.279Z"
   },
   {
    "duration": 12,
    "start_time": "2024-05-19T11:59:35.144Z"
   },
   {
    "duration": 20,
    "start_time": "2024-05-19T11:59:47.781Z"
   },
   {
    "duration": 883,
    "start_time": "2024-05-19T12:07:47.738Z"
   },
   {
    "duration": 9,
    "start_time": "2024-05-19T12:11:50.514Z"
   },
   {
    "duration": 77,
    "start_time": "2024-05-19T12:11:54.811Z"
   },
   {
    "duration": 16,
    "start_time": "2024-05-19T12:11:54.890Z"
   },
   {
    "duration": 78,
    "start_time": "2024-05-19T12:11:54.907Z"
   },
   {
    "duration": 20,
    "start_time": "2024-05-19T12:11:54.987Z"
   },
   {
    "duration": 38,
    "start_time": "2024-05-19T12:11:55.008Z"
   },
   {
    "duration": 4,
    "start_time": "2024-05-19T12:11:55.047Z"
   },
   {
    "duration": 16,
    "start_time": "2024-05-19T12:11:55.052Z"
   },
   {
    "duration": 5,
    "start_time": "2024-05-19T12:11:55.081Z"
   },
   {
    "duration": 28,
    "start_time": "2024-05-19T12:11:55.088Z"
   },
   {
    "duration": 17,
    "start_time": "2024-05-19T12:11:55.118Z"
   },
   {
    "duration": 45,
    "start_time": "2024-05-19T12:11:55.137Z"
   },
   {
    "duration": 11,
    "start_time": "2024-05-19T12:11:55.183Z"
   },
   {
    "duration": 7,
    "start_time": "2024-05-19T12:11:55.196Z"
   },
   {
    "duration": 15,
    "start_time": "2024-05-19T12:11:55.204Z"
   },
   {
    "duration": 30,
    "start_time": "2024-05-19T12:11:55.221Z"
   },
   {
    "duration": 32,
    "start_time": "2024-05-19T12:11:55.253Z"
   },
   {
    "duration": 4,
    "start_time": "2024-05-19T12:11:55.287Z"
   },
   {
    "duration": 14,
    "start_time": "2024-05-19T12:11:55.293Z"
   },
   {
    "duration": 22,
    "start_time": "2024-05-19T12:11:55.309Z"
   },
   {
    "duration": 3,
    "start_time": "2024-05-19T12:11:55.333Z"
   },
   {
    "duration": 13,
    "start_time": "2024-05-19T12:11:55.338Z"
   },
   {
    "duration": 11,
    "start_time": "2024-05-19T12:11:55.353Z"
   },
   {
    "duration": 28,
    "start_time": "2024-05-19T12:11:55.366Z"
   },
   {
    "duration": 33,
    "start_time": "2024-05-19T12:11:55.396Z"
   },
   {
    "duration": 7,
    "start_time": "2024-05-19T12:11:55.431Z"
   },
   {
    "duration": 10,
    "start_time": "2024-05-19T12:11:55.439Z"
   },
   {
    "duration": 70,
    "start_time": "2024-05-19T12:11:55.457Z"
   },
   {
    "duration": 13,
    "start_time": "2024-05-19T12:11:55.532Z"
   },
   {
    "duration": 12,
    "start_time": "2024-05-19T12:11:55.548Z"
   },
   {
    "duration": 12,
    "start_time": "2024-05-19T12:11:55.561Z"
   },
   {
    "duration": 100,
    "start_time": "2024-05-19T12:11:55.575Z"
   },
   {
    "duration": 61,
    "start_time": "2024-05-19T12:11:55.677Z"
   },
   {
    "duration": 48,
    "start_time": "2024-05-19T12:11:55.739Z"
   },
   {
    "duration": 69,
    "start_time": "2024-05-19T12:11:55.789Z"
   },
   {
    "duration": 30,
    "start_time": "2024-05-19T12:11:55.859Z"
   },
   {
    "duration": 186,
    "start_time": "2024-05-19T12:11:55.891Z"
   },
   {
    "duration": 57,
    "start_time": "2024-05-19T12:11:56.079Z"
   },
   {
    "duration": 12,
    "start_time": "2024-05-19T12:11:56.138Z"
   },
   {
    "duration": 8,
    "start_time": "2024-05-19T12:12:17.557Z"
   },
   {
    "duration": 8,
    "start_time": "2024-05-19T12:12:26.349Z"
   },
   {
    "duration": 10,
    "start_time": "2024-05-19T12:12:36.162Z"
   },
   {
    "duration": 10,
    "start_time": "2024-05-19T12:12:38.495Z"
   },
   {
    "duration": 6,
    "start_time": "2024-05-19T12:16:45.398Z"
   },
   {
    "duration": 8,
    "start_time": "2024-05-19T12:17:06.889Z"
   },
   {
    "duration": 84,
    "start_time": "2024-05-19T12:19:34.802Z"
   },
   {
    "duration": 17,
    "start_time": "2024-05-19T12:19:34.888Z"
   },
   {
    "duration": 133,
    "start_time": "2024-05-19T12:19:34.906Z"
   },
   {
    "duration": 177,
    "start_time": "2024-05-19T12:19:35.040Z"
   },
   {
    "duration": 60,
    "start_time": "2024-05-19T12:19:35.219Z"
   },
   {
    "duration": 3,
    "start_time": "2024-05-19T12:19:35.280Z"
   },
   {
    "duration": 20,
    "start_time": "2024-05-19T12:19:35.285Z"
   },
   {
    "duration": 27,
    "start_time": "2024-05-19T12:19:35.306Z"
   },
   {
    "duration": 36,
    "start_time": "2024-05-19T12:19:35.334Z"
   },
   {
    "duration": 11,
    "start_time": "2024-05-19T12:19:35.372Z"
   },
   {
    "duration": 52,
    "start_time": "2024-05-19T12:19:35.384Z"
   },
   {
    "duration": 11,
    "start_time": "2024-05-19T12:19:35.438Z"
   },
   {
    "duration": 15,
    "start_time": "2024-05-19T12:19:35.451Z"
   },
   {
    "duration": 16,
    "start_time": "2024-05-19T12:19:35.469Z"
   },
   {
    "duration": 61,
    "start_time": "2024-05-19T12:19:35.487Z"
   },
   {
    "duration": 18,
    "start_time": "2024-05-19T12:19:35.549Z"
   },
   {
    "duration": 3,
    "start_time": "2024-05-19T12:19:35.569Z"
   },
   {
    "duration": 24,
    "start_time": "2024-05-19T12:19:35.573Z"
   },
   {
    "duration": 6,
    "start_time": "2024-05-19T12:19:35.599Z"
   },
   {
    "duration": 4,
    "start_time": "2024-05-19T12:19:35.607Z"
   },
   {
    "duration": 26,
    "start_time": "2024-05-19T12:19:35.613Z"
   },
   {
    "duration": 59,
    "start_time": "2024-05-19T12:19:35.640Z"
   },
   {
    "duration": 58,
    "start_time": "2024-05-19T12:19:35.701Z"
   },
   {
    "duration": 34,
    "start_time": "2024-05-19T12:19:35.761Z"
   },
   {
    "duration": 27,
    "start_time": "2024-05-19T12:19:35.797Z"
   },
   {
    "duration": 35,
    "start_time": "2024-05-19T12:19:35.826Z"
   },
   {
    "duration": 54,
    "start_time": "2024-05-19T12:19:35.862Z"
   },
   {
    "duration": 161,
    "start_time": "2024-05-19T12:19:35.918Z"
   },
   {
    "duration": 161,
    "start_time": "2024-05-19T12:19:36.080Z"
   },
   {
    "duration": 10,
    "start_time": "2024-05-19T12:19:36.243Z"
   },
   {
    "duration": 48,
    "start_time": "2024-05-19T12:19:36.255Z"
   },
   {
    "duration": 22,
    "start_time": "2024-05-19T12:19:36.304Z"
   },
   {
    "duration": 116,
    "start_time": "2024-05-19T12:19:36.328Z"
   },
   {
    "duration": 66,
    "start_time": "2024-05-19T12:19:36.446Z"
   },
   {
    "duration": 43,
    "start_time": "2024-05-19T12:19:36.514Z"
   },
   {
    "duration": 16,
    "start_time": "2024-05-19T12:19:36.559Z"
   },
   {
    "duration": 8,
    "start_time": "2024-05-19T12:19:36.576Z"
   },
   {
    "duration": 11,
    "start_time": "2024-05-19T12:20:16.335Z"
   },
   {
    "duration": 10,
    "start_time": "2024-05-19T12:20:24.915Z"
   },
   {
    "duration": 10,
    "start_time": "2024-05-19T12:20:41.352Z"
   },
   {
    "duration": 20,
    "start_time": "2024-05-19T12:21:01.898Z"
   },
   {
    "duration": 19,
    "start_time": "2024-05-19T12:21:58.204Z"
   },
   {
    "duration": 11,
    "start_time": "2024-05-19T12:22:55.410Z"
   },
   {
    "duration": 20,
    "start_time": "2024-05-19T12:24:51.400Z"
   },
   {
    "duration": 18,
    "start_time": "2024-05-19T12:26:04.281Z"
   },
   {
    "duration": 6,
    "start_time": "2024-05-19T12:26:21.997Z"
   },
   {
    "duration": 6,
    "start_time": "2024-05-19T12:27:12.432Z"
   },
   {
    "duration": 7,
    "start_time": "2024-05-19T12:27:23.224Z"
   },
   {
    "duration": 9,
    "start_time": "2024-05-19T12:28:16.229Z"
   },
   {
    "duration": 13,
    "start_time": "2024-05-19T12:29:23.389Z"
   },
   {
    "duration": 8,
    "start_time": "2024-05-19T12:29:47.621Z"
   },
   {
    "duration": 24,
    "start_time": "2024-05-19T13:42:23.798Z"
   },
   {
    "duration": 27,
    "start_time": "2024-05-19T13:44:17.874Z"
   },
   {
    "duration": 10,
    "start_time": "2024-05-19T13:45:21.600Z"
   },
   {
    "duration": 26,
    "start_time": "2024-05-19T13:45:55.904Z"
   },
   {
    "duration": 11,
    "start_time": "2024-05-19T13:46:02.759Z"
   },
   {
    "duration": 8,
    "start_time": "2024-05-19T13:46:33.629Z"
   },
   {
    "duration": 4,
    "start_time": "2024-05-19T13:49:30.608Z"
   },
   {
    "duration": 21,
    "start_time": "2024-05-19T13:50:35.847Z"
   },
   {
    "duration": 45,
    "start_time": "2024-05-19T13:50:45.550Z"
   },
   {
    "duration": 20,
    "start_time": "2024-05-19T13:51:12.829Z"
   },
   {
    "duration": 18,
    "start_time": "2024-05-19T13:51:18.927Z"
   },
   {
    "duration": 7,
    "start_time": "2024-05-19T13:51:24.311Z"
   },
   {
    "duration": 10,
    "start_time": "2024-05-19T13:51:25.089Z"
   },
   {
    "duration": 9,
    "start_time": "2024-05-19T13:51:25.831Z"
   },
   {
    "duration": 9,
    "start_time": "2024-05-19T13:51:26.535Z"
   },
   {
    "duration": 16,
    "start_time": "2024-05-19T13:52:51.448Z"
   },
   {
    "duration": 18,
    "start_time": "2024-05-19T13:55:14.717Z"
   },
   {
    "duration": 20,
    "start_time": "2024-05-19T13:58:45.840Z"
   },
   {
    "duration": 20,
    "start_time": "2024-05-19T14:00:16.392Z"
   },
   {
    "duration": 14,
    "start_time": "2024-05-19T14:02:02.145Z"
   },
   {
    "duration": 3,
    "start_time": "2024-05-19T14:05:57.963Z"
   },
   {
    "duration": 4,
    "start_time": "2024-05-19T14:06:08.173Z"
   },
   {
    "duration": 20,
    "start_time": "2024-05-19T14:06:08.840Z"
   },
   {
    "duration": 25,
    "start_time": "2024-05-19T14:07:18.213Z"
   },
   {
    "duration": 7,
    "start_time": "2024-05-19T14:07:19.110Z"
   },
   {
    "duration": 10,
    "start_time": "2024-05-19T14:07:20.681Z"
   },
   {
    "duration": 10,
    "start_time": "2024-05-19T14:07:23.139Z"
   },
   {
    "duration": 3,
    "start_time": "2024-05-19T14:07:44.455Z"
   },
   {
    "duration": 21,
    "start_time": "2024-05-19T14:07:45.970Z"
   },
   {
    "duration": 18,
    "start_time": "2024-05-19T14:07:48.114Z"
   },
   {
    "duration": 10,
    "start_time": "2024-05-19T14:07:48.956Z"
   },
   {
    "duration": 8,
    "start_time": "2024-05-19T14:07:49.863Z"
   },
   {
    "duration": 10,
    "start_time": "2024-05-19T14:07:53.217Z"
   },
   {
    "duration": 9,
    "start_time": "2024-05-19T14:07:55.111Z"
   },
   {
    "duration": 67,
    "start_time": "2024-05-20T10:03:05.539Z"
   },
   {
    "duration": 592,
    "start_time": "2024-05-20T12:35:50.531Z"
   },
   {
    "duration": 19,
    "start_time": "2024-05-20T12:35:51.125Z"
   },
   {
    "duration": 14,
    "start_time": "2024-05-20T12:35:51.146Z"
   },
   {
    "duration": 27,
    "start_time": "2024-05-20T12:35:51.161Z"
   },
   {
    "duration": 53,
    "start_time": "2024-05-20T12:35:51.189Z"
   },
   {
    "duration": 3,
    "start_time": "2024-05-20T12:35:51.243Z"
   },
   {
    "duration": 13,
    "start_time": "2024-05-20T12:35:51.247Z"
   },
   {
    "duration": 3,
    "start_time": "2024-05-20T12:35:51.262Z"
   },
   {
    "duration": 10,
    "start_time": "2024-05-20T12:35:51.267Z"
   },
   {
    "duration": 4,
    "start_time": "2024-05-20T12:35:51.279Z"
   },
   {
    "duration": 36,
    "start_time": "2024-05-20T12:35:51.285Z"
   },
   {
    "duration": 11,
    "start_time": "2024-05-20T12:35:51.323Z"
   },
   {
    "duration": 22,
    "start_time": "2024-05-20T12:35:51.335Z"
   },
   {
    "duration": 26,
    "start_time": "2024-05-20T12:35:51.358Z"
   },
   {
    "duration": 20,
    "start_time": "2024-05-20T12:35:51.385Z"
   },
   {
    "duration": 15,
    "start_time": "2024-05-20T12:35:51.406Z"
   },
   {
    "duration": 3,
    "start_time": "2024-05-20T12:35:51.423Z"
   },
   {
    "duration": 23,
    "start_time": "2024-05-20T12:35:51.427Z"
   },
   {
    "duration": 5,
    "start_time": "2024-05-20T12:35:51.452Z"
   },
   {
    "duration": 7,
    "start_time": "2024-05-20T12:35:51.459Z"
   },
   {
    "duration": 11,
    "start_time": "2024-05-20T12:35:51.467Z"
   },
   {
    "duration": 5,
    "start_time": "2024-05-20T12:35:51.479Z"
   },
   {
    "duration": 19,
    "start_time": "2024-05-20T12:35:51.485Z"
   },
   {
    "duration": 21,
    "start_time": "2024-05-20T12:35:51.506Z"
   },
   {
    "duration": 5,
    "start_time": "2024-05-20T12:35:51.529Z"
   },
   {
    "duration": 8,
    "start_time": "2024-05-20T12:35:51.564Z"
   },
   {
    "duration": 25,
    "start_time": "2024-05-20T12:35:51.573Z"
   },
   {
    "duration": 19,
    "start_time": "2024-05-20T12:35:51.601Z"
   },
   {
    "duration": 37,
    "start_time": "2024-05-20T12:35:51.622Z"
   },
   {
    "duration": 10,
    "start_time": "2024-05-20T12:35:51.661Z"
   },
   {
    "duration": 27,
    "start_time": "2024-05-20T12:35:51.673Z"
   },
   {
    "duration": 19,
    "start_time": "2024-05-20T12:35:51.702Z"
   },
   {
    "duration": 43,
    "start_time": "2024-05-20T12:35:51.722Z"
   },
   {
    "duration": 12,
    "start_time": "2024-05-20T12:35:51.766Z"
   },
   {
    "duration": 42,
    "start_time": "2024-05-20T12:35:51.779Z"
   },
   {
    "duration": 15,
    "start_time": "2024-05-20T12:35:51.822Z"
   },
   {
    "duration": 4,
    "start_time": "2024-05-20T13:33:45.194Z"
   },
   {
    "duration": 10,
    "start_time": "2024-05-20T13:33:53.760Z"
   },
   {
    "duration": 3,
    "start_time": "2024-05-20T13:34:00.928Z"
   },
   {
    "duration": 4,
    "start_time": "2024-05-20T13:34:05.000Z"
   },
   {
    "duration": 5,
    "start_time": "2024-05-20T13:34:20.285Z"
   },
   {
    "duration": 3,
    "start_time": "2024-05-20T13:34:27.561Z"
   },
   {
    "duration": 62,
    "start_time": "2024-05-20T13:36:22.191Z"
   },
   {
    "duration": 43,
    "start_time": "2024-05-20T13:37:00.527Z"
   },
   {
    "duration": 8,
    "start_time": "2024-05-20T13:37:14.661Z"
   },
   {
    "duration": 693,
    "start_time": "2024-05-20T13:37:47.095Z"
   },
   {
    "duration": 18,
    "start_time": "2024-05-20T13:37:47.790Z"
   },
   {
    "duration": 15,
    "start_time": "2024-05-20T13:37:47.809Z"
   },
   {
    "duration": 10,
    "start_time": "2024-05-20T13:37:47.825Z"
   },
   {
    "duration": 40,
    "start_time": "2024-05-20T13:37:47.837Z"
   },
   {
    "duration": 4,
    "start_time": "2024-05-20T13:37:47.894Z"
   },
   {
    "duration": 28,
    "start_time": "2024-05-20T13:37:47.899Z"
   },
   {
    "duration": 33,
    "start_time": "2024-05-20T13:37:47.929Z"
   },
   {
    "duration": 20,
    "start_time": "2024-05-20T13:37:47.963Z"
   },
   {
    "duration": 97,
    "start_time": "2024-05-20T13:37:47.985Z"
   },
   {
    "duration": 47,
    "start_time": "2024-05-20T13:37:48.084Z"
   },
   {
    "duration": 12,
    "start_time": "2024-05-20T13:37:48.132Z"
   },
   {
    "duration": 19,
    "start_time": "2024-05-20T13:37:48.146Z"
   },
   {
    "duration": 29,
    "start_time": "2024-05-20T13:37:48.169Z"
   },
   {
    "duration": 61,
    "start_time": "2024-05-20T13:37:48.200Z"
   },
   {
    "duration": 46,
    "start_time": "2024-05-20T13:37:48.263Z"
   },
   {
    "duration": 9,
    "start_time": "2024-05-20T13:37:48.311Z"
   },
   {
    "duration": 27,
    "start_time": "2024-05-20T13:37:48.322Z"
   },
   {
    "duration": 18,
    "start_time": "2024-05-20T13:37:48.351Z"
   },
   {
    "duration": 47,
    "start_time": "2024-05-20T13:37:48.371Z"
   },
   {
    "duration": 12,
    "start_time": "2024-05-20T13:37:48.420Z"
   },
   {
    "duration": 91,
    "start_time": "2024-05-20T13:37:48.434Z"
   },
   {
    "duration": 131,
    "start_time": "2024-05-20T13:37:48.527Z"
   },
   {
    "duration": 36,
    "start_time": "2024-05-20T13:37:48.660Z"
   },
   {
    "duration": 6,
    "start_time": "2024-05-20T13:37:48.697Z"
   },
   {
    "duration": 28,
    "start_time": "2024-05-20T13:37:48.705Z"
   },
   {
    "duration": 13,
    "start_time": "2024-05-20T13:37:48.734Z"
   },
   {
    "duration": 23,
    "start_time": "2024-05-20T13:37:48.749Z"
   },
   {
    "duration": 34,
    "start_time": "2024-05-20T13:37:48.773Z"
   },
   {
    "duration": 61,
    "start_time": "2024-05-20T13:37:48.808Z"
   },
   {
    "duration": 25,
    "start_time": "2024-05-20T13:37:48.871Z"
   },
   {
    "duration": 10,
    "start_time": "2024-05-20T13:37:48.898Z"
   },
   {
    "duration": 36,
    "start_time": "2024-05-20T13:37:48.910Z"
   },
   {
    "duration": 24,
    "start_time": "2024-05-20T13:37:48.948Z"
   },
   {
    "duration": 38,
    "start_time": "2024-05-20T13:37:48.974Z"
   },
   {
    "duration": 12,
    "start_time": "2024-05-20T13:37:49.014Z"
   },
   {
    "duration": 62,
    "start_time": "2024-05-20T13:38:18.929Z"
   },
   {
    "duration": 3,
    "start_time": "2024-05-20T13:38:39.957Z"
   },
   {
    "duration": 20,
    "start_time": "2024-05-20T13:38:44.269Z"
   },
   {
    "duration": 21,
    "start_time": "2024-05-20T13:38:45.559Z"
   },
   {
    "duration": 4,
    "start_time": "2024-05-20T13:39:45.084Z"
   },
   {
    "duration": 56,
    "start_time": "2024-05-20T13:39:49.940Z"
   },
   {
    "duration": 60,
    "start_time": "2024-05-20T13:39:56.205Z"
   },
   {
    "duration": 4,
    "start_time": "2024-05-20T13:40:14.875Z"
   },
   {
    "duration": 3,
    "start_time": "2024-05-20T13:40:20.175Z"
   },
   {
    "duration": 19,
    "start_time": "2024-05-20T13:40:24.698Z"
   },
   {
    "duration": 3,
    "start_time": "2024-05-20T13:42:47.075Z"
   },
   {
    "duration": 20,
    "start_time": "2024-05-20T13:42:49.095Z"
   },
   {
    "duration": 3,
    "start_time": "2024-05-20T13:42:55.847Z"
   },
   {
    "duration": 5,
    "start_time": "2024-05-20T13:42:59.533Z"
   },
   {
    "duration": 5,
    "start_time": "2024-05-20T13:43:03.732Z"
   },
   {
    "duration": 4,
    "start_time": "2024-05-20T13:43:14.310Z"
   },
   {
    "duration": 4,
    "start_time": "2024-05-20T13:45:36.421Z"
   },
   {
    "duration": 24,
    "start_time": "2024-05-20T13:45:42.702Z"
   },
   {
    "duration": 3,
    "start_time": "2024-05-20T13:45:56.002Z"
   },
   {
    "duration": 18,
    "start_time": "2024-05-20T13:46:00.958Z"
   },
   {
    "duration": 20,
    "start_time": "2024-05-20T13:46:59.521Z"
   },
   {
    "duration": 19,
    "start_time": "2024-05-20T13:47:00.492Z"
   },
   {
    "duration": 6,
    "start_time": "2024-05-20T13:47:04.207Z"
   },
   {
    "duration": 8,
    "start_time": "2024-05-20T13:47:06.703Z"
   },
   {
    "duration": 13,
    "start_time": "2024-05-20T13:47:08.498Z"
   },
   {
    "duration": 8,
    "start_time": "2024-05-20T13:47:19.711Z"
   },
   {
    "duration": 9,
    "start_time": "2024-05-20T13:47:45.796Z"
   },
   {
    "duration": 8,
    "start_time": "2024-05-20T13:47:46.675Z"
   },
   {
    "duration": 71,
    "start_time": "2024-05-20T13:47:54.762Z"
   },
   {
    "duration": 14,
    "start_time": "2024-05-20T13:47:54.835Z"
   },
   {
    "duration": 28,
    "start_time": "2024-05-20T13:47:54.850Z"
   },
   {
    "duration": 18,
    "start_time": "2024-05-20T13:47:54.880Z"
   },
   {
    "duration": 39,
    "start_time": "2024-05-20T13:47:54.900Z"
   },
   {
    "duration": 3,
    "start_time": "2024-05-20T13:47:54.941Z"
   },
   {
    "duration": 48,
    "start_time": "2024-05-20T13:47:54.946Z"
   },
   {
    "duration": 18,
    "start_time": "2024-05-20T13:47:54.996Z"
   },
   {
    "duration": 91,
    "start_time": "2024-05-20T13:47:55.015Z"
   },
   {
    "duration": 94,
    "start_time": "2024-05-20T13:47:55.108Z"
   },
   {
    "duration": 108,
    "start_time": "2024-05-20T13:47:55.204Z"
   },
   {
    "duration": 33,
    "start_time": "2024-05-20T13:47:55.314Z"
   },
   {
    "duration": 17,
    "start_time": "2024-05-20T13:47:55.348Z"
   },
   {
    "duration": 30,
    "start_time": "2024-05-20T13:47:55.366Z"
   },
   {
    "duration": 48,
    "start_time": "2024-05-20T13:47:55.398Z"
   },
   {
    "duration": 116,
    "start_time": "2024-05-20T13:47:55.447Z"
   },
   {
    "duration": 70,
    "start_time": "2024-05-20T13:47:55.564Z"
   },
   {
    "duration": 34,
    "start_time": "2024-05-20T13:47:55.635Z"
   },
   {
    "duration": 39,
    "start_time": "2024-05-20T13:47:55.670Z"
   },
   {
    "duration": 34,
    "start_time": "2024-05-20T13:47:55.711Z"
   },
   {
    "duration": 129,
    "start_time": "2024-05-20T13:47:55.747Z"
   },
   {
    "duration": 23,
    "start_time": "2024-05-20T13:47:55.877Z"
   },
   {
    "duration": 25,
    "start_time": "2024-05-20T13:47:55.901Z"
   },
   {
    "duration": 54,
    "start_time": "2024-05-20T13:47:55.927Z"
   },
   {
    "duration": 38,
    "start_time": "2024-05-20T13:47:55.982Z"
   },
   {
    "duration": 102,
    "start_time": "2024-05-20T13:47:56.022Z"
   },
   {
    "duration": 16,
    "start_time": "2024-05-20T13:47:56.125Z"
   },
   {
    "duration": 14,
    "start_time": "2024-05-20T13:47:56.144Z"
   },
   {
    "duration": 65,
    "start_time": "2024-05-20T13:47:56.159Z"
   },
   {
    "duration": 49,
    "start_time": "2024-05-20T13:47:56.225Z"
   },
   {
    "duration": 98,
    "start_time": "2024-05-20T13:47:56.276Z"
   },
   {
    "duration": 286,
    "start_time": "2024-05-20T13:47:56.375Z"
   },
   {
    "duration": 26,
    "start_time": "2024-05-20T13:47:56.663Z"
   },
   {
    "duration": 21,
    "start_time": "2024-05-20T13:47:56.690Z"
   },
   {
    "duration": 22,
    "start_time": "2024-05-20T13:47:56.713Z"
   },
   {
    "duration": 11,
    "start_time": "2024-05-20T13:47:56.736Z"
   },
   {
    "duration": 4,
    "start_time": "2024-05-20T15:00:28.528Z"
   },
   {
    "duration": 20,
    "start_time": "2024-05-20T15:00:31.580Z"
   },
   {
    "duration": 19,
    "start_time": "2024-05-20T15:00:33.126Z"
   },
   {
    "duration": 7,
    "start_time": "2024-05-20T15:00:58.559Z"
   },
   {
    "duration": 8,
    "start_time": "2024-05-20T15:00:59.185Z"
   },
   {
    "duration": 9,
    "start_time": "2024-05-20T15:01:00.051Z"
   },
   {
    "duration": 58,
    "start_time": "2024-05-20T15:07:11.918Z"
   },
   {
    "duration": 55,
    "start_time": "2024-05-20T15:07:36.259Z"
   },
   {
    "duration": 3,
    "start_time": "2024-05-20T15:07:45.312Z"
   },
   {
    "duration": 2,
    "start_time": "2024-05-20T15:07:53.406Z"
   },
   {
    "duration": 77,
    "start_time": "2024-05-20T15:07:58.343Z"
   },
   {
    "duration": 16,
    "start_time": "2024-05-20T15:07:58.421Z"
   },
   {
    "duration": 54,
    "start_time": "2024-05-20T15:07:58.439Z"
   },
   {
    "duration": 114,
    "start_time": "2024-05-20T15:07:58.494Z"
   },
   {
    "duration": 88,
    "start_time": "2024-05-20T15:07:58.611Z"
   },
   {
    "duration": 3,
    "start_time": "2024-05-20T15:07:58.700Z"
   },
   {
    "duration": 16,
    "start_time": "2024-05-20T15:07:58.705Z"
   },
   {
    "duration": 28,
    "start_time": "2024-05-20T15:07:58.722Z"
   },
   {
    "duration": 29,
    "start_time": "2024-05-20T15:07:58.751Z"
   },
   {
    "duration": 82,
    "start_time": "2024-05-20T15:07:58.782Z"
   },
   {
    "duration": 79,
    "start_time": "2024-05-20T15:07:58.865Z"
   },
   {
    "duration": 31,
    "start_time": "2024-05-20T15:07:58.946Z"
   },
   {
    "duration": 36,
    "start_time": "2024-05-20T15:07:58.978Z"
   },
   {
    "duration": 56,
    "start_time": "2024-05-20T15:07:59.017Z"
   },
   {
    "duration": 59,
    "start_time": "2024-05-20T15:07:59.074Z"
   },
   {
    "duration": 96,
    "start_time": "2024-05-20T15:07:59.134Z"
   },
   {
    "duration": 37,
    "start_time": "2024-05-20T15:07:59.232Z"
   },
   {
    "duration": 29,
    "start_time": "2024-05-20T15:07:59.271Z"
   },
   {
    "duration": 19,
    "start_time": "2024-05-20T15:07:59.302Z"
   },
   {
    "duration": 119,
    "start_time": "2024-05-20T15:07:59.323Z"
   },
   {
    "duration": 106,
    "start_time": "2024-05-20T15:07:59.444Z"
   },
   {
    "duration": 58,
    "start_time": "2024-05-20T15:07:59.551Z"
   },
   {
    "duration": 149,
    "start_time": "2024-05-20T15:07:59.610Z"
   },
   {
    "duration": 40,
    "start_time": "2024-05-20T15:07:59.761Z"
   },
   {
    "duration": 64,
    "start_time": "2024-05-20T15:07:59.802Z"
   },
   {
    "duration": 31,
    "start_time": "2024-05-20T15:07:59.867Z"
   },
   {
    "duration": 43,
    "start_time": "2024-05-20T15:07:59.899Z"
   },
   {
    "duration": 59,
    "start_time": "2024-05-20T15:07:59.943Z"
   },
   {
    "duration": 70,
    "start_time": "2024-05-20T15:08:00.004Z"
   },
   {
    "duration": 82,
    "start_time": "2024-05-20T15:08:00.076Z"
   },
   {
    "duration": 166,
    "start_time": "2024-05-20T15:08:00.159Z"
   },
   {
    "duration": 173,
    "start_time": "2024-05-20T15:08:00.326Z"
   },
   {
    "duration": 184,
    "start_time": "2024-05-20T15:08:00.500Z"
   },
   {
    "duration": 88,
    "start_time": "2024-05-20T15:08:00.685Z"
   },
   {
    "duration": 134,
    "start_time": "2024-05-20T15:08:00.775Z"
   },
   {
    "duration": 178,
    "start_time": "2024-05-20T15:08:00.910Z"
   },
   {
    "duration": 97,
    "start_time": "2024-05-20T15:08:01.090Z"
   },
   {
    "duration": 142,
    "start_time": "2024-05-20T15:12:26.956Z"
   },
   {
    "duration": 60,
    "start_time": "2024-05-20T15:12:41.925Z"
   },
   {
    "duration": 4,
    "start_time": "2024-05-20T15:12:54.447Z"
   },
   {
    "duration": 4,
    "start_time": "2024-05-20T15:13:03.127Z"
   },
   {
    "duration": 74,
    "start_time": "2024-05-20T15:13:06.144Z"
   },
   {
    "duration": 14,
    "start_time": "2024-05-20T15:13:06.220Z"
   },
   {
    "duration": 165,
    "start_time": "2024-05-20T15:13:06.235Z"
   },
   {
    "duration": 52,
    "start_time": "2024-05-20T15:13:06.402Z"
   },
   {
    "duration": 66,
    "start_time": "2024-05-20T15:13:06.456Z"
   },
   {
    "duration": 144,
    "start_time": "2024-05-20T15:13:06.523Z"
   },
   {
    "duration": 108,
    "start_time": "2024-05-20T15:13:06.668Z"
   },
   {
    "duration": 37,
    "start_time": "2024-05-20T15:13:06.777Z"
   },
   {
    "duration": 125,
    "start_time": "2024-05-20T15:13:06.815Z"
   },
   {
    "duration": 45,
    "start_time": "2024-05-20T15:13:06.941Z"
   },
   {
    "duration": 61,
    "start_time": "2024-05-20T15:13:06.987Z"
   },
   {
    "duration": 9,
    "start_time": "2024-05-20T15:13:07.050Z"
   },
   {
    "duration": 39,
    "start_time": "2024-05-20T15:13:07.060Z"
   },
   {
    "duration": 41,
    "start_time": "2024-05-20T15:13:07.102Z"
   },
   {
    "duration": 153,
    "start_time": "2024-05-20T15:13:07.144Z"
   },
   {
    "duration": 25,
    "start_time": "2024-05-20T15:13:07.299Z"
   },
   {
    "duration": 4,
    "start_time": "2024-05-20T15:13:07.325Z"
   },
   {
    "duration": 60,
    "start_time": "2024-05-20T15:13:07.330Z"
   },
   {
    "duration": 27,
    "start_time": "2024-05-20T15:13:07.392Z"
   },
   {
    "duration": 25,
    "start_time": "2024-05-20T15:13:07.421Z"
   },
   {
    "duration": 28,
    "start_time": "2024-05-20T15:13:07.448Z"
   },
   {
    "duration": 7,
    "start_time": "2024-05-20T15:13:07.478Z"
   },
   {
    "duration": 147,
    "start_time": "2024-05-20T15:13:07.487Z"
   },
   {
    "duration": 262,
    "start_time": "2024-05-20T15:13:07.636Z"
   },
   {
    "duration": 149,
    "start_time": "2024-05-20T15:13:07.900Z"
   },
   {
    "duration": 6,
    "start_time": "2024-05-20T15:13:08.050Z"
   },
   {
    "duration": 26,
    "start_time": "2024-05-20T15:13:08.058Z"
   },
   {
    "duration": 12,
    "start_time": "2024-05-20T15:13:08.085Z"
   },
   {
    "duration": 24,
    "start_time": "2024-05-20T15:13:08.098Z"
   },
   {
    "duration": 22,
    "start_time": "2024-05-20T15:13:08.124Z"
   },
   {
    "duration": 22,
    "start_time": "2024-05-20T15:13:08.147Z"
   },
   {
    "duration": 9,
    "start_time": "2024-05-20T15:13:08.170Z"
   },
   {
    "duration": 46,
    "start_time": "2024-05-20T15:13:08.181Z"
   },
   {
    "duration": 12,
    "start_time": "2024-05-20T15:13:08.229Z"
   },
   {
    "duration": 35,
    "start_time": "2024-05-20T15:13:08.242Z"
   },
   {
    "duration": 74,
    "start_time": "2024-05-20T15:13:08.278Z"
   },
   {
    "duration": 44,
    "start_time": "2024-05-20T15:13:08.354Z"
   },
   {
    "duration": 11,
    "start_time": "2024-05-20T15:13:08.400Z"
   },
   {
    "duration": 4,
    "start_time": "2024-05-20T15:13:27.475Z"
   },
   {
    "duration": 463,
    "start_time": "2024-05-20T15:13:58.500Z"
   },
   {
    "duration": 61,
    "start_time": "2024-05-20T15:14:14.126Z"
   },
   {
    "duration": 63,
    "start_time": "2024-05-20T15:14:33.646Z"
   },
   {
    "duration": 24,
    "start_time": "2024-05-20T15:20:13.104Z"
   },
   {
    "duration": 5,
    "start_time": "2024-05-20T15:26:11.139Z"
   },
   {
    "duration": 4,
    "start_time": "2024-05-20T15:26:13.979Z"
   },
   {
    "duration": 39,
    "start_time": "2024-05-20T15:26:25.070Z"
   },
   {
    "duration": 254,
    "start_time": "2024-05-20T15:29:31.078Z"
   },
   {
    "duration": 18,
    "start_time": "2024-05-20T15:29:50.774Z"
   },
   {
    "duration": 64,
    "start_time": "2024-05-20T15:31:04.576Z"
   },
   {
    "duration": 20,
    "start_time": "2024-05-20T15:31:34.040Z"
   },
   {
    "duration": 27,
    "start_time": "2024-05-20T15:32:06.732Z"
   },
   {
    "duration": 20,
    "start_time": "2024-05-20T15:32:10.983Z"
   },
   {
    "duration": 23,
    "start_time": "2024-05-20T15:32:12.299Z"
   },
   {
    "duration": 57,
    "start_time": "2024-05-20T15:32:13.667Z"
   },
   {
    "duration": 38,
    "start_time": "2024-05-20T15:33:56.738Z"
   },
   {
    "duration": 17,
    "start_time": "2024-05-20T15:33:58.631Z"
   },
   {
    "duration": 45,
    "start_time": "2024-05-20T15:34:48.799Z"
   },
   {
    "duration": 33,
    "start_time": "2024-05-20T15:35:11.575Z"
   },
   {
    "duration": 92,
    "start_time": "2024-05-20T15:35:14.538Z"
   },
   {
    "duration": 16,
    "start_time": "2024-05-20T15:35:14.632Z"
   },
   {
    "duration": 50,
    "start_time": "2024-05-20T15:35:14.650Z"
   },
   {
    "duration": 89,
    "start_time": "2024-05-20T15:35:14.702Z"
   },
   {
    "duration": 66,
    "start_time": "2024-05-20T15:35:14.794Z"
   },
   {
    "duration": 3,
    "start_time": "2024-05-20T15:35:14.861Z"
   },
   {
    "duration": 53,
    "start_time": "2024-05-20T15:35:14.866Z"
   },
   {
    "duration": 65,
    "start_time": "2024-05-20T15:35:14.920Z"
   },
   {
    "duration": 54,
    "start_time": "2024-05-20T15:35:14.987Z"
   },
   {
    "duration": 58,
    "start_time": "2024-05-20T15:35:15.043Z"
   },
   {
    "duration": 77,
    "start_time": "2024-05-20T15:35:15.103Z"
   },
   {
    "duration": 11,
    "start_time": "2024-05-20T15:35:15.181Z"
   },
   {
    "duration": 33,
    "start_time": "2024-05-20T15:35:15.193Z"
   },
   {
    "duration": 34,
    "start_time": "2024-05-20T15:35:15.231Z"
   },
   {
    "duration": 40,
    "start_time": "2024-05-20T15:35:15.267Z"
   },
   {
    "duration": 127,
    "start_time": "2024-05-20T15:35:15.308Z"
   },
   {
    "duration": 49,
    "start_time": "2024-05-20T15:35:15.436Z"
   },
   {
    "duration": 62,
    "start_time": "2024-05-20T15:35:15.487Z"
   },
   {
    "duration": 67,
    "start_time": "2024-05-20T15:35:15.551Z"
   },
   {
    "duration": 8,
    "start_time": "2024-05-20T15:35:15.620Z"
   },
   {
    "duration": 16,
    "start_time": "2024-05-20T15:35:15.629Z"
   },
   {
    "duration": 25,
    "start_time": "2024-05-20T15:35:15.647Z"
   },
   {
    "duration": 66,
    "start_time": "2024-05-20T15:35:15.673Z"
   },
   {
    "duration": 0,
    "start_time": "2024-05-20T15:35:15.741Z"
   },
   {
    "duration": 0,
    "start_time": "2024-05-20T15:35:15.742Z"
   },
   {
    "duration": 0,
    "start_time": "2024-05-20T15:35:15.743Z"
   },
   {
    "duration": 0,
    "start_time": "2024-05-20T15:35:15.744Z"
   },
   {
    "duration": 0,
    "start_time": "2024-05-20T15:35:15.745Z"
   },
   {
    "duration": 0,
    "start_time": "2024-05-20T15:35:15.746Z"
   },
   {
    "duration": 0,
    "start_time": "2024-05-20T15:35:15.747Z"
   },
   {
    "duration": 0,
    "start_time": "2024-05-20T15:35:15.747Z"
   },
   {
    "duration": 0,
    "start_time": "2024-05-20T15:35:15.748Z"
   },
   {
    "duration": 0,
    "start_time": "2024-05-20T15:35:15.749Z"
   },
   {
    "duration": 0,
    "start_time": "2024-05-20T15:35:15.750Z"
   },
   {
    "duration": 0,
    "start_time": "2024-05-20T15:35:15.751Z"
   },
   {
    "duration": 0,
    "start_time": "2024-05-20T15:35:15.752Z"
   },
   {
    "duration": 29,
    "start_time": "2024-05-20T15:35:37.103Z"
   },
   {
    "duration": 23,
    "start_time": "2024-05-20T15:36:01.015Z"
   },
   {
    "duration": 25,
    "start_time": "2024-05-20T15:36:05.011Z"
   },
   {
    "duration": 35,
    "start_time": "2024-05-20T15:36:18.213Z"
   },
   {
    "duration": 32,
    "start_time": "2024-05-20T15:36:45.383Z"
   },
   {
    "duration": 6,
    "start_time": "2024-05-20T15:36:46.119Z"
   },
   {
    "duration": 8,
    "start_time": "2024-05-20T15:36:46.753Z"
   },
   {
    "duration": 12,
    "start_time": "2024-05-20T15:36:47.405Z"
   },
   {
    "duration": 9,
    "start_time": "2024-05-20T15:36:47.961Z"
   },
   {
    "duration": 11,
    "start_time": "2024-05-20T15:37:48.030Z"
   },
   {
    "duration": 30,
    "start_time": "2024-05-20T15:37:59.927Z"
   },
   {
    "duration": 9,
    "start_time": "2024-05-20T15:45:17.698Z"
   },
   {
    "duration": 29,
    "start_time": "2024-05-20T15:45:34.228Z"
   },
   {
    "duration": 46,
    "start_time": "2024-05-20T15:47:09.423Z"
   },
   {
    "duration": 32,
    "start_time": "2024-05-20T15:48:38.411Z"
   },
   {
    "duration": 38,
    "start_time": "2024-05-20T15:48:46.806Z"
   },
   {
    "duration": 63,
    "start_time": "2024-05-20T16:07:09.111Z"
   },
   {
    "duration": 62,
    "start_time": "2024-05-20T16:07:26.173Z"
   },
   {
    "duration": 91,
    "start_time": "2024-05-20T16:07:32.524Z"
   },
   {
    "duration": 25,
    "start_time": "2024-05-20T16:07:32.618Z"
   },
   {
    "duration": 32,
    "start_time": "2024-05-20T16:07:32.645Z"
   },
   {
    "duration": 20,
    "start_time": "2024-05-20T16:07:32.679Z"
   },
   {
    "duration": 54,
    "start_time": "2024-05-20T16:07:32.701Z"
   },
   {
    "duration": 3,
    "start_time": "2024-05-20T16:07:32.757Z"
   },
   {
    "duration": 39,
    "start_time": "2024-05-20T16:07:32.762Z"
   },
   {
    "duration": 28,
    "start_time": "2024-05-20T16:07:32.803Z"
   },
   {
    "duration": 21,
    "start_time": "2024-05-20T16:07:32.832Z"
   },
   {
    "duration": 85,
    "start_time": "2024-05-20T16:07:32.854Z"
   },
   {
    "duration": 52,
    "start_time": "2024-05-20T16:07:32.940Z"
   },
   {
    "duration": 18,
    "start_time": "2024-05-20T16:07:32.994Z"
   },
   {
    "duration": 92,
    "start_time": "2024-05-20T16:07:33.013Z"
   },
   {
    "duration": 27,
    "start_time": "2024-05-20T16:07:33.108Z"
   },
   {
    "duration": 57,
    "start_time": "2024-05-20T16:07:33.136Z"
   },
   {
    "duration": 44,
    "start_time": "2024-05-20T16:07:33.196Z"
   },
   {
    "duration": 10,
    "start_time": "2024-05-20T16:07:33.241Z"
   },
   {
    "duration": 41,
    "start_time": "2024-05-20T16:07:33.253Z"
   },
   {
    "duration": 31,
    "start_time": "2024-05-20T16:07:33.296Z"
   },
   {
    "duration": 10,
    "start_time": "2024-05-20T16:07:33.329Z"
   },
   {
    "duration": 30,
    "start_time": "2024-05-20T16:07:33.340Z"
   },
   {
    "duration": 35,
    "start_time": "2024-05-20T16:07:33.372Z"
   },
   {
    "duration": 67,
    "start_time": "2024-05-20T16:07:33.409Z"
   },
   {
    "duration": 1,
    "start_time": "2024-05-20T16:07:33.477Z"
   },
   {
    "duration": 0,
    "start_time": "2024-05-20T16:07:33.479Z"
   },
   {
    "duration": 0,
    "start_time": "2024-05-20T16:07:33.479Z"
   },
   {
    "duration": 0,
    "start_time": "2024-05-20T16:07:33.481Z"
   },
   {
    "duration": 0,
    "start_time": "2024-05-20T16:07:33.482Z"
   },
   {
    "duration": 0,
    "start_time": "2024-05-20T16:07:33.483Z"
   },
   {
    "duration": 0,
    "start_time": "2024-05-20T16:07:33.484Z"
   },
   {
    "duration": 0,
    "start_time": "2024-05-20T16:07:33.486Z"
   },
   {
    "duration": 0,
    "start_time": "2024-05-20T16:07:33.487Z"
   },
   {
    "duration": 0,
    "start_time": "2024-05-20T16:07:33.488Z"
   },
   {
    "duration": 0,
    "start_time": "2024-05-20T16:07:33.489Z"
   },
   {
    "duration": 0,
    "start_time": "2024-05-20T16:07:33.490Z"
   },
   {
    "duration": 0,
    "start_time": "2024-05-20T16:07:33.491Z"
   },
   {
    "duration": 31,
    "start_time": "2024-05-20T16:08:08.159Z"
   },
   {
    "duration": 252,
    "start_time": "2024-05-20T16:08:16.949Z"
   },
   {
    "duration": 275,
    "start_time": "2024-05-20T16:09:01.363Z"
   },
   {
    "duration": 33,
    "start_time": "2024-05-20T16:09:16.299Z"
   },
   {
    "duration": 27,
    "start_time": "2024-05-20T16:11:54.321Z"
   },
   {
    "duration": 36,
    "start_time": "2024-05-20T16:12:21.017Z"
   },
   {
    "duration": 30,
    "start_time": "2024-05-20T16:13:20.784Z"
   },
   {
    "duration": 27,
    "start_time": "2024-05-20T16:13:28.495Z"
   },
   {
    "duration": 39,
    "start_time": "2024-05-20T16:14:23.414Z"
   },
   {
    "duration": 34,
    "start_time": "2024-05-20T16:14:45.207Z"
   },
   {
    "duration": 30,
    "start_time": "2024-05-20T16:14:52.889Z"
   },
   {
    "duration": 28,
    "start_time": "2024-05-20T16:15:03.369Z"
   },
   {
    "duration": 48,
    "start_time": "2024-05-21T02:57:10.875Z"
   },
   {
    "duration": 610,
    "start_time": "2024-05-21T02:57:16.463Z"
   },
   {
    "duration": 23,
    "start_time": "2024-05-21T02:57:17.075Z"
   },
   {
    "duration": 16,
    "start_time": "2024-05-21T02:57:17.099Z"
   },
   {
    "duration": 10,
    "start_time": "2024-05-21T02:57:17.116Z"
   },
   {
    "duration": 54,
    "start_time": "2024-05-21T02:57:17.128Z"
   },
   {
    "duration": 3,
    "start_time": "2024-05-21T02:57:17.184Z"
   },
   {
    "duration": 12,
    "start_time": "2024-05-21T02:57:17.188Z"
   },
   {
    "duration": 7,
    "start_time": "2024-05-21T02:57:17.201Z"
   },
   {
    "duration": 8,
    "start_time": "2024-05-21T02:57:17.209Z"
   },
   {
    "duration": 4,
    "start_time": "2024-05-21T02:57:17.220Z"
   },
   {
    "duration": 61,
    "start_time": "2024-05-21T02:57:17.225Z"
   },
   {
    "duration": 10,
    "start_time": "2024-05-21T02:57:17.287Z"
   },
   {
    "duration": 3,
    "start_time": "2024-05-21T02:57:17.299Z"
   },
   {
    "duration": 13,
    "start_time": "2024-05-21T02:57:17.303Z"
   },
   {
    "duration": 35,
    "start_time": "2024-05-21T02:57:17.318Z"
   },
   {
    "duration": 38,
    "start_time": "2024-05-21T02:57:17.355Z"
   },
   {
    "duration": 3,
    "start_time": "2024-05-21T02:57:17.395Z"
   },
   {
    "duration": 16,
    "start_time": "2024-05-21T02:57:17.400Z"
   },
   {
    "duration": 5,
    "start_time": "2024-05-21T02:57:17.417Z"
   },
   {
    "duration": 15,
    "start_time": "2024-05-21T02:57:17.424Z"
   },
   {
    "duration": 15,
    "start_time": "2024-05-21T02:57:17.440Z"
   },
   {
    "duration": 33,
    "start_time": "2024-05-21T02:57:17.457Z"
   },
   {
    "duration": 58,
    "start_time": "2024-05-21T02:57:17.492Z"
   },
   {
    "duration": 0,
    "start_time": "2024-05-21T02:57:17.552Z"
   },
   {
    "duration": 0,
    "start_time": "2024-05-21T02:57:17.553Z"
   },
   {
    "duration": 0,
    "start_time": "2024-05-21T02:57:17.554Z"
   },
   {
    "duration": 0,
    "start_time": "2024-05-21T02:57:17.555Z"
   },
   {
    "duration": 0,
    "start_time": "2024-05-21T02:57:17.556Z"
   },
   {
    "duration": 0,
    "start_time": "2024-05-21T02:57:17.557Z"
   },
   {
    "duration": 0,
    "start_time": "2024-05-21T02:57:17.558Z"
   },
   {
    "duration": 0,
    "start_time": "2024-05-21T02:57:17.559Z"
   },
   {
    "duration": 0,
    "start_time": "2024-05-21T02:57:17.560Z"
   },
   {
    "duration": 0,
    "start_time": "2024-05-21T02:57:17.582Z"
   },
   {
    "duration": 0,
    "start_time": "2024-05-21T02:57:17.583Z"
   },
   {
    "duration": 0,
    "start_time": "2024-05-21T02:57:17.584Z"
   },
   {
    "duration": 0,
    "start_time": "2024-05-21T02:57:17.585Z"
   },
   {
    "duration": 24,
    "start_time": "2024-05-21T02:57:26.432Z"
   },
   {
    "duration": 31,
    "start_time": "2024-05-21T02:57:35.516Z"
   },
   {
    "duration": 28,
    "start_time": "2024-05-21T02:58:05.681Z"
   },
   {
    "duration": 20,
    "start_time": "2024-05-21T02:58:54.213Z"
   },
   {
    "duration": 29,
    "start_time": "2024-05-21T02:58:57.643Z"
   },
   {
    "duration": 19,
    "start_time": "2024-05-21T02:59:00.869Z"
   },
   {
    "duration": 9,
    "start_time": "2024-05-21T02:59:03.290Z"
   },
   {
    "duration": 7,
    "start_time": "2024-05-21T02:59:04.073Z"
   },
   {
    "duration": 13,
    "start_time": "2024-05-21T02:59:06.846Z"
   },
   {
    "duration": 8,
    "start_time": "2024-05-21T02:59:08.432Z"
   },
   {
    "duration": 29,
    "start_time": "2024-05-21T02:59:25.791Z"
   },
   {
    "duration": 28,
    "start_time": "2024-05-21T02:59:54.763Z"
   },
   {
    "duration": 30,
    "start_time": "2024-05-21T03:00:08.524Z"
   },
   {
    "duration": 76,
    "start_time": "2024-05-21T03:01:57.549Z"
   },
   {
    "duration": 19,
    "start_time": "2024-05-21T03:02:54.595Z"
   },
   {
    "duration": 8,
    "start_time": "2024-05-21T03:02:55.228Z"
   },
   {
    "duration": 11,
    "start_time": "2024-05-21T03:02:55.875Z"
   },
   {
    "duration": 29,
    "start_time": "2024-05-21T03:03:30.586Z"
   },
   {
    "duration": 28,
    "start_time": "2024-05-21T03:19:40.107Z"
   },
   {
    "duration": 20,
    "start_time": "2024-05-21T03:47:22.895Z"
   },
   {
    "duration": 28,
    "start_time": "2024-05-21T03:48:18.561Z"
   },
   {
    "duration": 18,
    "start_time": "2024-05-21T03:48:19.464Z"
   },
   {
    "duration": 7,
    "start_time": "2024-05-21T03:48:21.612Z"
   },
   {
    "duration": 8,
    "start_time": "2024-05-21T03:48:23.536Z"
   },
   {
    "duration": 9,
    "start_time": "2024-05-21T03:48:25.568Z"
   },
   {
    "duration": 10,
    "start_time": "2024-05-21T03:48:27.732Z"
   },
   {
    "duration": 31,
    "start_time": "2024-05-21T03:59:40.766Z"
   },
   {
    "duration": 39,
    "start_time": "2024-05-21T04:03:50.539Z"
   },
   {
    "duration": 7,
    "start_time": "2024-05-21T04:04:40.957Z"
   },
   {
    "duration": 27,
    "start_time": "2024-05-21T04:05:15.690Z"
   },
   {
    "duration": 36,
    "start_time": "2024-05-21T04:06:30.919Z"
   },
   {
    "duration": 31,
    "start_time": "2024-05-21T04:06:44.089Z"
   },
   {
    "duration": 29,
    "start_time": "2024-05-21T04:06:56.714Z"
   },
   {
    "duration": 27,
    "start_time": "2024-05-21T04:07:40.613Z"
   },
   {
    "duration": 8,
    "start_time": "2024-05-21T04:07:42.924Z"
   },
   {
    "duration": 18,
    "start_time": "2024-05-21T04:07:50.413Z"
   },
   {
    "duration": 11,
    "start_time": "2024-05-21T04:07:51.133Z"
   },
   {
    "duration": 27,
    "start_time": "2024-05-21T04:08:27.477Z"
   },
   {
    "duration": 29,
    "start_time": "2024-05-21T04:09:31.567Z"
   },
   {
    "duration": 628,
    "start_time": "2024-05-21T15:33:18.324Z"
   },
   {
    "duration": 20,
    "start_time": "2024-05-21T15:33:18.954Z"
   },
   {
    "duration": 14,
    "start_time": "2024-05-21T15:33:18.976Z"
   },
   {
    "duration": 9,
    "start_time": "2024-05-21T15:33:18.992Z"
   },
   {
    "duration": 44,
    "start_time": "2024-05-21T15:33:19.002Z"
   },
   {
    "duration": 3,
    "start_time": "2024-05-21T15:33:19.047Z"
   },
   {
    "duration": 11,
    "start_time": "2024-05-21T15:33:19.051Z"
   },
   {
    "duration": 20,
    "start_time": "2024-05-21T15:33:19.063Z"
   },
   {
    "duration": 24,
    "start_time": "2024-05-21T15:33:19.085Z"
   },
   {
    "duration": 4,
    "start_time": "2024-05-21T15:33:19.112Z"
   },
   {
    "duration": 44,
    "start_time": "2024-05-21T15:33:19.117Z"
   },
   {
    "duration": 9,
    "start_time": "2024-05-21T15:33:19.163Z"
   },
   {
    "duration": 8,
    "start_time": "2024-05-21T15:33:19.174Z"
   },
   {
    "duration": 13,
    "start_time": "2024-05-21T15:33:19.183Z"
   },
   {
    "duration": 17,
    "start_time": "2024-05-21T15:33:19.198Z"
   },
   {
    "duration": 20,
    "start_time": "2024-05-21T15:33:19.216Z"
   },
   {
    "duration": 6,
    "start_time": "2024-05-21T15:33:19.245Z"
   },
   {
    "duration": 43,
    "start_time": "2024-05-21T15:33:19.252Z"
   },
   {
    "duration": 13,
    "start_time": "2024-05-21T15:33:19.296Z"
   },
   {
    "duration": 6,
    "start_time": "2024-05-21T15:33:19.310Z"
   },
   {
    "duration": 17,
    "start_time": "2024-05-21T15:33:19.317Z"
   },
   {
    "duration": 31,
    "start_time": "2024-05-21T15:33:19.335Z"
   },
   {
    "duration": 35,
    "start_time": "2024-05-21T15:33:19.368Z"
   },
   {
    "duration": 16,
    "start_time": "2024-05-21T15:33:19.404Z"
   },
   {
    "duration": 6,
    "start_time": "2024-05-21T15:33:19.421Z"
   },
   {
    "duration": 21,
    "start_time": "2024-05-21T15:33:19.429Z"
   },
   {
    "duration": 17,
    "start_time": "2024-05-21T15:33:19.451Z"
   },
   {
    "duration": 17,
    "start_time": "2024-05-21T15:33:19.470Z"
   },
   {
    "duration": 30,
    "start_time": "2024-05-21T15:33:19.488Z"
   },
   {
    "duration": 28,
    "start_time": "2024-05-21T15:33:19.520Z"
   },
   {
    "duration": 8,
    "start_time": "2024-05-21T15:33:19.550Z"
   },
   {
    "duration": 22,
    "start_time": "2024-05-21T15:33:19.559Z"
   },
   {
    "duration": 32,
    "start_time": "2024-05-21T15:33:19.582Z"
   },
   {
    "duration": 3,
    "start_time": "2024-05-21T15:33:19.615Z"
   },
   {
    "duration": 26,
    "start_time": "2024-05-21T15:33:19.619Z"
   },
   {
    "duration": 9,
    "start_time": "2024-05-21T15:33:19.646Z"
   },
   {
    "duration": 27,
    "start_time": "2024-05-21T15:33:19.656Z"
   },
   {
    "duration": 16,
    "start_time": "2024-05-21T15:33:19.684Z"
   },
   {
    "duration": 9,
    "start_time": "2024-05-21T15:33:19.702Z"
   },
   {
    "duration": 52,
    "start_time": "2024-05-21T15:33:19.713Z"
   },
   {
    "duration": 438,
    "start_time": "2024-05-21T20:28:26.686Z"
   },
   {
    "duration": 19,
    "start_time": "2024-05-21T20:28:27.126Z"
   },
   {
    "duration": 38,
    "start_time": "2024-05-21T20:28:27.147Z"
   },
   {
    "duration": 10,
    "start_time": "2024-05-21T20:28:27.187Z"
   },
   {
    "duration": 45,
    "start_time": "2024-05-21T20:28:27.198Z"
   },
   {
    "duration": 4,
    "start_time": "2024-05-21T20:28:27.244Z"
   },
   {
    "duration": 21,
    "start_time": "2024-05-21T20:28:27.249Z"
   },
   {
    "duration": 16,
    "start_time": "2024-05-21T20:28:27.271Z"
   },
   {
    "duration": 26,
    "start_time": "2024-05-21T20:28:27.288Z"
   },
   {
    "duration": 13,
    "start_time": "2024-05-21T20:28:27.317Z"
   },
   {
    "duration": 45,
    "start_time": "2024-05-21T20:28:27.331Z"
   },
   {
    "duration": 10,
    "start_time": "2024-05-21T20:28:27.377Z"
   },
   {
    "duration": 7,
    "start_time": "2024-05-21T20:28:27.388Z"
   },
   {
    "duration": 43,
    "start_time": "2024-05-21T20:28:27.396Z"
   },
   {
    "duration": 43,
    "start_time": "2024-05-21T20:28:27.440Z"
   },
   {
    "duration": 21,
    "start_time": "2024-05-21T20:28:27.485Z"
   },
   {
    "duration": 4,
    "start_time": "2024-05-21T20:28:27.507Z"
   },
   {
    "duration": 54,
    "start_time": "2024-05-21T20:28:27.512Z"
   },
   {
    "duration": 31,
    "start_time": "2024-05-21T20:28:27.567Z"
   },
   {
    "duration": 18,
    "start_time": "2024-05-21T20:28:27.600Z"
   },
   {
    "duration": 51,
    "start_time": "2024-05-21T20:28:27.620Z"
   },
   {
    "duration": 27,
    "start_time": "2024-05-21T20:28:27.673Z"
   },
   {
    "duration": 38,
    "start_time": "2024-05-21T20:28:27.701Z"
   },
   {
    "duration": 18,
    "start_time": "2024-05-21T20:28:27.741Z"
   },
   {
    "duration": 22,
    "start_time": "2024-05-21T20:28:27.760Z"
   },
   {
    "duration": 33,
    "start_time": "2024-05-21T20:28:27.784Z"
   },
   {
    "duration": 15,
    "start_time": "2024-05-21T20:28:27.819Z"
   },
   {
    "duration": 28,
    "start_time": "2024-05-21T20:28:27.837Z"
   },
   {
    "duration": 48,
    "start_time": "2024-05-21T20:28:27.867Z"
   },
   {
    "duration": 17,
    "start_time": "2024-05-21T20:28:27.916Z"
   },
   {
    "duration": 17,
    "start_time": "2024-05-21T20:28:27.935Z"
   },
   {
    "duration": 37,
    "start_time": "2024-05-21T20:28:27.953Z"
   },
   {
    "duration": 36,
    "start_time": "2024-05-21T20:28:27.992Z"
   },
   {
    "duration": 3,
    "start_time": "2024-05-21T20:28:28.029Z"
   },
   {
    "duration": 59,
    "start_time": "2024-05-21T20:28:28.033Z"
   },
   {
    "duration": 10,
    "start_time": "2024-05-21T20:28:28.094Z"
   },
   {
    "duration": 40,
    "start_time": "2024-05-21T20:28:28.105Z"
   },
   {
    "duration": 23,
    "start_time": "2024-05-21T20:28:28.146Z"
   },
   {
    "duration": 22,
    "start_time": "2024-05-21T20:28:28.170Z"
   },
   {
    "duration": 48,
    "start_time": "2024-05-21T20:28:28.193Z"
   }
  ],
  "colab": {
   "provenance": []
  },
  "kernelspec": {
   "display_name": "Python 3 (ipykernel)",
   "language": "python",
   "name": "python3"
  },
  "language_info": {
   "codemirror_mode": {
    "name": "ipython",
    "version": 3
   },
   "file_extension": ".py",
   "mimetype": "text/x-python",
   "name": "python",
   "nbconvert_exporter": "python",
   "pygments_lexer": "ipython3",
   "version": "3.9.19"
  },
  "toc": {
   "base_numbering": 1,
   "nav_menu": {},
   "number_sections": true,
   "sideBar": true,
   "skip_h1_title": true,
   "title_cell": "Table of Contents",
   "title_sidebar": "Contents",
   "toc_cell": false,
   "toc_position": {},
   "toc_section_display": true,
   "toc_window_display": true
  }
 },
 "nbformat": 4,
 "nbformat_minor": 5
}
