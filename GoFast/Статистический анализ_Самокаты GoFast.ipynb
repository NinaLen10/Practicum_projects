{
 "cells": [
  {
   "cell_type": "markdown",
   "id": "1daead69",
   "metadata": {},
   "source": [
    "# Проект: Статистический анализ данных"
   ]
  },
  {
   "cell_type": "markdown",
   "id": "4deff1af",
   "metadata": {},
   "source": [
    "Вы аналитик популярного сервиса аренды самокатов GoFast. Вам передали данные о некоторых пользователях из нескольких городов, а также об их поездках. Необходимо провести исследование и анализ данных и проверить некоторые гипотезы, которые могут помочь бизнесу вырасти. Продакт-менеджеры сервиса хотят увеличить количество пользователей с подпиской. Для этого они будут проводить различные акции, но сначала нужно выяснить несколько важных моментов и решить выгодно ли увеличение таких пользователей.\n",
    "\n",
    "Чтобы совершать поездки по городу, пользователи сервиса GoFast пользуются мобильным приложением. Сервисом можно пользоваться:\n",
    "\n",
    "- без подписки\n",
    "    - абонентская плата отсутствует;\n",
    "    - стоимость одной минуты поездки — 8 рублей;\n",
    "    - стоимость старта (начала поездки) — 50 рублей;\n",
    "- с подпиской Ultra\n",
    "    - абонентская плата — 199 рублей в месяц;\n",
    "    - стоимость одной минуты поездки — 6 рублей;\n",
    "    - стоимость старта — бесплатно.\n"
   ]
  },
  {
   "cell_type": "code",
   "execution_count": 1,
   "id": "89da242a",
   "metadata": {},
   "outputs": [],
   "source": [
    "# Импорт нужных библиотек\n",
    "import numpy as np \n",
    "import pandas as pd \n",
    "import matplotlib.pyplot as plt\n",
    "import seaborn as sns\n",
    "from scipy import stats as st\n",
    "from scipy.stats import binom"
   ]
  },
  {
   "cell_type": "markdown",
   "id": "c42cbe00",
   "metadata": {},
   "source": [
    "#### Шаг 1. Загрузка данных"
   ]
  },
  {
   "cell_type": "markdown",
   "id": "6c8fe4da",
   "metadata": {},
   "source": [
    "##### Загрузка и общая информация о данных датафрейма user_go"
   ]
  },
  {
   "cell_type": "code",
   "execution_count": 2,
   "id": "eff9f206",
   "metadata": {},
   "outputs": [],
   "source": [
    "#Читаем датафрейм users_go\n",
    "users_go = pd.read_csv('/datasets/users_go.csv')"
   ]
  },
  {
   "cell_type": "code",
   "execution_count": 3,
   "id": "e4b3a208",
   "metadata": {},
   "outputs": [
    {
     "data": {
      "text/html": [
       "<div>\n",
       "<style scoped>\n",
       "    .dataframe tbody tr th:only-of-type {\n",
       "        vertical-align: middle;\n",
       "    }\n",
       "\n",
       "    .dataframe tbody tr th {\n",
       "        vertical-align: top;\n",
       "    }\n",
       "\n",
       "    .dataframe thead th {\n",
       "        text-align: right;\n",
       "    }\n",
       "</style>\n",
       "<table border=\"1\" class=\"dataframe\">\n",
       "  <thead>\n",
       "    <tr style=\"text-align: right;\">\n",
       "      <th></th>\n",
       "      <th>user_id</th>\n",
       "      <th>name</th>\n",
       "      <th>age</th>\n",
       "      <th>city</th>\n",
       "      <th>subscription_type</th>\n",
       "    </tr>\n",
       "  </thead>\n",
       "  <tbody>\n",
       "    <tr>\n",
       "      <th>0</th>\n",
       "      <td>1</td>\n",
       "      <td>Кира</td>\n",
       "      <td>22</td>\n",
       "      <td>Тюмень</td>\n",
       "      <td>ultra</td>\n",
       "    </tr>\n",
       "    <tr>\n",
       "      <th>1</th>\n",
       "      <td>2</td>\n",
       "      <td>Станислав</td>\n",
       "      <td>31</td>\n",
       "      <td>Омск</td>\n",
       "      <td>ultra</td>\n",
       "    </tr>\n",
       "    <tr>\n",
       "      <th>2</th>\n",
       "      <td>3</td>\n",
       "      <td>Алексей</td>\n",
       "      <td>20</td>\n",
       "      <td>Москва</td>\n",
       "      <td>ultra</td>\n",
       "    </tr>\n",
       "    <tr>\n",
       "      <th>3</th>\n",
       "      <td>4</td>\n",
       "      <td>Константин</td>\n",
       "      <td>26</td>\n",
       "      <td>Ростов-на-Дону</td>\n",
       "      <td>ultra</td>\n",
       "    </tr>\n",
       "    <tr>\n",
       "      <th>4</th>\n",
       "      <td>5</td>\n",
       "      <td>Адель</td>\n",
       "      <td>28</td>\n",
       "      <td>Омск</td>\n",
       "      <td>ultra</td>\n",
       "    </tr>\n",
       "  </tbody>\n",
       "</table>\n",
       "</div>"
      ],
      "text/plain": [
       "   user_id        name  age            city subscription_type\n",
       "0        1        Кира   22          Тюмень             ultra\n",
       "1        2   Станислав   31            Омск             ultra\n",
       "2        3     Алексей   20          Москва             ultra\n",
       "3        4  Константин   26  Ростов-на-Дону             ultra\n",
       "4        5       Адель   28            Омск             ultra"
      ]
     },
     "execution_count": 3,
     "metadata": {},
     "output_type": "execute_result"
    }
   ],
   "source": [
    "#смотрим первые 5 строк\n",
    "users_go.head()"
   ]
  },
  {
   "cell_type": "code",
   "execution_count": 4,
   "id": "a4b57dd1",
   "metadata": {},
   "outputs": [
    {
     "name": "stdout",
     "output_type": "stream",
     "text": [
      "<class 'pandas.core.frame.DataFrame'>\n",
      "RangeIndex: 1565 entries, 0 to 1564\n",
      "Data columns (total 5 columns):\n",
      " #   Column             Non-Null Count  Dtype \n",
      "---  ------             --------------  ----- \n",
      " 0   user_id            1565 non-null   int64 \n",
      " 1   name               1565 non-null   object\n",
      " 2   age                1565 non-null   int64 \n",
      " 3   city               1565 non-null   object\n",
      " 4   subscription_type  1565 non-null   object\n",
      "dtypes: int64(2), object(3)\n",
      "memory usage: 61.3+ KB\n"
     ]
    }
   ],
   "source": [
    "#смотрим общую информацию\n",
    "users_go.info()"
   ]
  },
  {
   "cell_type": "code",
   "execution_count": 5,
   "id": "19a9e60b",
   "metadata": {},
   "outputs": [
    {
     "data": {
      "text/html": [
       "<div>\n",
       "<style scoped>\n",
       "    .dataframe tbody tr th:only-of-type {\n",
       "        vertical-align: middle;\n",
       "    }\n",
       "\n",
       "    .dataframe tbody tr th {\n",
       "        vertical-align: top;\n",
       "    }\n",
       "\n",
       "    .dataframe thead th {\n",
       "        text-align: right;\n",
       "    }\n",
       "</style>\n",
       "<table border=\"1\" class=\"dataframe\">\n",
       "  <thead>\n",
       "    <tr style=\"text-align: right;\">\n",
       "      <th></th>\n",
       "      <th>user_id</th>\n",
       "      <th>age</th>\n",
       "    </tr>\n",
       "  </thead>\n",
       "  <tbody>\n",
       "    <tr>\n",
       "      <th>count</th>\n",
       "      <td>1565.0</td>\n",
       "      <td>1565.0</td>\n",
       "    </tr>\n",
       "    <tr>\n",
       "      <th>mean</th>\n",
       "      <td>763.0</td>\n",
       "      <td>25.0</td>\n",
       "    </tr>\n",
       "    <tr>\n",
       "      <th>std</th>\n",
       "      <td>443.0</td>\n",
       "      <td>5.0</td>\n",
       "    </tr>\n",
       "    <tr>\n",
       "      <th>min</th>\n",
       "      <td>1.0</td>\n",
       "      <td>12.0</td>\n",
       "    </tr>\n",
       "    <tr>\n",
       "      <th>25%</th>\n",
       "      <td>378.0</td>\n",
       "      <td>22.0</td>\n",
       "    </tr>\n",
       "    <tr>\n",
       "      <th>50%</th>\n",
       "      <td>762.0</td>\n",
       "      <td>25.0</td>\n",
       "    </tr>\n",
       "    <tr>\n",
       "      <th>75%</th>\n",
       "      <td>1146.0</td>\n",
       "      <td>28.0</td>\n",
       "    </tr>\n",
       "    <tr>\n",
       "      <th>max</th>\n",
       "      <td>1534.0</td>\n",
       "      <td>43.0</td>\n",
       "    </tr>\n",
       "  </tbody>\n",
       "</table>\n",
       "</div>"
      ],
      "text/plain": [
       "       user_id     age\n",
       "count   1565.0  1565.0\n",
       "mean     763.0    25.0\n",
       "std      443.0     5.0\n",
       "min        1.0    12.0\n",
       "25%      378.0    22.0\n",
       "50%      762.0    25.0\n",
       "75%     1146.0    28.0\n",
       "max     1534.0    43.0"
      ]
     },
     "execution_count": 5,
     "metadata": {},
     "output_type": "execute_result"
    }
   ],
   "source": [
    "#смотрим общие параметры данных\n",
    "users_go.describe().round()"
   ]
  },
  {
   "cell_type": "code",
   "execution_count": 6,
   "id": "b8857a0e",
   "metadata": {},
   "outputs": [
    {
     "data": {
      "image/png": "[encoded data removed]",
      "text/plain": [
       "<Figure size 1224x504 with 2 Axes>"
      ]
     },
     "metadata": {
      "needs_background": "light"
     },
     "output_type": "display_data"
    }
   ],
   "source": [
    "#строим общие гистограммы\n",
    "users_go.hist(bins=100, grid=True, figsize=(17,7),legend=True);"
   ]
  },
  {
   "cell_type": "markdown",
   "id": "cee44668",
   "metadata": {},
   "source": [
    "##### Загрузка и общая информация о данных датафрейма rides_go"
   ]
  },
  {
   "cell_type": "markdown",
   "id": "5aa01862",
   "metadata": {},
   "source": [
    " "
   ]
  },
  {
   "cell_type": "code",
   "execution_count": 7,
   "id": "6a0932f4",
   "metadata": {},
   "outputs": [],
   "source": [
    "#Читаем датафрейм rides_go\n",
    "rides_go = pd.read_csv('/datasets/rides_go.csv')"
   ]
  },
  {
   "cell_type": "code",
   "execution_count": 8,
   "id": "3234ecee",
   "metadata": {},
   "outputs": [
    {
     "data": {
      "text/html": [
       "<div>\n",
       "<style scoped>\n",
       "    .dataframe tbody tr th:only-of-type {\n",
       "        vertical-align: middle;\n",
       "    }\n",
       "\n",
       "    .dataframe tbody tr th {\n",
       "        vertical-align: top;\n",
       "    }\n",
       "\n",
       "    .dataframe thead th {\n",
       "        text-align: right;\n",
       "    }\n",
       "</style>\n",
       "<table border=\"1\" class=\"dataframe\">\n",
       "  <thead>\n",
       "    <tr style=\"text-align: right;\">\n",
       "      <th></th>\n",
       "      <th>user_id</th>\n",
       "      <th>distance</th>\n",
       "      <th>duration</th>\n",
       "      <th>date</th>\n",
       "    </tr>\n",
       "  </thead>\n",
       "  <tbody>\n",
       "    <tr>\n",
       "      <th>0</th>\n",
       "      <td>1</td>\n",
       "      <td>4410.0</td>\n",
       "      <td>26.0</td>\n",
       "      <td>2021-01-01</td>\n",
       "    </tr>\n",
       "    <tr>\n",
       "      <th>1</th>\n",
       "      <td>1</td>\n",
       "      <td>2618.0</td>\n",
       "      <td>16.0</td>\n",
       "      <td>2021-01-18</td>\n",
       "    </tr>\n",
       "    <tr>\n",
       "      <th>2</th>\n",
       "      <td>1</td>\n",
       "      <td>754.0</td>\n",
       "      <td>6.0</td>\n",
       "      <td>2021-04-20</td>\n",
       "    </tr>\n",
       "    <tr>\n",
       "      <th>3</th>\n",
       "      <td>1</td>\n",
       "      <td>2695.0</td>\n",
       "      <td>19.0</td>\n",
       "      <td>2021-08-11</td>\n",
       "    </tr>\n",
       "    <tr>\n",
       "      <th>4</th>\n",
       "      <td>1</td>\n",
       "      <td>4029.0</td>\n",
       "      <td>26.0</td>\n",
       "      <td>2021-08-28</td>\n",
       "    </tr>\n",
       "  </tbody>\n",
       "</table>\n",
       "</div>"
      ],
      "text/plain": [
       "   user_id  distance  duration        date\n",
       "0        1    4410.0      26.0  2021-01-01\n",
       "1        1    2618.0      16.0  2021-01-18\n",
       "2        1     754.0       6.0  2021-04-20\n",
       "3        1    2695.0      19.0  2021-08-11\n",
       "4        1    4029.0      26.0  2021-08-28"
      ]
     },
     "execution_count": 8,
     "metadata": {},
     "output_type": "execute_result"
    }
   ],
   "source": [
    "#смотрим первые 5 строк\n",
    "rides_go.head().round()"
   ]
  },
  {
   "cell_type": "code",
   "execution_count": 9,
   "id": "32280ce4",
   "metadata": {},
   "outputs": [
    {
     "name": "stdout",
     "output_type": "stream",
     "text": [
      "<class 'pandas.core.frame.DataFrame'>\n",
      "RangeIndex: 18068 entries, 0 to 18067\n",
      "Data columns (total 4 columns):\n",
      " #   Column    Non-Null Count  Dtype  \n",
      "---  ------    --------------  -----  \n",
      " 0   user_id   18068 non-null  int64  \n",
      " 1   distance  18068 non-null  float64\n",
      " 2   duration  18068 non-null  float64\n",
      " 3   date      18068 non-null  object \n",
      "dtypes: float64(2), int64(1), object(1)\n",
      "memory usage: 564.8+ KB\n"
     ]
    }
   ],
   "source": [
    "#смотрим общую информацию\n",
    "rides_go.info()"
   ]
  },
  {
   "cell_type": "code",
   "execution_count": 10,
   "id": "351058ed",
   "metadata": {},
   "outputs": [
    {
     "data": {
      "text/html": [
       "<div>\n",
       "<style scoped>\n",
       "    .dataframe tbody tr th:only-of-type {\n",
       "        vertical-align: middle;\n",
       "    }\n",
       "\n",
       "    .dataframe tbody tr th {\n",
       "        vertical-align: top;\n",
       "    }\n",
       "\n",
       "    .dataframe thead th {\n",
       "        text-align: right;\n",
       "    }\n",
       "</style>\n",
       "<table border=\"1\" class=\"dataframe\">\n",
       "  <thead>\n",
       "    <tr style=\"text-align: right;\">\n",
       "      <th></th>\n",
       "      <th>user_id</th>\n",
       "      <th>distance</th>\n",
       "      <th>duration</th>\n",
       "    </tr>\n",
       "  </thead>\n",
       "  <tbody>\n",
       "    <tr>\n",
       "      <th>count</th>\n",
       "      <td>18068.0</td>\n",
       "      <td>18068.0</td>\n",
       "      <td>18068.0</td>\n",
       "    </tr>\n",
       "    <tr>\n",
       "      <th>mean</th>\n",
       "      <td>843.0</td>\n",
       "      <td>3071.0</td>\n",
       "      <td>18.0</td>\n",
       "    </tr>\n",
       "    <tr>\n",
       "      <th>std</th>\n",
       "      <td>435.0</td>\n",
       "      <td>1117.0</td>\n",
       "      <td>6.0</td>\n",
       "    </tr>\n",
       "    <tr>\n",
       "      <th>min</th>\n",
       "      <td>1.0</td>\n",
       "      <td>1.0</td>\n",
       "      <td>0.0</td>\n",
       "    </tr>\n",
       "    <tr>\n",
       "      <th>25%</th>\n",
       "      <td>487.0</td>\n",
       "      <td>2543.0</td>\n",
       "      <td>14.0</td>\n",
       "    </tr>\n",
       "    <tr>\n",
       "      <th>50%</th>\n",
       "      <td>889.0</td>\n",
       "      <td>3134.0</td>\n",
       "      <td>18.0</td>\n",
       "    </tr>\n",
       "    <tr>\n",
       "      <th>75%</th>\n",
       "      <td>1213.0</td>\n",
       "      <td>3776.0</td>\n",
       "      <td>22.0</td>\n",
       "    </tr>\n",
       "    <tr>\n",
       "      <th>max</th>\n",
       "      <td>1534.0</td>\n",
       "      <td>7211.0</td>\n",
       "      <td>41.0</td>\n",
       "    </tr>\n",
       "  </tbody>\n",
       "</table>\n",
       "</div>"
      ],
      "text/plain": [
       "       user_id  distance  duration\n",
       "count  18068.0   18068.0   18068.0\n",
       "mean     843.0    3071.0      18.0\n",
       "std      435.0    1117.0       6.0\n",
       "min        1.0       1.0       0.0\n",
       "25%      487.0    2543.0      14.0\n",
       "50%      889.0    3134.0      18.0\n",
       "75%     1213.0    3776.0      22.0\n",
       "max     1534.0    7211.0      41.0"
      ]
     },
     "execution_count": 10,
     "metadata": {},
     "output_type": "execute_result"
    }
   ],
   "source": [
    "#смотрим общие параметры данных\n",
    "rides_go.describe().round()"
   ]
  },
  {
   "cell_type": "code",
   "execution_count": 11,
   "id": "218f9335",
   "metadata": {},
   "outputs": [
    {
     "data": {
      "image/png": "[encoded data removed]",
      "text/plain": [
       "<Figure size 1224x504 with 4 Axes>"
      ]
     },
     "metadata": {
      "needs_background": "light"
     },
     "output_type": "display_data"
    }
   ],
   "source": [
    "#строим общие гистограммы\n",
    "rides_go.hist(bins=10, grid=True, figsize=(17,7),legend=True);"
   ]
  },
  {
   "cell_type": "markdown",
   "id": "5c670775",
   "metadata": {},
   "source": [
    "##### Загрузка и общая информация о данных датафрейма subscriptions_go "
   ]
  },
  {
   "cell_type": "markdown",
   "id": "802f6dcf",
   "metadata": {},
   "source": [
    " "
   ]
  },
  {
   "cell_type": "code",
   "execution_count": 12,
   "id": "b1e2a3ff",
   "metadata": {},
   "outputs": [],
   "source": [
    "#Читаем датафрейм subscriptions_go\n",
    "subscriptions_go = pd.read_csv('/datasets/subscriptions_go.csv')"
   ]
  },
  {
   "cell_type": "code",
   "execution_count": 13,
   "id": "c6269716",
   "metadata": {},
   "outputs": [
    {
     "data": {
      "text/html": [
       "<div>\n",
       "<style scoped>\n",
       "    .dataframe tbody tr th:only-of-type {\n",
       "        vertical-align: middle;\n",
       "    }\n",
       "\n",
       "    .dataframe tbody tr th {\n",
       "        vertical-align: top;\n",
       "    }\n",
       "\n",
       "    .dataframe thead th {\n",
       "        text-align: right;\n",
       "    }\n",
       "</style>\n",
       "<table border=\"1\" class=\"dataframe\">\n",
       "  <thead>\n",
       "    <tr style=\"text-align: right;\">\n",
       "      <th></th>\n",
       "      <th>subscription_type</th>\n",
       "      <th>minute_price</th>\n",
       "      <th>start_ride_price</th>\n",
       "      <th>subscription_fee</th>\n",
       "    </tr>\n",
       "  </thead>\n",
       "  <tbody>\n",
       "    <tr>\n",
       "      <th>0</th>\n",
       "      <td>free</td>\n",
       "      <td>8</td>\n",
       "      <td>50</td>\n",
       "      <td>0</td>\n",
       "    </tr>\n",
       "    <tr>\n",
       "      <th>1</th>\n",
       "      <td>ultra</td>\n",
       "      <td>6</td>\n",
       "      <td>0</td>\n",
       "      <td>199</td>\n",
       "    </tr>\n",
       "  </tbody>\n",
       "</table>\n",
       "</div>"
      ],
      "text/plain": [
       "  subscription_type  minute_price  start_ride_price  subscription_fee\n",
       "0              free             8                50                 0\n",
       "1             ultra             6                 0               199"
      ]
     },
     "execution_count": 13,
     "metadata": {},
     "output_type": "execute_result"
    }
   ],
   "source": [
    "#смотрим первые 5 строк\n",
    "subscriptions_go.head()"
   ]
  },
  {
   "cell_type": "code",
   "execution_count": 14,
   "id": "c6727e74",
   "metadata": {},
   "outputs": [
    {
     "name": "stdout",
     "output_type": "stream",
     "text": [
      "<class 'pandas.core.frame.DataFrame'>\n",
      "RangeIndex: 2 entries, 0 to 1\n",
      "Data columns (total 4 columns):\n",
      " #   Column             Non-Null Count  Dtype \n",
      "---  ------             --------------  ----- \n",
      " 0   subscription_type  2 non-null      object\n",
      " 1   minute_price       2 non-null      int64 \n",
      " 2   start_ride_price   2 non-null      int64 \n",
      " 3   subscription_fee   2 non-null      int64 \n",
      "dtypes: int64(3), object(1)\n",
      "memory usage: 192.0+ bytes\n"
     ]
    }
   ],
   "source": [
    "#смотрим общую информацию\n",
    "subscriptions_go.info()"
   ]
  },
  {
   "cell_type": "code",
   "execution_count": 15,
   "id": "7c2db3b2",
   "metadata": {},
   "outputs": [
    {
     "data": {
      "image/png": "[encoded data removed]",
      "text/plain": [
       "<Figure size 1224x504 with 4 Axes>"
      ]
     },
     "metadata": {
      "needs_background": "light"
     },
     "output_type": "display_data"
    }
   ],
   "source": [
    "#строим общие гистограммы\n",
    "subscriptions_go.hist(bins=10, grid=True, figsize=(17,7),legend=True);"
   ]
  },
  {
   "cell_type": "markdown",
   "id": "55a0c754",
   "metadata": {},
   "source": [
    "<br> ***Вывод***\n",
    "\n",
    "<br> Изучена общая информация о данных. На основе этого можно сказать следующее:\n",
    "<br> В users_go 1565 записи. 25 лет - медианный возраст пользователя. Сервисом пользуются люди в возрасте от 12 до 43 лет.\n",
    "<br> В users_go 18068 записи. 3137 м - медианное расстояние, 17,67 мин - медианная длительность поездок.\n",
    "<br> В subscriptions_go 2 записи.\n",
    "<br>Названия столбцов корректны. Для ряда столбцов в rides_goнекорректный тип данных."
   ]
  },
  {
   "cell_type": "markdown",
   "id": "e95ebca7",
   "metadata": {},
   "source": [
    "#### Шаг 2. Предобработка данных"
   ]
  },
  {
   "cell_type": "markdown",
   "id": "f1161320",
   "metadata": {},
   "source": [
    "#####  Меняем тип данных"
   ]
  },
  {
   "cell_type": "code",
   "execution_count": 16,
   "id": "ff6f05e1",
   "metadata": {},
   "outputs": [
    {
     "data": {
      "text/html": [
       "<div>\n",
       "<style scoped>\n",
       "    .dataframe tbody tr th:only-of-type {\n",
       "        vertical-align: middle;\n",
       "    }\n",
       "\n",
       "    .dataframe tbody tr th {\n",
       "        vertical-align: top;\n",
       "    }\n",
       "\n",
       "    .dataframe thead th {\n",
       "        text-align: right;\n",
       "    }\n",
       "</style>\n",
       "<table border=\"1\" class=\"dataframe\">\n",
       "  <thead>\n",
       "    <tr style=\"text-align: right;\">\n",
       "      <th></th>\n",
       "      <th>user_id</th>\n",
       "      <th>distance</th>\n",
       "      <th>duration</th>\n",
       "      <th>date</th>\n",
       "    </tr>\n",
       "  </thead>\n",
       "  <tbody>\n",
       "    <tr>\n",
       "      <th>0</th>\n",
       "      <td>1</td>\n",
       "      <td>4409.919140</td>\n",
       "      <td>25.599769</td>\n",
       "      <td>2021-01-01</td>\n",
       "    </tr>\n",
       "    <tr>\n",
       "      <th>1</th>\n",
       "      <td>1</td>\n",
       "      <td>2617.592153</td>\n",
       "      <td>15.816871</td>\n",
       "      <td>2021-01-18</td>\n",
       "    </tr>\n",
       "    <tr>\n",
       "      <th>2</th>\n",
       "      <td>1</td>\n",
       "      <td>754.159807</td>\n",
       "      <td>6.232113</td>\n",
       "      <td>2021-04-20</td>\n",
       "    </tr>\n",
       "    <tr>\n",
       "      <th>3</th>\n",
       "      <td>1</td>\n",
       "      <td>2694.783254</td>\n",
       "      <td>18.511000</td>\n",
       "      <td>2021-08-11</td>\n",
       "    </tr>\n",
       "    <tr>\n",
       "      <th>4</th>\n",
       "      <td>1</td>\n",
       "      <td>4028.687306</td>\n",
       "      <td>26.265803</td>\n",
       "      <td>2021-08-28</td>\n",
       "    </tr>\n",
       "    <tr>\n",
       "      <th>5</th>\n",
       "      <td>1</td>\n",
       "      <td>2770.890808</td>\n",
       "      <td>16.650138</td>\n",
       "      <td>2021-10-09</td>\n",
       "    </tr>\n",
       "    <tr>\n",
       "      <th>6</th>\n",
       "      <td>1</td>\n",
       "      <td>3039.020292</td>\n",
       "      <td>14.927879</td>\n",
       "      <td>2021-10-19</td>\n",
       "    </tr>\n",
       "    <tr>\n",
       "      <th>7</th>\n",
       "      <td>1</td>\n",
       "      <td>2842.118050</td>\n",
       "      <td>23.117468</td>\n",
       "      <td>2021-11-06</td>\n",
       "    </tr>\n",
       "  </tbody>\n",
       "</table>\n",
       "</div>"
      ],
      "text/plain": [
       "   user_id     distance   duration        date\n",
       "0        1  4409.919140  25.599769  2021-01-01\n",
       "1        1  2617.592153  15.816871  2021-01-18\n",
       "2        1   754.159807   6.232113  2021-04-20\n",
       "3        1  2694.783254  18.511000  2021-08-11\n",
       "4        1  4028.687306  26.265803  2021-08-28\n",
       "5        1  2770.890808  16.650138  2021-10-09\n",
       "6        1  3039.020292  14.927879  2021-10-19\n",
       "7        1  2842.118050  23.117468  2021-11-06"
      ]
     },
     "execution_count": 16,
     "metadata": {},
     "output_type": "execute_result"
    }
   ],
   "source": [
    "# Код ревьюера\n",
    "rides_go.query('user_id == 1').head(8)"
   ]
  },
  {
   "cell_type": "code",
   "execution_count": 18,
   "id": "bc21f6b8",
   "metadata": {},
   "outputs": [],
   "source": [
    "#округлим значения до большего\n",
    "rides_go['duration'] = np.ceil(rides_go['duration']) \n",
    "rides_go['distance'] = np.ceil(rides_go['distance']) "
   ]
  },
  {
   "cell_type": "code",
   "execution_count": 19,
   "id": "1d4bca2e",
   "metadata": {},
   "outputs": [
    {
     "data": {
      "text/html": [
       "<div>\n",
       "<style scoped>\n",
       "    .dataframe tbody tr th:only-of-type {\n",
       "        vertical-align: middle;\n",
       "    }\n",
       "\n",
       "    .dataframe tbody tr th {\n",
       "        vertical-align: top;\n",
       "    }\n",
       "\n",
       "    .dataframe thead th {\n",
       "        text-align: right;\n",
       "    }\n",
       "</style>\n",
       "<table border=\"1\" class=\"dataframe\">\n",
       "  <thead>\n",
       "    <tr style=\"text-align: right;\">\n",
       "      <th></th>\n",
       "      <th>user_id</th>\n",
       "      <th>distance</th>\n",
       "      <th>duration</th>\n",
       "      <th>date</th>\n",
       "    </tr>\n",
       "  </thead>\n",
       "  <tbody>\n",
       "    <tr>\n",
       "      <th>0</th>\n",
       "      <td>1</td>\n",
       "      <td>4410.0</td>\n",
       "      <td>26.0</td>\n",
       "      <td>2021-01-01</td>\n",
       "    </tr>\n",
       "    <tr>\n",
       "      <th>1</th>\n",
       "      <td>1</td>\n",
       "      <td>2618.0</td>\n",
       "      <td>16.0</td>\n",
       "      <td>2021-01-18</td>\n",
       "    </tr>\n",
       "    <tr>\n",
       "      <th>2</th>\n",
       "      <td>1</td>\n",
       "      <td>755.0</td>\n",
       "      <td>7.0</td>\n",
       "      <td>2021-04-20</td>\n",
       "    </tr>\n",
       "    <tr>\n",
       "      <th>3</th>\n",
       "      <td>1</td>\n",
       "      <td>2695.0</td>\n",
       "      <td>19.0</td>\n",
       "      <td>2021-08-11</td>\n",
       "    </tr>\n",
       "    <tr>\n",
       "      <th>4</th>\n",
       "      <td>1</td>\n",
       "      <td>4029.0</td>\n",
       "      <td>27.0</td>\n",
       "      <td>2021-08-28</td>\n",
       "    </tr>\n",
       "    <tr>\n",
       "      <th>5</th>\n",
       "      <td>1</td>\n",
       "      <td>2771.0</td>\n",
       "      <td>17.0</td>\n",
       "      <td>2021-10-09</td>\n",
       "    </tr>\n",
       "    <tr>\n",
       "      <th>6</th>\n",
       "      <td>1</td>\n",
       "      <td>3040.0</td>\n",
       "      <td>15.0</td>\n",
       "      <td>2021-10-19</td>\n",
       "    </tr>\n",
       "    <tr>\n",
       "      <th>7</th>\n",
       "      <td>1</td>\n",
       "      <td>2843.0</td>\n",
       "      <td>24.0</td>\n",
       "      <td>2021-11-06</td>\n",
       "    </tr>\n",
       "  </tbody>\n",
       "</table>\n",
       "</div>"
      ],
      "text/plain": [
       "   user_id  distance  duration        date\n",
       "0        1    4410.0      26.0  2021-01-01\n",
       "1        1    2618.0      16.0  2021-01-18\n",
       "2        1     755.0       7.0  2021-04-20\n",
       "3        1    2695.0      19.0  2021-08-11\n",
       "4        1    4029.0      27.0  2021-08-28\n",
       "5        1    2771.0      17.0  2021-10-09\n",
       "6        1    3040.0      15.0  2021-10-19\n",
       "7        1    2843.0      24.0  2021-11-06"
      ]
     },
     "execution_count": 19,
     "metadata": {},
     "output_type": "execute_result"
    }
   ],
   "source": [
    "# Код ревьюера\n",
    "rides_go.query('user_id == 1').head(8)"
   ]
  },
  {
   "cell_type": "code",
   "execution_count": 20,
   "id": "b7c91b94",
   "metadata": {},
   "outputs": [
    {
     "name": "stdout",
     "output_type": "stream",
     "text": [
      "<class 'pandas.core.frame.DataFrame'>\n",
      "RangeIndex: 18068 entries, 0 to 18067\n",
      "Data columns (total 4 columns):\n",
      " #   Column    Non-Null Count  Dtype  \n",
      "---  ------    --------------  -----  \n",
      " 0   user_id   18068 non-null  int64  \n",
      " 1   distance  18068 non-null  float64\n",
      " 2   duration  18068 non-null  float64\n",
      " 3   date      18068 non-null  object \n",
      "dtypes: float64(2), int64(1), object(1)\n",
      "memory usage: 564.8+ KB\n"
     ]
    }
   ],
   "source": [
    "#проверяем тип данных\n",
    "rides_go.info()"
   ]
  },
  {
   "cell_type": "code",
   "execution_count": null,
   "id": "58ef7615",
   "metadata": {},
   "outputs": [],
   "source": []
  },
  {
   "cell_type": "code",
   "execution_count": 21,
   "id": "af6d202c",
   "metadata": {},
   "outputs": [],
   "source": [
    "#меняем тип данных для даты\n",
    "rides_go['date'] = pd.to_datetime(rides_go['date'], format='%Y-%m-%d %H:%M')\n",
    "#rides_go.info()"
   ]
  },
  {
   "cell_type": "markdown",
   "id": "ff19caeb",
   "metadata": {},
   "source": [
    "##### Добавляем столбец с номером месяца на основе столбца `date`."
   ]
  },
  {
   "cell_type": "code",
   "execution_count": 22,
   "id": "d5174d88",
   "metadata": {},
   "outputs": [],
   "source": [
    "rides_go['month'] = rides_go['date'].dt.month\n",
    "#rides_go"
   ]
  },
  {
   "cell_type": "markdown",
   "id": "54cb7946",
   "metadata": {},
   "source": [
    "##### Проверяем данные на наличие дубликатов."
   ]
  },
  {
   "cell_type": "code",
   "execution_count": 23,
   "id": "a3892ff6",
   "metadata": {},
   "outputs": [
    {
     "name": "stdout",
     "output_type": "stream",
     "text": [
      "Количество дубликатов users_go: 31\n",
      "Количество дубликатов rides_go: 0\n",
      "Количество дубликатов  subscriptions_go: 0\n"
     ]
    }
   ],
   "source": [
    "#смотрим количество дубликатов\n",
    "print('Количество дубликатов users_go:', users_go.duplicated().sum())\n",
    "print('Количество дубликатов rides_go:', rides_go.duplicated().sum())\n",
    "print('Количество дубликатов  subscriptions_go:', subscriptions_go.duplicated().sum())"
   ]
  },
  {
   "cell_type": "code",
   "execution_count": 59,
   "id": "ed71e57f",
   "metadata": {},
   "outputs": [],
   "source": [
    "def count_duplicates(df):\n",
    "    return df.duplicated().sum()"
   ]
  },
  {
   "cell_type": "code",
   "execution_count": 61,
   "id": "100bcdd0",
   "metadata": {},
   "outputs": [
    {
     "name": "stdout",
     "output_type": "stream",
     "text": [
      "Количество дубликатов users_go: 0\n",
      "Количество дубликатов rides_go: 0\n",
      "Количество дубликатов  subscriptions_go: 0\n"
     ]
    }
   ],
   "source": [
    "print('Количество дубликатов users_go:', count_duplicates(users_go))\n",
    "print('Количество дубликатов rides_go:', count_duplicates(rides_go))\n",
    "print('Количество дубликатов  subscriptions_go:', count_duplicates(subscriptions_go))"
   ]
  },
  {
   "cell_type": "code",
   "execution_count": 24,
   "id": "e354a582",
   "metadata": {},
   "outputs": [],
   "source": [
    "#удаляем явные дубликаты\n",
    "users_go = users_go.drop_duplicates().reset_index(drop=True)"
   ]
  },
  {
   "cell_type": "code",
   "execution_count": 63,
   "id": "53bcf97d",
   "metadata": {},
   "outputs": [
    {
     "name": "stdout",
     "output_type": "stream",
     "text": [
      "Количество дубликатов users_go: 0\n"
     ]
    }
   ],
   "source": [
    "#проверяем дубликаты после удаления\n",
    "print('Количество дубликатов users_go:', count_duplicates(users_go))"
   ]
  },
  {
   "cell_type": "markdown",
   "id": "01899223",
   "metadata": {},
   "source": [
    "##### Проверка данных на наличие пропущенных значений"
   ]
  },
  {
   "cell_type": "code",
   "execution_count": 64,
   "id": "447ed3bc",
   "metadata": {},
   "outputs": [],
   "source": [
    "def count_isna(df):\n",
    "    return df.isna().sum()"
   ]
  },
  {
   "cell_type": "code",
   "execution_count": 65,
   "id": "55d0ed71",
   "metadata": {},
   "outputs": [
    {
     "name": "stdout",
     "output_type": "stream",
     "text": [
      "Количество пропущенных значений users_go: \n",
      " user_id              0\n",
      "name                 0\n",
      "age                  0\n",
      "city                 0\n",
      "subscription_type    0\n",
      "dtype: int64 \n",
      "\n",
      "Количество пропущенных значений rides_go: \n",
      " user_id     0\n",
      "distance    0\n",
      "duration    0\n",
      "date        0\n",
      "month       0\n",
      "dtype: int64 \n",
      "\n",
      "Количество пропущенных значений subscriptions_go: \n",
      " subscription_type    0\n",
      "minute_price         0\n",
      "start_ride_price     0\n",
      "subscription_fee     0\n",
      "dtype: int64 \n",
      "\n"
     ]
    }
   ],
   "source": [
    "#смотрим количество пропущенных значений\n",
    "print('Количество пропущенных значений users_go: \\n', count_isna(users_go), '\\n')\n",
    "print('Количество пропущенных значений rides_go: \\n', count_isna(rides_go), '\\n')\n",
    "print('Количество пропущенных значений subscriptions_go: \\n', count_isna(subscriptions_go), '\\n')"
   ]
  },
  {
   "cell_type": "markdown",
   "id": "0a986f44",
   "metadata": {},
   "source": [
    "<br> ***Вывод***\n",
    "<br> В данных users_go удалены явные дубликаты.\n",
    "<br> В данных rides_go изменен тип данных столбца \"date\", добавлен новый столбец с номером мемяца. А так же изменен тип столбцов duration и distance.\n",
    "<br> Данные в subscriptions_go не изменялись.\n",
    "<br> Во всех данных пропущенные значения отсутствуют. "
   ]
  },
  {
   "cell_type": "markdown",
   "id": "212593c7",
   "metadata": {},
   "source": [
    "#### Шаг 3. Исследовательский анализ данных"
   ]
  },
  {
   "cell_type": "markdown",
   "id": "b31dd1df",
   "metadata": {},
   "source": [
    "##### Частота встречаемости городов"
   ]
  },
  {
   "cell_type": "code",
   "execution_count": 27,
   "id": "0f317b9d",
   "metadata": {},
   "outputs": [
    {
     "data": {
      "image/png": "[encoded data removed]",
      "text/plain": [
       "<Figure size 864x504 with 1 Axes>"
      ]
     },
     "metadata": {
      "needs_background": "light"
     },
     "output_type": "display_data"
    }
   ],
   "source": [
    "#частота встречаемости городов\n",
    "users_go.pivot_table(index='city', values = 'user_id', aggfunc='count').sort_values(by = 'user_id', ascending=True).\\\n",
    "plot(kind='barh', grid=True, figsize=(12,7),legend=True)\n",
    "plt.title('Частота встречаемости городов')\n",
    "plt.xlabel('Количество, шт')\n",
    "plt.ylabel('Город');"
   ]
  },
  {
   "cell_type": "code",
   "execution_count": 98,
   "id": "31e2a13b",
   "metadata": {},
   "outputs": [
    {
     "data": {
      "text/plain": [
       "Пятигорск         219\n",
       "Екатеринбург      204\n",
       "Ростов-на-Дону    198\n",
       "Краснодар         193\n",
       "Сочи              189\n",
       "Омск              183\n",
       "Тюмень            180\n",
       "Москва            168\n",
       "Name: city, dtype: int64"
      ]
     },
     "execution_count": 98,
     "metadata": {},
     "output_type": "execute_result"
    }
   ],
   "source": [
    "city_counts = users_go['city'].value_counts()\n",
    "city_counts"
   ]
  },
  {
   "cell_type": "markdown",
   "id": "8e9b8268",
   "metadata": {},
   "source": [
    "##### Соотношение пользователей с подпиской и без подписки"
   ]
  },
  {
   "cell_type": "code",
   "execution_count": 28,
   "id": "adef80d2",
   "metadata": {},
   "outputs": [
    {
     "data": {
      "image/png": "[encoded data removed]",
      "text/plain": [
       "<Figure size 720x720 with 1 Axes>"
      ]
     },
     "metadata": {},
     "output_type": "display_data"
    }
   ],
   "source": [
    "#соотношение пользователей с подпиской и без подписки\n",
    "user_ratio = users_go.groupby('subscription_type', axis=0).count()\n",
    "user_ratio['user_id'].plot(kind='pie', figsize=(10,10),\n",
    "                  autopct='%1.1f%%',\n",
    "                  shadow=True)\n",
    "plt.title('Процент пользователей с подпиской и без нее')\n",
    "plt.show();"
   ]
  },
  {
   "cell_type": "code",
   "execution_count": 29,
   "id": "a2d66201",
   "metadata": {},
   "outputs": [
    {
     "data": {
      "text/plain": [
       "subscription_type\n",
       "free     835\n",
       "ultra    699\n",
       "Name: user_id, dtype: int64"
      ]
     },
     "execution_count": 29,
     "metadata": {},
     "output_type": "execute_result"
    }
   ],
   "source": [
    "#соотношение пользователей с подпиской и без подписки\n",
    "user_ratio['user_id']"
   ]
  },
  {
   "cell_type": "markdown",
   "id": "ae13636d",
   "metadata": {},
   "source": [
    "##### Возраст пользователей"
   ]
  },
  {
   "cell_type": "code",
   "execution_count": 30,
   "id": "bb7b615e",
   "metadata": {},
   "outputs": [
    {
     "data": {
      "image/png": "[encoded data removed]",
      "text/plain": [
       "<Figure size 864x504 with 1 Axes>"
      ]
     },
     "metadata": {
      "needs_background": "light"
     },
     "output_type": "display_data"
    }
   ],
   "source": [
    "#возраст пользователей\n",
    "users_go.pivot_table(index='age', values = 'user_id', aggfunc='count').\\\n",
    "plot(kind='bar', grid=True, figsize=(12,7),legend=True)\n",
    "plt.title('Возраст пользователей')\n",
    "plt.xlabel('Возраст, лет')\n",
    "plt.ylabel('Количество пользователей');"
   ]
  },
  {
   "cell_type": "code",
   "execution_count": 31,
   "id": "0e6d5353",
   "metadata": {},
   "outputs": [
    {
     "data": {
      "text/plain": [
       "count    1534.0\n",
       "mean       25.0\n",
       "std         5.0\n",
       "min        12.0\n",
       "25%        22.0\n",
       "50%        25.0\n",
       "75%        28.0\n",
       "max        43.0\n",
       "Name: age, dtype: float64"
      ]
     },
     "execution_count": 31,
     "metadata": {},
     "output_type": "execute_result"
    }
   ],
   "source": [
    "# общая информация о возрасте пользователей\n",
    "users_go['age'].describe().round()"
   ]
  },
  {
   "cell_type": "markdown",
   "id": "74fbd6a6",
   "metadata": {},
   "source": [
    "##### Количество поездок в зависимости от расстояния поездки"
   ]
  },
  {
   "cell_type": "code",
   "execution_count": 32,
   "id": "d3815277",
   "metadata": {},
   "outputs": [
    {
     "data": {
      "image/png": "[encoded data removed]",
      "text/plain": [
       "<Figure size 864x576 with 1 Axes>"
      ]
     },
     "metadata": {
      "needs_background": "light"
     },
     "output_type": "display_data"
    }
   ],
   "source": [
    "#расстояние, которое пользователь преодолел за одну поездку\n",
    "plt.figure(figsize=(12,8))\n",
    "plt.hist(rides_go['distance'], bins=100, label = ['distance'])\n",
    "plt.grid(True)\n",
    "plt.legend(loc='upper right')\n",
    "plt.title('Количество поездок в зависимости от расстояния преодаленного за поездку')\n",
    "plt.xlabel('Расстояние, м.')\n",
    "plt.ylabel('Количество поездок')\n",
    "plt.show();"
   ]
  },
  {
   "cell_type": "code",
   "execution_count": 33,
   "id": "a9bc598b",
   "metadata": {},
   "outputs": [
    {
     "data": {
      "text/plain": [
       "count    18068.0\n",
       "mean      3071.0\n",
       "std       1117.0\n",
       "min          1.0\n",
       "25%       2544.0\n",
       "50%       3134.0\n",
       "75%       3777.0\n",
       "max       7212.0\n",
       "Name: distance, dtype: float64"
      ]
     },
     "execution_count": 33,
     "metadata": {},
     "output_type": "execute_result"
    }
   ],
   "source": [
    "# общая информация о расстоянии \n",
    "rides_go['distance'].describe().round()"
   ]
  },
  {
   "cell_type": "markdown",
   "id": "c7624746",
   "metadata": {},
   "source": [
    "##### Продолжительность поездок"
   ]
  },
  {
   "cell_type": "code",
   "execution_count": 34,
   "id": "3a745098",
   "metadata": {},
   "outputs": [
    {
     "data": {
      "image/png": "[encoded data removed]",
      "text/plain": [
       "<Figure size 864x576 with 1 Axes>"
      ]
     },
     "metadata": {
      "needs_background": "light"
     },
     "output_type": "display_data"
    }
   ],
   "source": [
    "#продолжительность поездок\n",
    "rides_go.pivot_table(index = 'duration', values='user_id', aggfunc='count').\\\n",
    "plot(kind='bar', grid=True, figsize=(12,8),legend=True)\n",
    "plt.title('Количество поездок в зависимости от их продолжительности, минут')\n",
    "plt.xlabel('Продолжительность, мин.')\n",
    "plt.ylabel('Количество пользователей');"
   ]
  },
  {
   "cell_type": "code",
   "execution_count": 110,
   "id": "5957a6b2",
   "metadata": {},
   "outputs": [
    {
     "data": {
      "text/html": [
       "<div>\n",
       "<style scoped>\n",
       "    .dataframe tbody tr th:only-of-type {\n",
       "        vertical-align: middle;\n",
       "    }\n",
       "\n",
       "    .dataframe tbody tr th {\n",
       "        vertical-align: top;\n",
       "    }\n",
       "\n",
       "    .dataframe thead th {\n",
       "        text-align: right;\n",
       "    }\n",
       "</style>\n",
       "<table border=\"1\" class=\"dataframe\">\n",
       "  <thead>\n",
       "    <tr style=\"text-align: right;\">\n",
       "      <th></th>\n",
       "      <th>user_id</th>\n",
       "      <th>distance</th>\n",
       "      <th>duration</th>\n",
       "      <th>date</th>\n",
       "      <th>month</th>\n",
       "    </tr>\n",
       "  </thead>\n",
       "  <tbody>\n",
       "    <tr>\n",
       "      <th>15132</th>\n",
       "      <td>1325</td>\n",
       "      <td>4031.0</td>\n",
       "      <td>1.0</td>\n",
       "      <td>2021-12-22</td>\n",
       "      <td>12</td>\n",
       "    </tr>\n",
       "    <tr>\n",
       "      <th>17909</th>\n",
       "      <td>1524</td>\n",
       "      <td>4104.0</td>\n",
       "      <td>1.0</td>\n",
       "      <td>2021-06-18</td>\n",
       "      <td>6</td>\n",
       "    </tr>\n",
       "    <tr>\n",
       "      <th>10692</th>\n",
       "      <td>1006</td>\n",
       "      <td>4107.0</td>\n",
       "      <td>1.0</td>\n",
       "      <td>2021-10-31</td>\n",
       "      <td>10</td>\n",
       "    </tr>\n",
       "    <tr>\n",
       "      <th>9698</th>\n",
       "      <td>937</td>\n",
       "      <td>4170.0</td>\n",
       "      <td>1.0</td>\n",
       "      <td>2021-12-12</td>\n",
       "      <td>12</td>\n",
       "    </tr>\n",
       "    <tr>\n",
       "      <th>14342</th>\n",
       "      <td>1268</td>\n",
       "      <td>4178.0</td>\n",
       "      <td>1.0</td>\n",
       "      <td>2021-06-09</td>\n",
       "      <td>6</td>\n",
       "    </tr>\n",
       "    <tr>\n",
       "      <th>...</th>\n",
       "      <td>...</td>\n",
       "      <td>...</td>\n",
       "      <td>...</td>\n",
       "      <td>...</td>\n",
       "      <td>...</td>\n",
       "    </tr>\n",
       "    <tr>\n",
       "      <th>14574</th>\n",
       "      <td>1285</td>\n",
       "      <td>6317.0</td>\n",
       "      <td>1.0</td>\n",
       "      <td>2021-09-25</td>\n",
       "      <td>9</td>\n",
       "    </tr>\n",
       "    <tr>\n",
       "      <th>13701</th>\n",
       "      <td>1224</td>\n",
       "      <td>6415.0</td>\n",
       "      <td>1.0</td>\n",
       "      <td>2021-07-15</td>\n",
       "      <td>7</td>\n",
       "    </tr>\n",
       "    <tr>\n",
       "      <th>11385</th>\n",
       "      <td>1057</td>\n",
       "      <td>6602.0</td>\n",
       "      <td>1.0</td>\n",
       "      <td>2021-02-07</td>\n",
       "      <td>2</td>\n",
       "    </tr>\n",
       "    <tr>\n",
       "      <th>17242</th>\n",
       "      <td>1477</td>\n",
       "      <td>6725.0</td>\n",
       "      <td>1.0</td>\n",
       "      <td>2021-01-12</td>\n",
       "      <td>1</td>\n",
       "    </tr>\n",
       "    <tr>\n",
       "      <th>16309</th>\n",
       "      <td>1411</td>\n",
       "      <td>7212.0</td>\n",
       "      <td>1.0</td>\n",
       "      <td>2021-04-15</td>\n",
       "      <td>4</td>\n",
       "    </tr>\n",
       "  </tbody>\n",
       "</table>\n",
       "<p>95 rows × 5 columns</p>\n",
       "</div>"
      ],
      "text/plain": [
       "       user_id  distance  duration       date  month\n",
       "15132     1325    4031.0       1.0 2021-12-22     12\n",
       "17909     1524    4104.0       1.0 2021-06-18      6\n",
       "10692     1006    4107.0       1.0 2021-10-31     10\n",
       "9698       937    4170.0       1.0 2021-12-12     12\n",
       "14342     1268    4178.0       1.0 2021-06-09      6\n",
       "...        ...       ...       ...        ...    ...\n",
       "14574     1285    6317.0       1.0 2021-09-25      9\n",
       "13701     1224    6415.0       1.0 2021-07-15      7\n",
       "11385     1057    6602.0       1.0 2021-02-07      2\n",
       "17242     1477    6725.0       1.0 2021-01-12      1\n",
       "16309     1411    7212.0       1.0 2021-04-15      4\n",
       "\n",
       "[95 rows x 5 columns]"
      ]
     },
     "execution_count": 110,
     "metadata": {},
     "output_type": "execute_result"
    }
   ],
   "source": [
    "rides_go[rides_go['duration'] == 1].sort_values(by='distance', ascending = 'True')"
   ]
  },
  {
   "cell_type": "markdown",
   "id": "23bc2a5e",
   "metadata": {},
   "source": [
    "Вывод: Наименьшее расстояние при поездках длительностью менее 1 минуты - 4031 м, эти поездки не могут быть короткими, скорее всего это сбой. Таких строк всего 95, поэтому они вряд ли вносят сильное влияние и, думаю, что их можно не исправлять. </div>"
   ]
  },
  {
   "cell_type": "code",
   "execution_count": 113,
   "id": "d466e74c",
   "metadata": {},
   "outputs": [
    {
     "data": {
      "text/plain": [
       "count    18068.0\n",
       "mean        18.0\n",
       "std          6.0\n",
       "min          1.0\n",
       "25%         14.0\n",
       "50%         18.0\n",
       "75%         22.0\n",
       "max         41.0\n",
       "Name: duration, dtype: float64"
      ]
     },
     "execution_count": 113,
     "metadata": {},
     "output_type": "execute_result"
    }
   ],
   "source": [
    "#общая информация о продолжительности поездок\n",
    "rides_go['duration'].describe().round()"
   ]
  },
  {
   "cell_type": "markdown",
   "id": "1aee5466",
   "metadata": {},
   "source": [
    "<br>***Вывод***\n",
    "<br> Сервис аренды самокатов GoFast пользуется большей популярностью в южных городах, таких как 1 место - Пятигорск, 3 место - Ростов-на-Дону, 4 место - Краснодар, 5 место - Сочи. Екатеринбург находится на 2 месте. Наименьшей популярностью пользуется в городах Омск (6 место), Тюмень(7 место) и Москва (8 место). \n",
    "<br>Так как южных городов больше всего, то можно предположить, что этот сервис начал развиваться с Юга и успел обрести там бОльшую популярность.\n",
    "<br>Подписку имеют всего около 46% пользователей (699), 54% пользователей (899 человек) не пользуются подпиской.\n",
    "<br>График распределения возраста пользователй напоминает нормальное распределение, а медиана (25 лет) и среднее (24,9 лет) почти совпадают. \n",
    "<br>За одну поездку преодолевается расстояние от 1 до 7211 метров. Медиана составляет 3133 метров. Наблюдается пик в районе 3200 метров.\n",
    "<br>Продолжительность поездок нормально распределена, их среднее(17.3 минуты) и медиана (17 минут) почти совпадают. Наблюдаются аномальные значения - около 100 поездок продолжительностью до минуты.\n"
   ]
  },
  {
   "cell_type": "markdown",
   "id": "4ef51331",
   "metadata": {},
   "source": [
    "#### Шаг 4. Объединение данных"
   ]
  },
  {
   "cell_type": "markdown",
   "id": "fde24ccc",
   "metadata": {},
   "source": [
    "##### Объедините данные о пользователях, поездках и подписках в один датафрейм."
   ]
  },
  {
   "cell_type": "code",
   "execution_count": 36,
   "id": "6bf288b5",
   "metadata": {},
   "outputs": [
    {
     "data": {
      "text/html": [
       "<div>\n",
       "<style scoped>\n",
       "    .dataframe tbody tr th:only-of-type {\n",
       "        vertical-align: middle;\n",
       "    }\n",
       "\n",
       "    .dataframe tbody tr th {\n",
       "        vertical-align: top;\n",
       "    }\n",
       "\n",
       "    .dataframe thead th {\n",
       "        text-align: right;\n",
       "    }\n",
       "</style>\n",
       "<table border=\"1\" class=\"dataframe\">\n",
       "  <thead>\n",
       "    <tr style=\"text-align: right;\">\n",
       "      <th></th>\n",
       "      <th>user_id</th>\n",
       "      <th>name</th>\n",
       "      <th>age</th>\n",
       "      <th>city</th>\n",
       "      <th>subscription_type</th>\n",
       "      <th>distance</th>\n",
       "      <th>duration</th>\n",
       "      <th>date</th>\n",
       "      <th>month</th>\n",
       "      <th>minute_price</th>\n",
       "      <th>start_ride_price</th>\n",
       "      <th>subscription_fee</th>\n",
       "    </tr>\n",
       "  </thead>\n",
       "  <tbody>\n",
       "    <tr>\n",
       "      <th>0</th>\n",
       "      <td>1</td>\n",
       "      <td>Кира</td>\n",
       "      <td>22</td>\n",
       "      <td>Тюмень</td>\n",
       "      <td>ultra</td>\n",
       "      <td>4410.0</td>\n",
       "      <td>26.0</td>\n",
       "      <td>2021-01-01</td>\n",
       "      <td>1</td>\n",
       "      <td>6</td>\n",
       "      <td>0</td>\n",
       "      <td>199</td>\n",
       "    </tr>\n",
       "    <tr>\n",
       "      <th>1</th>\n",
       "      <td>1</td>\n",
       "      <td>Кира</td>\n",
       "      <td>22</td>\n",
       "      <td>Тюмень</td>\n",
       "      <td>ultra</td>\n",
       "      <td>2618.0</td>\n",
       "      <td>16.0</td>\n",
       "      <td>2021-01-18</td>\n",
       "      <td>1</td>\n",
       "      <td>6</td>\n",
       "      <td>0</td>\n",
       "      <td>199</td>\n",
       "    </tr>\n",
       "    <tr>\n",
       "      <th>2</th>\n",
       "      <td>1</td>\n",
       "      <td>Кира</td>\n",
       "      <td>22</td>\n",
       "      <td>Тюмень</td>\n",
       "      <td>ultra</td>\n",
       "      <td>755.0</td>\n",
       "      <td>7.0</td>\n",
       "      <td>2021-04-20</td>\n",
       "      <td>4</td>\n",
       "      <td>6</td>\n",
       "      <td>0</td>\n",
       "      <td>199</td>\n",
       "    </tr>\n",
       "    <tr>\n",
       "      <th>3</th>\n",
       "      <td>1</td>\n",
       "      <td>Кира</td>\n",
       "      <td>22</td>\n",
       "      <td>Тюмень</td>\n",
       "      <td>ultra</td>\n",
       "      <td>2695.0</td>\n",
       "      <td>19.0</td>\n",
       "      <td>2021-08-11</td>\n",
       "      <td>8</td>\n",
       "      <td>6</td>\n",
       "      <td>0</td>\n",
       "      <td>199</td>\n",
       "    </tr>\n",
       "    <tr>\n",
       "      <th>4</th>\n",
       "      <td>1</td>\n",
       "      <td>Кира</td>\n",
       "      <td>22</td>\n",
       "      <td>Тюмень</td>\n",
       "      <td>ultra</td>\n",
       "      <td>4029.0</td>\n",
       "      <td>27.0</td>\n",
       "      <td>2021-08-28</td>\n",
       "      <td>8</td>\n",
       "      <td>6</td>\n",
       "      <td>0</td>\n",
       "      <td>199</td>\n",
       "    </tr>\n",
       "  </tbody>\n",
       "</table>\n",
       "</div>"
      ],
      "text/plain": [
       "   user_id  name  age    city subscription_type  distance  duration  \\\n",
       "0        1  Кира   22  Тюмень             ultra    4410.0      26.0   \n",
       "1        1  Кира   22  Тюмень             ultra    2618.0      16.0   \n",
       "2        1  Кира   22  Тюмень             ultra     755.0       7.0   \n",
       "3        1  Кира   22  Тюмень             ultra    2695.0      19.0   \n",
       "4        1  Кира   22  Тюмень             ultra    4029.0      27.0   \n",
       "\n",
       "        date  month  minute_price  start_ride_price  subscription_fee  \n",
       "0 2021-01-01      1             6                 0               199  \n",
       "1 2021-01-18      1             6                 0               199  \n",
       "2 2021-04-20      4             6                 0               199  \n",
       "3 2021-08-11      8             6                 0               199  \n",
       "4 2021-08-28      8             6                 0               199  "
      ]
     },
     "execution_count": 36,
     "metadata": {},
     "output_type": "execute_result"
    }
   ],
   "source": [
    "data = users_go.merge(rides_go, on='user_id').merge(subscriptions_go, on='subscription_type')\n",
    "data.head()"
   ]
  },
  {
   "cell_type": "code",
   "execution_count": 115,
   "id": "1d467b01",
   "metadata": {},
   "outputs": [
    {
     "name": "stdout",
     "output_type": "stream",
     "text": [
      "Количество пропущенных значений data: \n",
      " user_id              0\n",
      "name                 0\n",
      "age                  0\n",
      "city                 0\n",
      "subscription_type    0\n",
      "distance             0\n",
      "duration             0\n",
      "date                 0\n",
      "month                0\n",
      "minute_price         0\n",
      "start_ride_price     0\n",
      "subscription_fee     0\n",
      "dtype: int64 \n",
      "\n"
     ]
    }
   ],
   "source": [
    "#проверка на пропуски\n",
    "print('Количество пропущенных значений data: \\n', count_isna(data), '\\n')"
   ]
  },
  {
   "cell_type": "markdown",
   "id": "75ce1ff9",
   "metadata": {},
   "source": [
    "##### Создайте датафрейм c данными о пользователях без подписки."
   ]
  },
  {
   "cell_type": "code",
   "execution_count": 37,
   "id": "ae8966f7",
   "metadata": {},
   "outputs": [
    {
     "data": {
      "text/html": [
       "<div>\n",
       "<style scoped>\n",
       "    .dataframe tbody tr th:only-of-type {\n",
       "        vertical-align: middle;\n",
       "    }\n",
       "\n",
       "    .dataframe tbody tr th {\n",
       "        vertical-align: top;\n",
       "    }\n",
       "\n",
       "    .dataframe thead th {\n",
       "        text-align: right;\n",
       "    }\n",
       "</style>\n",
       "<table border=\"1\" class=\"dataframe\">\n",
       "  <thead>\n",
       "    <tr style=\"text-align: right;\">\n",
       "      <th></th>\n",
       "      <th>user_id</th>\n",
       "      <th>name</th>\n",
       "      <th>age</th>\n",
       "      <th>city</th>\n",
       "      <th>subscription_type</th>\n",
       "      <th>distance</th>\n",
       "      <th>duration</th>\n",
       "      <th>date</th>\n",
       "      <th>month</th>\n",
       "      <th>minute_price</th>\n",
       "      <th>start_ride_price</th>\n",
       "      <th>subscription_fee</th>\n",
       "    </tr>\n",
       "  </thead>\n",
       "  <tbody>\n",
       "    <tr>\n",
       "      <th>6500</th>\n",
       "      <td>700</td>\n",
       "      <td>Айдар</td>\n",
       "      <td>22</td>\n",
       "      <td>Омск</td>\n",
       "      <td>free</td>\n",
       "      <td>2516.0</td>\n",
       "      <td>15.0</td>\n",
       "      <td>2021-01-02</td>\n",
       "      <td>1</td>\n",
       "      <td>8</td>\n",
       "      <td>50</td>\n",
       "      <td>0</td>\n",
       "    </tr>\n",
       "    <tr>\n",
       "      <th>6501</th>\n",
       "      <td>700</td>\n",
       "      <td>Айдар</td>\n",
       "      <td>22</td>\n",
       "      <td>Омск</td>\n",
       "      <td>free</td>\n",
       "      <td>847.0</td>\n",
       "      <td>17.0</td>\n",
       "      <td>2021-02-01</td>\n",
       "      <td>2</td>\n",
       "      <td>8</td>\n",
       "      <td>50</td>\n",
       "      <td>0</td>\n",
       "    </tr>\n",
       "    <tr>\n",
       "      <th>6502</th>\n",
       "      <td>700</td>\n",
       "      <td>Айдар</td>\n",
       "      <td>22</td>\n",
       "      <td>Омск</td>\n",
       "      <td>free</td>\n",
       "      <td>4005.0</td>\n",
       "      <td>21.0</td>\n",
       "      <td>2021-02-04</td>\n",
       "      <td>2</td>\n",
       "      <td>8</td>\n",
       "      <td>50</td>\n",
       "      <td>0</td>\n",
       "    </tr>\n",
       "    <tr>\n",
       "      <th>6503</th>\n",
       "      <td>700</td>\n",
       "      <td>Айдар</td>\n",
       "      <td>22</td>\n",
       "      <td>Омск</td>\n",
       "      <td>free</td>\n",
       "      <td>1206.0</td>\n",
       "      <td>10.0</td>\n",
       "      <td>2021-02-10</td>\n",
       "      <td>2</td>\n",
       "      <td>8</td>\n",
       "      <td>50</td>\n",
       "      <td>0</td>\n",
       "    </tr>\n",
       "    <tr>\n",
       "      <th>6504</th>\n",
       "      <td>700</td>\n",
       "      <td>Айдар</td>\n",
       "      <td>22</td>\n",
       "      <td>Омск</td>\n",
       "      <td>free</td>\n",
       "      <td>3048.0</td>\n",
       "      <td>18.0</td>\n",
       "      <td>2021-02-14</td>\n",
       "      <td>2</td>\n",
       "      <td>8</td>\n",
       "      <td>50</td>\n",
       "      <td>0</td>\n",
       "    </tr>\n",
       "  </tbody>\n",
       "</table>\n",
       "</div>"
      ],
      "text/plain": [
       "      user_id   name  age  city subscription_type  distance  duration  \\\n",
       "6500      700  Айдар   22  Омск              free    2516.0      15.0   \n",
       "6501      700  Айдар   22  Омск              free     847.0      17.0   \n",
       "6502      700  Айдар   22  Омск              free    4005.0      21.0   \n",
       "6503      700  Айдар   22  Омск              free    1206.0      10.0   \n",
       "6504      700  Айдар   22  Омск              free    3048.0      18.0   \n",
       "\n",
       "           date  month  minute_price  start_ride_price  subscription_fee  \n",
       "6500 2021-01-02      1             8                50                 0  \n",
       "6501 2021-02-01      2             8                50                 0  \n",
       "6502 2021-02-04      2             8                50                 0  \n",
       "6503 2021-02-10      2             8                50                 0  \n",
       "6504 2021-02-14      2             8                50                 0  "
      ]
     },
     "execution_count": 37,
     "metadata": {},
     "output_type": "execute_result"
    }
   ],
   "source": [
    "data_free = data[data['subscription_type']=='free']\n",
    "data_free.head()"
   ]
  },
  {
   "cell_type": "markdown",
   "id": "31eb2900",
   "metadata": {},
   "source": [
    "##### Создайте датафрейм c данными о пользователях с подпиской."
   ]
  },
  {
   "cell_type": "code",
   "execution_count": 38,
   "id": "1e1d7836",
   "metadata": {},
   "outputs": [
    {
     "data": {
      "text/html": [
       "<div>\n",
       "<style scoped>\n",
       "    .dataframe tbody tr th:only-of-type {\n",
       "        vertical-align: middle;\n",
       "    }\n",
       "\n",
       "    .dataframe tbody tr th {\n",
       "        vertical-align: top;\n",
       "    }\n",
       "\n",
       "    .dataframe thead th {\n",
       "        text-align: right;\n",
       "    }\n",
       "</style>\n",
       "<table border=\"1\" class=\"dataframe\">\n",
       "  <thead>\n",
       "    <tr style=\"text-align: right;\">\n",
       "      <th></th>\n",
       "      <th>user_id</th>\n",
       "      <th>name</th>\n",
       "      <th>age</th>\n",
       "      <th>city</th>\n",
       "      <th>subscription_type</th>\n",
       "      <th>distance</th>\n",
       "      <th>duration</th>\n",
       "      <th>date</th>\n",
       "      <th>month</th>\n",
       "      <th>minute_price</th>\n",
       "      <th>start_ride_price</th>\n",
       "      <th>subscription_fee</th>\n",
       "    </tr>\n",
       "  </thead>\n",
       "  <tbody>\n",
       "    <tr>\n",
       "      <th>0</th>\n",
       "      <td>1</td>\n",
       "      <td>Кира</td>\n",
       "      <td>22</td>\n",
       "      <td>Тюмень</td>\n",
       "      <td>ultra</td>\n",
       "      <td>4410.0</td>\n",
       "      <td>26.0</td>\n",
       "      <td>2021-01-01</td>\n",
       "      <td>1</td>\n",
       "      <td>6</td>\n",
       "      <td>0</td>\n",
       "      <td>199</td>\n",
       "    </tr>\n",
       "    <tr>\n",
       "      <th>1</th>\n",
       "      <td>1</td>\n",
       "      <td>Кира</td>\n",
       "      <td>22</td>\n",
       "      <td>Тюмень</td>\n",
       "      <td>ultra</td>\n",
       "      <td>2618.0</td>\n",
       "      <td>16.0</td>\n",
       "      <td>2021-01-18</td>\n",
       "      <td>1</td>\n",
       "      <td>6</td>\n",
       "      <td>0</td>\n",
       "      <td>199</td>\n",
       "    </tr>\n",
       "    <tr>\n",
       "      <th>2</th>\n",
       "      <td>1</td>\n",
       "      <td>Кира</td>\n",
       "      <td>22</td>\n",
       "      <td>Тюмень</td>\n",
       "      <td>ultra</td>\n",
       "      <td>755.0</td>\n",
       "      <td>7.0</td>\n",
       "      <td>2021-04-20</td>\n",
       "      <td>4</td>\n",
       "      <td>6</td>\n",
       "      <td>0</td>\n",
       "      <td>199</td>\n",
       "    </tr>\n",
       "    <tr>\n",
       "      <th>3</th>\n",
       "      <td>1</td>\n",
       "      <td>Кира</td>\n",
       "      <td>22</td>\n",
       "      <td>Тюмень</td>\n",
       "      <td>ultra</td>\n",
       "      <td>2695.0</td>\n",
       "      <td>19.0</td>\n",
       "      <td>2021-08-11</td>\n",
       "      <td>8</td>\n",
       "      <td>6</td>\n",
       "      <td>0</td>\n",
       "      <td>199</td>\n",
       "    </tr>\n",
       "    <tr>\n",
       "      <th>4</th>\n",
       "      <td>1</td>\n",
       "      <td>Кира</td>\n",
       "      <td>22</td>\n",
       "      <td>Тюмень</td>\n",
       "      <td>ultra</td>\n",
       "      <td>4029.0</td>\n",
       "      <td>27.0</td>\n",
       "      <td>2021-08-28</td>\n",
       "      <td>8</td>\n",
       "      <td>6</td>\n",
       "      <td>0</td>\n",
       "      <td>199</td>\n",
       "    </tr>\n",
       "  </tbody>\n",
       "</table>\n",
       "</div>"
      ],
      "text/plain": [
       "   user_id  name  age    city subscription_type  distance  duration  \\\n",
       "0        1  Кира   22  Тюмень             ultra    4410.0      26.0   \n",
       "1        1  Кира   22  Тюмень             ultra    2618.0      16.0   \n",
       "2        1  Кира   22  Тюмень             ultra     755.0       7.0   \n",
       "3        1  Кира   22  Тюмень             ultra    2695.0      19.0   \n",
       "4        1  Кира   22  Тюмень             ultra    4029.0      27.0   \n",
       "\n",
       "        date  month  minute_price  start_ride_price  subscription_fee  \n",
       "0 2021-01-01      1             6                 0               199  \n",
       "1 2021-01-18      1             6                 0               199  \n",
       "2 2021-04-20      4             6                 0               199  \n",
       "3 2021-08-11      8             6                 0               199  \n",
       "4 2021-08-28      8             6                 0               199  "
      ]
     },
     "execution_count": 38,
     "metadata": {},
     "output_type": "execute_result"
    }
   ],
   "source": [
    "data_ultra = data[data['subscription_type']=='ultra']\n",
    "data_ultra.head()"
   ]
  },
  {
   "cell_type": "markdown",
   "id": "5f70296e",
   "metadata": {},
   "source": [
    "##### Визуализируйте информацию о расстоянии и времени поездок для пользователей обеих категорий."
   ]
  },
  {
   "cell_type": "code",
   "execution_count": 39,
   "id": "1dd606df",
   "metadata": {},
   "outputs": [
    {
     "data": {
      "image/png": "[encoded data removed]",
      "text/plain": [
       "<Figure size 864x576 with 1 Axes>"
      ]
     },
     "metadata": {
      "needs_background": "light"
     },
     "output_type": "display_data"
    }
   ],
   "source": [
    "#расстояние, которое пользователь преодолел за одну поездку\n",
    "plt.figure(figsize=(12,8))\n",
    "plt.hist([data_free['distance'],data_ultra['distance']], bins=100, label=['free', 'ultra'])\n",
    "plt.grid(True)\n",
    "plt.legend(loc='upper right')\n",
    "plt.title('Количество поездок в зависимости от расстояния преодаленного за поездку для разных тарифов')\n",
    "plt.xlabel('Расстояние, м.')\n",
    "plt.ylabel('Количество поездок')\n",
    "plt.show();"
   ]
  },
  {
   "cell_type": "code",
   "execution_count": 40,
   "id": "f1f8f8cf",
   "metadata": {},
   "outputs": [
    {
     "data": {
      "text/plain": [
       "count    11568.0\n",
       "mean      3046.0\n",
       "std       1246.0\n",
       "min          1.0\n",
       "25%       2367.0\n",
       "50%       3115.0\n",
       "75%       3906.0\n",
       "max       7212.0\n",
       "Name: distance, dtype: float64"
      ]
     },
     "execution_count": 40,
     "metadata": {},
     "output_type": "execute_result"
    }
   ],
   "source": [
    "#общая информация о преодаленном расстоянии без подписки\n",
    "data_free['distance'].describe().round()"
   ]
  },
  {
   "cell_type": "code",
   "execution_count": 41,
   "id": "38365138",
   "metadata": {},
   "outputs": [
    {
     "data": {
      "text/plain": [
       "count    6500.0\n",
       "mean     3116.0\n",
       "std       837.0\n",
       "min       245.0\n",
       "25%      2786.0\n",
       "50%      3149.0\n",
       "75%      3561.0\n",
       "max      5700.0\n",
       "Name: distance, dtype: float64"
      ]
     },
     "execution_count": 41,
     "metadata": {},
     "output_type": "execute_result"
    }
   ],
   "source": [
    "#общая информация о преодаленном расстоянии с подпиской ультра\n",
    "data_ultra['distance'].describe().round()"
   ]
  },
  {
   "cell_type": "code",
   "execution_count": 123,
   "id": "a0f4109f",
   "metadata": {},
   "outputs": [],
   "source": [
    "data_ultra_median = data_ultra['distance'].median()"
   ]
  },
  {
   "cell_type": "code",
   "execution_count": 152,
   "id": "600c61b8",
   "metadata": {},
   "outputs": [
    {
     "data": {
      "image/png": "[encoded data removed]",
      "text/plain": [
       "<Figure size 864x576 with 1 Axes>"
      ]
     },
     "metadata": {
      "needs_background": "light"
     },
     "output_type": "display_data"
    }
   ],
   "source": [
    "#медиана времени\n",
    "median_free = data[data['subscription_type'] == 'free']['duration'].median()\n",
    "median_ultra = data[data['subscription_type'] == 'ultra']['duration'].median()\n",
    "\n",
    "data.pivot_table(index=['duration'], columns = 'subscription_type', values='user_id', aggfunc=['count']) \\\n",
    ".plot(kind='bar', grid=True, linewidth=3, alpha=0.8, figsize=(12,8),\\\n",
    "title= 'Количество поездок в зависимости от их продолжительности для разных тарифов, минут')\n",
    "# добавляем медиану на график\n",
    "plt.axvline(x=median_free, color='r', linestyle='--')\n",
    "plt.axvline(x=median_ultra, color='g', linestyle='--')\n",
    "\n",
    "plt.xlabel('Продолжительность, мин.')\n",
    "plt.ylabel('Количество пользователей')\n",
    "plt.show();"
   ]
  },
  {
   "cell_type": "code",
   "execution_count": 43,
   "id": "dc35f3e5",
   "metadata": {},
   "outputs": [
    {
     "data": {
      "text/plain": [
       "count    11568.0\n",
       "mean        18.0\n",
       "std          6.0\n",
       "min          1.0\n",
       "25%         13.0\n",
       "50%         18.0\n",
       "75%         22.0\n",
       "max         35.0\n",
       "Name: duration, dtype: float64"
      ]
     },
     "execution_count": 43,
     "metadata": {},
     "output_type": "execute_result"
    }
   ],
   "source": [
    "#время, потраченное без подписки\n",
    "data_free['duration'].describe().round()"
   ]
  },
  {
   "cell_type": "code",
   "execution_count": 44,
   "id": "9dded04e",
   "metadata": {},
   "outputs": [
    {
     "data": {
      "text/plain": [
       "count    6500.0\n",
       "mean       19.0\n",
       "std         6.0\n",
       "min         4.0\n",
       "25%        15.0\n",
       "50%        19.0\n",
       "75%        22.0\n",
       "max        41.0\n",
       "Name: duration, dtype: float64"
      ]
     },
     "execution_count": 44,
     "metadata": {},
     "output_type": "execute_result"
    }
   ],
   "source": [
    "#время, потраченное с подпиской ультра\n",
    "data_ultra['duration'].describe().round()"
   ]
  },
  {
   "cell_type": "markdown",
   "id": "170a69be",
   "metadata": {},
   "source": [
    "<br>***Вывод***\n",
    "<br> По полученному графику **\"Количество поездок в зависимости от расстояния преодаленного за поездку для разных тарифов\"** можно сказать, что распределение пользователей без подписки более широкое, то есть они чаще совершают и короткие и длинные поездки, так же и количество таких пользователе больше почти в 2 раза. И стандартное отклонение 1246 м против 837 м у тех, кто пользуется подпиской:\n",
    "- как раз у пользователей без подписки мы наблюдаем аномальные значения - около 50 поездок меньше 1 метра, а вот у пользователей с подпиской минимальная поездка начинается только с 244 метров. \n",
    "- максимальное расстояние для пользователей без подписки больше и составляет 7211 м, а у пользователей с подпиской - 5699 м.\n",
    "- медианное расстояние у пользователей без подписки меньше - 3114 м против 3148 м у тех, кто пользуется подпиской.\n",
    "\n",
    "<br>По полученному графику **\"Количество поездок в зависимости от их продолжительности для разных тарифов, минут\"** можно сказать, что: продолжительность поездок у пользователей без подписки меньше, чем у пользователей с подпиской:\n",
    "- минимальная продолжительность у пользователей без подписки - 0 мин, а у пользователей с подпиской 3 минуты.\n",
    "- максимальная продолжительность у пользователей без подписки меньше - 34 мин, а у пользователей с подпиской 40 минут.\n",
    "- медианное значение у пользователей без подписки меньше - 17 минут против 18минут у тех, кто пользуется подпиской.\n",
    "- у пользователей без подписки есть аномальные значения - около 100 поездок с продолжительностью меньше 1 минуты (возможно отказались из-за тарифа);\n"
   ]
  },
  {
   "cell_type": "markdown",
   "id": "402d620f",
   "metadata": {},
   "source": [
    "#### Шаг 5. Подсчёт выручки"
   ]
  },
  {
   "cell_type": "markdown",
   "id": "b8c13b25",
   "metadata": {},
   "source": [
    "#####  Найдите суммарное расстояние, количество поездок и суммарное время для каждого пользователя за каждый месяц."
   ]
  },
  {
   "cell_type": "code",
   "execution_count": 153,
   "id": "f329f40a",
   "metadata": {},
   "outputs": [
    {
     "data": {
      "text/html": [
       "<div>\n",
       "<style scoped>\n",
       "    .dataframe tbody tr th:only-of-type {\n",
       "        vertical-align: middle;\n",
       "    }\n",
       "\n",
       "    .dataframe tbody tr th {\n",
       "        vertical-align: top;\n",
       "    }\n",
       "\n",
       "    .dataframe thead th {\n",
       "        text-align: right;\n",
       "    }\n",
       "</style>\n",
       "<table border=\"1\" class=\"dataframe\">\n",
       "  <thead>\n",
       "    <tr style=\"text-align: right;\">\n",
       "      <th></th>\n",
       "      <th></th>\n",
       "      <th>count</th>\n",
       "      <th>distance</th>\n",
       "      <th>duration</th>\n",
       "      <th>minute_price</th>\n",
       "      <th>start_ride_price</th>\n",
       "      <th>subscription_fee</th>\n",
       "    </tr>\n",
       "    <tr>\n",
       "      <th>user_id</th>\n",
       "      <th>month</th>\n",
       "      <th></th>\n",
       "      <th></th>\n",
       "      <th></th>\n",
       "      <th></th>\n",
       "      <th></th>\n",
       "      <th></th>\n",
       "    </tr>\n",
       "  </thead>\n",
       "  <tbody>\n",
       "    <tr>\n",
       "      <th rowspan=\"6\" valign=\"top\">1</th>\n",
       "      <th>1</th>\n",
       "      <td>2</td>\n",
       "      <td>7028.0</td>\n",
       "      <td>42.0</td>\n",
       "      <td>6</td>\n",
       "      <td>0</td>\n",
       "      <td>199</td>\n",
       "    </tr>\n",
       "    <tr>\n",
       "      <th>4</th>\n",
       "      <td>1</td>\n",
       "      <td>755.0</td>\n",
       "      <td>7.0</td>\n",
       "      <td>6</td>\n",
       "      <td>0</td>\n",
       "      <td>199</td>\n",
       "    </tr>\n",
       "    <tr>\n",
       "      <th>8</th>\n",
       "      <td>2</td>\n",
       "      <td>6724.0</td>\n",
       "      <td>46.0</td>\n",
       "      <td>6</td>\n",
       "      <td>0</td>\n",
       "      <td>199</td>\n",
       "    </tr>\n",
       "    <tr>\n",
       "      <th>10</th>\n",
       "      <td>2</td>\n",
       "      <td>5811.0</td>\n",
       "      <td>32.0</td>\n",
       "      <td>6</td>\n",
       "      <td>0</td>\n",
       "      <td>199</td>\n",
       "    </tr>\n",
       "    <tr>\n",
       "      <th>11</th>\n",
       "      <td>3</td>\n",
       "      <td>7005.0</td>\n",
       "      <td>56.0</td>\n",
       "      <td>6</td>\n",
       "      <td>0</td>\n",
       "      <td>199</td>\n",
       "    </tr>\n",
       "    <tr>\n",
       "      <th>12</th>\n",
       "      <td>2</td>\n",
       "      <td>6753.0</td>\n",
       "      <td>28.0</td>\n",
       "      <td>6</td>\n",
       "      <td>0</td>\n",
       "      <td>199</td>\n",
       "    </tr>\n",
       "    <tr>\n",
       "      <th rowspan=\"4\" valign=\"top\">2</th>\n",
       "      <th>3</th>\n",
       "      <td>3</td>\n",
       "      <td>10190.0</td>\n",
       "      <td>63.0</td>\n",
       "      <td>6</td>\n",
       "      <td>0</td>\n",
       "      <td>199</td>\n",
       "    </tr>\n",
       "    <tr>\n",
       "      <th>4</th>\n",
       "      <td>2</td>\n",
       "      <td>6165.0</td>\n",
       "      <td>40.0</td>\n",
       "      <td>6</td>\n",
       "      <td>0</td>\n",
       "      <td>199</td>\n",
       "    </tr>\n",
       "    <tr>\n",
       "      <th>6</th>\n",
       "      <td>1</td>\n",
       "      <td>3256.0</td>\n",
       "      <td>14.0</td>\n",
       "      <td>6</td>\n",
       "      <td>0</td>\n",
       "      <td>199</td>\n",
       "    </tr>\n",
       "    <tr>\n",
       "      <th>7</th>\n",
       "      <td>2</td>\n",
       "      <td>6781.0</td>\n",
       "      <td>48.0</td>\n",
       "      <td>6</td>\n",
       "      <td>0</td>\n",
       "      <td>199</td>\n",
       "    </tr>\n",
       "  </tbody>\n",
       "</table>\n",
       "</div>"
      ],
      "text/plain": [
       "               count  distance  duration  minute_price  start_ride_price  \\\n",
       "user_id month                                                              \n",
       "1       1          2    7028.0      42.0             6                 0   \n",
       "        4          1     755.0       7.0             6                 0   \n",
       "        8          2    6724.0      46.0             6                 0   \n",
       "        10         2    5811.0      32.0             6                 0   \n",
       "        11         3    7005.0      56.0             6                 0   \n",
       "        12         2    6753.0      28.0             6                 0   \n",
       "2       3          3   10190.0      63.0             6                 0   \n",
       "        4          2    6165.0      40.0             6                 0   \n",
       "        6          1    3256.0      14.0             6                 0   \n",
       "        7          2    6781.0      48.0             6                 0   \n",
       "\n",
       "               subscription_fee  \n",
       "user_id month                    \n",
       "1       1                   199  \n",
       "        4                   199  \n",
       "        8                   199  \n",
       "        10                  199  \n",
       "        11                  199  \n",
       "        12                  199  \n",
       "2       3                   199  \n",
       "        4                   199  \n",
       "        6                   199  \n",
       "        7                   199  "
      ]
     },
     "execution_count": 153,
     "metadata": {},
     "output_type": "execute_result"
    }
   ],
   "source": [
    "user_argument = data.pivot_table(index = ('user_id', 'month'),\\\n",
    "values = ('distance','duration', 'minute_price', 'start_ride_price', 'subscription_fee'),\\\n",
    "aggfunc = ({'distance':{'count', 'sum'}, 'duration' : 'sum', 'minute_price' : 'mean', 'start_ride_price': 'mean',\\\n",
    "'subscription_fee' : 'mean'}))\n",
    "user_argument.columns = ['count', 'distance', 'duration', 'minute_price', 'start_ride_price', 'subscription_fee']\n",
    "user_argument.head(10)"
   ]
  },
  {
   "cell_type": "markdown",
   "id": "0b35494b",
   "metadata": {},
   "source": [
    "##### В этот же датафрейм добавьте столбец с помесячной выручкой, которую принёс каждый пользователь."
   ]
  },
  {
   "cell_type": "code",
   "execution_count": 154,
   "id": "4a93da43",
   "metadata": {},
   "outputs": [
    {
     "data": {
      "text/html": [
       "<div>\n",
       "<style scoped>\n",
       "    .dataframe tbody tr th:only-of-type {\n",
       "        vertical-align: middle;\n",
       "    }\n",
       "\n",
       "    .dataframe tbody tr th {\n",
       "        vertical-align: top;\n",
       "    }\n",
       "\n",
       "    .dataframe thead th {\n",
       "        text-align: right;\n",
       "    }\n",
       "</style>\n",
       "<table border=\"1\" class=\"dataframe\">\n",
       "  <thead>\n",
       "    <tr style=\"text-align: right;\">\n",
       "      <th></th>\n",
       "      <th></th>\n",
       "      <th>count</th>\n",
       "      <th>distance</th>\n",
       "      <th>duration</th>\n",
       "      <th>minute_price</th>\n",
       "      <th>start_ride_price</th>\n",
       "      <th>subscription_fee</th>\n",
       "      <th>income</th>\n",
       "    </tr>\n",
       "    <tr>\n",
       "      <th>user_id</th>\n",
       "      <th>month</th>\n",
       "      <th></th>\n",
       "      <th></th>\n",
       "      <th></th>\n",
       "      <th></th>\n",
       "      <th></th>\n",
       "      <th></th>\n",
       "      <th></th>\n",
       "    </tr>\n",
       "  </thead>\n",
       "  <tbody>\n",
       "    <tr>\n",
       "      <th rowspan=\"6\" valign=\"top\">1</th>\n",
       "      <th>1</th>\n",
       "      <td>2</td>\n",
       "      <td>7028.0</td>\n",
       "      <td>42.0</td>\n",
       "      <td>6</td>\n",
       "      <td>0</td>\n",
       "      <td>199</td>\n",
       "      <td>451.0</td>\n",
       "    </tr>\n",
       "    <tr>\n",
       "      <th>4</th>\n",
       "      <td>1</td>\n",
       "      <td>755.0</td>\n",
       "      <td>7.0</td>\n",
       "      <td>6</td>\n",
       "      <td>0</td>\n",
       "      <td>199</td>\n",
       "      <td>241.0</td>\n",
       "    </tr>\n",
       "    <tr>\n",
       "      <th>8</th>\n",
       "      <td>2</td>\n",
       "      <td>6724.0</td>\n",
       "      <td>46.0</td>\n",
       "      <td>6</td>\n",
       "      <td>0</td>\n",
       "      <td>199</td>\n",
       "      <td>475.0</td>\n",
       "    </tr>\n",
       "    <tr>\n",
       "      <th>10</th>\n",
       "      <td>2</td>\n",
       "      <td>5811.0</td>\n",
       "      <td>32.0</td>\n",
       "      <td>6</td>\n",
       "      <td>0</td>\n",
       "      <td>199</td>\n",
       "      <td>391.0</td>\n",
       "    </tr>\n",
       "    <tr>\n",
       "      <th>11</th>\n",
       "      <td>3</td>\n",
       "      <td>7005.0</td>\n",
       "      <td>56.0</td>\n",
       "      <td>6</td>\n",
       "      <td>0</td>\n",
       "      <td>199</td>\n",
       "      <td>535.0</td>\n",
       "    </tr>\n",
       "    <tr>\n",
       "      <th>12</th>\n",
       "      <td>2</td>\n",
       "      <td>6753.0</td>\n",
       "      <td>28.0</td>\n",
       "      <td>6</td>\n",
       "      <td>0</td>\n",
       "      <td>199</td>\n",
       "      <td>367.0</td>\n",
       "    </tr>\n",
       "    <tr>\n",
       "      <th rowspan=\"4\" valign=\"top\">2</th>\n",
       "      <th>3</th>\n",
       "      <td>3</td>\n",
       "      <td>10190.0</td>\n",
       "      <td>63.0</td>\n",
       "      <td>6</td>\n",
       "      <td>0</td>\n",
       "      <td>199</td>\n",
       "      <td>577.0</td>\n",
       "    </tr>\n",
       "    <tr>\n",
       "      <th>4</th>\n",
       "      <td>2</td>\n",
       "      <td>6165.0</td>\n",
       "      <td>40.0</td>\n",
       "      <td>6</td>\n",
       "      <td>0</td>\n",
       "      <td>199</td>\n",
       "      <td>439.0</td>\n",
       "    </tr>\n",
       "    <tr>\n",
       "      <th>6</th>\n",
       "      <td>1</td>\n",
       "      <td>3256.0</td>\n",
       "      <td>14.0</td>\n",
       "      <td>6</td>\n",
       "      <td>0</td>\n",
       "      <td>199</td>\n",
       "      <td>283.0</td>\n",
       "    </tr>\n",
       "    <tr>\n",
       "      <th>7</th>\n",
       "      <td>2</td>\n",
       "      <td>6781.0</td>\n",
       "      <td>48.0</td>\n",
       "      <td>6</td>\n",
       "      <td>0</td>\n",
       "      <td>199</td>\n",
       "      <td>487.0</td>\n",
       "    </tr>\n",
       "  </tbody>\n",
       "</table>\n",
       "</div>"
      ],
      "text/plain": [
       "               count  distance  duration  minute_price  start_ride_price  \\\n",
       "user_id month                                                              \n",
       "1       1          2    7028.0      42.0             6                 0   \n",
       "        4          1     755.0       7.0             6                 0   \n",
       "        8          2    6724.0      46.0             6                 0   \n",
       "        10         2    5811.0      32.0             6                 0   \n",
       "        11         3    7005.0      56.0             6                 0   \n",
       "        12         2    6753.0      28.0             6                 0   \n",
       "2       3          3   10190.0      63.0             6                 0   \n",
       "        4          2    6165.0      40.0             6                 0   \n",
       "        6          1    3256.0      14.0             6                 0   \n",
       "        7          2    6781.0      48.0             6                 0   \n",
       "\n",
       "               subscription_fee  income  \n",
       "user_id month                            \n",
       "1       1                   199   451.0  \n",
       "        4                   199   241.0  \n",
       "        8                   199   475.0  \n",
       "        10                  199   391.0  \n",
       "        11                  199   535.0  \n",
       "        12                  199   367.0  \n",
       "2       3                   199   577.0  \n",
       "        4                   199   439.0  \n",
       "        6                   199   283.0  \n",
       "        7                   199   487.0  "
      ]
     },
     "execution_count": 154,
     "metadata": {},
     "output_type": "execute_result"
    }
   ],
   "source": [
    "user_argument['income'] = user_argument['duration'] * user_argument['minute_price'] + user_argument['start_ride_price'] * \\\n",
    "user_argument['count'] + user_argument['subscription_fee']\n",
    "user_argument.head(10)"
   ]
  },
  {
   "cell_type": "code",
   "execution_count": 155,
   "id": "a7260f9f",
   "metadata": {},
   "outputs": [
    {
     "data": {
      "text/plain": [
       "count    11331.000000\n",
       "mean       342.303504\n",
       "std        153.875346\n",
       "min         58.000000\n",
       "25%        234.000000\n",
       "50%        319.000000\n",
       "75%        415.000000\n",
       "max       1444.000000\n",
       "Name: income, dtype: float64"
      ]
     },
     "execution_count": 155,
     "metadata": {},
     "output_type": "execute_result"
    }
   ],
   "source": [
    "user_argument['income'].describe()"
   ]
  },
  {
   "cell_type": "code",
   "execution_count": 156,
   "id": "fb6daa02",
   "metadata": {},
   "outputs": [
    {
     "data": {
      "text/plain": [
       "3878641.0"
      ]
     },
     "execution_count": 156,
     "metadata": {},
     "output_type": "execute_result"
    }
   ],
   "source": [
    "user_argument['income'].sum()#общая выручка сервиса"
   ]
  },
  {
   "cell_type": "markdown",
   "id": "78eebaa9",
   "metadata": {},
   "source": [
    "<br>***Вывод***\n",
    "<br> Добавлен столбец с помесячной выручкой, в среднем пользователь тратит в месяц 330 рублей, общая выручка сервиса: 3 878 641 руб. "
   ]
  },
  {
   "cell_type": "markdown",
   "id": "41545ac0",
   "metadata": {},
   "source": [
    "#### Шаг 6. Проверка гипотез"
   ]
  },
  {
   "cell_type": "markdown",
   "id": "41f2573c",
   "metadata": {},
   "source": [
    "#####  Важно понять, тратят ли пользователи с подпиской больше времени на поездки? Если да, то пользователи с подпиской могут быть «выгоднее» для компании. "
   ]
  },
  {
   "cell_type": "markdown",
   "id": "954ebe31",
   "metadata": {},
   "source": [
    "<br>Проверяем гипотезу: пользователи с подпиской тратят больше времени на поездки, чем пользователи без неё.\n",
    "<br>Запишем нулевую и альтернативную гипотезы.\n",
    "\n",
    "<br>H0: Время пользователей на подписке ultra равно времени пользователей на подписке free\n",
    "<br>H1: Время пользователей на подписке ultra больше времени пользователей на подписке free\n",
    "\n",
    "<br>Уровень статистической значимости: alpha = 0.05\n",
    "<br>В качестве alternative указываем 'greater', то есть «больше»."
   ]
  },
  {
   "cell_type": "code",
   "execution_count": 50,
   "id": "867350a8",
   "metadata": {},
   "outputs": [
    {
     "name": "stdout",
     "output_type": "stream",
     "text": [
      "p-значение: 2.4959453720736625e-34\n",
      "Отвергаем нулевую гипотезу\n"
     ]
    }
   ],
   "source": [
    "ultra = data_ultra['duration']\n",
    "free = data_free['duration']\n",
    "\n",
    "alpha = 0.05 \n",
    "\n",
    "results = st.ttest_ind(\n",
    "    ultra, \n",
    "    free,\n",
    "    alternative='greater')\n",
    "\n",
    "print('p-значение:', results.pvalue)\n",
    "\n",
    "\n",
    "if (results.pvalue < alpha):\n",
    "    print('Отвергаем нулевую гипотезу')\n",
    "else:\n",
    "    print('Не получилось отвергнуть нулевую гипотезу')"
   ]
  },
  {
   "cell_type": "markdown",
   "id": "401dc77e",
   "metadata": {},
   "source": [
    "Нулевая гипотеза отвергается, есть основания пологать, что средняя продолжительность поездки с подпиской больше продолжительности поездок без подписки."
   ]
  },
  {
   "cell_type": "markdown",
   "id": "acce8af9",
   "metadata": {},
   "source": [
    "##### Можно ли сказать, что среднее расстояние, которое проезжают пользователи с подпиской за одну поездку, не превышает 3130 метров? "
   ]
  },
  {
   "cell_type": "markdown",
   "id": "a4896854",
   "metadata": {},
   "source": [
    "<br>Проверяем гипотезу: среднее расстояние одной поездки пользователей с подпиской не превышает 3130 м.\n",
    "<br>Запишем нулевую и альтернативную гипотезы.\n",
    "\n",
    "<br>H0: Среднее расстояние одной поездки пользователей на подписке ultra равно оптимальному расстоянию 3130 м.\n",
    "<br>H1: Среднее расстояние одной поездки пользователей на подписке ultra больше оптимального расстояния 3130 м.\n",
    "\n",
    "<br>Уровень статистической значимости: alpha = 0.05\n",
    "<br>В качестве alternative указываем 'greater', то есть «больше»."
   ]
  },
  {
   "cell_type": "code",
   "execution_count": 51,
   "id": "1da8126c",
   "metadata": {},
   "outputs": [
    {
     "name": "stdout",
     "output_type": "stream",
     "text": [
      "p-значение: 0.9120422337080507\n",
      "Не получилось отвергнуть нулевую гипотезу\n"
     ]
    }
   ],
   "source": [
    "ultra_distance = data_ultra['distance']\n",
    "optimal_distance = 3130\n",
    "\n",
    "alpha = 0.05 \n",
    "\n",
    "results = st.ttest_1samp(\n",
    "    ultra_distance, \n",
    "    optimal_distance,\n",
    "    alternative='greater')\n",
    "\n",
    "print('p-значение:', results.pvalue)\n",
    "\n",
    "\n",
    "if (results.pvalue < alpha):\n",
    "    print('Отвергаем нулевую гипотезу')\n",
    "else:\n",
    "    print('Не получилось отвергнуть нулевую гипотезу')"
   ]
  },
  {
   "cell_type": "markdown",
   "id": "8c7a5d9c",
   "metadata": {},
   "source": [
    "Не получилось отвергнуть нулевую гипотезу, среднее расстояние одной поездки пользователей на подписке ultra не превышает оптимального расстояния 3130 м"
   ]
  },
  {
   "cell_type": "markdown",
   "id": "f38b6510",
   "metadata": {},
   "source": [
    "##### Проверьте гипотезу о том, будет ли помесячная выручка от пользователей с подпиской по месяцам выше, чем выручка от пользователей без подписки. "
   ]
  },
  {
   "cell_type": "markdown",
   "id": "4a422b93",
   "metadata": {},
   "source": [
    "<br>Проверяем гипотезу: помесячная выручка от пользователей с подпиской выше, чем от пользователей без подписки.\n",
    "<br>Запишем нулевую и альтернативную гипотезы.\n",
    "\n",
    "<br>H0: Помесячная выручка от пользователей с подпиской равна выручке от пользователей без подписки.\n",
    "<br>H1: Помесячная выручка от пользователей с подпиской выше выручки от пользователей без подписки.\n",
    "\n",
    "<br>Уровень статистической значимости: alpha = 0.05\n",
    "<br>В качестве alternative указываем 'greater', то есть «больше»."
   ]
  },
  {
   "cell_type": "code",
   "execution_count": 52,
   "id": "874203fd",
   "metadata": {},
   "outputs": [
    {
     "name": "stdout",
     "output_type": "stream",
     "text": [
      "p-значение: 1.8850394384715216e-31\n",
      "Отвергаем нулевую гипотезу\n"
     ]
    }
   ],
   "source": [
    "income_month_ultra = user_argument.loc[user_argument['subscription_fee'] > 0, 'income']\n",
    "income_month_free = user_argument.loc[user_argument['subscription_fee'] == 0, 'income']\n",
    "\n",
    "alpha = 0.05 \n",
    "\n",
    "results = st.ttest_ind(\n",
    "    income_month_ultra, \n",
    "    income_month_free,\n",
    "    alternative='greater')\n",
    "\n",
    "print('p-значение:', results.pvalue)\n",
    "\n",
    "\n",
    "if (results.pvalue < alpha):\n",
    "    print('Отвергаем нулевую гипотезу')\n",
    "else:\n",
    "    print('Не получилось отвергнуть нулевую гипотезу')"
   ]
  },
  {
   "cell_type": "markdown",
   "id": "a6eb7aa1",
   "metadata": {},
   "source": [
    "Нулевая гипотеза отвергнута, значит можно утверждать, что помесячная выручка от пользователей с подпиской выше выручки от пользователей без подписки."
   ]
  },
  {
   "cell_type": "markdown",
   "id": "127dcac7",
   "metadata": {},
   "source": [
    "##### Необходимо проверить снизилось ли количество обращений в техподдержку после обновления серверов."
   ]
  },
  {
   "cell_type": "markdown",
   "id": "abae75f6",
   "metadata": {},
   "source": [
    "Представьте такую ситуацию: техническая команда сервиса обновила сервера, с которыми взаимодействует мобильное приложение. Она надеется, что из-за этого количество обращений в техподдержку значимо снизилось. Некоторый файл содержит для каждого пользователя данные о количестве обращений до обновления и после него. Какой тест вам понадобился бы для проверки этой гипотезы?"
   ]
  },
  {
   "cell_type": "markdown",
   "id": "a41cf9ef",
   "metadata": {},
   "source": [
    "<br>Проверяем гипотезу: количество обращений в техподдержку изменилось.\n",
    "<br>В этом случае нужно проверить, равны ли средние совокупности до и после этого изменения.\n",
    "<br>Запишем нулевую и альтернативную гипотезы.\n",
    "\n",
    "<br>H0: Количество обращений до обновлений равно количеству обращений после обновления.\n",
    "<br>H1: Количество обращений до обновлений не равно количеству обращений после обновления.\n",
    "\n",
    "<br> В этом случае необходимо применить метод scipy.stats.ttest_rel().\n",
    "\n",
    "<br> Представим, что данные о количестве обращений до обновления хранятся в переменной before, а после обновления в after.\n",
    "\n",
    "<br> Уровень статистической значимости: alpha = 0.05"
   ]
  },
  {
   "cell_type": "markdown",
   "id": "dcf459d8",
   "metadata": {},
   "source": [
    "<br>***Вывод***\n",
    "<br> При проверке гипотезы: пользователи с подпиской тратят больше времени на поездки, чем пользователи без неё.Нулевая гипотеза отвергается, есть основания пологать, что средняя продолжительность поездки с подпиской выше продолжительности поездок без подписки.\n",
    "<br> Проверка гипотезы: среднее расстояние одной поездки пользователей с подпиской не превышает 3130 м. Не получилось отвергнуть нулевую гипотезу, среднее расстояние одной поездки пользователей на подписке ultra не превышает оптимального расстояния 3130 м.\n",
    "<br> Проверка гипотезы:помесячная выручка от пользователей с подпиской выше, чем от пользователей без подписки. Нулевая гипотеза отвергнута, значит можно утверждать, что средняя помесячная выручка от пользователей с подпиской выше средней помесячной выручки от пользователей без подписки.\n",
    "<br> Для сравнения парных выборок при условии, что произошло какое-либо изменение, в нашем случае количество обращений до и после обновления серверов, необходимо использовать метод scipy.stats.ttest_rel()."
   ]
  },
  {
   "cell_type": "markdown",
   "id": "7095ddbd",
   "metadata": {},
   "source": [
    "<br>***Общий вывод***\n",
    "<br> 1. В ходе выполнения работы было загружено и получено общее представление о трёх датафреймах: пользователи, поездки, подписки.\n",
    "<br> 2. Данные были проверены на пропуски и дубликаты. Пропусков в данных не оказалось, в датафрейме users_go удалены явные дубликаты.\n",
    "<br> 3. Выполнено изменение типа данных для столбцов 'duration', 'distance', 'date'.\n",
    "<br> 4. В ходе исследовательского анализа выявлено, что данный сервис самокатов чаще всего присутствует в Южных городах, на первом месте по количеству пользователей - Пятигорск. На последнем месте - Москва. \n",
    "<br> 5. Пользователей с бесплатной подпиской больше: около 54%, а с платной подпиской меньше - 46%. \n",
    "<br> 6. Возраст пользователей сервиса варьируется от 12 до 43 лет, а медианный - 25 лет.\n",
    "<br> 7. Основная масса пользователей в среднем за поездку проезжает расстояние от 2,5 км до 3,7 км. А длительность поездок большинства пользователей составляет от 13 до 21 минуты. \n",
    "<br> 8. Выполнено объединение всех датафреймов в один - data. А так же на основе этого датафрейма добавлено еще 2: с подпиской ultra и free.\n",
    "<br> 9. По полученному графику \"Количество поездок в зависимости от расстояния преодаленного за поездку для разных тарифов\" можно сказать, что распределение пользователей без подписки более широкое, то есть они чаще совершают и короткие и длинные поездки, так же и количество таких пользователе больше почти в 2 раза. И стандартное отклонение 1246 м против 837 м у тех, кто пользуется подпиской.\n",
    "<br>10. По полученному графику \"Количество поездок в зависимости от их продолжительности для разных тарифов, минут\" можно сказать, что: продолжительность поездок у пользователей без подписки меньше, чем у пользователей с подпиской.\n",
    "<br> 11. Выполнен помесячный подсчет выручки для каждого пользователя, в результате чего выяснено, что в среднем пользователь тратит в месяц 330 рублей, а общая выручка сервиса: 3 747 097 руб.\n",
    "<br> 12. В результате проверки гипотез выяснено, что пользователи с подпиской более выгодны для компании и нужно увеличивать число таких пользователей.\n",
    "<br> - Есть основания пологать, что средняя продолжительность поездки с подпиской выше продолжительности поездок без подписки.\n",
    "<br> - Среднее расстояние одной поездки пользователей на подписке ultra не превышает оптимального, с точки зрения износа самоката, расстояния 3130 м.\n",
    "<br> - Можно утверждать, что средняя помесячная выручка от пользователей с подпиской выше средней помесячной выручки от пользователей без подписки."
   ]
  }
 ],
 "metadata": {
  "ExecuteTimeLog": [
   {
    "duration": 1442,
    "start_time": "2024-06-29T07:38:44.576Z"
   },
   {
    "duration": 75,
    "start_time": "2024-06-29T07:38:51.074Z"
   },
   {
    "duration": 11,
    "start_time": "2024-06-29T07:38:51.555Z"
   },
   {
    "duration": 96,
    "start_time": "2024-06-29T07:38:52.934Z"
   },
   {
    "duration": 60,
    "start_time": "2024-06-29T07:38:53.434Z"
   },
   {
    "duration": 7,
    "start_time": "2024-06-29T07:39:38.496Z"
   },
   {
    "duration": 6,
    "start_time": "2024-06-29T07:39:52.578Z"
   },
   {
    "duration": 11,
    "start_time": "2024-06-29T07:42:47.397Z"
   },
   {
    "duration": 12,
    "start_time": "2024-06-29T07:43:34.470Z"
   },
   {
    "duration": 12,
    "start_time": "2024-06-29T07:45:00.113Z"
   },
   {
    "duration": 21,
    "start_time": "2024-06-29T07:45:29.181Z"
   },
   {
    "duration": 18,
    "start_time": "2024-06-29T07:45:43.651Z"
   },
   {
    "duration": 28,
    "start_time": "2024-06-29T07:46:10.379Z"
   },
   {
    "duration": 10,
    "start_time": "2024-06-29T07:46:24.968Z"
   },
   {
    "duration": 1168,
    "start_time": "2024-06-29T07:47:40.506Z"
   },
   {
    "duration": 1103,
    "start_time": "2024-06-29T07:48:12.873Z"
   },
   {
    "duration": 1116,
    "start_time": "2024-06-29T08:03:23.394Z"
   },
   {
    "duration": 1093,
    "start_time": "2024-06-29T08:03:41.213Z"
   },
   {
    "duration": 13,
    "start_time": "2024-06-29T08:03:52.206Z"
   },
   {
    "duration": 1037,
    "start_time": "2024-06-29T08:07:20.303Z"
   },
   {
    "duration": 1001,
    "start_time": "2024-06-29T08:07:36.065Z"
   },
   {
    "duration": 1226,
    "start_time": "2024-06-29T10:35:14.430Z"
   },
   {
    "duration": 96,
    "start_time": "2024-06-29T10:35:16.242Z"
   },
   {
    "duration": 9,
    "start_time": "2024-06-29T10:35:16.946Z"
   },
   {
    "duration": 11,
    "start_time": "2024-06-29T10:35:17.586Z"
   },
   {
    "duration": 170,
    "start_time": "2024-06-29T10:35:18.287Z"
   },
   {
    "duration": 6,
    "start_time": "2024-06-29T10:35:19.096Z"
   },
   {
    "duration": 17,
    "start_time": "2024-06-29T10:35:19.851Z"
   },
   {
    "duration": 74,
    "start_time": "2024-06-29T10:35:21.546Z"
   },
   {
    "duration": 6,
    "start_time": "2024-06-29T10:35:24.176Z"
   },
   {
    "duration": 8,
    "start_time": "2024-06-29T10:35:24.856Z"
   },
   {
    "duration": 770,
    "start_time": "2024-06-29T10:35:26.766Z"
   },
   {
    "duration": 9,
    "start_time": "2024-06-29T10:35:46.830Z"
   },
   {
    "duration": 8,
    "start_time": "2024-06-29T10:36:49.546Z"
   },
   {
    "duration": 716,
    "start_time": "2024-06-29T10:40:52.127Z"
   },
   {
    "duration": 2,
    "start_time": "2024-06-29T10:41:24.887Z"
   },
   {
    "duration": 32,
    "start_time": "2024-06-29T10:41:24.891Z"
   },
   {
    "duration": 6,
    "start_time": "2024-06-29T10:41:24.924Z"
   },
   {
    "duration": 9,
    "start_time": "2024-06-29T10:41:24.932Z"
   },
   {
    "duration": 28,
    "start_time": "2024-06-29T10:41:24.944Z"
   },
   {
    "duration": 6,
    "start_time": "2024-06-29T10:41:24.974Z"
   },
   {
    "duration": 17,
    "start_time": "2024-06-29T10:41:24.981Z"
   },
   {
    "duration": 16,
    "start_time": "2024-06-29T10:41:24.999Z"
   },
   {
    "duration": 5,
    "start_time": "2024-06-29T10:41:25.016Z"
   },
   {
    "duration": 15,
    "start_time": "2024-06-29T10:41:25.023Z"
   },
   {
    "duration": 725,
    "start_time": "2024-06-29T10:41:25.039Z"
   },
   {
    "duration": 66,
    "start_time": "2024-06-29T10:42:32.990Z"
   },
   {
    "duration": 26,
    "start_time": "2024-06-29T10:42:48.233Z"
   },
   {
    "duration": 4683,
    "start_time": "2024-06-29T10:43:02.274Z"
   },
   {
    "duration": 7,
    "start_time": "2024-06-29T10:43:45.458Z"
   },
   {
    "duration": 10,
    "start_time": "2024-06-29T10:44:00.249Z"
   },
   {
    "duration": 4,
    "start_time": "2024-06-29T10:44:28.831Z"
   },
   {
    "duration": 5,
    "start_time": "2024-06-29T10:45:32.151Z"
   },
   {
    "duration": 5,
    "start_time": "2024-06-29T10:46:20.241Z"
   },
   {
    "duration": 5,
    "start_time": "2024-06-29T10:46:21.063Z"
   },
   {
    "duration": 4,
    "start_time": "2024-06-29T10:47:19.741Z"
   },
   {
    "duration": 4,
    "start_time": "2024-06-29T10:48:19.637Z"
   },
   {
    "duration": 9,
    "start_time": "2024-06-29T10:48:50.649Z"
   },
   {
    "duration": 5,
    "start_time": "2024-06-29T10:48:51.736Z"
   },
   {
    "duration": 5,
    "start_time": "2024-06-29T10:48:53.296Z"
   },
   {
    "duration": 1135,
    "start_time": "2024-06-30T13:51:46.555Z"
   },
   {
    "duration": 2,
    "start_time": "2024-06-30T13:52:25.993Z"
   },
   {
    "duration": 205,
    "start_time": "2024-06-30T13:52:56.852Z"
   },
   {
    "duration": 22,
    "start_time": "2024-06-30T13:54:40.848Z"
   },
   {
    "duration": 65,
    "start_time": "2024-06-30T13:55:22.264Z"
   },
   {
    "duration": 68,
    "start_time": "2024-06-30T13:56:13.433Z"
   },
   {
    "duration": 19,
    "start_time": "2024-06-30T13:57:40.357Z"
   },
   {
    "duration": 22,
    "start_time": "2024-06-30T13:59:15.297Z"
   },
   {
    "duration": 69,
    "start_time": "2024-06-30T14:00:30.140Z"
   },
   {
    "duration": 21,
    "start_time": "2024-06-30T14:01:23.139Z"
   },
   {
    "duration": 11,
    "start_time": "2024-06-30T14:07:50.546Z"
   },
   {
    "duration": 95,
    "start_time": "2024-06-30T14:33:39.646Z"
   },
   {
    "duration": 7,
    "start_time": "2024-06-30T14:33:49.995Z"
   },
   {
    "duration": 4,
    "start_time": "2024-06-30T14:33:50.476Z"
   },
   {
    "duration": 11,
    "start_time": "2024-06-30T14:33:57.716Z"
   },
   {
    "duration": 6,
    "start_time": "2024-06-30T14:33:59.195Z"
   },
   {
    "duration": 9,
    "start_time": "2024-06-30T14:35:32.186Z"
   },
   {
    "duration": 6,
    "start_time": "2024-06-30T14:51:07.346Z"
   },
   {
    "duration": 5,
    "start_time": "2024-06-30T14:51:35.036Z"
   },
   {
    "duration": 4,
    "start_time": "2024-06-30T14:52:01.459Z"
   },
   {
    "duration": 8,
    "start_time": "2024-06-30T14:52:06.860Z"
   },
   {
    "duration": 10,
    "start_time": "2024-06-30T14:52:40.829Z"
   },
   {
    "duration": 3,
    "start_time": "2024-06-30T15:01:19.586Z"
   },
   {
    "duration": 82,
    "start_time": "2024-06-30T15:06:20.648Z"
   },
   {
    "duration": 3,
    "start_time": "2024-06-30T15:07:25.986Z"
   },
   {
    "duration": 12,
    "start_time": "2024-06-30T15:10:56.840Z"
   },
   {
    "duration": 160,
    "start_time": "2024-06-30T15:13:51.488Z"
   },
   {
    "duration": 160,
    "start_time": "2024-06-30T15:14:35.053Z"
   },
   {
    "duration": 147,
    "start_time": "2024-06-30T15:14:49.404Z"
   },
   {
    "duration": 156,
    "start_time": "2024-06-30T15:15:10.443Z"
   },
   {
    "duration": 1314,
    "start_time": "2024-07-01T14:00:15.670Z"
   },
   {
    "duration": 209,
    "start_time": "2024-07-01T14:00:16.986Z"
   },
   {
    "duration": 24,
    "start_time": "2024-07-01T14:00:17.196Z"
   },
   {
    "duration": 13,
    "start_time": "2024-07-01T14:00:17.222Z"
   },
   {
    "duration": 16,
    "start_time": "2024-07-01T14:00:17.237Z"
   },
   {
    "duration": 21,
    "start_time": "2024-07-01T14:00:17.254Z"
   },
   {
    "duration": 5,
    "start_time": "2024-07-01T14:00:17.277Z"
   },
   {
    "duration": 30,
    "start_time": "2024-07-01T14:00:17.284Z"
   },
   {
    "duration": 3,
    "start_time": "2024-07-01T14:00:17.316Z"
   },
   {
    "duration": 333,
    "start_time": "2024-07-01T14:00:17.322Z"
   },
   {
    "duration": 104,
    "start_time": "2024-07-01T14:13:00.783Z"
   },
   {
    "duration": 61,
    "start_time": "2024-07-01T14:13:06.455Z"
   },
   {
    "duration": 95,
    "start_time": "2024-07-01T14:13:17.064Z"
   },
   {
    "duration": 162,
    "start_time": "2024-07-01T14:13:32.683Z"
   },
   {
    "duration": 12,
    "start_time": "2024-07-01T14:14:28.419Z"
   },
   {
    "duration": 152,
    "start_time": "2024-07-01T14:14:44.528Z"
   },
   {
    "duration": 190,
    "start_time": "2024-07-01T14:14:59.377Z"
   },
   {
    "duration": 151,
    "start_time": "2024-07-01T14:15:08.367Z"
   },
   {
    "duration": 152,
    "start_time": "2024-07-01T14:15:19.321Z"
   },
   {
    "duration": 73,
    "start_time": "2024-07-01T14:15:29.828Z"
   },
   {
    "duration": 77,
    "start_time": "2024-07-01T14:15:49.863Z"
   },
   {
    "duration": 168,
    "start_time": "2024-07-01T14:18:57.074Z"
   },
   {
    "duration": 175,
    "start_time": "2024-07-01T14:19:03.565Z"
   },
   {
    "duration": 161,
    "start_time": "2024-07-01T14:19:08.947Z"
   },
   {
    "duration": 242,
    "start_time": "2024-07-01T14:20:02.948Z"
   },
   {
    "duration": 3,
    "start_time": "2024-07-01T14:21:01.609Z"
   },
   {
    "duration": 15,
    "start_time": "2024-07-01T14:23:49.055Z"
   },
   {
    "duration": 11,
    "start_time": "2024-07-01T14:24:03.333Z"
   },
   {
    "duration": 6,
    "start_time": "2024-07-01T14:25:31.270Z"
   },
   {
    "duration": 4,
    "start_time": "2024-07-01T14:25:53.327Z"
   },
   {
    "duration": 6,
    "start_time": "2024-07-01T14:26:07.991Z"
   },
   {
    "duration": 11,
    "start_time": "2024-07-01T14:27:43.805Z"
   },
   {
    "duration": 11,
    "start_time": "2024-07-01T14:28:07.465Z"
   },
   {
    "duration": 11,
    "start_time": "2024-07-01T14:28:15.741Z"
   },
   {
    "duration": 15,
    "start_time": "2024-07-01T14:31:41.390Z"
   },
   {
    "duration": 15,
    "start_time": "2024-07-01T14:32:48.304Z"
   },
   {
    "duration": 180,
    "start_time": "2024-07-01T14:33:19.008Z"
   },
   {
    "duration": 166,
    "start_time": "2024-07-01T14:34:08.274Z"
   },
   {
    "duration": 8,
    "start_time": "2024-07-01T14:40:21.084Z"
   },
   {
    "duration": 5,
    "start_time": "2024-07-01T14:40:38.809Z"
   },
   {
    "duration": 8,
    "start_time": "2024-07-01T14:40:47.899Z"
   },
   {
    "duration": 8,
    "start_time": "2024-07-01T14:41:09.744Z"
   },
   {
    "duration": 1134,
    "start_time": "2024-07-01T14:42:22.904Z"
   },
   {
    "duration": 91,
    "start_time": "2024-07-01T14:42:35.366Z"
   },
   {
    "duration": 28,
    "start_time": "2024-07-01T14:47:41.373Z"
   },
   {
    "duration": 29,
    "start_time": "2024-07-01T14:47:59.524Z"
   },
   {
    "duration": 28,
    "start_time": "2024-07-01T14:48:03.508Z"
   },
   {
    "duration": 10,
    "start_time": "2024-07-01T14:48:26.011Z"
   },
   {
    "duration": 12,
    "start_time": "2024-07-01T14:48:38.987Z"
   },
   {
    "duration": 196,
    "start_time": "2024-07-01T14:48:52.094Z"
   },
   {
    "duration": 209,
    "start_time": "2024-07-01T14:49:03.017Z"
   },
   {
    "duration": 388,
    "start_time": "2024-07-01T14:49:13.250Z"
   },
   {
    "duration": 579,
    "start_time": "2024-07-01T14:49:40.136Z"
   },
   {
    "duration": 3008,
    "start_time": "2024-07-01T14:51:48.084Z"
   },
   {
    "duration": 471,
    "start_time": "2024-07-01T14:52:00.912Z"
   },
   {
    "duration": 10,
    "start_time": "2024-07-01T14:52:49.329Z"
   },
   {
    "duration": 10,
    "start_time": "2024-07-01T14:53:19.172Z"
   },
   {
    "duration": 12,
    "start_time": "2024-07-01T14:53:37.486Z"
   },
   {
    "duration": 12,
    "start_time": "2024-07-01T14:54:36.052Z"
   },
   {
    "duration": 283,
    "start_time": "2024-07-01T14:54:36.493Z"
   },
   {
    "duration": 290,
    "start_time": "2024-07-01T14:54:48.135Z"
   },
   {
    "duration": 298,
    "start_time": "2024-07-01T14:55:05.581Z"
   },
   {
    "duration": 36,
    "start_time": "2024-07-01T14:56:04.257Z"
   },
   {
    "duration": 8,
    "start_time": "2024-07-01T14:56:41.554Z"
   },
   {
    "duration": 12,
    "start_time": "2024-07-01T14:56:42.298Z"
   },
   {
    "duration": 18,
    "start_time": "2024-07-01T14:57:10.927Z"
   },
   {
    "duration": 409,
    "start_time": "2024-07-01T14:57:52.400Z"
   },
   {
    "duration": 25,
    "start_time": "2024-07-01T14:58:29.856Z"
   },
   {
    "duration": 7,
    "start_time": "2024-07-01T14:58:53.205Z"
   },
   {
    "duration": 10,
    "start_time": "2024-07-01T14:59:18.602Z"
   },
   {
    "duration": 14,
    "start_time": "2024-07-01T14:59:47.819Z"
   },
   {
    "duration": 398,
    "start_time": "2024-07-01T15:00:22.594Z"
   },
   {
    "duration": 858,
    "start_time": "2024-07-01T15:00:35.449Z"
   },
   {
    "duration": 405,
    "start_time": "2024-07-01T15:00:58.882Z"
   },
   {
    "duration": 495,
    "start_time": "2024-07-01T15:05:50.388Z"
   },
   {
    "duration": 182,
    "start_time": "2024-07-01T15:13:26.479Z"
   },
   {
    "duration": 105,
    "start_time": "2024-07-01T15:14:40.554Z"
   },
   {
    "duration": 114,
    "start_time": "2024-07-01T15:15:44.856Z"
   },
   {
    "duration": 120,
    "start_time": "2024-07-01T15:16:05.227Z"
   },
   {
    "duration": 115,
    "start_time": "2024-07-01T15:22:54.213Z"
   },
   {
    "duration": 111,
    "start_time": "2024-07-01T15:23:03.482Z"
   },
   {
    "duration": 100,
    "start_time": "2024-07-01T15:23:12.754Z"
   },
   {
    "duration": 100,
    "start_time": "2024-07-01T15:23:24.518Z"
   },
   {
    "duration": 120,
    "start_time": "2024-07-01T15:23:56.321Z"
   },
   {
    "duration": 124,
    "start_time": "2024-07-01T15:24:31.045Z"
   },
   {
    "duration": 261,
    "start_time": "2024-07-01T15:25:37.327Z"
   },
   {
    "duration": 318,
    "start_time": "2024-07-01T15:26:51.675Z"
   },
   {
    "duration": 256,
    "start_time": "2024-07-01T15:27:11.259Z"
   },
   {
    "duration": 275,
    "start_time": "2024-07-01T15:32:49.431Z"
   },
   {
    "duration": 281,
    "start_time": "2024-07-01T15:33:06.586Z"
   },
   {
    "duration": 263,
    "start_time": "2024-07-01T15:33:57.130Z"
   },
   {
    "duration": 11,
    "start_time": "2024-07-01T15:35:31.346Z"
   },
   {
    "duration": 8,
    "start_time": "2024-07-01T15:36:10.561Z"
   },
   {
    "duration": 1083,
    "start_time": "2024-07-01T15:41:15.207Z"
   },
   {
    "duration": 28,
    "start_time": "2024-07-01T15:41:16.292Z"
   },
   {
    "duration": 10,
    "start_time": "2024-07-01T15:41:16.321Z"
   },
   {
    "duration": 10,
    "start_time": "2024-07-01T15:41:16.333Z"
   },
   {
    "duration": 14,
    "start_time": "2024-07-01T15:41:16.344Z"
   },
   {
    "duration": 541,
    "start_time": "2024-07-01T15:41:16.359Z"
   },
   {
    "duration": 27,
    "start_time": "2024-07-01T15:41:16.901Z"
   },
   {
    "duration": 7,
    "start_time": "2024-07-01T15:41:16.929Z"
   },
   {
    "duration": 15,
    "start_time": "2024-07-01T15:41:16.937Z"
   },
   {
    "duration": 16,
    "start_time": "2024-07-01T15:41:16.954Z"
   },
   {
    "duration": 408,
    "start_time": "2024-07-01T15:41:16.971Z"
   },
   {
    "duration": 26,
    "start_time": "2024-07-01T15:41:17.380Z"
   },
   {
    "duration": 6,
    "start_time": "2024-07-01T15:41:17.407Z"
   },
   {
    "duration": 10,
    "start_time": "2024-07-01T15:41:17.414Z"
   },
   {
    "duration": 474,
    "start_time": "2024-07-01T15:41:17.425Z"
   },
   {
    "duration": 13,
    "start_time": "2024-07-01T15:41:17.901Z"
   },
   {
    "duration": 7,
    "start_time": "2024-07-01T15:41:17.916Z"
   },
   {
    "duration": 17,
    "start_time": "2024-07-01T15:41:17.924Z"
   },
   {
    "duration": 5,
    "start_time": "2024-07-01T15:41:17.943Z"
   },
   {
    "duration": 8,
    "start_time": "2024-07-01T15:41:17.950Z"
   },
   {
    "duration": 30,
    "start_time": "2024-07-01T15:41:17.960Z"
   },
   {
    "duration": 182,
    "start_time": "2024-07-01T15:41:17.992Z"
   },
   {
    "duration": 121,
    "start_time": "2024-07-01T15:41:18.176Z"
   },
   {
    "duration": 275,
    "start_time": "2024-07-01T15:41:18.299Z"
   },
   {
    "duration": 1073,
    "start_time": "2024-07-01T15:42:48.816Z"
   },
   {
    "duration": 28,
    "start_time": "2024-07-01T15:42:49.891Z"
   },
   {
    "duration": 11,
    "start_time": "2024-07-01T15:42:49.920Z"
   },
   {
    "duration": 9,
    "start_time": "2024-07-01T15:42:49.933Z"
   },
   {
    "duration": 22,
    "start_time": "2024-07-01T15:42:49.944Z"
   },
   {
    "duration": 512,
    "start_time": "2024-07-01T15:42:49.967Z"
   },
   {
    "duration": 26,
    "start_time": "2024-07-01T15:42:50.481Z"
   },
   {
    "duration": 7,
    "start_time": "2024-07-01T15:42:50.509Z"
   },
   {
    "duration": 22,
    "start_time": "2024-07-01T15:42:50.517Z"
   },
   {
    "duration": 15,
    "start_time": "2024-07-01T15:42:50.542Z"
   },
   {
    "duration": 393,
    "start_time": "2024-07-01T15:42:50.558Z"
   },
   {
    "duration": 25,
    "start_time": "2024-07-01T15:42:50.953Z"
   },
   {
    "duration": 6,
    "start_time": "2024-07-01T15:42:50.979Z"
   },
   {
    "duration": 12,
    "start_time": "2024-07-01T15:42:50.986Z"
   },
   {
    "duration": 471,
    "start_time": "2024-07-01T15:42:50.999Z"
   },
   {
    "duration": 6,
    "start_time": "2024-07-01T15:42:51.471Z"
   },
   {
    "duration": 11,
    "start_time": "2024-07-01T15:42:51.478Z"
   },
   {
    "duration": 20,
    "start_time": "2024-07-01T15:42:51.490Z"
   },
   {
    "duration": 9,
    "start_time": "2024-07-01T15:42:51.511Z"
   },
   {
    "duration": 21,
    "start_time": "2024-07-01T15:42:51.522Z"
   },
   {
    "duration": 8,
    "start_time": "2024-07-01T15:42:51.544Z"
   },
   {
    "duration": 167,
    "start_time": "2024-07-01T15:42:51.554Z"
   },
   {
    "duration": 124,
    "start_time": "2024-07-01T15:42:51.722Z"
   },
   {
    "duration": 267,
    "start_time": "2024-07-01T15:42:51.847Z"
   },
   {
    "duration": 192341,
    "start_time": "2024-07-01T15:42:52.116Z"
   },
   {
    "duration": 5,
    "start_time": "2024-07-01T15:46:04.458Z"
   },
   {
    "duration": 271,
    "start_time": "2024-07-01T15:46:04.691Z"
   },
   {
    "duration": 3,
    "start_time": "2024-07-01T15:52:48.240Z"
   },
   {
    "duration": 28,
    "start_time": "2024-07-01T15:52:48.267Z"
   },
   {
    "duration": 7,
    "start_time": "2024-07-01T15:52:48.297Z"
   },
   {
    "duration": 19,
    "start_time": "2024-07-01T15:52:48.305Z"
   },
   {
    "duration": 17,
    "start_time": "2024-07-01T15:52:48.325Z"
   },
   {
    "duration": 1081,
    "start_time": "2024-07-01T15:53:59.242Z"
   },
   {
    "duration": 30,
    "start_time": "2024-07-01T15:54:00.325Z"
   },
   {
    "duration": 66,
    "start_time": "2024-07-01T15:54:00.358Z"
   },
   {
    "duration": 51,
    "start_time": "2024-07-01T15:54:00.426Z"
   },
   {
    "duration": 65,
    "start_time": "2024-07-01T15:54:00.479Z"
   },
   {
    "duration": 609,
    "start_time": "2024-07-01T15:54:00.545Z"
   },
   {
    "duration": 28,
    "start_time": "2024-07-01T15:54:01.156Z"
   },
   {
    "duration": 93,
    "start_time": "2024-07-01T15:54:01.185Z"
   },
   {
    "duration": 42,
    "start_time": "2024-07-01T15:54:01.280Z"
   },
   {
    "duration": 40,
    "start_time": "2024-07-01T15:54:01.324Z"
   },
   {
    "duration": 436,
    "start_time": "2024-07-01T15:54:01.366Z"
   },
   {
    "duration": 25,
    "start_time": "2024-07-01T15:54:01.803Z"
   },
   {
    "duration": 10,
    "start_time": "2024-07-01T15:54:01.830Z"
   },
   {
    "duration": 12,
    "start_time": "2024-07-01T15:54:01.842Z"
   },
   {
    "duration": 419,
    "start_time": "2024-07-01T15:54:01.855Z"
   },
   {
    "duration": 7,
    "start_time": "2024-07-01T15:54:02.276Z"
   },
   {
    "duration": 36,
    "start_time": "2024-07-01T15:54:02.284Z"
   },
   {
    "duration": 11,
    "start_time": "2024-07-01T15:54:02.322Z"
   },
   {
    "duration": 5,
    "start_time": "2024-07-01T15:54:02.335Z"
   },
   {
    "duration": 9,
    "start_time": "2024-07-01T15:54:02.341Z"
   },
   {
    "duration": 3,
    "start_time": "2024-07-01T15:54:02.351Z"
   },
   {
    "duration": 249,
    "start_time": "2024-07-01T15:54:02.355Z"
   },
   {
    "duration": 135,
    "start_time": "2024-07-01T15:54:02.611Z"
   },
   {
    "duration": 285,
    "start_time": "2024-07-01T15:54:02.747Z"
   },
   {
    "duration": 5,
    "start_time": "2024-07-01T15:57:22.272Z"
   },
   {
    "duration": 7,
    "start_time": "2024-07-01T15:57:22.279Z"
   },
   {
    "duration": 4,
    "start_time": "2024-07-01T15:57:26.265Z"
   },
   {
    "duration": 5,
    "start_time": "2024-07-01T15:57:39.444Z"
   },
   {
    "duration": 4,
    "start_time": "2024-07-01T15:58:13.011Z"
   },
   {
    "duration": 13,
    "start_time": "2024-07-01T16:02:37.919Z"
   },
   {
    "duration": 48688,
    "start_time": "2024-07-01T16:03:28.327Z"
   },
   {
    "duration": 344,
    "start_time": "2024-07-01T16:05:48.546Z"
   },
   {
    "duration": 50176,
    "start_time": "2024-07-01T16:06:26.386Z"
   },
   {
    "duration": 263,
    "start_time": "2024-07-01T16:08:19.537Z"
   },
   {
    "duration": 596,
    "start_time": "2024-07-01T16:08:41.236Z"
   },
   {
    "duration": 5,
    "start_time": "2024-07-01T16:14:24.602Z"
   },
   {
    "duration": 10,
    "start_time": "2024-07-01T16:14:42.020Z"
   },
   {
    "duration": 4,
    "start_time": "2024-07-01T16:28:45.974Z"
   },
   {
    "duration": 190,
    "start_time": "2024-07-01T16:29:16.162Z"
   },
   {
    "duration": 4,
    "start_time": "2024-07-01T16:31:10.731Z"
   },
   {
    "duration": 5,
    "start_time": "2024-07-01T16:31:30.139Z"
   },
   {
    "duration": 7,
    "start_time": "2024-07-01T16:33:57.431Z"
   },
   {
    "duration": 7,
    "start_time": "2024-07-01T16:37:16.636Z"
   },
   {
    "duration": 50919,
    "start_time": "2024-07-01T16:37:20.295Z"
   },
   {
    "duration": 8,
    "start_time": "2024-07-01T16:40:19.338Z"
   },
   {
    "duration": 8,
    "start_time": "2024-07-01T16:43:41.224Z"
   },
   {
    "duration": 14,
    "start_time": "2024-07-01T16:53:35.410Z"
   },
   {
    "duration": 22,
    "start_time": "2024-07-01T16:53:43.192Z"
   },
   {
    "duration": 13,
    "start_time": "2024-07-01T16:56:28.856Z"
   },
   {
    "duration": 18,
    "start_time": "2024-07-01T16:56:40.912Z"
   },
   {
    "duration": 12,
    "start_time": "2024-07-01T16:56:54.585Z"
   },
   {
    "duration": 12,
    "start_time": "2024-07-01T16:57:03.453Z"
   },
   {
    "duration": 12,
    "start_time": "2024-07-01T16:57:49.536Z"
   },
   {
    "duration": 2,
    "start_time": "2024-07-01T16:58:19.133Z"
   },
   {
    "duration": 12,
    "start_time": "2024-07-01T16:58:44.603Z"
   },
   {
    "duration": 12,
    "start_time": "2024-07-01T16:58:48.333Z"
   },
   {
    "duration": 2,
    "start_time": "2024-07-01T16:59:06.593Z"
   },
   {
    "duration": 1348,
    "start_time": "2024-07-02T13:09:11.886Z"
   },
   {
    "duration": 105,
    "start_time": "2024-07-02T13:09:13.237Z"
   },
   {
    "duration": 11,
    "start_time": "2024-07-02T13:09:13.344Z"
   },
   {
    "duration": 17,
    "start_time": "2024-07-02T13:09:13.356Z"
   },
   {
    "duration": 13,
    "start_time": "2024-07-02T13:09:13.374Z"
   },
   {
    "duration": 580,
    "start_time": "2024-07-02T13:09:13.388Z"
   },
   {
    "duration": 160,
    "start_time": "2024-07-02T13:09:13.970Z"
   },
   {
    "duration": 8,
    "start_time": "2024-07-02T13:09:14.132Z"
   },
   {
    "duration": 10,
    "start_time": "2024-07-02T13:09:14.141Z"
   },
   {
    "duration": 16,
    "start_time": "2024-07-02T13:09:14.154Z"
   },
   {
    "duration": 431,
    "start_time": "2024-07-02T13:09:14.172Z"
   },
   {
    "duration": 81,
    "start_time": "2024-07-02T13:09:14.605Z"
   },
   {
    "duration": 8,
    "start_time": "2024-07-02T13:09:14.688Z"
   },
   {
    "duration": 40,
    "start_time": "2024-07-02T13:09:14.697Z"
   },
   {
    "duration": 499,
    "start_time": "2024-07-02T13:09:14.739Z"
   },
   {
    "duration": 7,
    "start_time": "2024-07-02T13:09:15.240Z"
   },
   {
    "duration": 13,
    "start_time": "2024-07-02T13:09:15.248Z"
   },
   {
    "duration": 11,
    "start_time": "2024-07-02T13:09:15.263Z"
   },
   {
    "duration": 4,
    "start_time": "2024-07-02T13:09:15.275Z"
   },
   {
    "duration": 56,
    "start_time": "2024-07-02T13:09:15.281Z"
   },
   {
    "duration": 22,
    "start_time": "2024-07-02T13:09:15.338Z"
   },
   {
    "duration": 178,
    "start_time": "2024-07-02T13:09:15.362Z"
   },
   {
    "duration": 124,
    "start_time": "2024-07-02T13:09:15.542Z"
   },
   {
    "duration": 4,
    "start_time": "2024-07-02T13:09:15.668Z"
   },
   {
    "duration": 328,
    "start_time": "2024-07-02T13:09:15.673Z"
   },
   {
    "duration": 7,
    "start_time": "2024-07-02T13:09:16.003Z"
   },
   {
    "duration": 21,
    "start_time": "2024-07-02T13:10:13.834Z"
   },
   {
    "duration": 16,
    "start_time": "2024-07-02T13:10:13.857Z"
   },
   {
    "duration": 36,
    "start_time": "2024-07-02T13:10:13.874Z"
   },
   {
    "duration": 58651,
    "start_time": "2024-07-02T13:10:13.912Z"
   },
   {
    "duration": 12,
    "start_time": "2024-07-02T13:11:12.565Z"
   },
   {
    "duration": 460,
    "start_time": "2024-07-02T13:11:12.578Z"
   },
   {
    "duration": 9,
    "start_time": "2024-07-02T13:11:13.039Z"
   },
   {
    "duration": 58578,
    "start_time": "2024-07-02T13:12:23.290Z"
   },
   {
    "duration": 194,
    "start_time": "2024-07-02T13:13:28.393Z"
   },
   {
    "duration": 257,
    "start_time": "2024-07-02T13:13:41.126Z"
   },
   {
    "duration": 270,
    "start_time": "2024-07-02T13:14:04.290Z"
   },
   {
    "duration": 239,
    "start_time": "2024-07-02T13:14:13.772Z"
   },
   {
    "duration": 1273,
    "start_time": "2024-07-02T13:14:21.805Z"
   },
   {
    "duration": 58606,
    "start_time": "2024-07-02T13:15:48.259Z"
   },
   {
    "duration": 18811,
    "start_time": "2024-07-02T13:18:28.852Z"
   },
   {
    "duration": 5,
    "start_time": "2024-07-02T13:19:27.371Z"
   },
   {
    "duration": 58235,
    "start_time": "2024-07-02T13:20:37.210Z"
   },
   {
    "duration": 9997,
    "start_time": "2024-07-02T13:21:35.447Z"
   },
   {
    "duration": 10263,
    "start_time": "2024-07-02T13:22:06.646Z"
   },
   {
    "duration": 59100,
    "start_time": "2024-07-02T13:22:34.299Z"
   },
   {
    "duration": 11354,
    "start_time": "2024-07-02T13:24:11.711Z"
   },
   {
    "duration": 9986,
    "start_time": "2024-07-02T13:24:31.064Z"
   },
   {
    "duration": 3,
    "start_time": "2024-07-02T13:26:01.573Z"
   },
   {
    "duration": 8,
    "start_time": "2024-07-02T13:27:12.406Z"
   },
   {
    "duration": 3,
    "start_time": "2024-07-02T13:27:12.416Z"
   },
   {
    "duration": 60178,
    "start_time": "2024-07-02T13:27:12.421Z"
   },
   {
    "duration": 11037,
    "start_time": "2024-07-02T13:28:12.601Z"
   },
   {
    "duration": 9,
    "start_time": "2024-07-02T13:28:23.639Z"
   },
   {
    "duration": 1129,
    "start_time": "2024-07-02T13:32:12.103Z"
   },
   {
    "duration": 30,
    "start_time": "2024-07-02T13:32:13.234Z"
   },
   {
    "duration": 16,
    "start_time": "2024-07-02T13:32:13.265Z"
   },
   {
    "duration": 10,
    "start_time": "2024-07-02T13:32:13.282Z"
   },
   {
    "duration": 20,
    "start_time": "2024-07-02T13:32:13.294Z"
   },
   {
    "duration": 624,
    "start_time": "2024-07-02T13:32:13.316Z"
   },
   {
    "duration": 33,
    "start_time": "2024-07-02T13:32:13.942Z"
   },
   {
    "duration": 8,
    "start_time": "2024-07-02T13:32:13.977Z"
   },
   {
    "duration": 17,
    "start_time": "2024-07-02T13:32:13.987Z"
   },
   {
    "duration": 19,
    "start_time": "2024-07-02T13:32:14.006Z"
   },
   {
    "duration": 474,
    "start_time": "2024-07-02T13:32:14.028Z"
   },
   {
    "duration": 27,
    "start_time": "2024-07-02T13:32:14.504Z"
   },
   {
    "duration": 7,
    "start_time": "2024-07-02T13:32:14.532Z"
   },
   {
    "duration": 24,
    "start_time": "2024-07-02T13:32:14.541Z"
   },
   {
    "duration": 440,
    "start_time": "2024-07-02T13:32:14.566Z"
   },
   {
    "duration": 8,
    "start_time": "2024-07-02T13:32:15.008Z"
   },
   {
    "duration": 40,
    "start_time": "2024-07-02T13:32:15.018Z"
   },
   {
    "duration": 79,
    "start_time": "2024-07-02T13:32:15.060Z"
   },
   {
    "duration": 58,
    "start_time": "2024-07-02T13:32:15.141Z"
   },
   {
    "duration": 68,
    "start_time": "2024-07-02T13:32:15.201Z"
   },
   {
    "duration": 5,
    "start_time": "2024-07-02T13:32:15.271Z"
   },
   {
    "duration": 268,
    "start_time": "2024-07-02T13:32:15.277Z"
   },
   {
    "duration": 135,
    "start_time": "2024-07-02T13:32:15.546Z"
   },
   {
    "duration": 6,
    "start_time": "2024-07-02T13:32:15.682Z"
   },
   {
    "duration": 336,
    "start_time": "2024-07-02T13:32:15.700Z"
   },
   {
    "duration": 8,
    "start_time": "2024-07-02T13:32:16.037Z"
   },
   {
    "duration": 5,
    "start_time": "2024-07-02T13:32:16.046Z"
   },
   {
    "duration": 10,
    "start_time": "2024-07-02T13:33:27.325Z"
   },
   {
    "duration": 60487,
    "start_time": "2024-07-02T13:33:27.336Z"
   },
   {
    "duration": 10316,
    "start_time": "2024-07-02T13:34:27.825Z"
   },
   {
    "duration": 7,
    "start_time": "2024-07-02T13:34:38.143Z"
   },
   {
    "duration": 422,
    "start_time": "2024-07-02T13:34:38.151Z"
   },
   {
    "duration": 9,
    "start_time": "2024-07-02T13:34:38.574Z"
   },
   {
    "duration": 32,
    "start_time": "2024-07-02T13:34:38.585Z"
   },
   {
    "duration": 15,
    "start_time": "2024-07-02T13:34:38.618Z"
   },
   {
    "duration": 13,
    "start_time": "2024-07-02T13:34:38.634Z"
   },
   {
    "duration": 9,
    "start_time": "2024-07-02T13:34:38.649Z"
   },
   {
    "duration": 57,
    "start_time": "2024-07-02T13:37:37.343Z"
   },
   {
    "duration": 59401,
    "start_time": "2024-07-02T13:37:46.309Z"
   },
   {
    "duration": 16,
    "start_time": "2024-07-02T13:44:01.983Z"
   },
   {
    "duration": 59749,
    "start_time": "2024-07-02T13:44:02.002Z"
   },
   {
    "duration": 14,
    "start_time": "2024-07-02T13:46:35.163Z"
   },
   {
    "duration": 15,
    "start_time": "2024-07-02T13:49:23.120Z"
   },
   {
    "duration": 129,
    "start_time": "2024-07-02T13:50:45.014Z"
   },
   {
    "duration": 133,
    "start_time": "2024-07-02T13:51:35.172Z"
   },
   {
    "duration": 1347,
    "start_time": "2024-07-02T13:51:44.002Z"
   },
   {
    "duration": 219,
    "start_time": "2024-07-02T13:53:00.832Z"
   },
   {
    "duration": 201,
    "start_time": "2024-07-02T13:53:31.845Z"
   },
   {
    "duration": 15225,
    "start_time": "2024-07-02T13:53:48.382Z"
   },
   {
    "duration": 15690,
    "start_time": "2024-07-02T13:55:10.653Z"
   },
   {
    "duration": 16529,
    "start_time": "2024-07-02T13:57:39.938Z"
   },
   {
    "duration": 17118,
    "start_time": "2024-07-02T14:00:54.003Z"
   },
   {
    "duration": 2240,
    "start_time": "2024-07-02T14:03:38.428Z"
   },
   {
    "duration": 1465,
    "start_time": "2024-07-02T14:04:07.882Z"
   },
   {
    "duration": 1404,
    "start_time": "2024-07-02T14:04:48.898Z"
   },
   {
    "duration": 2942,
    "start_time": "2024-07-02T14:05:47.767Z"
   },
   {
    "duration": 1755,
    "start_time": "2024-07-02T14:06:16.465Z"
   },
   {
    "duration": 1579,
    "start_time": "2024-07-02T14:06:27.683Z"
   },
   {
    "duration": 1502,
    "start_time": "2024-07-02T14:16:57.098Z"
   },
   {
    "duration": 1530,
    "start_time": "2024-07-02T14:17:37.671Z"
   },
   {
    "duration": 1544,
    "start_time": "2024-07-02T14:17:48.223Z"
   },
   {
    "duration": 1630,
    "start_time": "2024-07-02T14:18:01.980Z"
   },
   {
    "duration": 52,
    "start_time": "2024-07-02T14:19:21.264Z"
   },
   {
    "duration": 47,
    "start_time": "2024-07-02T14:19:47.228Z"
   },
   {
    "duration": 271,
    "start_time": "2024-07-02T14:19:58.759Z"
   },
   {
    "duration": 268,
    "start_time": "2024-07-02T14:22:04.661Z"
   },
   {
    "duration": 257,
    "start_time": "2024-07-02T14:22:14.212Z"
   },
   {
    "duration": 1662,
    "start_time": "2024-07-02T14:22:21.166Z"
   },
   {
    "duration": 1821,
    "start_time": "2024-07-02T14:23:44.256Z"
   },
   {
    "duration": 46,
    "start_time": "2024-07-02T14:24:03.167Z"
   },
   {
    "duration": 1558,
    "start_time": "2024-07-02T14:24:14.911Z"
   },
   {
    "duration": 1568,
    "start_time": "2024-07-02T14:24:23.809Z"
   },
   {
    "duration": 1555,
    "start_time": "2024-07-02T14:25:35.230Z"
   },
   {
    "duration": 1672,
    "start_time": "2024-07-02T14:26:00.139Z"
   },
   {
    "duration": 1554,
    "start_time": "2024-07-02T14:26:44.080Z"
   },
   {
    "duration": 1512,
    "start_time": "2024-07-02T14:28:29.033Z"
   },
   {
    "duration": 12,
    "start_time": "2024-07-02T14:29:29.198Z"
   },
   {
    "duration": 10,
    "start_time": "2024-07-02T14:29:46.929Z"
   },
   {
    "duration": 9,
    "start_time": "2024-07-02T14:30:10.593Z"
   },
   {
    "duration": 9,
    "start_time": "2024-07-02T14:30:34.323Z"
   },
   {
    "duration": 14,
    "start_time": "2024-07-02T14:40:10.651Z"
   },
   {
    "duration": 58,
    "start_time": "2024-07-02T14:40:57.659Z"
   },
   {
    "duration": 27,
    "start_time": "2024-07-02T14:41:34.876Z"
   },
   {
    "duration": 72663,
    "start_time": "2024-07-02T14:43:03.892Z"
   },
   {
    "duration": 1446,
    "start_time": "2024-07-02T14:45:36.136Z"
   },
   {
    "duration": 634,
    "start_time": "2024-07-02T14:46:00.495Z"
   },
   {
    "duration": 4,
    "start_time": "2024-07-02T14:47:51.334Z"
   },
   {
    "duration": 6,
    "start_time": "2024-07-02T14:48:00.110Z"
   },
   {
    "duration": 574,
    "start_time": "2024-07-02T14:48:22.426Z"
   },
   {
    "duration": 4,
    "start_time": "2024-07-02T14:48:49.229Z"
   },
   {
    "duration": 6,
    "start_time": "2024-07-02T14:48:53.603Z"
   },
   {
    "duration": 76149,
    "start_time": "2024-07-02T14:48:59.851Z"
   },
   {
    "duration": 28,
    "start_time": "2024-07-02T14:50:16.003Z"
   },
   {
    "duration": 72913,
    "start_time": "2024-07-02T14:51:39.674Z"
   },
   {
    "duration": 1375,
    "start_time": "2024-07-02T14:55:22.455Z"
   },
   {
    "duration": 1357,
    "start_time": "2024-07-02T14:55:43.624Z"
   },
   {
    "duration": 3462,
    "start_time": "2024-07-02T14:55:57.486Z"
   },
   {
    "duration": 1654,
    "start_time": "2024-07-02T14:57:24.796Z"
   },
   {
    "duration": 1634,
    "start_time": "2024-07-02T15:00:10.680Z"
   },
   {
    "duration": 1650,
    "start_time": "2024-07-02T15:00:23.884Z"
   },
   {
    "duration": 1670,
    "start_time": "2024-07-02T15:00:34.093Z"
   },
   {
    "duration": 315,
    "start_time": "2024-07-02T15:00:46.920Z"
   },
   {
    "duration": 324,
    "start_time": "2024-07-02T15:01:15.206Z"
   },
   {
    "duration": 8,
    "start_time": "2024-07-02T15:01:15.767Z"
   },
   {
    "duration": 309,
    "start_time": "2024-07-02T15:01:17.593Z"
   },
   {
    "duration": 8,
    "start_time": "2024-07-02T15:01:34.712Z"
   },
   {
    "duration": 9,
    "start_time": "2024-07-02T15:01:40.440Z"
   },
   {
    "duration": 9,
    "start_time": "2024-07-02T15:01:49.371Z"
   },
   {
    "duration": 10,
    "start_time": "2024-07-02T15:02:08.841Z"
   },
   {
    "duration": 10,
    "start_time": "2024-07-02T15:02:13.905Z"
   },
   {
    "duration": 11,
    "start_time": "2024-07-02T15:02:19.283Z"
   },
   {
    "duration": 614,
    "start_time": "2024-07-02T15:02:29.218Z"
   },
   {
    "duration": 9,
    "start_time": "2024-07-02T15:02:37.150Z"
   },
   {
    "duration": 307,
    "start_time": "2024-07-02T15:03:50.406Z"
   },
   {
    "duration": 15,
    "start_time": "2024-07-02T15:04:08.681Z"
   },
   {
    "duration": 449,
    "start_time": "2024-07-02T15:05:08.650Z"
   },
   {
    "duration": 454,
    "start_time": "2024-07-02T15:05:31.070Z"
   },
   {
    "duration": 603,
    "start_time": "2024-07-02T15:06:25.776Z"
   },
   {
    "duration": 490,
    "start_time": "2024-07-02T15:07:06.586Z"
   },
   {
    "duration": 315,
    "start_time": "2024-07-02T15:07:46.598Z"
   },
   {
    "duration": 292,
    "start_time": "2024-07-02T15:08:11.674Z"
   },
   {
    "duration": 445,
    "start_time": "2024-07-02T15:08:32.609Z"
   },
   {
    "duration": 329,
    "start_time": "2024-07-02T15:09:28.731Z"
   },
   {
    "duration": 460,
    "start_time": "2024-07-02T15:10:33.557Z"
   },
   {
    "duration": 2966,
    "start_time": "2024-07-02T15:10:42.860Z"
   },
   {
    "duration": 460,
    "start_time": "2024-07-02T15:10:53.235Z"
   },
   {
    "duration": 765,
    "start_time": "2024-07-02T15:12:04.908Z"
   },
   {
    "duration": 600,
    "start_time": "2024-07-02T15:12:52.017Z"
   },
   {
    "duration": 591,
    "start_time": "2024-07-02T15:13:09.051Z"
   },
   {
    "duration": 619,
    "start_time": "2024-07-02T15:13:24.118Z"
   },
   {
    "duration": 606,
    "start_time": "2024-07-02T15:13:34.594Z"
   },
   {
    "duration": 637,
    "start_time": "2024-07-02T15:13:46.623Z"
   },
   {
    "duration": 781,
    "start_time": "2024-07-02T15:13:58.150Z"
   },
   {
    "duration": 466,
    "start_time": "2024-07-02T15:14:21.600Z"
   },
   {
    "duration": 408,
    "start_time": "2024-07-02T15:14:55.073Z"
   },
   {
    "duration": 618,
    "start_time": "2024-07-02T15:16:04.054Z"
   },
   {
    "duration": 242,
    "start_time": "2024-07-02T15:18:23.432Z"
   },
   {
    "duration": 25,
    "start_time": "2024-07-02T15:19:27.610Z"
   },
   {
    "duration": 22,
    "start_time": "2024-07-02T15:19:32.161Z"
   },
   {
    "duration": 20,
    "start_time": "2024-07-02T15:20:06.995Z"
   },
   {
    "duration": 22,
    "start_time": "2024-07-02T15:20:20.118Z"
   },
   {
    "duration": 19,
    "start_time": "2024-07-02T15:20:31.621Z"
   },
   {
    "duration": 19,
    "start_time": "2024-07-02T15:20:39.378Z"
   },
   {
    "duration": 22,
    "start_time": "2024-07-02T15:21:17.052Z"
   },
   {
    "duration": 27,
    "start_time": "2024-07-02T15:22:32.868Z"
   },
   {
    "duration": 26,
    "start_time": "2024-07-02T15:22:45.057Z"
   },
   {
    "duration": 48,
    "start_time": "2024-07-02T15:23:11.129Z"
   },
   {
    "duration": 22,
    "start_time": "2024-07-02T15:23:50.636Z"
   },
   {
    "duration": 11,
    "start_time": "2024-07-02T15:24:38.634Z"
   },
   {
    "duration": 12,
    "start_time": "2024-07-02T15:24:53.128Z"
   },
   {
    "duration": 13,
    "start_time": "2024-07-02T15:25:35.584Z"
   },
   {
    "duration": 354,
    "start_time": "2024-07-02T15:26:18.112Z"
   },
   {
    "duration": 13,
    "start_time": "2024-07-02T15:38:30.139Z"
   },
   {
    "duration": 12,
    "start_time": "2024-07-02T15:39:09.917Z"
   },
   {
    "duration": 444,
    "start_time": "2024-07-02T15:40:05.496Z"
   },
   {
    "duration": 185,
    "start_time": "2024-07-02T15:41:03.459Z"
   },
   {
    "duration": 21,
    "start_time": "2024-07-02T15:41:21.245Z"
   },
   {
    "duration": 83,
    "start_time": "2024-07-02T15:41:34.772Z"
   },
   {
    "duration": 224,
    "start_time": "2024-07-02T15:41:39.052Z"
   },
   {
    "duration": 84,
    "start_time": "2024-07-02T15:42:24.156Z"
   },
   {
    "duration": 25,
    "start_time": "2024-07-02T15:43:29.085Z"
   },
   {
    "duration": 4,
    "start_time": "2024-07-02T15:44:26.024Z"
   },
   {
    "duration": 21,
    "start_time": "2024-07-02T15:44:48.548Z"
   },
   {
    "duration": 23,
    "start_time": "2024-07-02T15:45:39.572Z"
   },
   {
    "duration": 31,
    "start_time": "2024-07-02T15:45:53.222Z"
   },
   {
    "duration": 46,
    "start_time": "2024-07-02T15:48:53.599Z"
   },
   {
    "duration": 24,
    "start_time": "2024-07-02T15:49:14.036Z"
   },
   {
    "duration": 16,
    "start_time": "2024-07-02T15:49:34.876Z"
   },
   {
    "duration": 8,
    "start_time": "2024-07-02T15:49:58.258Z"
   },
   {
    "duration": 15,
    "start_time": "2024-07-02T15:50:45.072Z"
   },
   {
    "duration": 12,
    "start_time": "2024-07-02T15:50:54.528Z"
   },
   {
    "duration": 19,
    "start_time": "2024-07-02T15:51:31.395Z"
   },
   {
    "duration": 9,
    "start_time": "2024-07-02T15:55:03.660Z"
   },
   {
    "duration": 11,
    "start_time": "2024-07-02T15:55:22.433Z"
   },
   {
    "duration": 20,
    "start_time": "2024-07-02T15:56:12.842Z"
   },
   {
    "duration": 9,
    "start_time": "2024-07-02T15:56:20.489Z"
   },
   {
    "duration": 9,
    "start_time": "2024-07-02T15:56:34.878Z"
   },
   {
    "duration": 8,
    "start_time": "2024-07-02T15:56:35.438Z"
   },
   {
    "duration": 8,
    "start_time": "2024-07-02T15:57:35.124Z"
   },
   {
    "duration": 10,
    "start_time": "2024-07-02T15:58:23.893Z"
   },
   {
    "duration": 8,
    "start_time": "2024-07-02T15:58:24.181Z"
   },
   {
    "duration": 654,
    "start_time": "2024-07-02T15:59:17.758Z"
   },
   {
    "duration": 10,
    "start_time": "2024-07-02T16:00:13.012Z"
   },
   {
    "duration": 8,
    "start_time": "2024-07-02T16:00:13.222Z"
   },
   {
    "duration": 21,
    "start_time": "2024-07-02T17:02:53.540Z"
   },
   {
    "duration": 23,
    "start_time": "2024-07-02T17:03:37.214Z"
   },
   {
    "duration": 12,
    "start_time": "2024-07-02T17:04:36.018Z"
   },
   {
    "duration": 9,
    "start_time": "2024-07-02T17:05:43.801Z"
   },
   {
    "duration": 21,
    "start_time": "2024-07-02T17:05:50.471Z"
   },
   {
    "duration": 9,
    "start_time": "2024-07-02T17:06:27.516Z"
   },
   {
    "duration": 9,
    "start_time": "2024-07-02T17:06:29.642Z"
   },
   {
    "duration": 10,
    "start_time": "2024-07-02T17:07:06.384Z"
   },
   {
    "duration": 66,
    "start_time": "2024-07-03T16:14:01.645Z"
   },
   {
    "duration": 64,
    "start_time": "2024-07-03T16:14:27.899Z"
   },
   {
    "duration": 111,
    "start_time": "2024-07-03T16:14:48.180Z"
   },
   {
    "duration": 47,
    "start_time": "2024-07-03T16:15:23.793Z"
   },
   {
    "duration": 5,
    "start_time": "2024-07-03T16:15:41.491Z"
   },
   {
    "duration": 1130,
    "start_time": "2024-07-03T16:15:53.236Z"
   },
   {
    "duration": 73,
    "start_time": "2024-07-03T16:15:54.368Z"
   },
   {
    "duration": 9,
    "start_time": "2024-07-03T16:15:54.442Z"
   },
   {
    "duration": 13,
    "start_time": "2024-07-03T16:15:54.452Z"
   },
   {
    "duration": 13,
    "start_time": "2024-07-03T16:15:54.467Z"
   },
   {
    "duration": 465,
    "start_time": "2024-07-03T16:15:54.481Z"
   },
   {
    "duration": 75,
    "start_time": "2024-07-03T16:15:54.948Z"
   },
   {
    "duration": 7,
    "start_time": "2024-07-03T16:15:55.024Z"
   },
   {
    "duration": 14,
    "start_time": "2024-07-03T16:15:55.032Z"
   },
   {
    "duration": 14,
    "start_time": "2024-07-03T16:15:55.048Z"
   },
   {
    "duration": 364,
    "start_time": "2024-07-03T16:15:55.063Z"
   },
   {
    "duration": 70,
    "start_time": "2024-07-03T16:15:55.428Z"
   },
   {
    "duration": 6,
    "start_time": "2024-07-03T16:15:55.499Z"
   },
   {
    "duration": 27,
    "start_time": "2024-07-03T16:15:55.507Z"
   },
   {
    "duration": 370,
    "start_time": "2024-07-03T16:15:55.535Z"
   },
   {
    "duration": 7,
    "start_time": "2024-07-03T16:15:55.906Z"
   },
   {
    "duration": 4,
    "start_time": "2024-07-03T16:15:55.914Z"
   },
   {
    "duration": 10,
    "start_time": "2024-07-03T16:15:55.920Z"
   },
   {
    "duration": 4,
    "start_time": "2024-07-03T16:15:55.932Z"
   },
   {
    "duration": 8,
    "start_time": "2024-07-03T16:15:55.937Z"
   },
   {
    "duration": 4,
    "start_time": "2024-07-03T16:15:55.947Z"
   },
   {
    "duration": 241,
    "start_time": "2024-07-03T16:15:55.952Z"
   },
   {
    "duration": 110,
    "start_time": "2024-07-03T16:15:56.194Z"
   },
   {
    "duration": 4,
    "start_time": "2024-07-03T16:15:56.306Z"
   },
   {
    "duration": 257,
    "start_time": "2024-07-03T16:15:56.311Z"
   },
   {
    "duration": 6,
    "start_time": "2024-07-03T16:15:56.569Z"
   },
   {
    "duration": 236,
    "start_time": "2024-07-03T16:15:56.576Z"
   },
   {
    "duration": 6,
    "start_time": "2024-07-03T16:15:56.813Z"
   },
   {
    "duration": 316,
    "start_time": "2024-07-03T16:15:56.821Z"
   },
   {
    "duration": 7,
    "start_time": "2024-07-03T16:15:57.138Z"
   },
   {
    "duration": 17,
    "start_time": "2024-07-03T16:15:57.146Z"
   },
   {
    "duration": 14,
    "start_time": "2024-07-03T16:15:57.164Z"
   },
   {
    "duration": 33,
    "start_time": "2024-07-03T16:15:57.179Z"
   },
   {
    "duration": 357,
    "start_time": "2024-07-03T16:15:57.213Z"
   },
   {
    "duration": 7,
    "start_time": "2024-07-03T16:15:57.571Z"
   },
   {
    "duration": 6,
    "start_time": "2024-07-03T16:15:57.579Z"
   },
   {
    "duration": 497,
    "start_time": "2024-07-03T16:15:57.586Z"
   },
   {
    "duration": 7,
    "start_time": "2024-07-03T16:15:58.084Z"
   },
   {
    "duration": 18,
    "start_time": "2024-07-03T16:15:58.092Z"
   },
   {
    "duration": 35,
    "start_time": "2024-07-03T16:15:58.111Z"
   },
   {
    "duration": 6,
    "start_time": "2024-07-03T16:15:58.149Z"
   },
   {
    "duration": 6,
    "start_time": "2024-07-03T16:15:58.157Z"
   },
   {
    "duration": 6,
    "start_time": "2024-07-03T16:15:58.164Z"
   },
   {
    "duration": 4,
    "start_time": "2024-07-03T16:15:58.171Z"
   },
   {
    "duration": 980,
    "start_time": "2024-07-03T16:15:59.962Z"
   },
   {
    "duration": 29,
    "start_time": "2024-07-03T16:16:00.943Z"
   },
   {
    "duration": 61,
    "start_time": "2024-07-03T16:16:00.973Z"
   },
   {
    "duration": 28,
    "start_time": "2024-07-03T16:16:01.036Z"
   },
   {
    "duration": 57,
    "start_time": "2024-07-03T16:16:01.065Z"
   },
   {
    "duration": 495,
    "start_time": "2024-07-03T16:16:01.123Z"
   },
   {
    "duration": 26,
    "start_time": "2024-07-03T16:16:01.619Z"
   },
   {
    "duration": 6,
    "start_time": "2024-07-03T16:16:01.646Z"
   },
   {
    "duration": 28,
    "start_time": "2024-07-03T16:16:01.654Z"
   },
   {
    "duration": 32,
    "start_time": "2024-07-03T16:16:01.684Z"
   },
   {
    "duration": 363,
    "start_time": "2024-07-03T16:16:01.717Z"
   },
   {
    "duration": 25,
    "start_time": "2024-07-03T16:16:02.081Z"
   },
   {
    "duration": 5,
    "start_time": "2024-07-03T16:16:02.108Z"
   },
   {
    "duration": 25,
    "start_time": "2024-07-03T16:16:02.114Z"
   },
   {
    "duration": 424,
    "start_time": "2024-07-03T16:16:02.140Z"
   },
   {
    "duration": 5,
    "start_time": "2024-07-03T16:16:02.566Z"
   },
   {
    "duration": 13,
    "start_time": "2024-07-03T16:16:02.572Z"
   },
   {
    "duration": 14,
    "start_time": "2024-07-03T16:16:02.586Z"
   },
   {
    "duration": 4,
    "start_time": "2024-07-03T16:16:02.601Z"
   },
   {
    "duration": 9,
    "start_time": "2024-07-03T16:16:02.606Z"
   },
   {
    "duration": 4,
    "start_time": "2024-07-03T16:16:02.616Z"
   },
   {
    "duration": 167,
    "start_time": "2024-07-03T16:16:02.621Z"
   },
   {
    "duration": 114,
    "start_time": "2024-07-03T16:16:02.789Z"
   },
   {
    "duration": 4,
    "start_time": "2024-07-03T16:16:02.904Z"
   },
   {
    "duration": 245,
    "start_time": "2024-07-03T16:16:02.909Z"
   },
   {
    "duration": 6,
    "start_time": "2024-07-03T16:16:03.155Z"
   },
   {
    "duration": 254,
    "start_time": "2024-07-03T16:16:03.163Z"
   },
   {
    "duration": 9,
    "start_time": "2024-07-03T16:16:03.419Z"
   },
   {
    "duration": 342,
    "start_time": "2024-07-03T16:16:03.429Z"
   },
   {
    "duration": 7,
    "start_time": "2024-07-03T16:16:03.772Z"
   },
   {
    "duration": 28,
    "start_time": "2024-07-03T16:16:03.780Z"
   },
   {
    "duration": 26,
    "start_time": "2024-07-03T16:16:03.809Z"
   },
   {
    "duration": 11,
    "start_time": "2024-07-03T16:16:03.836Z"
   },
   {
    "duration": 398,
    "start_time": "2024-07-03T16:16:03.848Z"
   },
   {
    "duration": 6,
    "start_time": "2024-07-03T16:16:04.248Z"
   },
   {
    "duration": 22,
    "start_time": "2024-07-03T16:16:04.255Z"
   },
   {
    "duration": 489,
    "start_time": "2024-07-03T16:16:04.278Z"
   },
   {
    "duration": 7,
    "start_time": "2024-07-03T16:16:04.768Z"
   },
   {
    "duration": 13,
    "start_time": "2024-07-03T16:16:04.776Z"
   },
   {
    "duration": 33,
    "start_time": "2024-07-03T16:16:04.791Z"
   },
   {
    "duration": 7,
    "start_time": "2024-07-03T16:16:04.826Z"
   },
   {
    "duration": 6,
    "start_time": "2024-07-03T16:16:04.834Z"
   },
   {
    "duration": 11,
    "start_time": "2024-07-03T16:16:04.841Z"
   },
   {
    "duration": 3,
    "start_time": "2024-07-03T16:16:04.853Z"
   },
   {
    "duration": 13,
    "start_time": "2024-07-03T16:17:07.478Z"
   },
   {
    "duration": 40,
    "start_time": "2024-07-03T16:17:14.498Z"
   },
   {
    "duration": 2,
    "start_time": "2024-07-03T16:20:32.615Z"
   },
   {
    "duration": 24,
    "start_time": "2024-07-03T16:20:42.460Z"
   },
   {
    "duration": 34,
    "start_time": "2024-07-03T16:20:51.205Z"
   },
   {
    "duration": 12,
    "start_time": "2024-07-03T16:20:52.042Z"
   },
   {
    "duration": 84,
    "start_time": "2024-07-03T16:23:26.200Z"
   },
   {
    "duration": 70,
    "start_time": "2024-07-03T16:23:29.070Z"
   },
   {
    "duration": 7,
    "start_time": "2024-07-03T16:23:48.323Z"
   },
   {
    "duration": 29,
    "start_time": "2024-07-03T16:23:59.540Z"
   },
   {
    "duration": 14,
    "start_time": "2024-07-03T16:24:00.041Z"
   },
   {
    "duration": 7,
    "start_time": "2024-07-03T16:24:04.299Z"
   },
   {
    "duration": 7,
    "start_time": "2024-07-03T16:24:23.494Z"
   },
   {
    "duration": 7,
    "start_time": "2024-07-03T16:24:38.853Z"
   },
   {
    "duration": 1063,
    "start_time": "2024-07-03T16:24:54.289Z"
   },
   {
    "duration": 16,
    "start_time": "2024-07-03T16:25:26.802Z"
   },
   {
    "duration": 4,
    "start_time": "2024-07-03T16:25:29.591Z"
   },
   {
    "duration": 7,
    "start_time": "2024-07-03T16:25:32.635Z"
   },
   {
    "duration": 8,
    "start_time": "2024-07-03T16:25:59.467Z"
   },
   {
    "duration": 15,
    "start_time": "2024-07-03T16:26:08.651Z"
   },
   {
    "duration": 6,
    "start_time": "2024-07-03T16:26:27.638Z"
   },
   {
    "duration": 1417,
    "start_time": "2024-07-06T04:39:50.055Z"
   },
   {
    "duration": 108,
    "start_time": "2024-07-06T04:39:51.473Z"
   },
   {
    "duration": 12,
    "start_time": "2024-07-06T04:39:51.582Z"
   },
   {
    "duration": 17,
    "start_time": "2024-07-06T04:39:51.597Z"
   },
   {
    "duration": 16,
    "start_time": "2024-07-06T04:39:51.615Z"
   },
   {
    "duration": 584,
    "start_time": "2024-07-06T04:39:51.633Z"
   },
   {
    "duration": 163,
    "start_time": "2024-07-06T04:39:52.219Z"
   },
   {
    "duration": 7,
    "start_time": "2024-07-06T04:39:52.384Z"
   },
   {
    "duration": 18,
    "start_time": "2024-07-06T04:39:52.393Z"
   },
   {
    "duration": 17,
    "start_time": "2024-07-06T04:39:52.413Z"
   },
   {
    "duration": 439,
    "start_time": "2024-07-06T04:39:52.431Z"
   },
   {
    "duration": 82,
    "start_time": "2024-07-06T04:39:52.872Z"
   },
   {
    "duration": 7,
    "start_time": "2024-07-06T04:39:52.956Z"
   },
   {
    "duration": 10,
    "start_time": "2024-07-06T04:39:52.965Z"
   },
   {
    "duration": 508,
    "start_time": "2024-07-06T04:39:52.976Z"
   },
   {
    "duration": 7,
    "start_time": "2024-07-06T04:39:53.486Z"
   },
   {
    "duration": 24,
    "start_time": "2024-07-06T04:39:53.494Z"
   },
   {
    "duration": 12,
    "start_time": "2024-07-06T04:39:53.520Z"
   },
   {
    "duration": 5,
    "start_time": "2024-07-06T04:39:53.533Z"
   },
   {
    "duration": 21,
    "start_time": "2024-07-06T04:39:53.539Z"
   },
   {
    "duration": 4,
    "start_time": "2024-07-06T04:39:53.562Z"
   },
   {
    "duration": 204,
    "start_time": "2024-07-06T04:39:53.567Z"
   },
   {
    "duration": 143,
    "start_time": "2024-07-06T04:39:53.773Z"
   },
   {
    "duration": 5,
    "start_time": "2024-07-06T04:39:53.917Z"
   },
   {
    "duration": 328,
    "start_time": "2024-07-06T04:39:53.924Z"
   },
   {
    "duration": 7,
    "start_time": "2024-07-06T04:39:54.255Z"
   },
   {
    "duration": 317,
    "start_time": "2024-07-06T04:39:54.263Z"
   },
   {
    "duration": 7,
    "start_time": "2024-07-06T04:39:54.584Z"
   },
   {
    "duration": 392,
    "start_time": "2024-07-06T04:39:54.593Z"
   },
   {
    "duration": 8,
    "start_time": "2024-07-06T04:39:54.987Z"
   },
   {
    "duration": 24,
    "start_time": "2024-07-06T04:39:54.996Z"
   },
   {
    "duration": 34,
    "start_time": "2024-07-06T04:39:55.021Z"
   },
   {
    "duration": 13,
    "start_time": "2024-07-06T04:39:55.057Z"
   },
   {
    "duration": 509,
    "start_time": "2024-07-06T04:39:55.072Z"
   },
   {
    "duration": 7,
    "start_time": "2024-07-06T04:39:55.583Z"
   },
   {
    "duration": 7,
    "start_time": "2024-07-06T04:39:55.591Z"
   },
   {
    "duration": 604,
    "start_time": "2024-07-06T04:39:55.599Z"
   },
   {
    "duration": 8,
    "start_time": "2024-07-06T04:39:56.205Z"
   },
   {
    "duration": 10,
    "start_time": "2024-07-06T04:39:56.214Z"
   },
   {
    "duration": 94,
    "start_time": "2024-07-06T04:39:56.225Z"
   },
   {
    "duration": 13,
    "start_time": "2024-07-06T04:39:56.320Z"
   },
   {
    "duration": 20,
    "start_time": "2024-07-06T04:39:56.334Z"
   },
   {
    "duration": 11,
    "start_time": "2024-07-06T04:39:56.355Z"
   },
   {
    "duration": 3,
    "start_time": "2024-07-06T04:39:56.368Z"
   },
   {
    "duration": 16,
    "start_time": "2024-07-06T05:05:23.322Z"
   },
   {
    "duration": 38,
    "start_time": "2024-07-06T05:05:37.427Z"
   },
   {
    "duration": 19,
    "start_time": "2024-07-06T05:05:37.928Z"
   },
   {
    "duration": 22,
    "start_time": "2024-07-06T05:07:14.247Z"
   },
   {
    "duration": 15,
    "start_time": "2024-07-06T05:07:16.210Z"
   },
   {
    "duration": 31,
    "start_time": "2024-07-06T05:07:52.124Z"
   },
   {
    "duration": 927,
    "start_time": "2024-07-06T05:08:25.374Z"
   },
   {
    "duration": 13,
    "start_time": "2024-07-06T05:08:42.228Z"
   },
   {
    "duration": 19,
    "start_time": "2024-07-06T05:09:03.008Z"
   },
   {
    "duration": 48,
    "start_time": "2024-07-06T05:09:48.053Z"
   },
   {
    "duration": 53,
    "start_time": "2024-07-06T05:10:11.260Z"
   },
   {
    "duration": 65,
    "start_time": "2024-07-06T05:10:55.798Z"
   },
   {
    "duration": 250,
    "start_time": "2024-07-06T05:11:04.851Z"
   },
   {
    "duration": 16,
    "start_time": "2024-07-06T05:13:11.058Z"
   },
   {
    "duration": 244,
    "start_time": "2024-07-06T05:13:36.775Z"
   },
   {
    "duration": 238,
    "start_time": "2024-07-06T05:26:40.726Z"
   },
   {
    "duration": 52,
    "start_time": "2024-07-06T05:26:52.806Z"
   },
   {
    "duration": 56,
    "start_time": "2024-07-06T05:27:15.098Z"
   },
   {
    "duration": 9,
    "start_time": "2024-07-06T05:27:34.933Z"
   },
   {
    "duration": 45,
    "start_time": "2024-07-06T05:27:42.832Z"
   },
   {
    "duration": 233,
    "start_time": "2024-07-06T05:29:03.311Z"
   },
   {
    "duration": 23,
    "start_time": "2024-07-06T05:29:12.274Z"
   },
   {
    "duration": 48,
    "start_time": "2024-07-06T05:33:34.956Z"
   },
   {
    "duration": 52,
    "start_time": "2024-07-06T05:33:53.897Z"
   },
   {
    "duration": 70,
    "start_time": "2024-07-06T05:34:10.842Z"
   },
   {
    "duration": 59,
    "start_time": "2024-07-06T05:34:31.013Z"
   },
   {
    "duration": 45,
    "start_time": "2024-07-06T05:34:47.297Z"
   },
   {
    "duration": 54,
    "start_time": "2024-07-06T05:34:57.854Z"
   },
   {
    "duration": 39,
    "start_time": "2024-07-06T05:35:01.793Z"
   },
   {
    "duration": 336,
    "start_time": "2024-07-06T05:35:29.411Z"
   },
   {
    "duration": 40,
    "start_time": "2024-07-06T05:35:48.019Z"
   },
   {
    "duration": 48,
    "start_time": "2024-07-06T05:36:30.955Z"
   },
   {
    "duration": 46,
    "start_time": "2024-07-06T05:36:42.013Z"
   },
   {
    "duration": 46,
    "start_time": "2024-07-06T05:36:46.931Z"
   },
   {
    "duration": 44,
    "start_time": "2024-07-06T05:36:51.080Z"
   },
   {
    "duration": 54,
    "start_time": "2024-07-06T05:39:36.972Z"
   },
   {
    "duration": 6,
    "start_time": "2024-07-06T05:41:00.607Z"
   },
   {
    "duration": 17,
    "start_time": "2024-07-06T05:41:07.823Z"
   },
   {
    "duration": 20,
    "start_time": "2024-07-06T05:42:40.073Z"
   },
   {
    "duration": 16,
    "start_time": "2024-07-06T05:42:55.985Z"
   },
   {
    "duration": 12,
    "start_time": "2024-07-06T05:43:13.786Z"
   },
   {
    "duration": 49,
    "start_time": "2024-07-06T05:46:47.061Z"
   },
   {
    "duration": 61,
    "start_time": "2024-07-06T05:47:06.835Z"
   },
   {
    "duration": 16,
    "start_time": "2024-07-06T05:47:17.193Z"
   },
   {
    "duration": 10,
    "start_time": "2024-07-06T05:47:30.896Z"
   },
   {
    "duration": 10,
    "start_time": "2024-07-06T05:47:47.071Z"
   },
   {
    "duration": 9,
    "start_time": "2024-07-06T05:47:57.018Z"
   },
   {
    "duration": 6,
    "start_time": "2024-07-06T05:48:01.266Z"
   },
   {
    "duration": 9,
    "start_time": "2024-07-06T05:48:26.522Z"
   },
   {
    "duration": 49,
    "start_time": "2024-07-06T05:48:44.217Z"
   },
   {
    "duration": 8,
    "start_time": "2024-07-06T05:48:51.028Z"
   },
   {
    "duration": 10,
    "start_time": "2024-07-06T05:49:14.237Z"
   },
   {
    "duration": 11,
    "start_time": "2024-07-06T05:49:50.082Z"
   },
   {
    "duration": 6,
    "start_time": "2024-07-06T05:50:05.168Z"
   },
   {
    "duration": 4,
    "start_time": "2024-07-06T05:50:12.274Z"
   },
   {
    "duration": 7,
    "start_time": "2024-07-06T05:50:12.873Z"
   },
   {
    "duration": 10,
    "start_time": "2024-07-06T05:50:53.967Z"
   },
   {
    "duration": 10,
    "start_time": "2024-07-06T05:51:40.956Z"
   },
   {
    "duration": 5,
    "start_time": "2024-07-06T05:51:47.108Z"
   },
   {
    "duration": 4,
    "start_time": "2024-07-06T05:55:42.592Z"
   },
   {
    "duration": 10,
    "start_time": "2024-07-06T05:55:43.267Z"
   },
   {
    "duration": 15,
    "start_time": "2024-07-06T05:55:58.740Z"
   },
   {
    "duration": 3,
    "start_time": "2024-07-06T05:56:35.245Z"
   },
   {
    "duration": 3,
    "start_time": "2024-07-06T05:57:04.867Z"
   },
   {
    "duration": 10,
    "start_time": "2024-07-06T05:58:58.491Z"
   },
   {
    "duration": 6,
    "start_time": "2024-07-06T05:58:58.897Z"
   },
   {
    "duration": 6,
    "start_time": "2024-07-06T05:58:59.524Z"
   },
   {
    "duration": 2,
    "start_time": "2024-07-06T05:59:29.414Z"
   },
   {
    "duration": 181,
    "start_time": "2024-07-06T06:01:05.086Z"
   },
   {
    "duration": 3,
    "start_time": "2024-07-06T06:02:01.598Z"
   },
   {
    "duration": 871,
    "start_time": "2024-07-06T06:02:59.519Z"
   },
   {
    "duration": 819,
    "start_time": "2024-07-06T06:03:15.919Z"
   },
   {
    "duration": 1159,
    "start_time": "2024-07-06T06:03:45.103Z"
   },
   {
    "duration": 29,
    "start_time": "2024-07-06T06:03:46.264Z"
   },
   {
    "duration": 17,
    "start_time": "2024-07-06T06:03:46.294Z"
   },
   {
    "duration": 13,
    "start_time": "2024-07-06T06:03:46.314Z"
   },
   {
    "duration": 18,
    "start_time": "2024-07-06T06:03:46.329Z"
   },
   {
    "duration": 600,
    "start_time": "2024-07-06T06:03:46.349Z"
   },
   {
    "duration": 29,
    "start_time": "2024-07-06T06:03:46.951Z"
   },
   {
    "duration": 48,
    "start_time": "2024-07-06T06:03:46.981Z"
   },
   {
    "duration": 27,
    "start_time": "2024-07-06T06:03:47.030Z"
   },
   {
    "duration": 26,
    "start_time": "2024-07-06T06:03:47.059Z"
   },
   {
    "duration": 458,
    "start_time": "2024-07-06T06:03:47.087Z"
   },
   {
    "duration": 26,
    "start_time": "2024-07-06T06:03:47.547Z"
   },
   {
    "duration": 47,
    "start_time": "2024-07-06T06:03:47.575Z"
   },
   {
    "duration": 12,
    "start_time": "2024-07-06T06:03:47.624Z"
   },
   {
    "duration": 538,
    "start_time": "2024-07-06T06:03:47.638Z"
   },
   {
    "duration": 4,
    "start_time": "2024-07-06T06:03:48.178Z"
   },
   {
    "duration": 20,
    "start_time": "2024-07-06T06:03:48.184Z"
   },
   {
    "duration": 7,
    "start_time": "2024-07-06T06:03:48.205Z"
   },
   {
    "duration": 11,
    "start_time": "2024-07-06T06:03:48.213Z"
   },
   {
    "duration": 9,
    "start_time": "2024-07-06T06:03:48.225Z"
   },
   {
    "duration": 19,
    "start_time": "2024-07-06T06:03:48.236Z"
   },
   {
    "duration": 8,
    "start_time": "2024-07-06T06:03:48.256Z"
   },
   {
    "duration": 8,
    "start_time": "2024-07-06T06:03:48.266Z"
   },
   {
    "duration": 196,
    "start_time": "2024-07-06T06:03:48.276Z"
   },
   {
    "duration": 135,
    "start_time": "2024-07-06T06:03:48.473Z"
   },
   {
    "duration": 5,
    "start_time": "2024-07-06T06:03:48.610Z"
   },
   {
    "duration": 315,
    "start_time": "2024-07-06T06:03:48.616Z"
   },
   {
    "duration": 7,
    "start_time": "2024-07-06T06:03:48.934Z"
   },
   {
    "duration": 343,
    "start_time": "2024-07-06T06:03:48.942Z"
   },
   {
    "duration": 1318,
    "start_time": "2024-07-06T06:03:49.287Z"
   },
   {
    "duration": 0,
    "start_time": "2024-07-06T06:03:50.607Z"
   },
   {
    "duration": 0,
    "start_time": "2024-07-06T06:03:50.609Z"
   },
   {
    "duration": 0,
    "start_time": "2024-07-06T06:03:50.610Z"
   },
   {
    "duration": 0,
    "start_time": "2024-07-06T06:03:50.611Z"
   },
   {
    "duration": 0,
    "start_time": "2024-07-06T06:03:50.612Z"
   },
   {
    "duration": 0,
    "start_time": "2024-07-06T06:03:50.613Z"
   },
   {
    "duration": 0,
    "start_time": "2024-07-06T06:03:50.615Z"
   },
   {
    "duration": 0,
    "start_time": "2024-07-06T06:03:50.616Z"
   },
   {
    "duration": 0,
    "start_time": "2024-07-06T06:03:50.617Z"
   },
   {
    "duration": 0,
    "start_time": "2024-07-06T06:03:50.619Z"
   },
   {
    "duration": 0,
    "start_time": "2024-07-06T06:03:50.620Z"
   },
   {
    "duration": 0,
    "start_time": "2024-07-06T06:03:50.621Z"
   },
   {
    "duration": 0,
    "start_time": "2024-07-06T06:03:50.622Z"
   },
   {
    "duration": 0,
    "start_time": "2024-07-06T06:03:50.623Z"
   },
   {
    "duration": 9,
    "start_time": "2024-07-06T06:05:35.496Z"
   },
   {
    "duration": 9,
    "start_time": "2024-07-06T06:06:07.736Z"
   },
   {
    "duration": 2,
    "start_time": "2024-07-06T06:08:05.256Z"
   },
   {
    "duration": 24,
    "start_time": "2024-07-06T06:08:28.774Z"
   },
   {
    "duration": 17,
    "start_time": "2024-07-06T06:08:30.313Z"
   },
   {
    "duration": 14,
    "start_time": "2024-07-06T06:08:35.306Z"
   },
   {
    "duration": 417,
    "start_time": "2024-07-06T06:08:41.027Z"
   },
   {
    "duration": 8,
    "start_time": "2024-07-06T06:08:41.730Z"
   },
   {
    "duration": 7,
    "start_time": "2024-07-06T06:08:43.131Z"
   },
   {
    "duration": 651,
    "start_time": "2024-07-06T06:08:43.840Z"
   },
   {
    "duration": 8,
    "start_time": "2024-07-06T06:08:44.854Z"
   },
   {
    "duration": 9,
    "start_time": "2024-07-06T06:08:46.176Z"
   },
   {
    "duration": 37,
    "start_time": "2024-07-06T06:09:11.055Z"
   },
   {
    "duration": 12,
    "start_time": "2024-07-06T06:09:15.115Z"
   },
   {
    "duration": 4,
    "start_time": "2024-07-06T06:11:32.413Z"
   },
   {
    "duration": 4,
    "start_time": "2024-07-06T06:11:49.288Z"
   },
   {
    "duration": 4,
    "start_time": "2024-07-06T06:12:22.872Z"
   },
   {
    "duration": 9,
    "start_time": "2024-07-06T06:13:35.738Z"
   },
   {
    "duration": 4,
    "start_time": "2024-07-06T06:14:10.800Z"
   },
   {
    "duration": 4,
    "start_time": "2024-07-06T06:15:35.303Z"
   },
   {
    "duration": 45,
    "start_time": "2024-07-06T06:15:35.914Z"
   },
   {
    "duration": 15,
    "start_time": "2024-07-06T06:15:38.775Z"
   },
   {
    "duration": 9,
    "start_time": "2024-07-06T06:15:42.964Z"
   },
   {
    "duration": 5,
    "start_time": "2024-07-06T06:15:48.603Z"
   },
   {
    "duration": 19,
    "start_time": "2024-07-06T06:16:19.591Z"
   },
   {
    "duration": 24,
    "start_time": "2024-07-06T06:34:38.138Z"
   },
   {
    "duration": 21,
    "start_time": "2024-07-06T06:35:13.875Z"
   },
   {
    "duration": 10,
    "start_time": "2024-07-06T06:36:57.416Z"
   },
   {
    "duration": 7,
    "start_time": "2024-07-06T06:37:03.288Z"
   },
   {
    "duration": 58,
    "start_time": "2024-07-06T06:39:17.712Z"
   },
   {
    "duration": 5,
    "start_time": "2024-07-06T06:39:27.295Z"
   },
   {
    "duration": 7,
    "start_time": "2024-07-06T06:43:17.854Z"
   },
   {
    "duration": 8,
    "start_time": "2024-07-06T06:59:56.845Z"
   },
   {
    "duration": 5,
    "start_time": "2024-07-06T07:00:35.718Z"
   },
   {
    "duration": 7,
    "start_time": "2024-07-06T07:02:49.528Z"
   },
   {
    "duration": 8,
    "start_time": "2024-07-06T07:03:55.170Z"
   },
   {
    "duration": 8,
    "start_time": "2024-07-06T07:04:09.673Z"
   },
   {
    "duration": 6,
    "start_time": "2024-07-06T07:14:39.502Z"
   },
   {
    "duration": 6,
    "start_time": "2024-07-06T07:15:28.654Z"
   },
   {
    "duration": 6,
    "start_time": "2024-07-06T07:16:30.581Z"
   },
   {
    "duration": 430,
    "start_time": "2024-07-06T07:23:05.782Z"
   },
   {
    "duration": 6,
    "start_time": "2024-07-06T07:24:41.399Z"
   },
   {
    "duration": 9,
    "start_time": "2024-07-06T07:24:52.280Z"
   },
   {
    "duration": 9,
    "start_time": "2024-07-06T07:26:02.233Z"
   },
   {
    "duration": 9,
    "start_time": "2024-07-06T07:26:25.109Z"
   },
   {
    "duration": 8,
    "start_time": "2024-07-06T07:47:46.758Z"
   },
   {
    "duration": 3,
    "start_time": "2024-07-06T07:48:24.357Z"
   },
   {
    "duration": 57,
    "start_time": "2024-07-06T07:59:00.382Z"
   },
   {
    "duration": 59,
    "start_time": "2024-07-06T08:09:38.269Z"
   },
   {
    "duration": 444,
    "start_time": "2024-07-06T08:11:59.494Z"
   },
   {
    "duration": 9,
    "start_time": "2024-07-06T08:11:59.970Z"
   },
   {
    "duration": 1175,
    "start_time": "2024-07-06T08:29:08.665Z"
   },
   {
    "duration": 29,
    "start_time": "2024-07-06T08:29:09.842Z"
   },
   {
    "duration": 11,
    "start_time": "2024-07-06T08:29:09.873Z"
   },
   {
    "duration": 11,
    "start_time": "2024-07-06T08:29:09.886Z"
   },
   {
    "duration": 101,
    "start_time": "2024-07-06T08:29:09.898Z"
   },
   {
    "duration": 662,
    "start_time": "2024-07-06T08:29:10.001Z"
   },
   {
    "duration": 28,
    "start_time": "2024-07-06T08:29:10.665Z"
   },
   {
    "duration": 7,
    "start_time": "2024-07-06T08:29:10.696Z"
   },
   {
    "duration": 13,
    "start_time": "2024-07-06T08:29:10.705Z"
   },
   {
    "duration": 19,
    "start_time": "2024-07-06T08:29:10.720Z"
   },
   {
    "duration": 475,
    "start_time": "2024-07-06T08:29:10.741Z"
   },
   {
    "duration": 26,
    "start_time": "2024-07-06T08:29:11.217Z"
   },
   {
    "duration": 5,
    "start_time": "2024-07-06T08:29:11.245Z"
   },
   {
    "duration": 13,
    "start_time": "2024-07-06T08:29:11.252Z"
   },
   {
    "duration": 491,
    "start_time": "2024-07-06T08:29:11.266Z"
   },
   {
    "duration": 4,
    "start_time": "2024-07-06T08:29:11.759Z"
   },
   {
    "duration": 19,
    "start_time": "2024-07-06T08:29:11.765Z"
   },
   {
    "duration": 6,
    "start_time": "2024-07-06T08:29:11.785Z"
   },
   {
    "duration": 12,
    "start_time": "2024-07-06T08:29:11.792Z"
   },
   {
    "duration": 8,
    "start_time": "2024-07-06T08:29:11.806Z"
   },
   {
    "duration": 4,
    "start_time": "2024-07-06T08:29:11.816Z"
   },
   {
    "duration": 8,
    "start_time": "2024-07-06T08:29:11.821Z"
   },
   {
    "duration": 27,
    "start_time": "2024-07-06T08:29:11.830Z"
   },
   {
    "duration": 179,
    "start_time": "2024-07-06T08:29:11.858Z"
   },
   {
    "duration": 135,
    "start_time": "2024-07-06T08:29:12.039Z"
   },
   {
    "duration": 4,
    "start_time": "2024-07-06T08:29:12.176Z"
   },
   {
    "duration": 328,
    "start_time": "2024-07-06T08:29:12.182Z"
   },
   {
    "duration": 7,
    "start_time": "2024-07-06T08:29:12.513Z"
   },
   {
    "duration": 300,
    "start_time": "2024-07-06T08:29:12.521Z"
   },
   {
    "duration": 8,
    "start_time": "2024-07-06T08:29:12.823Z"
   },
   {
    "duration": 398,
    "start_time": "2024-07-06T08:29:12.832Z"
   },
   {
    "duration": 8,
    "start_time": "2024-07-06T08:29:13.232Z"
   },
   {
    "duration": 30,
    "start_time": "2024-07-06T08:29:13.241Z"
   },
   {
    "duration": 14,
    "start_time": "2024-07-06T08:29:13.273Z"
   },
   {
    "duration": 11,
    "start_time": "2024-07-06T08:29:13.288Z"
   },
   {
    "duration": 530,
    "start_time": "2024-07-06T08:29:13.301Z"
   },
   {
    "duration": 9,
    "start_time": "2024-07-06T08:29:13.832Z"
   },
   {
    "duration": 19,
    "start_time": "2024-07-06T08:29:13.842Z"
   },
   {
    "duration": 567,
    "start_time": "2024-07-06T08:29:13.863Z"
   },
   {
    "duration": 8,
    "start_time": "2024-07-06T08:29:14.432Z"
   },
   {
    "duration": 19,
    "start_time": "2024-07-06T08:29:14.442Z"
   },
   {
    "duration": 3,
    "start_time": "2024-07-06T08:29:14.463Z"
   },
   {
    "duration": 55,
    "start_time": "2024-07-06T08:29:14.468Z"
   },
   {
    "duration": 13,
    "start_time": "2024-07-06T08:29:14.525Z"
   },
   {
    "duration": 21,
    "start_time": "2024-07-06T08:29:14.540Z"
   },
   {
    "duration": 4,
    "start_time": "2024-07-06T08:29:14.563Z"
   },
   {
    "duration": 7,
    "start_time": "2024-07-06T08:29:14.569Z"
   },
   {
    "duration": 17,
    "start_time": "2024-07-06T08:29:14.578Z"
   },
   {
    "duration": 9,
    "start_time": "2024-07-06T08:29:14.597Z"
   },
   {
    "duration": 4,
    "start_time": "2024-07-06T08:29:14.608Z"
   },
   {
    "duration": 10,
    "start_time": "2024-07-06T08:29:49.539Z"
   },
   {
    "duration": 23,
    "start_time": "2024-07-06T08:30:03.618Z"
   },
   {
    "duration": 1063,
    "start_time": "2024-07-06T08:30:16.804Z"
   },
   {
    "duration": 29,
    "start_time": "2024-07-06T08:30:17.869Z"
   },
   {
    "duration": 11,
    "start_time": "2024-07-06T08:30:17.899Z"
   },
   {
    "duration": 80,
    "start_time": "2024-07-06T08:30:17.911Z"
   },
   {
    "duration": 15,
    "start_time": "2024-07-06T08:30:17.993Z"
   },
   {
    "duration": 574,
    "start_time": "2024-07-06T08:30:18.010Z"
   },
   {
    "duration": 35,
    "start_time": "2024-07-06T08:30:18.586Z"
   },
   {
    "duration": 13,
    "start_time": "2024-07-06T08:30:18.623Z"
   },
   {
    "duration": 20,
    "start_time": "2024-07-06T08:30:18.637Z"
   },
   {
    "duration": 25,
    "start_time": "2024-07-06T08:30:18.659Z"
   },
   {
    "duration": 469,
    "start_time": "2024-07-06T08:30:18.686Z"
   },
   {
    "duration": 26,
    "start_time": "2024-07-06T08:30:19.157Z"
   },
   {
    "duration": 7,
    "start_time": "2024-07-06T08:30:19.185Z"
   },
   {
    "duration": 10,
    "start_time": "2024-07-06T08:30:19.195Z"
   },
   {
    "duration": 437,
    "start_time": "2024-07-06T08:30:19.206Z"
   },
   {
    "duration": 10,
    "start_time": "2024-07-06T08:30:19.645Z"
   },
   {
    "duration": 56,
    "start_time": "2024-07-06T08:30:19.657Z"
   },
   {
    "duration": 6,
    "start_time": "2024-07-06T08:30:19.714Z"
   },
   {
    "duration": 5,
    "start_time": "2024-07-06T08:30:19.722Z"
   },
   {
    "duration": 9,
    "start_time": "2024-07-06T08:30:19.728Z"
   },
   {
    "duration": 4,
    "start_time": "2024-07-06T08:30:19.738Z"
   },
   {
    "duration": 5,
    "start_time": "2024-07-06T08:30:19.743Z"
   },
   {
    "duration": 9,
    "start_time": "2024-07-06T08:30:19.749Z"
   },
   {
    "duration": 274,
    "start_time": "2024-07-06T08:30:19.760Z"
   },
   {
    "duration": 146,
    "start_time": "2024-07-06T08:30:20.036Z"
   },
   {
    "duration": 5,
    "start_time": "2024-07-06T08:30:20.184Z"
   },
   {
    "duration": 359,
    "start_time": "2024-07-06T08:30:20.191Z"
   },
   {
    "duration": 8,
    "start_time": "2024-07-06T08:30:20.555Z"
   },
   {
    "duration": 299,
    "start_time": "2024-07-06T08:30:20.564Z"
   },
   {
    "duration": 8,
    "start_time": "2024-07-06T08:30:20.865Z"
   },
   {
    "duration": 405,
    "start_time": "2024-07-06T08:30:20.874Z"
   },
   {
    "duration": 8,
    "start_time": "2024-07-06T08:30:21.281Z"
   },
   {
    "duration": 20,
    "start_time": "2024-07-06T08:30:21.290Z"
   },
   {
    "duration": 14,
    "start_time": "2024-07-06T08:30:21.311Z"
   },
   {
    "duration": 36,
    "start_time": "2024-07-06T08:30:21.327Z"
   },
   {
    "duration": 408,
    "start_time": "2024-07-06T08:30:21.365Z"
   },
   {
    "duration": 9,
    "start_time": "2024-07-06T08:30:21.774Z"
   },
   {
    "duration": 30,
    "start_time": "2024-07-06T08:30:21.784Z"
   },
   {
    "duration": 618,
    "start_time": "2024-07-06T08:30:21.815Z"
   },
   {
    "duration": 8,
    "start_time": "2024-07-06T08:30:22.434Z"
   },
   {
    "duration": 6,
    "start_time": "2024-07-06T08:30:22.455Z"
   },
   {
    "duration": 12,
    "start_time": "2024-07-06T08:30:22.462Z"
   },
   {
    "duration": 44,
    "start_time": "2024-07-06T08:30:22.476Z"
   },
   {
    "duration": 12,
    "start_time": "2024-07-06T08:30:22.522Z"
   },
   {
    "duration": 21,
    "start_time": "2024-07-06T08:30:22.535Z"
   },
   {
    "duration": 3,
    "start_time": "2024-07-06T08:30:22.558Z"
   },
   {
    "duration": 15,
    "start_time": "2024-07-06T08:30:22.562Z"
   },
   {
    "duration": 21,
    "start_time": "2024-07-06T08:30:22.578Z"
   },
   {
    "duration": 42,
    "start_time": "2024-07-06T08:30:22.601Z"
   },
   {
    "duration": 21,
    "start_time": "2024-07-06T08:30:22.644Z"
   },
   {
    "duration": 23,
    "start_time": "2024-07-06T08:30:48.581Z"
   },
   {
    "duration": 1152,
    "start_time": "2024-07-06T08:32:40.389Z"
   },
   {
    "duration": 28,
    "start_time": "2024-07-06T08:32:41.543Z"
   },
   {
    "duration": 11,
    "start_time": "2024-07-06T08:32:41.575Z"
   },
   {
    "duration": 25,
    "start_time": "2024-07-06T08:32:41.587Z"
   },
   {
    "duration": 15,
    "start_time": "2024-07-06T08:32:41.614Z"
   },
   {
    "duration": 582,
    "start_time": "2024-07-06T08:32:41.630Z"
   },
   {
    "duration": 29,
    "start_time": "2024-07-06T08:32:42.214Z"
   },
   {
    "duration": 11,
    "start_time": "2024-07-06T08:32:42.244Z"
   },
   {
    "duration": 13,
    "start_time": "2024-07-06T08:32:42.257Z"
   },
   {
    "duration": 20,
    "start_time": "2024-07-06T08:32:42.272Z"
   },
   {
    "duration": 463,
    "start_time": "2024-07-06T08:32:42.293Z"
   },
   {
    "duration": 27,
    "start_time": "2024-07-06T08:32:42.757Z"
   },
   {
    "duration": 7,
    "start_time": "2024-07-06T08:32:42.785Z"
   },
   {
    "duration": 13,
    "start_time": "2024-07-06T08:32:42.793Z"
   },
   {
    "duration": 493,
    "start_time": "2024-07-06T08:32:42.807Z"
   },
   {
    "duration": 5,
    "start_time": "2024-07-06T08:32:43.302Z"
   },
   {
    "duration": 11,
    "start_time": "2024-07-06T08:32:43.308Z"
   },
   {
    "duration": 6,
    "start_time": "2024-07-06T08:32:43.321Z"
   },
   {
    "duration": 4,
    "start_time": "2024-07-06T08:32:43.328Z"
   },
   {
    "duration": 29,
    "start_time": "2024-07-06T08:32:43.333Z"
   },
   {
    "duration": 5,
    "start_time": "2024-07-06T08:32:43.363Z"
   },
   {
    "duration": 7,
    "start_time": "2024-07-06T08:32:43.369Z"
   },
   {
    "duration": 8,
    "start_time": "2024-07-06T08:32:43.377Z"
   },
   {
    "duration": 192,
    "start_time": "2024-07-06T08:32:43.387Z"
   },
   {
    "duration": 135,
    "start_time": "2024-07-06T08:32:43.580Z"
   },
   {
    "duration": 4,
    "start_time": "2024-07-06T08:32:43.717Z"
   },
   {
    "duration": 306,
    "start_time": "2024-07-06T08:32:43.725Z"
   },
   {
    "duration": 8,
    "start_time": "2024-07-06T08:32:44.033Z"
   },
   {
    "duration": 312,
    "start_time": "2024-07-06T08:32:44.043Z"
   },
   {
    "duration": 7,
    "start_time": "2024-07-06T08:32:44.357Z"
   },
   {
    "duration": 404,
    "start_time": "2024-07-06T08:32:44.366Z"
   },
   {
    "duration": 8,
    "start_time": "2024-07-06T08:32:44.771Z"
   },
   {
    "duration": 19,
    "start_time": "2024-07-06T08:32:44.781Z"
   },
   {
    "duration": 13,
    "start_time": "2024-07-06T08:32:44.802Z"
   },
   {
    "duration": 30,
    "start_time": "2024-07-06T08:32:44.816Z"
   },
   {
    "duration": 493,
    "start_time": "2024-07-06T08:32:44.847Z"
   },
   {
    "duration": 17,
    "start_time": "2024-07-06T08:32:45.341Z"
   },
   {
    "duration": 7,
    "start_time": "2024-07-06T08:32:45.359Z"
   },
   {
    "duration": 587,
    "start_time": "2024-07-06T08:32:45.367Z"
   },
   {
    "duration": 8,
    "start_time": "2024-07-06T08:32:45.955Z"
   },
   {
    "duration": 80,
    "start_time": "2024-07-06T08:32:45.965Z"
   },
   {
    "duration": 20,
    "start_time": "2024-07-06T08:32:46.046Z"
   },
   {
    "duration": 45,
    "start_time": "2024-07-06T08:32:46.067Z"
   },
   {
    "duration": 14,
    "start_time": "2024-07-06T08:32:46.113Z"
   },
   {
    "duration": 19,
    "start_time": "2024-07-06T08:32:46.128Z"
   },
   {
    "duration": 8,
    "start_time": "2024-07-06T08:32:46.148Z"
   },
   {
    "duration": 6,
    "start_time": "2024-07-06T08:32:46.158Z"
   },
   {
    "duration": 5,
    "start_time": "2024-07-06T08:32:46.165Z"
   },
   {
    "duration": 8,
    "start_time": "2024-07-06T08:32:46.171Z"
   },
   {
    "duration": 2,
    "start_time": "2024-07-06T08:32:46.181Z"
   },
   {
    "duration": 1142,
    "start_time": "2024-07-06T08:34:03.019Z"
   },
   {
    "duration": 29,
    "start_time": "2024-07-06T08:34:04.163Z"
   },
   {
    "duration": 11,
    "start_time": "2024-07-06T08:34:04.194Z"
   },
   {
    "duration": 20,
    "start_time": "2024-07-06T08:34:04.206Z"
   },
   {
    "duration": 20,
    "start_time": "2024-07-06T08:34:04.228Z"
   },
   {
    "duration": 587,
    "start_time": "2024-07-06T08:34:04.250Z"
   },
   {
    "duration": 27,
    "start_time": "2024-07-06T08:34:04.839Z"
   },
   {
    "duration": 9,
    "start_time": "2024-07-06T08:34:04.868Z"
   },
   {
    "duration": 22,
    "start_time": "2024-07-06T08:34:04.878Z"
   },
   {
    "duration": 20,
    "start_time": "2024-07-06T08:34:04.902Z"
   },
   {
    "duration": 483,
    "start_time": "2024-07-06T08:34:04.924Z"
   },
   {
    "duration": 26,
    "start_time": "2024-07-06T08:34:05.409Z"
   },
   {
    "duration": 6,
    "start_time": "2024-07-06T08:34:05.437Z"
   },
   {
    "duration": 11,
    "start_time": "2024-07-06T08:34:05.447Z"
   },
   {
    "duration": 446,
    "start_time": "2024-07-06T08:34:05.460Z"
   },
   {
    "duration": 5,
    "start_time": "2024-07-06T08:34:05.908Z"
   },
   {
    "duration": 79,
    "start_time": "2024-07-06T08:34:05.915Z"
   },
   {
    "duration": 71,
    "start_time": "2024-07-06T08:34:05.996Z"
   },
   {
    "duration": 5,
    "start_time": "2024-07-06T08:34:06.069Z"
   },
   {
    "duration": 9,
    "start_time": "2024-07-06T08:34:06.075Z"
   },
   {
    "duration": 13,
    "start_time": "2024-07-06T08:34:06.086Z"
   },
   {
    "duration": 21,
    "start_time": "2024-07-06T08:34:06.100Z"
   },
   {
    "duration": 17,
    "start_time": "2024-07-06T08:34:06.123Z"
   },
   {
    "duration": 323,
    "start_time": "2024-07-06T08:34:06.142Z"
   },
   {
    "duration": 208,
    "start_time": "2024-07-06T08:34:06.467Z"
   },
   {
    "duration": 4,
    "start_time": "2024-07-06T08:34:06.677Z"
   },
   {
    "duration": 344,
    "start_time": "2024-07-06T08:34:06.682Z"
   },
   {
    "duration": 8,
    "start_time": "2024-07-06T08:34:07.027Z"
   },
   {
    "duration": 302,
    "start_time": "2024-07-06T08:34:07.037Z"
   },
   {
    "duration": 15,
    "start_time": "2024-07-06T08:34:07.341Z"
   },
   {
    "duration": 400,
    "start_time": "2024-07-06T08:34:07.357Z"
   },
   {
    "duration": 8,
    "start_time": "2024-07-06T08:34:07.758Z"
   },
   {
    "duration": 21,
    "start_time": "2024-07-06T08:34:07.767Z"
   },
   {
    "duration": 14,
    "start_time": "2024-07-06T08:34:07.789Z"
   },
   {
    "duration": 12,
    "start_time": "2024-07-06T08:34:07.804Z"
   },
   {
    "duration": 462,
    "start_time": "2024-07-06T08:34:07.818Z"
   },
   {
    "duration": 8,
    "start_time": "2024-07-06T08:34:08.281Z"
   },
   {
    "duration": 7,
    "start_time": "2024-07-06T08:34:08.290Z"
   },
   {
    "duration": 708,
    "start_time": "2024-07-06T08:34:08.299Z"
   },
   {
    "duration": 7,
    "start_time": "2024-07-06T08:34:09.009Z"
   },
   {
    "duration": 15,
    "start_time": "2024-07-06T08:34:09.020Z"
   },
   {
    "duration": 4,
    "start_time": "2024-07-06T08:34:09.037Z"
   },
   {
    "duration": 46,
    "start_time": "2024-07-06T08:34:09.054Z"
   },
   {
    "duration": 14,
    "start_time": "2024-07-06T08:34:09.101Z"
   },
   {
    "duration": 7,
    "start_time": "2024-07-06T08:34:09.117Z"
   },
   {
    "duration": 4,
    "start_time": "2024-07-06T08:34:09.126Z"
   },
   {
    "duration": 27,
    "start_time": "2024-07-06T08:34:09.131Z"
   },
   {
    "duration": 10,
    "start_time": "2024-07-06T08:34:09.160Z"
   },
   {
    "duration": 9,
    "start_time": "2024-07-06T08:34:09.171Z"
   },
   {
    "duration": 3,
    "start_time": "2024-07-06T08:34:09.182Z"
   },
   {
    "duration": 1278,
    "start_time": "2024-07-06T09:13:57.201Z"
   },
   {
    "duration": 97,
    "start_time": "2024-07-06T09:13:58.481Z"
   },
   {
    "duration": 11,
    "start_time": "2024-07-06T09:13:58.579Z"
   },
   {
    "duration": 10,
    "start_time": "2024-07-06T09:13:58.591Z"
   },
   {
    "duration": 25,
    "start_time": "2024-07-06T09:13:58.603Z"
   },
   {
    "duration": 531,
    "start_time": "2024-07-06T09:13:58.629Z"
   },
   {
    "duration": 158,
    "start_time": "2024-07-06T09:13:59.162Z"
   },
   {
    "duration": 9,
    "start_time": "2024-07-06T09:13:59.322Z"
   },
   {
    "duration": 17,
    "start_time": "2024-07-06T09:13:59.332Z"
   },
   {
    "duration": 19,
    "start_time": "2024-07-06T09:13:59.351Z"
   },
   {
    "duration": 415,
    "start_time": "2024-07-06T09:13:59.372Z"
   },
   {
    "duration": 74,
    "start_time": "2024-07-06T09:13:59.789Z"
   },
   {
    "duration": 6,
    "start_time": "2024-07-06T09:13:59.865Z"
   },
   {
    "duration": 8,
    "start_time": "2024-07-06T09:13:59.874Z"
   },
   {
    "duration": 390,
    "start_time": "2024-07-06T09:13:59.883Z"
   },
   {
    "duration": 4,
    "start_time": "2024-07-06T09:14:00.275Z"
   },
   {
    "duration": 27,
    "start_time": "2024-07-06T09:14:00.281Z"
   },
   {
    "duration": 29,
    "start_time": "2024-07-06T09:14:00.310Z"
   },
   {
    "duration": 15,
    "start_time": "2024-07-06T09:14:00.340Z"
   },
   {
    "duration": 51,
    "start_time": "2024-07-06T09:14:00.357Z"
   },
   {
    "duration": 72,
    "start_time": "2024-07-06T09:14:00.409Z"
   },
   {
    "duration": 43,
    "start_time": "2024-07-06T09:14:00.483Z"
   },
   {
    "duration": 81,
    "start_time": "2024-07-06T09:14:00.528Z"
   },
   {
    "duration": 286,
    "start_time": "2024-07-06T09:14:00.610Z"
   },
   {
    "duration": 120,
    "start_time": "2024-07-06T09:14:00.898Z"
   },
   {
    "duration": 4,
    "start_time": "2024-07-06T09:14:01.020Z"
   },
   {
    "duration": 410,
    "start_time": "2024-07-06T09:14:01.026Z"
   },
   {
    "duration": 10,
    "start_time": "2024-07-06T09:14:01.438Z"
   },
   {
    "duration": 405,
    "start_time": "2024-07-06T09:14:01.450Z"
   },
   {
    "duration": 6,
    "start_time": "2024-07-06T09:14:01.857Z"
   },
   {
    "duration": 377,
    "start_time": "2024-07-06T09:14:01.865Z"
   },
   {
    "duration": 7,
    "start_time": "2024-07-06T09:14:02.244Z"
   },
   {
    "duration": 35,
    "start_time": "2024-07-06T09:14:02.252Z"
   },
   {
    "duration": 13,
    "start_time": "2024-07-06T09:14:02.288Z"
   },
   {
    "duration": 37,
    "start_time": "2024-07-06T09:14:02.302Z"
   },
   {
    "duration": 388,
    "start_time": "2024-07-06T09:14:02.340Z"
   },
   {
    "duration": 8,
    "start_time": "2024-07-06T09:14:02.729Z"
   },
   {
    "duration": 166,
    "start_time": "2024-07-06T09:14:02.738Z"
   },
   {
    "duration": 734,
    "start_time": "2024-07-06T09:14:02.905Z"
   },
   {
    "duration": 7,
    "start_time": "2024-07-06T09:14:03.641Z"
   },
   {
    "duration": 6,
    "start_time": "2024-07-06T09:14:03.652Z"
   },
   {
    "duration": 13,
    "start_time": "2024-07-06T09:14:03.660Z"
   },
   {
    "duration": 55,
    "start_time": "2024-07-06T09:14:03.674Z"
   },
   {
    "duration": 12,
    "start_time": "2024-07-06T09:14:03.730Z"
   },
   {
    "duration": 22,
    "start_time": "2024-07-06T09:14:03.744Z"
   },
   {
    "duration": 19,
    "start_time": "2024-07-06T09:14:43.955Z"
   },
   {
    "duration": 3,
    "start_time": "2024-07-06T09:24:34.239Z"
   },
   {
    "duration": 28,
    "start_time": "2024-07-06T09:24:34.243Z"
   },
   {
    "duration": 7,
    "start_time": "2024-07-06T09:24:34.272Z"
   },
   {
    "duration": 10,
    "start_time": "2024-07-06T09:24:34.280Z"
   },
   {
    "duration": 13,
    "start_time": "2024-07-06T09:24:34.291Z"
   },
   {
    "duration": 479,
    "start_time": "2024-07-06T09:24:34.305Z"
   },
   {
    "duration": 24,
    "start_time": "2024-07-06T09:24:34.786Z"
   },
   {
    "duration": 9,
    "start_time": "2024-07-06T09:24:34.811Z"
   },
   {
    "duration": 26,
    "start_time": "2024-07-06T09:24:34.822Z"
   },
   {
    "duration": 21,
    "start_time": "2024-07-06T09:24:34.849Z"
   },
   {
    "duration": 369,
    "start_time": "2024-07-06T09:24:34.871Z"
   },
   {
    "duration": 14,
    "start_time": "2024-07-06T09:24:35.242Z"
   },
   {
    "duration": 6,
    "start_time": "2024-07-06T09:24:35.257Z"
   },
   {
    "duration": 25,
    "start_time": "2024-07-06T09:24:35.264Z"
   },
   {
    "duration": 404,
    "start_time": "2024-07-06T09:24:35.291Z"
   },
   {
    "duration": 138,
    "start_time": "2024-07-06T09:24:35.697Z"
   },
   {
    "duration": 10,
    "start_time": "2024-07-06T09:25:10.143Z"
   },
   {
    "duration": 1275,
    "start_time": "2024-07-06T09:25:30.806Z"
   },
   {
    "duration": 27,
    "start_time": "2024-07-06T09:25:32.083Z"
   },
   {
    "duration": 112,
    "start_time": "2024-07-06T09:25:32.111Z"
   },
   {
    "duration": 304,
    "start_time": "2024-07-06T09:25:32.224Z"
   },
   {
    "duration": 123,
    "start_time": "2024-07-06T09:25:32.530Z"
   },
   {
    "duration": 530,
    "start_time": "2024-07-06T09:25:32.655Z"
   },
   {
    "duration": 36,
    "start_time": "2024-07-06T09:25:33.187Z"
   },
   {
    "duration": 9,
    "start_time": "2024-07-06T09:25:33.224Z"
   },
   {
    "duration": 16,
    "start_time": "2024-07-06T09:25:33.234Z"
   },
   {
    "duration": 36,
    "start_time": "2024-07-06T09:25:33.251Z"
   },
   {
    "duration": 413,
    "start_time": "2024-07-06T09:25:33.289Z"
   },
   {
    "duration": 15,
    "start_time": "2024-07-06T09:25:33.703Z"
   },
   {
    "duration": 13,
    "start_time": "2024-07-06T09:25:33.719Z"
   },
   {
    "duration": 18,
    "start_time": "2024-07-06T09:25:33.734Z"
   },
   {
    "duration": 419,
    "start_time": "2024-07-06T09:25:33.754Z"
   },
   {
    "duration": 9,
    "start_time": "2024-07-06T09:25:34.175Z"
   },
   {
    "duration": 12,
    "start_time": "2024-07-06T09:25:34.186Z"
   },
   {
    "duration": 16,
    "start_time": "2024-07-06T09:25:34.199Z"
   },
   {
    "duration": 1081,
    "start_time": "2024-07-06T09:26:43.821Z"
   },
   {
    "duration": 27,
    "start_time": "2024-07-06T09:26:44.904Z"
   },
   {
    "duration": 12,
    "start_time": "2024-07-06T09:26:44.932Z"
   },
   {
    "duration": 24,
    "start_time": "2024-07-06T09:26:44.945Z"
   },
   {
    "duration": 26,
    "start_time": "2024-07-06T09:26:44.971Z"
   },
   {
    "duration": 529,
    "start_time": "2024-07-06T09:26:44.998Z"
   },
   {
    "duration": 26,
    "start_time": "2024-07-06T09:26:45.529Z"
   },
   {
    "duration": 10,
    "start_time": "2024-07-06T09:26:45.557Z"
   },
   {
    "duration": 23,
    "start_time": "2024-07-06T09:26:45.568Z"
   },
   {
    "duration": 44,
    "start_time": "2024-07-06T09:26:45.592Z"
   },
   {
    "duration": 381,
    "start_time": "2024-07-06T09:26:45.638Z"
   },
   {
    "duration": 24,
    "start_time": "2024-07-06T09:26:46.021Z"
   },
   {
    "duration": 5,
    "start_time": "2024-07-06T09:26:46.047Z"
   },
   {
    "duration": 11,
    "start_time": "2024-07-06T09:26:46.055Z"
   },
   {
    "duration": 378,
    "start_time": "2024-07-06T09:26:46.068Z"
   },
   {
    "duration": 11,
    "start_time": "2024-07-06T09:26:46.448Z"
   },
   {
    "duration": 8,
    "start_time": "2024-07-06T09:26:46.460Z"
   },
   {
    "duration": 30,
    "start_time": "2024-07-06T09:26:46.470Z"
   },
   {
    "duration": 69,
    "start_time": "2024-07-06T09:26:46.502Z"
   },
   {
    "duration": 7,
    "start_time": "2024-07-06T09:26:46.573Z"
   },
   {
    "duration": 65,
    "start_time": "2024-07-06T09:26:46.582Z"
   },
   {
    "duration": 11,
    "start_time": "2024-07-06T09:26:46.649Z"
   },
   {
    "duration": 9,
    "start_time": "2024-07-06T09:26:46.662Z"
   },
   {
    "duration": 9,
    "start_time": "2024-07-06T09:26:46.673Z"
   },
   {
    "duration": 19,
    "start_time": "2024-07-06T09:26:46.683Z"
   },
   {
    "duration": 195,
    "start_time": "2024-07-06T09:26:46.703Z"
   },
   {
    "duration": 122,
    "start_time": "2024-07-06T09:26:46.899Z"
   },
   {
    "duration": 4,
    "start_time": "2024-07-06T09:26:47.022Z"
   },
   {
    "duration": 331,
    "start_time": "2024-07-06T09:26:47.028Z"
   },
   {
    "duration": 7,
    "start_time": "2024-07-06T09:26:47.360Z"
   },
   {
    "duration": 288,
    "start_time": "2024-07-06T09:26:47.369Z"
   },
   {
    "duration": 7,
    "start_time": "2024-07-06T09:26:47.658Z"
   },
   {
    "duration": 350,
    "start_time": "2024-07-06T09:26:47.666Z"
   },
   {
    "duration": 7,
    "start_time": "2024-07-06T09:26:48.018Z"
   },
   {
    "duration": 20,
    "start_time": "2024-07-06T09:26:48.026Z"
   },
   {
    "duration": 66,
    "start_time": "2024-07-06T09:26:48.048Z"
   },
   {
    "duration": 17,
    "start_time": "2024-07-06T09:26:48.115Z"
   },
   {
    "duration": 363,
    "start_time": "2024-07-06T09:26:48.133Z"
   },
   {
    "duration": 12,
    "start_time": "2024-07-06T09:26:48.498Z"
   },
   {
    "duration": 6,
    "start_time": "2024-07-06T09:26:48.511Z"
   },
   {
    "duration": 584,
    "start_time": "2024-07-06T09:26:48.521Z"
   },
   {
    "duration": 7,
    "start_time": "2024-07-06T09:26:49.108Z"
   },
   {
    "duration": 13,
    "start_time": "2024-07-06T09:26:49.117Z"
   },
   {
    "duration": 11,
    "start_time": "2024-07-06T09:26:49.132Z"
   },
   {
    "duration": 43,
    "start_time": "2024-07-06T09:26:49.144Z"
   },
   {
    "duration": 27,
    "start_time": "2024-07-06T09:26:49.189Z"
   },
   {
    "duration": 7,
    "start_time": "2024-07-06T09:26:49.217Z"
   },
   {
    "duration": 4,
    "start_time": "2024-07-06T09:26:49.226Z"
   },
   {
    "duration": 8,
    "start_time": "2024-07-06T09:26:49.231Z"
   },
   {
    "duration": 6,
    "start_time": "2024-07-06T09:26:49.241Z"
   },
   {
    "duration": 21,
    "start_time": "2024-07-06T09:26:49.249Z"
   },
   {
    "duration": 6,
    "start_time": "2024-07-06T09:26:49.272Z"
   },
   {
    "duration": 7,
    "start_time": "2024-07-06T09:50:31.964Z"
   },
   {
    "duration": 14,
    "start_time": "2024-07-06T09:50:33.491Z"
   },
   {
    "duration": 2,
    "start_time": "2024-07-06T09:50:49.394Z"
   },
   {
    "duration": 13,
    "start_time": "2024-07-06T09:50:51.760Z"
   },
   {
    "duration": 12,
    "start_time": "2024-07-06T09:51:01.371Z"
   },
   {
    "duration": 13,
    "start_time": "2024-07-06T09:52:13.919Z"
   },
   {
    "duration": 2,
    "start_time": "2024-07-06T09:52:55.964Z"
   },
   {
    "duration": 2,
    "start_time": "2024-07-06T09:52:57.414Z"
   },
   {
    "duration": 12,
    "start_time": "2024-07-06T09:52:58.612Z"
   },
   {
    "duration": 4,
    "start_time": "2024-07-06T09:53:16.972Z"
   },
   {
    "duration": 12,
    "start_time": "2024-07-06T09:53:18.969Z"
   },
   {
    "duration": 1256,
    "start_time": "2024-07-06T09:53:29.624Z"
   },
   {
    "duration": 31,
    "start_time": "2024-07-06T09:53:30.881Z"
   },
   {
    "duration": 26,
    "start_time": "2024-07-06T09:53:30.913Z"
   },
   {
    "duration": 42,
    "start_time": "2024-07-06T09:53:30.941Z"
   },
   {
    "duration": 110,
    "start_time": "2024-07-06T09:53:30.985Z"
   },
   {
    "duration": 723,
    "start_time": "2024-07-06T09:53:31.097Z"
   },
   {
    "duration": 29,
    "start_time": "2024-07-06T09:53:31.822Z"
   },
   {
    "duration": 11,
    "start_time": "2024-07-06T09:53:31.852Z"
   },
   {
    "duration": 15,
    "start_time": "2024-07-06T09:53:31.865Z"
   },
   {
    "duration": 19,
    "start_time": "2024-07-06T09:53:31.882Z"
   },
   {
    "duration": 462,
    "start_time": "2024-07-06T09:53:31.903Z"
   },
   {
    "duration": 27,
    "start_time": "2024-07-06T09:53:32.366Z"
   },
   {
    "duration": 7,
    "start_time": "2024-07-06T09:53:32.395Z"
   },
   {
    "duration": 13,
    "start_time": "2024-07-06T09:53:32.403Z"
   },
   {
    "duration": 551,
    "start_time": "2024-07-06T09:53:32.418Z"
   },
   {
    "duration": 13,
    "start_time": "2024-07-06T09:53:32.971Z"
   },
   {
    "duration": 3,
    "start_time": "2024-07-06T09:53:32.985Z"
   },
   {
    "duration": 24,
    "start_time": "2024-07-06T09:53:32.989Z"
   },
   {
    "duration": 17,
    "start_time": "2024-07-06T09:53:33.014Z"
   },
   {
    "duration": 21,
    "start_time": "2024-07-06T09:53:33.033Z"
   },
   {
    "duration": 6,
    "start_time": "2024-07-06T09:53:33.056Z"
   },
   {
    "duration": 6,
    "start_time": "2024-07-06T09:53:33.064Z"
   },
   {
    "duration": 9,
    "start_time": "2024-07-06T09:53:33.071Z"
   },
   {
    "duration": 5,
    "start_time": "2024-07-06T09:53:33.081Z"
   },
   {
    "duration": 7,
    "start_time": "2024-07-06T09:53:33.087Z"
   },
   {
    "duration": 10,
    "start_time": "2024-07-06T09:53:33.096Z"
   },
   {
    "duration": 216,
    "start_time": "2024-07-06T09:53:33.108Z"
   },
   {
    "duration": 140,
    "start_time": "2024-07-06T09:53:33.328Z"
   },
   {
    "duration": 5,
    "start_time": "2024-07-06T09:53:33.470Z"
   },
   {
    "duration": 306,
    "start_time": "2024-07-06T09:53:33.476Z"
   },
   {
    "duration": 8,
    "start_time": "2024-07-06T09:53:33.784Z"
   },
   {
    "duration": 326,
    "start_time": "2024-07-06T09:53:33.794Z"
   },
   {
    "duration": 9,
    "start_time": "2024-07-06T09:53:34.122Z"
   },
   {
    "duration": 465,
    "start_time": "2024-07-06T09:53:34.133Z"
   },
   {
    "duration": 11,
    "start_time": "2024-07-06T09:53:34.600Z"
   },
   {
    "duration": 34,
    "start_time": "2024-07-06T09:53:34.613Z"
   },
   {
    "duration": 20,
    "start_time": "2024-07-06T09:53:34.654Z"
   },
   {
    "duration": 14,
    "start_time": "2024-07-06T09:53:34.676Z"
   },
   {
    "duration": 533,
    "start_time": "2024-07-06T09:53:34.691Z"
   },
   {
    "duration": 7,
    "start_time": "2024-07-06T09:53:35.226Z"
   },
   {
    "duration": 38,
    "start_time": "2024-07-06T09:53:35.235Z"
   },
   {
    "duration": 580,
    "start_time": "2024-07-06T09:53:35.274Z"
   },
   {
    "duration": 10,
    "start_time": "2024-07-06T09:53:35.856Z"
   },
   {
    "duration": 9,
    "start_time": "2024-07-06T09:53:35.867Z"
   },
   {
    "duration": 15,
    "start_time": "2024-07-06T09:53:35.878Z"
   },
   {
    "duration": 51,
    "start_time": "2024-07-06T09:53:35.895Z"
   },
   {
    "duration": 13,
    "start_time": "2024-07-06T09:53:35.954Z"
   },
   {
    "duration": 48,
    "start_time": "2024-07-06T09:53:35.969Z"
   },
   {
    "duration": 35,
    "start_time": "2024-07-06T09:53:36.018Z"
   },
   {
    "duration": 6,
    "start_time": "2024-07-06T09:53:36.054Z"
   },
   {
    "duration": 4,
    "start_time": "2024-07-06T09:53:36.062Z"
   },
   {
    "duration": 27,
    "start_time": "2024-07-06T09:53:36.068Z"
   },
   {
    "duration": 13,
    "start_time": "2024-07-06T09:53:36.096Z"
   },
   {
    "duration": 2,
    "start_time": "2024-07-06T10:00:23.419Z"
   },
   {
    "duration": 6,
    "start_time": "2024-07-06T10:00:53.549Z"
   },
   {
    "duration": 10,
    "start_time": "2024-07-06T10:01:19.208Z"
   },
   {
    "duration": 8,
    "start_time": "2024-07-06T10:01:43.995Z"
   },
   {
    "duration": 5,
    "start_time": "2024-07-06T10:01:53.832Z"
   },
   {
    "duration": 3,
    "start_time": "2024-07-06T10:02:02.843Z"
   },
   {
    "duration": 6,
    "start_time": "2024-07-06T10:02:03.259Z"
   },
   {
    "duration": 9,
    "start_time": "2024-07-06T10:02:54.500Z"
   },
   {
    "duration": 61,
    "start_time": "2024-07-06T10:03:53.740Z"
   },
   {
    "duration": 6,
    "start_time": "2024-07-06T10:04:31.528Z"
   },
   {
    "duration": 2,
    "start_time": "2024-07-06T10:05:11.637Z"
   },
   {
    "duration": 9,
    "start_time": "2024-07-06T10:06:12.302Z"
   },
   {
    "duration": 44,
    "start_time": "2024-07-06T10:10:31.554Z"
   },
   {
    "duration": 47,
    "start_time": "2024-07-06T10:10:39.387Z"
   },
   {
    "duration": 4,
    "start_time": "2024-07-06T10:10:47.013Z"
   },
   {
    "duration": 108,
    "start_time": "2024-07-06T10:10:55.817Z"
   },
   {
    "duration": 55,
    "start_time": "2024-07-06T10:11:37.083Z"
   },
   {
    "duration": 22,
    "start_time": "2024-07-06T10:11:47.210Z"
   },
   {
    "duration": 15,
    "start_time": "2024-07-06T10:14:06.163Z"
   },
   {
    "duration": 15,
    "start_time": "2024-07-06T10:14:20.964Z"
   },
   {
    "duration": 14,
    "start_time": "2024-07-06T10:14:33.454Z"
   },
   {
    "duration": 12,
    "start_time": "2024-07-06T10:14:53.871Z"
   },
   {
    "duration": 10,
    "start_time": "2024-07-06T10:16:57.866Z"
   },
   {
    "duration": 6,
    "start_time": "2024-07-06T10:17:06.245Z"
   },
   {
    "duration": 9,
    "start_time": "2024-07-06T10:17:20.198Z"
   },
   {
    "duration": 6,
    "start_time": "2024-07-06T10:17:59.662Z"
   },
   {
    "duration": 9,
    "start_time": "2024-07-06T10:18:23.075Z"
   },
   {
    "duration": 8,
    "start_time": "2024-07-06T10:18:45.671Z"
   },
   {
    "duration": 7,
    "start_time": "2024-07-06T10:19:05.837Z"
   },
   {
    "duration": 9,
    "start_time": "2024-07-06T10:19:17.182Z"
   },
   {
    "duration": 3,
    "start_time": "2024-07-06T10:23:10.132Z"
   },
   {
    "duration": 9,
    "start_time": "2024-07-06T10:23:38.649Z"
   },
   {
    "duration": 221,
    "start_time": "2024-07-06T10:23:45.098Z"
   },
   {
    "duration": 7,
    "start_time": "2024-07-06T10:25:12.479Z"
   },
   {
    "duration": 6,
    "start_time": "2024-07-06T10:27:11.655Z"
   },
   {
    "duration": 7,
    "start_time": "2024-07-06T10:27:23.136Z"
   },
   {
    "duration": 2,
    "start_time": "2024-07-06T10:27:25.604Z"
   },
   {
    "duration": 6,
    "start_time": "2024-07-06T10:27:26.035Z"
   },
   {
    "duration": 7,
    "start_time": "2024-07-06T10:28:04.032Z"
   },
   {
    "duration": 6,
    "start_time": "2024-07-06T10:28:18.910Z"
   },
   {
    "duration": 10,
    "start_time": "2024-07-06T10:28:38.770Z"
   },
   {
    "duration": 7,
    "start_time": "2024-07-06T10:32:37.864Z"
   },
   {
    "duration": 9,
    "start_time": "2024-07-06T10:32:43.293Z"
   },
   {
    "duration": 7,
    "start_time": "2024-07-06T10:35:05.985Z"
   },
   {
    "duration": 8,
    "start_time": "2024-07-06T10:35:16.894Z"
   },
   {
    "duration": 63,
    "start_time": "2024-07-06T10:36:31.229Z"
   },
   {
    "duration": 8,
    "start_time": "2024-07-06T10:38:11.386Z"
   },
   {
    "duration": 19,
    "start_time": "2024-07-06T10:38:26.780Z"
   },
   {
    "duration": 10,
    "start_time": "2024-07-06T10:39:11.685Z"
   },
   {
    "duration": 26,
    "start_time": "2024-07-06T10:39:19.914Z"
   },
   {
    "duration": 20,
    "start_time": "2024-07-06T10:39:52.540Z"
   },
   {
    "duration": 15,
    "start_time": "2024-07-06T10:40:11.650Z"
   },
   {
    "duration": 18,
    "start_time": "2024-07-06T10:40:17.336Z"
   },
   {
    "duration": 14,
    "start_time": "2024-07-06T10:41:15.724Z"
   },
   {
    "duration": 51,
    "start_time": "2024-07-06T10:46:50.915Z"
   },
   {
    "duration": 40,
    "start_time": "2024-07-06T10:46:57.333Z"
   },
   {
    "duration": 17,
    "start_time": "2024-07-06T10:48:30.203Z"
   },
   {
    "duration": 12,
    "start_time": "2024-07-06T10:49:07.177Z"
   },
   {
    "duration": 42,
    "start_time": "2024-07-06T10:49:20.955Z"
   },
   {
    "duration": 8,
    "start_time": "2024-07-06T10:49:26.052Z"
   },
   {
    "duration": 9,
    "start_time": "2024-07-06T10:50:11.677Z"
   },
   {
    "duration": 8,
    "start_time": "2024-07-06T10:50:33.967Z"
   },
   {
    "duration": 10,
    "start_time": "2024-07-06T10:50:56.835Z"
   },
   {
    "duration": 57,
    "start_time": "2024-07-06T10:52:18.295Z"
   },
   {
    "duration": 591,
    "start_time": "2024-07-06T10:54:25.405Z"
   },
   {
    "duration": 599,
    "start_time": "2024-07-06T10:57:08.751Z"
   },
   {
    "duration": 827,
    "start_time": "2024-07-06T10:58:48.625Z"
   },
   {
    "duration": 357,
    "start_time": "2024-07-06T10:59:11.366Z"
   },
   {
    "duration": 9,
    "start_time": "2024-07-06T11:00:40.721Z"
   },
   {
    "duration": 5,
    "start_time": "2024-07-06T11:01:09.855Z"
   },
   {
    "duration": 775,
    "start_time": "2024-07-06T11:01:30.783Z"
   },
   {
    "duration": 576,
    "start_time": "2024-07-06T11:02:03.839Z"
   },
   {
    "duration": 665,
    "start_time": "2024-07-06T11:02:15.120Z"
   },
   {
    "duration": 735,
    "start_time": "2024-07-06T11:02:39.776Z"
   },
   {
    "duration": 809,
    "start_time": "2024-07-06T11:02:43.927Z"
   },
   {
    "duration": 596,
    "start_time": "2024-07-06T11:03:29.859Z"
   },
   {
    "duration": 610,
    "start_time": "2024-07-06T11:05:35.249Z"
   },
   {
    "duration": 792,
    "start_time": "2024-07-06T11:07:07.463Z"
   },
   {
    "duration": 646,
    "start_time": "2024-07-06T11:07:28.332Z"
   },
   {
    "duration": 697,
    "start_time": "2024-07-06T11:08:04.128Z"
   },
   {
    "duration": 940,
    "start_time": "2024-07-06T11:08:34.206Z"
   },
   {
    "duration": 606,
    "start_time": "2024-07-06T11:10:50.551Z"
   },
   {
    "duration": 643,
    "start_time": "2024-07-06T11:11:01.315Z"
   },
   {
    "duration": 755,
    "start_time": "2024-07-06T11:11:15.713Z"
   },
   {
    "duration": 633,
    "start_time": "2024-07-06T11:11:33.757Z"
   },
   {
    "duration": 830,
    "start_time": "2024-07-06T11:11:43.656Z"
   },
   {
    "duration": 749,
    "start_time": "2024-07-06T11:12:03.858Z"
   },
   {
    "duration": 620,
    "start_time": "2024-07-06T11:12:19.474Z"
   },
   {
    "duration": 843,
    "start_time": "2024-07-06T11:12:50.107Z"
   },
   {
    "duration": 763,
    "start_time": "2024-07-06T11:12:57.637Z"
   },
   {
    "duration": 430,
    "start_time": "2024-07-06T11:13:13.393Z"
   },
   {
    "duration": 739,
    "start_time": "2024-07-06T11:13:19.265Z"
   },
   {
    "duration": 326,
    "start_time": "2024-07-06T11:13:56.430Z"
   },
   {
    "duration": 721,
    "start_time": "2024-07-06T11:14:01.854Z"
   },
   {
    "duration": 702,
    "start_time": "2024-07-06T11:14:10.570Z"
   },
   {
    "duration": 762,
    "start_time": "2024-07-06T11:14:20.245Z"
   },
   {
    "duration": 704,
    "start_time": "2024-07-06T11:14:32.712Z"
   },
   {
    "duration": 735,
    "start_time": "2024-07-06T11:14:41.012Z"
   },
   {
    "duration": 704,
    "start_time": "2024-07-06T11:15:20.989Z"
   },
   {
    "duration": 45,
    "start_time": "2024-07-06T11:15:39.072Z"
   },
   {
    "duration": 15,
    "start_time": "2024-07-06T11:15:49.341Z"
   },
   {
    "duration": 10,
    "start_time": "2024-07-06T11:15:50.040Z"
   },
   {
    "duration": 5,
    "start_time": "2024-07-06T11:15:50.883Z"
   },
   {
    "duration": 77,
    "start_time": "2024-07-06T11:16:28.055Z"
   },
   {
    "duration": 54,
    "start_time": "2024-07-06T11:33:22.119Z"
   },
   {
    "duration": 7,
    "start_time": "2024-07-06T11:39:22.360Z"
   }
  ],
  "kernelspec": {
   "display_name": "Python 3 (ipykernel)",
   "language": "python",
   "name": "python3"
  },
  "language_info": {
   "codemirror_mode": {
    "name": "ipython",
    "version": 3
   },
   "file_extension": ".py",
   "mimetype": "text/x-python",
   "name": "python",
   "nbconvert_exporter": "python",
   "pygments_lexer": "ipython3",
   "version": "3.9.19"
  },
  "toc": {
   "base_numbering": 1,
   "nav_menu": {},
   "number_sections": true,
   "sideBar": true,
   "skip_h1_title": true,
   "title_cell": "Table of Contents",
   "title_sidebar": "Contents",
   "toc_cell": false,
   "toc_position": {
    "height": "calc(100% - 180px)",
    "left": "10px",
    "top": "150px",
    "width": "316.987px"
   },
   "toc_section_display": true,
   "toc_window_display": true
  }
 },
 "nbformat": 4,
 "nbformat_minor": 5
}
